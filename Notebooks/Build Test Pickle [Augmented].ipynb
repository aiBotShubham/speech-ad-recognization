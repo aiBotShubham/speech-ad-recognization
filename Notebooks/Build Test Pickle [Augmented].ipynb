{
 "cells": [
  {
   "cell_type": "code",
   "execution_count": 1,
   "id": "b2cb086e",
   "metadata": {},
   "outputs": [],
   "source": [
    "import wave\n",
    "import numpy as np\n",
    "import python_speech_features as ps\n",
    "import os\n",
    "import glob\n",
    "import pickle\n",
    "from scipy.io import wavfile\n",
    "\n",
    "epsilon = 1e-5\n",
    "\n",
    "def wgn(x, snr):\n",
    "    snr = 10**(snr/10.0)\n",
    "    xpower = np.sum(x**2)/len(x)\n",
    "    npower = xpower / snr\n",
    "    return np.random.randn(len(x)) * np.sqrt(npower)\n",
    "\n",
    "def read_file(filename):\n",
    "    file = wave.open(filename,'r')    \n",
    "    audio_sample = wavfile.read(filename)  \n",
    "    # print(audio_sample[1])  \n",
    "    params = file.getparams()\n",
    "    nchannels, sampwidth, framerate, wav_length = params[:4]\n",
    "    str_data = file.readframes(wav_length)\n",
    "    wavedata = np.fromstring(str_data, dtype = np.short)\n",
    "    # librosa.load(wav_file_path + orig_wav_file, sr=sr)\n",
    "    time = np.arange(0,wav_length) * (1.0/framerate)\n",
    "    file.close()\n",
    "    return audio_sample[1], time, framerate\n",
    "\n",
    "def generate_label(control):\n",
    "    label = 0\n",
    "    if(control == 'cc'):\n",
    "        label = 0\n",
    "    elif(control == 'cd'):\n",
    "        label = 1\n",
    "    return label\n",
    "\n",
    "\n",
    "filter_num = 40\n",
    "_t = 300\n",
    "rootdir = 'test'\n",
    "\n",
    "test_label = []\n",
    "test_data = []"
   ]
  },
  {
   "cell_type": "code",
   "execution_count": 2,
   "id": "a412213a",
   "metadata": {},
   "outputs": [],
   "source": [
    "# filter_num = 40\n",
    "# _t = 300\n",
    "# rootdir = 'train/Full_wave_enhanced_audio'\n",
    "\n",
    "# train_label = []\n",
    "# train_data = []"
   ]
  },
  {
   "cell_type": "code",
   "execution_count": 3,
   "id": "f99f246a",
   "metadata": {},
   "outputs": [],
   "source": [
    "from audiomentations import Compose, AddGaussianNoise, TimeStretch, PitchShift, Shift\n",
    "import numpy as np\n",
    "\n",
    "augment = Compose([\n",
    "    AddGaussianNoise(min_amplitude=0.001, max_amplitude=0.015, p=0.5),\n",
    "    TimeStretch(min_rate=0.8, max_rate=1.25, p=0.5),\n",
    "    PitchShift(min_semitones=-4, max_semitones=4, p=0.5),\n",
    "    Shift(min_fraction=-0.5, max_fraction=0.5, p=0.5),\n",
    "])"
   ]
  },
  {
   "cell_type": "code",
   "execution_count": 4,
   "id": "65bcee63",
   "metadata": {},
   "outputs": [
    {
     "name": "stderr",
     "output_type": "stream",
     "text": [
      "C:\\Users\\Asus\\anaconda3\\envs\\tf-btp\\lib\\site-packages\\audiomentations\\core\\transforms_interface.py:57: UserWarning: Warning: input samples dtype is np.float64. Converting to np.float32\n",
      "  warnings.warn(\n",
      "WARNING:root:frame length (1103) is greater than FFT size (512), frame will be truncated. Increase NFFT to avoid.\n",
      "WARNING:root:frame length (1103) is greater than FFT size (512), frame will be truncated. Increase NFFT to avoid.\n",
      "WARNING:root:frame length (1103) is greater than FFT size (512), frame will be truncated. Increase NFFT to avoid.\n",
      "WARNING:root:frame length (1103) is greater than FFT size (512), frame will be truncated. Increase NFFT to avoid.\n",
      "C:\\Users\\Asus\\anaconda3\\envs\\tf-btp\\lib\\site-packages\\audiomentations\\core\\transforms_interface.py:57: UserWarning: Warning: input samples dtype is np.float64. Converting to np.float32\n",
      "  warnings.warn(\n",
      "WARNING:root:frame length (1103) is greater than FFT size (512), frame will be truncated. Increase NFFT to avoid.\n",
      "WARNING:root:frame length (1103) is greater than FFT size (512), frame will be truncated. Increase NFFT to avoid.\n",
      "WARNING:root:frame length (1103) is greater than FFT size (512), frame will be truncated. Increase NFFT to avoid.\n",
      "WARNING:root:frame length (1103) is greater than FFT size (512), frame will be truncated. Increase NFFT to avoid.\n",
      "WARNING:root:frame length (1103) is greater than FFT size (512), frame will be truncated. Increase NFFT to avoid.\n",
      "WARNING:root:frame length (1103) is greater than FFT size (512), frame will be truncated. Increase NFFT to avoid.\n",
      "WARNING:root:frame length (1103) is greater than FFT size (512), frame will be truncated. Increase NFFT to avoid.\n",
      "WARNING:root:frame length (1103) is greater than FFT size (512), frame will be truncated. Increase NFFT to avoid.\n",
      "WARNING:root:frame length (1103) is greater than FFT size (512), frame will be truncated. Increase NFFT to avoid.\n",
      "WARNING:root:frame length (1103) is greater than FFT size (512), frame will be truncated. Increase NFFT to avoid.\n",
      "WARNING:root:frame length (1103) is greater than FFT size (512), frame will be truncated. Increase NFFT to avoid.\n",
      "WARNING:root:frame length (1103) is greater than FFT size (512), frame will be truncated. Increase NFFT to avoid.\n",
      "WARNING:root:frame length (1103) is greater than FFT size (512), frame will be truncated. Increase NFFT to avoid.\n",
      "WARNING:root:frame length (1103) is greater than FFT size (512), frame will be truncated. Increase NFFT to avoid.\n",
      "WARNING:root:frame length (1103) is greater than FFT size (512), frame will be truncated. Increase NFFT to avoid.\n",
      "WARNING:root:frame length (1103) is greater than FFT size (512), frame will be truncated. Increase NFFT to avoid.\n",
      "WARNING:root:frame length (1103) is greater than FFT size (512), frame will be truncated. Increase NFFT to avoid.\n",
      "WARNING:root:frame length (1103) is greater than FFT size (512), frame will be truncated. Increase NFFT to avoid.\n",
      "WARNING:root:frame length (1103) is greater than FFT size (512), frame will be truncated. Increase NFFT to avoid.\n",
      "WARNING:root:frame length (1103) is greater than FFT size (512), frame will be truncated. Increase NFFT to avoid.\n",
      "WARNING:root:frame length (1103) is greater than FFT size (512), frame will be truncated. Increase NFFT to avoid.\n",
      "WARNING:root:frame length (1103) is greater than FFT size (512), frame will be truncated. Increase NFFT to avoid.\n",
      "WARNING:root:frame length (1103) is greater than FFT size (512), frame will be truncated. Increase NFFT to avoid.\n",
      "WARNING:root:frame length (1103) is greater than FFT size (512), frame will be truncated. Increase NFFT to avoid.\n",
      "WARNING:root:frame length (1103) is greater than FFT size (512), frame will be truncated. Increase NFFT to avoid.\n",
      "WARNING:root:frame length (1103) is greater than FFT size (512), frame will be truncated. Increase NFFT to avoid.\n",
      "WARNING:root:frame length (1103) is greater than FFT size (512), frame will be truncated. Increase NFFT to avoid.\n",
      "WARNING:root:frame length (1103) is greater than FFT size (512), frame will be truncated. Increase NFFT to avoid.\n",
      "WARNING:root:frame length (1103) is greater than FFT size (512), frame will be truncated. Increase NFFT to avoid.\n",
      "WARNING:root:frame length (1103) is greater than FFT size (512), frame will be truncated. Increase NFFT to avoid.\n",
      "WARNING:root:frame length (1103) is greater than FFT size (512), frame will be truncated. Increase NFFT to avoid.\n",
      "WARNING:root:frame length (1103) is greater than FFT size (512), frame will be truncated. Increase NFFT to avoid.\n",
      "WARNING:root:frame length (1103) is greater than FFT size (512), frame will be truncated. Increase NFFT to avoid.\n",
      "WARNING:root:frame length (1103) is greater than FFT size (512), frame will be truncated. Increase NFFT to avoid.\n",
      "WARNING:root:frame length (1103) is greater than FFT size (512), frame will be truncated. Increase NFFT to avoid.\n",
      "WARNING:root:frame length (1103) is greater than FFT size (512), frame will be truncated. Increase NFFT to avoid.\n",
      "WARNING:root:frame length (1103) is greater than FFT size (512), frame will be truncated. Increase NFFT to avoid.\n",
      "WARNING:root:frame length (1103) is greater than FFT size (512), frame will be truncated. Increase NFFT to avoid.\n",
      "WARNING:root:frame length (1103) is greater than FFT size (512), frame will be truncated. Increase NFFT to avoid.\n",
      "WARNING:root:frame length (1103) is greater than FFT size (512), frame will be truncated. Increase NFFT to avoid.\n",
      "WARNING:root:frame length (1103) is greater than FFT size (512), frame will be truncated. Increase NFFT to avoid.\n",
      "WARNING:root:frame length (1103) is greater than FFT size (512), frame will be truncated. Increase NFFT to avoid.\n",
      "WARNING:root:frame length (1103) is greater than FFT size (512), frame will be truncated. Increase NFFT to avoid.\n"
     ]
    }
   ],
   "source": [
    "rate = 44100\n",
    "samples = []\n",
    "iters = []\n",
    "for control in os.listdir(rootdir):\n",
    "    \n",
    "    sub_dir = rootdir + '/' + control\n",
    "    \n",
    "    for sample in os.listdir(sub_dir):\n",
    "        data = wavfile.read(sub_dir+'/'+sample)[1]\n",
    "        \n",
    "        augmented_samples = augment(samples=np.array(data, np.float64), sample_rate=rate)\n",
    "        mel_spec = ps.logfbank(augmented_samples,rate,nfilt = filter_num)\n",
    "        time = mel_spec.shape[0] \n",
    "        mel_spec = mel_spec[:time//_t *_t,:]\n",
    "        time = mel_spec.shape[0] \n",
    "        delta1 = ps.delta(mel_spec, 2)\n",
    "        delta2 = ps.delta(delta1, 2)\n",
    "        for i in range(time//_t):\n",
    "            begin = _t*i\n",
    "            end = begin + _t\n",
    "            \n",
    "            part = mel_spec[begin:end,:]\n",
    "            delta11 = delta1[begin:end,:]\n",
    "            delta21 = delta2[begin:end,:]\n",
    "            \n",
    "            _data = np.empty((3,_t,filter_num),dtype = np.float32)\n",
    "            \n",
    "            _data[0,:,:,] = part\n",
    "            _data[1,:,:] = delta11\n",
    "            _data[2,:,:] = delta21\n",
    "            \n",
    "            test_label.append(generate_label(control))\n",
    "            test_data.append(_data)\n",
    "            samples.append(sample)\n",
    "            iters.append(i)\n"
   ]
  },
  {
   "cell_type": "code",
   "execution_count": null,
   "id": "369fc10c",
   "metadata": {},
   "outputs": [],
   "source": []
  },
  {
   "cell_type": "code",
   "execution_count": 5,
   "id": "bb60526b",
   "metadata": {},
   "outputs": [
    {
     "data": {
      "text/plain": [
       "(1242,)"
      ]
     },
     "execution_count": 5,
     "metadata": {},
     "output_type": "execute_result"
    }
   ],
   "source": [
    "np.array(test_label).shape"
   ]
  },
  {
   "cell_type": "code",
   "execution_count": 6,
   "id": "b417d663",
   "metadata": {},
   "outputs": [
    {
     "data": {
      "text/plain": [
       "(1242, 3, 300, 40)"
      ]
     },
     "execution_count": 6,
     "metadata": {},
     "output_type": "execute_result"
    }
   ],
   "source": [
    "np.array(test_data).shape"
   ]
  },
  {
   "cell_type": "code",
   "execution_count": null,
   "id": "e534530b",
   "metadata": {},
   "outputs": [],
   "source": []
  },
  {
   "cell_type": "code",
   "execution_count": null,
   "id": "f08d3a49",
   "metadata": {},
   "outputs": [],
   "source": []
  },
  {
   "cell_type": "code",
   "execution_count": null,
   "id": "2aec7618",
   "metadata": {},
   "outputs": [],
   "source": []
  },
  {
   "cell_type": "code",
   "execution_count": null,
   "id": "7a8f8de1",
   "metadata": {},
   "outputs": [],
   "source": []
  },
  {
   "cell_type": "code",
   "execution_count": 7,
   "id": "fb4a24ff",
   "metadata": {},
   "outputs": [],
   "source": [
    "# def randomize(a, b):\n",
    "#     # Generate the permutation index array.\n",
    "#     permutation = np.random.permutation(a.shape[0])\n",
    "#     # Shuffle the arrays by giving the permutation in the square brackets.\n",
    "#     shuffled_a = a[permutation]\n",
    "#     shuffled_b = b[permutation]\n",
    "#     return shuffled_a, shuffled_b\n",
    "\n",
    "\n",
    "# test_data,test_label = randomize(test_data,test_label)"
   ]
  },
  {
   "cell_type": "code",
   "execution_count": 8,
   "id": "c2eb5fca",
   "metadata": {},
   "outputs": [],
   "source": [
    "# train_data,train_label = randomize(train_data,train_label)"
   ]
  },
  {
   "cell_type": "code",
   "execution_count": 11,
   "id": "cfe0a188",
   "metadata": {},
   "outputs": [],
   "source": [
    "output = './adress_test_3_channles.pkl'\n",
    "f=open(output,'wb') \n",
    "pickle.dump((np.array(test_data),np.array(test_label),samples,iters),f)\n",
    "f.close() "
   ]
  },
  {
   "cell_type": "code",
   "execution_count": 10,
   "id": "e138112d",
   "metadata": {},
   "outputs": [],
   "source": [
    "# train_label"
   ]
  },
  {
   "cell_type": "code",
   "execution_count": null,
   "id": "c593dfbe",
   "metadata": {},
   "outputs": [],
   "source": [
    "for state in statesAndCapitals:"
   ]
  }
 ],
 "metadata": {
  "kernelspec": {
   "display_name": "Python 3 (ipykernel)",
   "language": "python",
   "name": "python3"
  },
  "language_info": {
   "codemirror_mode": {
    "name": "ipython",
    "version": 3
   },
   "file_extension": ".py",
   "mimetype": "text/x-python",
   "name": "python",
   "nbconvert_exporter": "python",
   "pygments_lexer": "ipython3",
   "version": "3.9.7"
  }
 },
 "nbformat": 4,
 "nbformat_minor": 5
}
