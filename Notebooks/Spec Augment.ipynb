{
 "cells": [
  {
   "cell_type": "code",
   "execution_count": 1,
   "metadata": {
    "colab": {
     "base_uri": "https://localhost:8080/"
    },
    "id": "CqdbGOQcT0dz",
    "outputId": "b0762d0b-a27b-4c7d-c12f-1d409fe41c1b"
   },
   "outputs": [],
   "source": [
    "import wave\n",
    "import numpy as np\n",
    "import python_speech_features as ps\n",
    "import os\n",
    "import glob\n",
    "import pickle\n",
    "from scipy.io import wavfile\n",
    "\n",
    "epsilon = 1e-5\n",
    "\n",
    "def wgn(x, snr):\n",
    "    snr = 10**(snr/10.0)\n",
    "    xpower = np.sum(x**2)/len(x)\n",
    "    npower = xpower / snr\n",
    "    return np.random.randn(len(x)) * np.sqrt(npower)\n",
    "\n",
    "def read_file(filename):\n",
    "    file = wave.open(filename,'r')    \n",
    "    audio_sample = wavfile.read(filename)  \n",
    "    # print(audio_sample[1])  \n",
    "    params = file.getparams()\n",
    "    nchannels, sampwidth, framerate, wav_length = params[:4]\n",
    "    str_data = file.readframes(wav_length)\n",
    "    wavedata = np.fromstring(str_data, dtype = np.short)\n",
    "    # librosa.load(wav_file_path + orig_wav_file, sr=sr)\n",
    "    time = np.arange(0,wav_length) * (1.0/framerate)\n",
    "    file.close()\n",
    "    return audio_sample[1], time, framerate\n",
    "\n",
    "def generate_label(control):\n",
    "    label = 0\n",
    "    if(control == 'cc'):\n",
    "        label = 0\n",
    "    elif(control == 'cd'):\n",
    "        label = 1\n",
    "    return label\n",
    "\n",
    "\n",
    "filter_num = 40\n",
    "_t = 300\n",
    "rootdir = 'train/Full_wave_enhanced_audio'\n",
    "\n",
    "train_label = []\n",
    "train_data = []"
   ]
  },
  {
   "cell_type": "code",
   "execution_count": 2,
   "metadata": {},
   "outputs": [],
   "source": [
    "from audiomentations import Compose, AddGaussianNoise, TimeStretch, PitchShift, Shift\n",
    "import numpy as np\n",
    "\n",
    "augment = Compose([\n",
    "    AddGaussianNoise(min_amplitude=0.001, max_amplitude=0.015, p=0.5),\n",
    "    TimeStretch(min_rate=0.8, max_rate=1.25, p=0.5),\n",
    "    PitchShift(min_semitones=-4, max_semitones=4, p=0.5),\n",
    "    Shift(min_fraction=-0.5, max_fraction=0.5, p=0.5),\n",
    "])\n",
    "\n",
    "# Generate 2 seconds of dummy audio for the sake of example\n",
    "# samples = np.random.uniform(low=-0.2, high=0.2, size=(32000,)).astype(np.float32)\n",
    "\n",
    "# Augment/transform/perturb the audio data\n",
    "# augmented_samples = augment(samples=samples, sample_rate=16000)"
   ]
  },
  {
   "cell_type": "code",
   "execution_count": null,
   "metadata": {
    "colab": {
     "base_uri": "https://localhost:8080/"
    },
    "id": "XMczZvA5Q29B",
    "outputId": "98a36766-44e7-4ad4-b2b9-26fcd0c6e718"
   },
   "outputs": [],
   "source": [
    "import librosa\n",
    "from SpecAugment import spec_augment_pytorch \n",
    "import tensorflow.contrib\n",
    "\n",
    "# # If you are Pytorch, then import spec_augment_pytorch instead of spec_augment_tensorflow\n",
    "# >>> audio, sampling_rate = librosa.load(audio_path)\n",
    "# >>> mel_spectrogram = librosa.feature.melspectrogram(y=audio,\n",
    "#                                                      sr=sampling_rate,\n",
    "#                                                      n_mels=256,\n",
    "#                                                      hop_length=128,\n",
    "#                                                      fmax=8000)\n",
    "# >>> warped_masked_spectrogram = spec_augment_tensorflow.spec_augment(mel_spectrogram=mel_spectrogram)\n",
    "# >>> print(warped_masked_spectrogram)\n",
    "\n",
    "\n",
    "for control in os.listdir(rootdir):\n",
    "    \n",
    "    sub_dir = rootdir + '/' + control\n",
    "    \n",
    "    for sample in os.listdir(sub_dir):\n",
    "        data = wavfile.read(sub_dir+'/'+sample)[1]\n",
    "        augmented_samples = augment(samples=np.array(data, np.float64), sample_rate=rate)\n",
    "        mel_spec = librosa.feature.melspectrogram(y=augmented_samples,\n",
    "                                                     sr=sampling_rate,\n",
    "                                                     n_mels=256,\n",
    "                                                     hop_length=128,\n",
    "                                                     fmax=8000)\n",
    "        print(mel_spec)\n",
    "        mel_spec = spec_augment_pytorch.spec_augment(mel_spectrogram=mel_spec)\n",
    "#         mel_spec = ps.logfbank(augmented_samples,rate,nfilt = filter_num)\n",
    "        time = mel_spec.shape[0] \n",
    "        print(time)\n",
    "        mel_spec = mel_spec[:time//_t *_t,:]\n",
    "        time = mel_spec.shape[0] \n",
    "        delta1 = ps.delta(mel_spec, 2)\n",
    "        delta2 = ps.delta(delta1, 2)\n",
    "        for i in range(time//_t):\n",
    "            begin = _t*i\n",
    "            end = begin + _t\n",
    "            \n",
    "            part = mel_spec[begin:end,:]\n",
    "            delta11 = delta1[begin:end,:]\n",
    "            delta21 = delta2[begin:end,:]\n",
    "            \n",
    "            _data = np.empty((_t,filter_num,3),dtype = np.float32)\n",
    "            \n",
    "            _data[:,:,0] = part\n",
    "            _data[:,:,1] = delta11\n",
    "            _data[:,:,2] = delta21\n",
    "            \n",
    "            train_label.append(generate_label(control))\n",
    "            train_data.append(_data)\n"
   ]
  },
  {
   "cell_type": "code",
   "execution_count": null,
   "metadata": {},
   "outputs": [],
   "source": []
  }
 ],
 "metadata": {
  "accelerator": "GPU",
  "colab": {
   "collapsed_sections": [],
   "include_colab_link": true,
   "machine_shape": "hm",
   "name": "AUCO ResNet Official Tensorflow-Keras.ipynb",
   "provenance": []
  },
  "kernelspec": {
   "display_name": "Python 3 (ipykernel)",
   "language": "python",
   "name": "python3"
  },
  "language_info": {
   "codemirror_mode": {
    "name": "ipython",
    "version": 3
   },
   "file_extension": ".py",
   "mimetype": "text/x-python",
   "name": "python",
   "nbconvert_exporter": "python",
   "pygments_lexer": "ipython3",
   "version": "3.9.7"
  }
 },
 "nbformat": 4,
 "nbformat_minor": 1
}
