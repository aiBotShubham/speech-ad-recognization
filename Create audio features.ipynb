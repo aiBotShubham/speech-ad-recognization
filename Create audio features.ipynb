{
 "cells": [
  {
   "cell_type": "code",
   "execution_count": 1,
   "id": "125462e5",
   "metadata": {},
   "outputs": [],
   "source": [
    "import math\n",
    "import random\n",
    "import librosa\n",
    "import os\n",
    "import soundfile as sf\n",
    "import numpy as np\n",
    "import matplotlib.pyplot as plt\n",
    "import matplotlib.style as ms\n",
    "from tqdm import tqdm\n",
    "import pickle\n",
    "import pandas as pd\n",
    "import scipy\n",
    "from scipy.io import wavfile\n",
    "import scipy.fftpack as fft\n",
    "from scipy.signal import get_window\n",
    "import IPython.display as ipd\n",
    "\n",
    "import librosa.display\n",
    "ms.use('seaborn-muted')\n",
    "%matplotlib inline"
   ]
  },
  {
   "cell_type": "code",
   "execution_count": 4,
   "id": "2f67a694",
   "metadata": {},
   "outputs": [],
   "source": [
    "#columns = ['wav_file', 'label', 'sig_mean', 'sig_std', 'rmse_mean', 'rmse_std', 'silence', 'harmonic', 'auto_corr_max', 'auto_corr_std','mel']\n",
    "columns = ['wav_file', 'label', 'mel']\n",
    "df_features = pd.DataFrame(columns=columns)\n",
    "\n",
    "emotion_dict = {'ang': 0,\n",
    "                'hap': 1,\n",
    "                'exc': 2,\n",
    "                'sad': 3,\n",
    "                'fru': 4,\n",
    "                'fea': 5,\n",
    "                'sur': 6,\n",
    "                'neu': 7,\n",
    "                'xxx': 8,\n",
    "                'oth': 8}\n",
    "\n",
    "data_dir = 'pre-processed/'\n",
    "labels_path = '{}df_iemocap.csv'.format(data_dir)\n",
    "audio_vectors_path = '{}audio_vectors_'.format(data_dir)"
   ]
  },
  {
   "cell_type": "code",
   "execution_count": 5,
   "id": "b9424384",
   "metadata": {},
   "outputs": [],
   "source": [
    "def normalize_audio(audio):\n",
    "    audio = audio / np.max(np.abs(audio))\n",
    "    return audio\n",
    "\n",
    "def frame_audio(audio, FFT_size=512, hop_size=10, sample_rate=44100):\n",
    "    # hop_size in ms\n",
    "    \n",
    "    audio = np.pad(audio, int(FFT_size / 2), mode='reflect')\n",
    "    frame_len = np.round(sample_rate * hop_size / 1000).astype(int)\n",
    "    #frame_num = int((len(audio) - FFT_size) / frame_len) + 1\n",
    "    #Improve this to not missout on frames\n",
    "    frame_num = 300\n",
    "    frames = np.zeros((frame_num,FFT_size))\n",
    "    #frames_remaining = np.zeros((300,FFT_size))\n",
    "    \n",
    "    for n in range(frame_num):\n",
    "        frames[n] = audio[n*frame_len:n*frame_len+FFT_size]\n",
    "        \n",
    "#     for n in range(300,frame_num):\n",
    "#         frames_remaining[n-300] = audio[n*frame_len:n*frame_len+FFT_size]\n",
    "    \n",
    "    return frames\n",
    "\n",
    "def get_filters(filter_points, FFT_size):\n",
    "    filters = np.zeros((len(filter_points)-2,int(FFT_size/2+1)))\n",
    "    \n",
    "    for n in range(len(filter_points)-2):\n",
    "        filters[n, filter_points[n] : filter_points[n + 1]] = np.linspace(0, 1, filter_points[n + 1] - filter_points[n])\n",
    "        filters[n, filter_points[n + 1] : filter_points[n + 2]] = np.linspace(1, 0, filter_points[n + 2] - filter_points[n + 1])\n",
    "    \n",
    "    return filters\n",
    "\n",
    "def freq_to_mel(freq):\n",
    "    return 2595.0 * np.log10(1.0 + freq / 700.0)\n",
    "\n",
    "def met_to_freq(mels):\n",
    "    return 700.0 * (10.0**(mels / 2595.0) - 1.0)\n",
    "\n",
    "def get_filter_points(fmin, fmax, mel_filter_num, FFT_size, sample_rate=44100):\n",
    "    fmin_mel = freq_to_mel(fmin)\n",
    "    fmax_mel = freq_to_mel(fmax)\n",
    "    \n",
    "    #print(\"MEL min: {0}\".format(fmin_mel))\n",
    "    #print(\"MEL max: {0}\".format(fmax_mel))\n",
    "    \n",
    "    mels = np.linspace(fmin_mel, fmax_mel, num=mel_filter_num+2)\n",
    "    freqs = met_to_freq(mels)\n",
    "    \n",
    "    return np.floor((FFT_size + 1) / sample_rate * freqs).astype(int), freqs\n",
    "\n",
    "\n",
    "def generate_mels(audio, sr):\n",
    "    audio = normalize_audio(y)\n",
    "    \n",
    "    hop_size = 10 #ms\n",
    "    FFT_size = 512\n",
    "\n",
    "    audio_framed = frame_audio(audio, FFT_size=FFT_size, hop_size=hop_size, sample_rate=sr)\n",
    "    window = get_window(\"hann\", FFT_size, fftbins=True)\n",
    "    \n",
    "    audio_win = audio_framed * window\n",
    "    \n",
    "    audio_winT = np.transpose(audio_win)\n",
    "\n",
    "    audio_fft = np.empty((int(1 + FFT_size // 2), audio_winT.shape[1]), dtype=np.complex64, order='F')\n",
    "\n",
    "    for n in range(audio_fft.shape[1]):\n",
    "        audio_fft[:, n] = fft.fft(audio_winT[:, n], axis=0)[:audio_fft.shape[0]]\n",
    "\n",
    "    audio_fft = np.transpose(audio_fft)\n",
    "    \n",
    "    audio_power = np.square(np.abs(audio_fft))\n",
    "    \n",
    "    freq_min = 0\n",
    "    freq_high = sr / 2\n",
    "    mel_filter_num = 40\n",
    "    \n",
    "    filter_points, mel_freqs = get_filter_points(freq_min, freq_high, mel_filter_num, FFT_size, sample_rate=44100)\n",
    "    filters = get_filters(filter_points, FFT_size)\n",
    "    \n",
    "    # taken from the librosa library\n",
    "    enorm = 2.0 / (mel_freqs[2:mel_filter_num+2] - mel_freqs[:mel_filter_num])\n",
    "    filters *= enorm[:, np.newaxis]\n",
    "    \n",
    "    audio_filtered = np.dot(filters, np.transpose(audio_power))\n",
    "    audio_log = 10.0 * np.log10(audio_filtered)\n",
    "    audio_log_delta = librosa.feature.delta(audio_log)\n",
    "    audio_log_delta_delta = librosa.feature.delta(audio_log_delta)\n",
    "    \n",
    "    return np.array([audio_log, audio_log_delta, audio_log_delta_delta])"
   ]
  },
  {
   "cell_type": "code",
   "execution_count": null,
   "id": "3d7246da",
   "metadata": {},
   "outputs": [],
   "source": [
    "# Testing the code\n",
    "# data_dir = 'pre-processed/'\n",
    "# labels_df_path = '{}df_iemocap.csv'.format(data_dir)\n",
    "# audio_vectors_path = '{}audio_vectors_1.pkl'.format(data_dir)\n",
    "\n",
    "# labels_df = pd.read_csv(labels_df_path)\n",
    "# audio_vectors = pickle.load(open(audio_vectors_path, 'rb'))\n",
    "\n",
    "# # Pick a Random File\n",
    "# random_file_name = list(audio_vectors.keys())[random.choice(range(len(audio_vectors.keys())))]\n",
    "# y = audio_vectors[random_file_name]\n",
    "# \n",
    "\n",
    "# plt.figure(figsize=(15,2))\n",
    "# librosa.display.waveplot(y, sr=sr, max_sr=1000, alpha=0.25, color='r')\n",
    "\n",
    "# filter = labels_df['wav_file']== random_file_name\n",
    "  \n",
    "# # filtering data\n",
    "# print(labels_df[filter].emotion)\n",
    "\n",
    "# import IPython.display as ipd\n",
    "# yt, index = librosa.effects.trim(y)\n",
    "# ipd.Audio(y, rate=sr)"
   ]
  },
  {
   "cell_type": "code",
   "execution_count": null,
   "id": "1eabb9da",
   "metadata": {},
   "outputs": [],
   "source": []
  },
  {
   "cell_type": "code",
   "execution_count": 6,
   "id": "7098b43b",
   "metadata": {},
   "outputs": [
    {
     "name": "stderr",
     "output_type": "stream",
     "text": [
      "15it [00:00, 146.02it/s]"
     ]
    },
    {
     "name": "stdout",
     "output_type": "stream",
     "text": [
      "could not broadcast input array from shape (319,) into shape (512,)\n",
      "Some exception occured\n",
      "could not broadcast input array from shape (182,) into shape (512,)\n",
      "Some exception occured\n",
      "could not broadcast input array from shape (402,) into shape (512,)\n",
      "Some exception occured\n",
      "could not broadcast input array from shape (182,) into shape (512,)\n",
      "Some exception occured\n",
      "could not broadcast input array from shape (72,) into shape (512,)\n",
      "Some exception occured\n",
      "could not broadcast input array from shape (72,) into shape (512,)\n",
      "Some exception occured\n",
      "could not broadcast input array from shape (72,) into shape (512,)\n",
      "Some exception occured\n",
      "could not broadcast input array from shape (240,) into shape (512,)\n",
      "Some exception occured\n",
      "could not broadcast input array from shape (173,) into shape (512,)\n",
      "Some exception occured\n",
      "could not broadcast input array from shape (367,) into shape (512,)\n",
      "Some exception occured\n"
     ]
    },
    {
     "name": "stderr",
     "output_type": "stream",
     "text": [
      "44it [00:00, 118.42it/s]"
     ]
    },
    {
     "name": "stdout",
     "output_type": "stream",
     "text": [
      "could not broadcast input array from shape (72,) into shape (512,)\n",
      "Some exception occured\n",
      "could not broadcast input array from shape (72,) into shape (512,)\n",
      "Some exception occured\n",
      "could not broadcast input array from shape (72,) into shape (512,)\n",
      "Some exception occured\n",
      "could not broadcast input array from shape (72,) into shape (512,)\n",
      "Some exception occured\n"
     ]
    },
    {
     "name": "stderr",
     "output_type": "stream",
     "text": [
      "90it [00:00, 133.40it/s]"
     ]
    },
    {
     "name": "stdout",
     "output_type": "stream",
     "text": [
      "could not broadcast input array from shape (280,) into shape (512,)\n",
      "Some exception occured\n",
      "could not broadcast input array from shape (72,) into shape (512,)\n",
      "Some exception occured\n",
      "could not broadcast input array from shape (72,) into shape (512,)\n",
      "Some exception occured\n",
      "could not broadcast input array from shape (72,) into shape (512,)\n",
      "Some exception occured\n",
      "could not broadcast input array from shape (143,) into shape (512,)\n",
      "Some exception occured\n",
      "could not broadcast input array from shape (72,) into shape (512,)\n",
      "Some exception occured\n",
      "could not broadcast input array from shape (72,) into shape (512,)\n",
      "Some exception occured\n",
      "could not broadcast input array from shape (182,) into shape (512,)\n",
      "Some exception occured\n",
      "could not broadcast input array from shape (293,) into shape (512,)\n",
      "Some exception occured\n",
      "could not broadcast input array from shape (182,) into shape (512,)\n",
      "Some exception occured\n",
      "could not broadcast input array from shape (183,) into shape (512,)\n",
      "Some exception occured\n",
      "could not broadcast input array from shape (183,) into shape (512,)\n",
      "Some exception occured\n",
      "could not broadcast input array from shape (72,) into shape (512,)\n",
      "Some exception occured\n",
      "could not broadcast input array from shape (72,) into shape (512,)\n",
      "Some exception occured\n"
     ]
    },
    {
     "name": "stderr",
     "output_type": "stream",
     "text": [
      "\r",
      "110it [00:00, 149.86it/s]"
     ]
    },
    {
     "name": "stdout",
     "output_type": "stream",
     "text": [
      "could not broadcast input array from shape (183,) into shape (512,)\n",
      "Some exception occured\n",
      "could not broadcast input array from shape (182,) into shape (512,)\n",
      "Some exception occured\n",
      "could not broadcast input array from shape (72,) into shape (512,)\n",
      "Some exception occured\n",
      "could not broadcast input array from shape (72,) into shape (512,)\n",
      "Some exception occured\n",
      "could not broadcast input array from shape (371,) into shape (512,)\n",
      "Some exception occured\n",
      "could not broadcast input array from shape (72,) into shape (512,)\n",
      "Some exception occured\n",
      "could not broadcast input array from shape (72,) into shape (512,)\n",
      "Some exception occured\n",
      "could not broadcast input array from shape (183,) into shape (512,)\n",
      "Some exception occured\n",
      "could not broadcast input array from shape (71,) into shape (512,)\n",
      "Some exception occured\n",
      "could not broadcast input array from shape (72,) into shape (512,)\n",
      "Some exception occured\n",
      "could not broadcast input array from shape (403,) into shape (512,)\n",
      "Some exception occured\n",
      "could not broadcast input array from shape (73,) into shape (512,)\n",
      "Some exception occured\n",
      "could not broadcast input array from shape (293,) into shape (512,)\n",
      "Some exception occured\n",
      "could not broadcast input array from shape (403,) into shape (512,)\n",
      "Some exception occured\n",
      "could not broadcast input array from shape (403,) into shape (512,)\n",
      "Some exception occured\n",
      "could not broadcast input array from shape (72,) into shape (512,)\n",
      "Some exception occured\n",
      "could not broadcast input array from shape (72,) into shape (512,)\n",
      "Some exception occured\n",
      "could not broadcast input array from shape (72,) into shape (512,)\n",
      "Some exception occured\n",
      "could not broadcast input array from shape (116,) into shape (512,)\n",
      "Some exception occured\n"
     ]
    },
    {
     "name": "stderr",
     "output_type": "stream",
     "text": [
      "142it [00:01, 135.50it/s]"
     ]
    },
    {
     "name": "stdout",
     "output_type": "stream",
     "text": [
      "could not broadcast input array from shape (73,) into shape (512,)\n",
      "Some exception occured\n",
      "could not broadcast input array from shape (495,) into shape (512,)\n",
      "Some exception occured\n",
      "could not broadcast input array from shape (72,) into shape (512,)\n",
      "Some exception occured\n",
      "could not broadcast input array from shape (235,) into shape (512,)\n",
      "Some exception occured\n",
      "could not broadcast input array from shape (72,) into shape (512,)\n",
      "Some exception occured\n",
      "could not broadcast input array from shape (72,) into shape (512,)\n",
      "Some exception occured\n",
      "could not broadcast input array from shape (72,) into shape (512,)\n",
      "Some exception occured\n",
      "could not broadcast input array from shape (292,) into shape (512,)\n",
      "Some exception occured\n",
      "could not broadcast input array from shape (71,) into shape (512,)\n",
      "Some exception occured\n",
      "could not broadcast input array from shape (182,) into shape (512,)\n",
      "Some exception occured\n",
      "could not broadcast input array from shape (402,) into shape (512,)\n",
      "Some exception occured\n",
      "could not broadcast input array from shape (130,) into shape (512,)\n",
      "Some exception occured\n",
      "could not broadcast input array from shape (72,) into shape (512,)\n",
      "Some exception occured\n",
      "could not broadcast input array from shape (72,) into shape (512,)\n",
      "Some exception occured\n"
     ]
    },
    {
     "name": "stderr",
     "output_type": "stream",
     "text": [
      "176it [00:01, 148.08it/s]"
     ]
    },
    {
     "name": "stdout",
     "output_type": "stream",
     "text": [
      "could not broadcast input array from shape (72,) into shape (512,)\n",
      "Some exception occured\n",
      "could not broadcast input array from shape (72,) into shape (512,)\n",
      "Some exception occured\n",
      "could not broadcast input array from shape (72,) into shape (512,)\n",
      "Some exception occured\n",
      "could not broadcast input array from shape (72,) into shape (512,)\n",
      "Some exception occured\n",
      "could not broadcast input array from shape (270,) into shape (512,)\n",
      "Some exception occured\n",
      "could not broadcast input array from shape (72,) into shape (512,)\n",
      "Some exception occured\n",
      "could not broadcast input array from shape (354,) into shape (512,)\n",
      "Some exception occured\n",
      "could not broadcast input array from shape (293,) into shape (512,)\n",
      "Some exception occured\n",
      "could not broadcast input array from shape (72,) into shape (512,)\n",
      "Some exception occured\n",
      "could not broadcast input array from shape (72,) into shape (512,)\n",
      "Some exception occured\n",
      "could not broadcast input array from shape (72,) into shape (512,)\n",
      "Some exception occured\n",
      "could not broadcast input array from shape (99,) into shape (512,)\n",
      "Some exception occured\n",
      "could not broadcast input array from shape (72,) into shape (512,)\n",
      "Some exception occured\n",
      "could not broadcast input array from shape (73,) into shape (512,)\n",
      "Some exception occured\n",
      "could not broadcast input array from shape (182,) into shape (512,)\n",
      "Some exception occured\n",
      "could not broadcast input array from shape (72,) into shape (512,)\n",
      "Some exception occured\n",
      "could not broadcast input array from shape (147,) into shape (512,)\n",
      "Some exception occured\n",
      "could not broadcast input array from shape (72,) into shape (512,)\n",
      "Some exception occured\n",
      "could not broadcast input array from shape (182,) into shape (512,)\n",
      "Some exception occured\n",
      "could not broadcast input array from shape (72,) into shape (512,)\n",
      "Some exception occured\n",
      "could not broadcast input array from shape (403,) into shape (512,)\n",
      "Some exception occured\n"
     ]
    },
    {
     "name": "stderr",
     "output_type": "stream",
     "text": [
      "220it [00:01, 158.71it/s]"
     ]
    },
    {
     "name": "stdout",
     "output_type": "stream",
     "text": [
      "could not broadcast input array from shape (72,) into shape (512,)\n",
      "Some exception occured\n",
      "could not broadcast input array from shape (72,) into shape (512,)\n",
      "Some exception occured\n",
      "could not broadcast input array from shape (72,) into shape (512,)\n",
      "Some exception occured\n",
      "could not broadcast input array from shape (72,) into shape (512,)\n",
      "Some exception occured\n",
      "could not broadcast input array from shape (72,) into shape (512,)\n",
      "Some exception occured\n",
      "could not broadcast input array from shape (72,) into shape (512,)\n",
      "Some exception occured\n",
      "could not broadcast input array from shape (72,) into shape (512,)\n",
      "Some exception occured\n",
      "could not broadcast input array from shape (402,) into shape (512,)\n",
      "Some exception occured\n",
      "could not broadcast input array from shape (293,) into shape (512,)\n",
      "Some exception occured\n",
      "could not broadcast input array from shape (72,) into shape (512,)\n",
      "Some exception occured\n",
      "could not broadcast input array from shape (72,) into shape (512,)\n",
      "Some exception occured\n",
      "could not broadcast input array from shape (403,) into shape (512,)\n",
      "Some exception occured\n",
      "could not broadcast input array from shape (402,) into shape (512,)\n",
      "Some exception occured\n"
     ]
    },
    {
     "name": "stderr",
     "output_type": "stream",
     "text": [
      "\r",
      "237it [00:01, 153.71it/s]"
     ]
    },
    {
     "name": "stdout",
     "output_type": "stream",
     "text": [
      "could not broadcast input array from shape (72,) into shape (512,)\n",
      "Some exception occured\n",
      "could not broadcast input array from shape (72,) into shape (512,)\n",
      "Some exception occured\n",
      "could not broadcast input array from shape (72,) into shape (512,)\n",
      "Some exception occured\n",
      "could not broadcast input array from shape (72,) into shape (512,)\n",
      "Some exception occured\n",
      "could not broadcast input array from shape (72,) into shape (512,)\n",
      "Some exception occured\n",
      "could not broadcast input array from shape (389,) into shape (512,)\n",
      "Some exception occured\n",
      "could not broadcast input array from shape (72,) into shape (512,)\n",
      "Some exception occured\n",
      "could not broadcast input array from shape (72,) into shape (512,)\n",
      "Some exception occured\n",
      "could not broadcast input array from shape (72,) into shape (512,)\n",
      "Some exception occured\n",
      "could not broadcast input array from shape (72,) into shape (512,)\n",
      "Some exception occured\n",
      "could not broadcast input array from shape (72,) into shape (512,)\n",
      "Some exception occured\n",
      "could not broadcast input array from shape (72,) into shape (512,)\n",
      "Some exception occured\n",
      "could not broadcast input array from shape (72,) into shape (512,)\n",
      "Some exception occured\n",
      "could not broadcast input array from shape (293,) into shape (512,)\n",
      "Some exception occured\n"
     ]
    },
    {
     "name": "stderr",
     "output_type": "stream",
     "text": [
      "268it [00:01, 140.51it/s]"
     ]
    },
    {
     "name": "stdout",
     "output_type": "stream",
     "text": [
      "could not broadcast input array from shape (72,) into shape (512,)\n",
      "Some exception occured\n",
      "could not broadcast input array from shape (72,) into shape (512,)\n",
      "Some exception occured\n",
      "could not broadcast input array from shape (72,) into shape (512,)\n",
      "Some exception occured\n",
      "could not broadcast input array from shape (72,) into shape (512,)\n",
      "Some exception occured\n",
      "could not broadcast input array from shape (72,) into shape (512,)\n",
      "Some exception occured\n",
      "could not broadcast input array from shape (72,) into shape (512,)\n",
      "Some exception occured\n",
      "could not broadcast input array from shape (183,) into shape (512,)\n",
      "Some exception occured\n",
      "could not broadcast input array from shape (71,) into shape (512,)\n",
      "Some exception occured\n",
      "could not broadcast input array from shape (139,) into shape (512,)\n",
      "Some exception occured\n",
      "could not broadcast input array from shape (72,) into shape (512,)\n",
      "Some exception occured\n"
     ]
    },
    {
     "name": "stderr",
     "output_type": "stream",
     "text": [
      "312it [00:02, 134.06it/s]"
     ]
    },
    {
     "name": "stdout",
     "output_type": "stream",
     "text": [
      "could not broadcast input array from shape (72,) into shape (512,)\n",
      "Some exception occured\n",
      "could not broadcast input array from shape (72,) into shape (512,)\n",
      "Some exception occured\n",
      "could not broadcast input array from shape (73,) into shape (512,)\n",
      "Some exception occured\n",
      "could not broadcast input array from shape (72,) into shape (512,)\n",
      "Some exception occured\n",
      "could not broadcast input array from shape (72,) into shape (512,)\n",
      "Some exception occured\n",
      "could not broadcast input array from shape (72,) into shape (512,)\n",
      "Some exception occured\n",
      "could not broadcast input array from shape (72,) into shape (512,)\n",
      "Some exception occured\n",
      "could not broadcast input array from shape (72,) into shape (512,)\n",
      "Some exception occured\n",
      "could not broadcast input array from shape (72,) into shape (512,)\n",
      "Some exception occured\n",
      "could not broadcast input array from shape (73,) into shape (512,)\n",
      "Some exception occured\n",
      "could not broadcast input array from shape (72,) into shape (512,)\n",
      "Some exception occured\n",
      "could not broadcast input array from shape (72,) into shape (512,)\n",
      "Some exception occured\n",
      "could not broadcast input array from shape (72,) into shape (512,)\n",
      "Some exception occured\n",
      "could not broadcast input array from shape (72,) into shape (512,)\n",
      "Some exception occured\n",
      "could not broadcast input array from shape (72,) into shape (512,)\n",
      "Some exception occured\n",
      "could not broadcast input array from shape (403,) into shape (512,)\n",
      "Some exception occured\n"
     ]
    },
    {
     "name": "stderr",
     "output_type": "stream",
     "text": [
      "340it [00:02, 125.89it/s]"
     ]
    },
    {
     "name": "stdout",
     "output_type": "stream",
     "text": [
      "could not broadcast input array from shape (402,) into shape (512,)\n",
      "Some exception occured\n",
      "could not broadcast input array from shape (72,) into shape (512,)\n",
      "Some exception occured\n",
      "could not broadcast input array from shape (183,) into shape (512,)\n",
      "Some exception occured\n",
      "could not broadcast input array from shape (72,) into shape (512,)\n",
      "Some exception occured\n",
      "could not broadcast input array from shape (72,) into shape (512,)\n",
      "Some exception occured\n"
     ]
    },
    {
     "name": "stderr",
     "output_type": "stream",
     "text": [
      "365it [00:02, 114.47it/s]"
     ]
    },
    {
     "name": "stdout",
     "output_type": "stream",
     "text": [
      "could not broadcast input array from shape (367,) into shape (512,)\n",
      "Some exception occured\n",
      "could not broadcast input array from shape (72,) into shape (512,)\n",
      "Some exception occured\n",
      "could not broadcast input array from shape (433,) into shape (512,)\n",
      "Some exception occured\n",
      "could not broadcast input array from shape (230,) into shape (512,)\n",
      "Some exception occured\n",
      "could not broadcast input array from shape (72,) into shape (512,)\n",
      "Some exception occured\n",
      "could not broadcast input array from shape (72,) into shape (512,)\n",
      "Some exception occured\n"
     ]
    },
    {
     "name": "stderr",
     "output_type": "stream",
     "text": [
      "390it [00:02, 112.45it/s]"
     ]
    },
    {
     "name": "stdout",
     "output_type": "stream",
     "text": [
      "could not broadcast input array from shape (292,) into shape (512,)\n",
      "Some exception occured\n",
      "could not broadcast input array from shape (81,) into shape (512,)\n",
      "Some exception occured\n",
      "could not broadcast input array from shape (301,) into shape (512,)\n",
      "Some exception occured\n",
      "could not broadcast input array from shape (363,) into shape (512,)\n",
      "Some exception occured\n",
      "could not broadcast input array from shape (72,) into shape (512,)\n",
      "Some exception occured\n",
      "could not broadcast input array from shape (252,) into shape (512,)\n",
      "Some exception occured\n",
      "could not broadcast input array from shape (73,) into shape (512,)\n",
      "Some exception occured\n",
      "could not broadcast input array from shape (72,) into shape (512,)\n",
      "Some exception occured\n"
     ]
    },
    {
     "name": "stderr",
     "output_type": "stream",
     "text": [
      "422it [00:03, 128.55it/s]"
     ]
    },
    {
     "name": "stdout",
     "output_type": "stream",
     "text": [
      "could not broadcast input array from shape (72,) into shape (512,)\n",
      "Some exception occured\n",
      "could not broadcast input array from shape (244,) into shape (512,)\n",
      "Some exception occured\n",
      "could not broadcast input array from shape (187,) into shape (512,)\n",
      "Some exception occured\n",
      "could not broadcast input array from shape (368,) into shape (512,)\n",
      "Some exception occured\n",
      "could not broadcast input array from shape (402,) into shape (512,)\n",
      "Some exception occured\n",
      "could not broadcast input array from shape (402,) into shape (512,)\n",
      "Some exception occured\n",
      "could not broadcast input array from shape (468,) into shape (512,)\n",
      "Some exception occured\n",
      "could not broadcast input array from shape (134,) into shape (512,)\n",
      "Some exception occured\n",
      "could not broadcast input array from shape (332,) into shape (512,)\n",
      "Some exception occured\n",
      "could not broadcast input array from shape (72,) into shape (512,)\n",
      "Some exception occured\n",
      "could not broadcast input array from shape (72,) into shape (512,)\n",
      "Some exception occured\n"
     ]
    },
    {
     "name": "stderr",
     "output_type": "stream",
     "text": [
      "448it [00:03, 115.87it/s]"
     ]
    },
    {
     "name": "stdout",
     "output_type": "stream",
     "text": [
      "could not broadcast input array from shape (71,) into shape (512,)\n",
      "Some exception occured\n",
      "could not broadcast input array from shape (72,) into shape (512,)\n",
      "Some exception occured\n",
      "could not broadcast input array from shape (72,) into shape (512,)\n",
      "Some exception occured\n",
      "could not broadcast input array from shape (73,) into shape (512,)\n",
      "Some exception occured\n",
      "could not broadcast input array from shape (72,) into shape (512,)\n",
      "Some exception occured\n",
      "could not broadcast input array from shape (72,) into shape (512,)\n",
      "Some exception occured\n",
      "could not broadcast input array from shape (73,) into shape (512,)\n",
      "Some exception occured\n",
      "could not broadcast input array from shape (182,) into shape (512,)\n",
      "Some exception occured\n"
     ]
    },
    {
     "name": "stderr",
     "output_type": "stream",
     "text": [
      "480it [00:03, 126.49it/s]"
     ]
    },
    {
     "name": "stdout",
     "output_type": "stream",
     "text": [
      "could not broadcast input array from shape (72,) into shape (512,)\n",
      "Some exception occured\n",
      "could not broadcast input array from shape (72,) into shape (512,)\n",
      "Some exception occured\n",
      "could not broadcast input array from shape (403,) into shape (512,)\n",
      "Some exception occured\n",
      "could not broadcast input array from shape (266,) into shape (512,)\n",
      "Some exception occured\n",
      "could not broadcast input array from shape (191,) into shape (512,)\n",
      "Some exception occured\n",
      "could not broadcast input array from shape (182,) into shape (512,)\n",
      "Some exception occured\n",
      "could not broadcast input array from shape (72,) into shape (512,)\n",
      "Some exception occured\n",
      "could not broadcast input array from shape (456,) into shape (512,)\n",
      "Some exception occured\n",
      "could not broadcast input array from shape (72,) into shape (512,)\n",
      "Some exception occured\n",
      "could not broadcast input array from shape (72,) into shape (512,)\n",
      "Some exception occured\n"
     ]
    },
    {
     "name": "stderr",
     "output_type": "stream",
     "text": [
      "509it [00:03, 128.46it/s]"
     ]
    },
    {
     "name": "stdout",
     "output_type": "stream",
     "text": [
      "could not broadcast input array from shape (292,) into shape (512,)\n",
      "Some exception occured\n",
      "could not broadcast input array from shape (72,) into shape (512,)\n",
      "Some exception occured\n",
      "could not broadcast input array from shape (182,) into shape (512,)\n",
      "Some exception occured\n",
      "could not broadcast input array from shape (72,) into shape (512,)\n",
      "Some exception occured\n",
      "could not broadcast input array from shape (72,) into shape (512,)\n",
      "Some exception occured\n",
      "could not broadcast input array from shape (284,) into shape (512,)\n",
      "Some exception occured\n",
      "could not broadcast input array from shape (412,) into shape (512,)\n",
      "Some exception occured\n",
      "could not broadcast input array from shape (72,) into shape (512,)\n",
      "Some exception occured\n",
      "could not broadcast input array from shape (72,) into shape (512,)\n",
      "Some exception occured\n",
      "could not broadcast input array from shape (319,) into shape (512,)\n",
      "Some exception occured\n"
     ]
    },
    {
     "name": "stderr",
     "output_type": "stream",
     "text": [
      "\r",
      "523it [00:03, 129.58it/s]"
     ]
    },
    {
     "name": "stdout",
     "output_type": "stream",
     "text": [
      "could not broadcast input array from shape (133,) into shape (512,)\n",
      "Some exception occured\n",
      "could not broadcast input array from shape (73,) into shape (512,)\n",
      "Some exception occured\n",
      "could not broadcast input array from shape (72,) into shape (512,)\n",
      "Some exception occured\n",
      "could not broadcast input array from shape (183,) into shape (512,)\n",
      "Some exception occured\n",
      "could not broadcast input array from shape (72,) into shape (512,)\n",
      "Some exception occured\n",
      "could not broadcast input array from shape (72,) into shape (512,)\n",
      "Some exception occured\n",
      "could not broadcast input array from shape (402,) into shape (512,)\n",
      "Some exception occured\n"
     ]
    },
    {
     "name": "stderr",
     "output_type": "stream",
     "text": [
      "569it [00:04, 157.72it/s]"
     ]
    },
    {
     "name": "stdout",
     "output_type": "stream",
     "text": [
      "could not broadcast input array from shape (72,) into shape (512,)\n",
      "Some exception occured\n",
      "could not broadcast input array from shape (182,) into shape (512,)\n",
      "Some exception occured\n",
      "could not broadcast input array from shape (71,) into shape (512,)\n",
      "Some exception occured\n",
      "could not broadcast input array from shape (72,) into shape (512,)\n",
      "Some exception occured\n",
      "could not broadcast input array from shape (72,) into shape (512,)\n",
      "Some exception occured\n",
      "could not broadcast input array from shape (72,) into shape (512,)\n",
      "Some exception occured\n",
      "could not broadcast input array from shape (72,) into shape (512,)\n",
      "Some exception occured\n",
      "could not broadcast input array from shape (72,) into shape (512,)\n",
      "Some exception occured\n",
      "could not broadcast input array from shape (72,) into shape (512,)\n",
      "Some exception occured\n",
      "could not broadcast input array from shape (182,) into shape (512,)\n",
      "Some exception occured\n",
      "could not broadcast input array from shape (72,) into shape (512,)\n",
      "Some exception occured\n",
      "could not broadcast input array from shape (72,) into shape (512,)\n",
      "Some exception occured\n",
      "could not broadcast input array from shape (72,) into shape (512,)\n",
      "Some exception occured\n",
      "could not broadcast input array from shape (72,) into shape (512,)\n",
      "Some exception occured\n",
      "could not broadcast input array from shape (71,) into shape (512,)\n",
      "Some exception occured\n",
      "could not broadcast input array from shape (274,) into shape (512,)\n",
      "Some exception occured\n",
      "could not broadcast input array from shape (72,) into shape (512,)\n",
      "Some exception occured\n",
      "could not broadcast input array from shape (72,) into shape (512,)\n",
      "Some exception occured\n",
      "could not broadcast input array from shape (72,) into shape (512,)\n",
      "Some exception occured\n",
      "could not broadcast input array from shape (72,) into shape (512,)\n",
      "Some exception occured\n",
      "could not broadcast input array from shape (72,) into shape (512,)\n",
      "Some exception occured\n",
      "could not broadcast input array from shape (72,) into shape (512,)\n",
      "Some exception occured\n",
      "could not broadcast input array from shape (71,) into shape (512,)\n",
      "Some exception occured\n",
      "could not broadcast input array from shape (72,) into shape (512,)\n",
      "Some exception occured\n",
      "could not broadcast input array from shape (72,) into shape (512,)\n",
      "Some exception occured\n",
      "could not broadcast input array from shape (72,) into shape (512,)\n",
      "Some exception occured\n"
     ]
    },
    {
     "name": "stderr",
     "output_type": "stream",
     "text": [
      "604it [00:04, 139.85it/s]"
     ]
    },
    {
     "name": "stdout",
     "output_type": "stream",
     "text": [
      "could not broadcast input array from shape (72,) into shape (512,)\n",
      "Some exception occured\n",
      "could not broadcast input array from shape (72,) into shape (512,)\n",
      "Some exception occured\n",
      "could not broadcast input array from shape (72,) into shape (512,)\n",
      "Some exception occured\n",
      "could not broadcast input array from shape (72,) into shape (512,)\n",
      "Some exception occured\n",
      "could not broadcast input array from shape (72,) into shape (512,)\n",
      "Some exception occured\n",
      "could not broadcast input array from shape (292,) into shape (512,)\n",
      "Some exception occured\n",
      "could not broadcast input array from shape (72,) into shape (512,)\n",
      "Some exception occured\n"
     ]
    },
    {
     "name": "stderr",
     "output_type": "stream",
     "text": [
      "\r",
      "619it [00:04, 130.04it/s]"
     ]
    },
    {
     "name": "stdout",
     "output_type": "stream",
     "text": [
      "could not broadcast input array from shape (474,) into shape (512,)\n",
      "Some exception occured\n",
      "could not broadcast input array from shape (429,) into shape (512,)\n",
      "Some exception occured\n",
      "could not broadcast input array from shape (182,) into shape (512,)\n",
      "Some exception occured\n",
      "could not broadcast input array from shape (72,) into shape (512,)\n",
      "Some exception occured\n"
     ]
    },
    {
     "name": "stderr",
     "output_type": "stream",
     "text": [
      "648it [00:04, 126.93it/s]"
     ]
    },
    {
     "name": "stdout",
     "output_type": "stream",
     "text": [
      "could not broadcast input array from shape (72,) into shape (512,)\n",
      "Some exception occured\n",
      "could not broadcast input array from shape (72,) into shape (512,)\n",
      "Some exception occured\n",
      "could not broadcast input array from shape (266,) into shape (512,)\n",
      "Some exception occured\n",
      "could not broadcast input array from shape (262,) into shape (512,)\n",
      "Some exception occured\n",
      "could not broadcast input array from shape (152,) into shape (512,)\n",
      "Some exception occured\n",
      "could not broadcast input array from shape (231,) into shape (512,)\n",
      "Some exception occured\n",
      "could not broadcast input array from shape (403,) into shape (512,)\n",
      "Some exception occured\n",
      "could not broadcast input array from shape (72,) into shape (512,)\n",
      "Some exception occured\n",
      "could not broadcast input array from shape (297,) into shape (512,)\n",
      "Some exception occured\n"
     ]
    },
    {
     "name": "stderr",
     "output_type": "stream",
     "text": [
      "675it [00:05, 122.43it/s]"
     ]
    },
    {
     "name": "stdout",
     "output_type": "stream",
     "text": [
      "could not broadcast input array from shape (248,) into shape (512,)\n",
      "Some exception occured\n",
      "could not broadcast input array from shape (328,) into shape (512,)\n",
      "Some exception occured\n",
      "could not broadcast input array from shape (72,) into shape (512,)\n",
      "Some exception occured\n",
      "could not broadcast input array from shape (208,) into shape (512,)\n",
      "Some exception occured\n",
      "could not broadcast input array from shape (72,) into shape (512,)\n",
      "Some exception occured\n",
      "could not broadcast input array from shape (72,) into shape (512,)\n",
      "Some exception occured\n",
      "could not broadcast input array from shape (402,) into shape (512,)\n",
      "Some exception occured\n",
      "could not broadcast input array from shape (72,) into shape (512,)\n",
      "Some exception occured\n",
      "could not broadcast input array from shape (274,) into shape (512,)\n",
      "Some exception occured\n",
      "could not broadcast input array from shape (72,) into shape (512,)\n",
      "Some exception occured\n"
     ]
    },
    {
     "name": "stderr",
     "output_type": "stream",
     "text": [
      "706it [00:05, 135.10it/s]"
     ]
    },
    {
     "name": "stdout",
     "output_type": "stream",
     "text": [
      "could not broadcast input array from shape (72,) into shape (512,)\n",
      "Some exception occured\n",
      "could not broadcast input array from shape (504,) into shape (512,)\n",
      "Some exception occured\n",
      "could not broadcast input array from shape (271,) into shape (512,)\n",
      "Some exception occured\n",
      "could not broadcast input array from shape (200,) into shape (512,)\n",
      "Some exception occured\n",
      "could not broadcast input array from shape (71,) into shape (512,)\n",
      "Some exception occured\n",
      "could not broadcast input array from shape (411,) into shape (512,)\n",
      "Some exception occured\n",
      "could not broadcast input array from shape (165,) into shape (512,)\n",
      "Some exception occured\n",
      "could not broadcast input array from shape (372,) into shape (512,)\n",
      "Some exception occured\n",
      "could not broadcast input array from shape (178,) into shape (512,)\n",
      "Some exception occured\n",
      "could not broadcast input array from shape (72,) into shape (512,)\n",
      "Some exception occured\n",
      "could not broadcast input array from shape (80,) into shape (512,)\n",
      "Some exception occured\n",
      "could not broadcast input array from shape (314,) into shape (512,)\n",
      "Some exception occured\n",
      "could not broadcast input array from shape (72,) into shape (512,)\n",
      "Some exception occured\n",
      "could not broadcast input array from shape (72,) into shape (512,)\n",
      "Some exception occured\n"
     ]
    },
    {
     "name": "stderr",
     "output_type": "stream",
     "text": [
      "734it [00:05, 132.58it/s]"
     ]
    },
    {
     "name": "stdout",
     "output_type": "stream",
     "text": [
      "could not broadcast input array from shape (248,) into shape (512,)\n",
      "Some exception occured\n",
      "could not broadcast input array from shape (72,) into shape (512,)\n",
      "Some exception occured\n",
      "could not broadcast input array from shape (72,) into shape (512,)\n",
      "Some exception occured\n",
      "could not broadcast input array from shape (72,) into shape (512,)\n",
      "Some exception occured\n",
      "could not broadcast input array from shape (72,) into shape (512,)\n",
      "Some exception occured\n",
      "could not broadcast input array from shape (402,) into shape (512,)\n",
      "Some exception occured\n",
      "could not broadcast input array from shape (72,) into shape (512,)\n",
      "Some exception occured\n",
      "could not broadcast input array from shape (403,) into shape (512,)\n",
      "Some exception occured\n",
      "could not broadcast input array from shape (72,) into shape (512,)\n",
      "Some exception occured\n",
      "could not broadcast input array from shape (125,) into shape (512,)\n",
      "Some exception occured\n"
     ]
    },
    {
     "name": "stderr",
     "output_type": "stream",
     "text": [
      "766it [00:05, 124.88it/s]"
     ]
    },
    {
     "name": "stdout",
     "output_type": "stream",
     "text": [
      "could not broadcast input array from shape (72,) into shape (512,)\n",
      "Some exception occured\n",
      "could not broadcast input array from shape (72,) into shape (512,)\n",
      "Some exception occured\n",
      "could not broadcast input array from shape (183,) into shape (512,)\n",
      "Some exception occured\n",
      "could not broadcast input array from shape (72,) into shape (512,)\n",
      "Some exception occured\n",
      "could not broadcast input array from shape (72,) into shape (512,)\n",
      "Some exception occured\n",
      "could not broadcast input array from shape (72,) into shape (512,)\n",
      "Some exception occured\n",
      "could not broadcast input array from shape (72,) into shape (512,)\n",
      "Some exception occured\n",
      "could not broadcast input array from shape (412,) into shape (512,)\n",
      "Some exception occured\n",
      "could not broadcast input array from shape (182,) into shape (512,)\n",
      "Some exception occured\n"
     ]
    },
    {
     "name": "stderr",
     "output_type": "stream",
     "text": [
      "794it [00:06, 129.42it/s]"
     ]
    },
    {
     "name": "stdout",
     "output_type": "stream",
     "text": [
      "could not broadcast input array from shape (72,) into shape (512,)\n",
      "Some exception occured\n",
      "'dis'\n",
      "Some exception occured\n",
      "could not broadcast input array from shape (72,) into shape (512,)\n",
      "Some exception occured\n",
      "could not broadcast input array from shape (292,) into shape (512,)\n",
      "Some exception occured\n",
      "could not broadcast input array from shape (72,) into shape (512,)\n",
      "Some exception occured\n",
      "could not broadcast input array from shape (182,) into shape (512,)\n",
      "Some exception occured\n",
      "could not broadcast input array from shape (182,) into shape (512,)\n",
      "Some exception occured\n",
      "could not broadcast input array from shape (447,) into shape (512,)\n",
      "Some exception occured\n",
      "could not broadcast input array from shape (72,) into shape (512,)\n",
      "Some exception occured\n",
      "could not broadcast input array from shape (72,) into shape (512,)\n",
      "Some exception occured\n"
     ]
    },
    {
     "name": "stderr",
     "output_type": "stream",
     "text": [
      "826it [00:06, 134.30it/s]"
     ]
    },
    {
     "name": "stdout",
     "output_type": "stream",
     "text": [
      "could not broadcast input array from shape (73,) into shape (512,)\n",
      "Some exception occured\n",
      "could not broadcast input array from shape (73,) into shape (512,)\n",
      "Some exception occured\n",
      "could not broadcast input array from shape (72,) into shape (512,)\n",
      "Some exception occured\n",
      "could not broadcast input array from shape (72,) into shape (512,)\n",
      "Some exception occured\n",
      "could not broadcast input array from shape (72,) into shape (512,)\n",
      "Some exception occured\n",
      "could not broadcast input array from shape (376,) into shape (512,)\n",
      "Some exception occured\n",
      "could not broadcast input array from shape (72,) into shape (512,)\n",
      "Some exception occured\n",
      "could not broadcast input array from shape (403,) into shape (512,)\n",
      "Some exception occured\n",
      "could not broadcast input array from shape (371,) into shape (512,)\n",
      "Some exception occured\n",
      "could not broadcast input array from shape (293,) into shape (512,)\n",
      "Some exception occured\n",
      "could not broadcast input array from shape (72,) into shape (512,)\n",
      "Some exception occured\n"
     ]
    },
    {
     "name": "stderr",
     "output_type": "stream",
     "text": [
      "\r",
      "843it [00:06, 139.62it/s]"
     ]
    },
    {
     "name": "stdout",
     "output_type": "stream",
     "text": [
      "could not broadcast input array from shape (72,) into shape (512,)\n",
      "Some exception occured\n",
      "could not broadcast input array from shape (482,) into shape (512,)\n",
      "Some exception occured\n",
      "could not broadcast input array from shape (73,) into shape (512,)\n",
      "Some exception occured\n",
      "could not broadcast input array from shape (72,) into shape (512,)\n",
      "Some exception occured\n",
      "could not broadcast input array from shape (253,) into shape (512,)\n",
      "Some exception occured\n",
      "could not broadcast input array from shape (165,) into shape (512,)\n",
      "Some exception occured\n",
      "could not broadcast input array from shape (71,) into shape (512,)\n",
      "Some exception occured\n",
      "could not broadcast input array from shape (328,) into shape (512,)\n",
      "Some exception occured\n"
     ]
    },
    {
     "name": "stderr",
     "output_type": "stream",
     "text": [
      "879it [00:06, 145.46it/s]"
     ]
    },
    {
     "name": "stdout",
     "output_type": "stream",
     "text": [
      "could not broadcast input array from shape (486,) into shape (512,)\n",
      "Some exception occured\n",
      "could not broadcast input array from shape (183,) into shape (512,)\n",
      "Some exception occured\n",
      "could not broadcast input array from shape (403,) into shape (512,)\n",
      "Some exception occured\n",
      "could not broadcast input array from shape (292,) into shape (512,)\n",
      "Some exception occured\n",
      "could not broadcast input array from shape (72,) into shape (512,)\n",
      "Some exception occured\n",
      "could not broadcast input array from shape (72,) into shape (512,)\n",
      "Some exception occured\n",
      "could not broadcast input array from shape (72,) into shape (512,)\n",
      "Some exception occured\n",
      "could not broadcast input array from shape (72,) into shape (512,)\n",
      "Some exception occured\n",
      "could not broadcast input array from shape (72,) into shape (512,)\n",
      "Some exception occured\n",
      "could not broadcast input array from shape (72,) into shape (512,)\n",
      "Some exception occured\n",
      "could not broadcast input array from shape (72,) into shape (512,)\n",
      "Some exception occured\n",
      "could not broadcast input array from shape (293,) into shape (512,)\n",
      "Some exception occured\n",
      "could not broadcast input array from shape (72,) into shape (512,)\n",
      "Some exception occured\n",
      "could not broadcast input array from shape (72,) into shape (512,)\n",
      "Some exception occured\n",
      "could not broadcast input array from shape (72,) into shape (512,)\n",
      "Some exception occured\n",
      "could not broadcast input array from shape (182,) into shape (512,)\n",
      "Some exception occured\n"
     ]
    },
    {
     "name": "stderr",
     "output_type": "stream",
     "text": [
      "918it [00:06, 162.74it/s]"
     ]
    },
    {
     "name": "stdout",
     "output_type": "stream",
     "text": [
      "could not broadcast input array from shape (183,) into shape (512,)\n",
      "Some exception occured\n",
      "could not broadcast input array from shape (71,) into shape (512,)\n",
      "Some exception occured\n",
      "could not broadcast input array from shape (403,) into shape (512,)\n",
      "Some exception occured\n",
      "could not broadcast input array from shape (72,) into shape (512,)\n",
      "Some exception occured\n",
      "could not broadcast input array from shape (72,) into shape (512,)\n",
      "Some exception occured\n",
      "could not broadcast input array from shape (72,) into shape (512,)\n",
      "Some exception occured\n",
      "could not broadcast input array from shape (72,) into shape (512,)\n",
      "Some exception occured\n",
      "could not broadcast input array from shape (72,) into shape (512,)\n",
      "Some exception occured\n",
      "could not broadcast input array from shape (72,) into shape (512,)\n",
      "Some exception occured\n",
      "could not broadcast input array from shape (72,) into shape (512,)\n",
      "Some exception occured\n",
      "could not broadcast input array from shape (72,) into shape (512,)\n",
      "Some exception occured\n",
      "could not broadcast input array from shape (72,) into shape (512,)\n",
      "Some exception occured\n",
      "could not broadcast input array from shape (72,) into shape (512,)\n",
      "Some exception occured\n",
      "could not broadcast input array from shape (72,) into shape (512,)\n",
      "Some exception occured\n",
      "could not broadcast input array from shape (72,) into shape (512,)\n",
      "Some exception occured\n",
      "could not broadcast input array from shape (72,) into shape (512,)\n",
      "Some exception occured\n",
      "could not broadcast input array from shape (183,) into shape (512,)\n",
      "Some exception occured\n",
      "could not broadcast input array from shape (72,) into shape (512,)\n",
      "Some exception occured\n"
     ]
    },
    {
     "name": "stderr",
     "output_type": "stream",
     "text": [
      "953it [00:07, 165.19it/s]"
     ]
    },
    {
     "name": "stdout",
     "output_type": "stream",
     "text": [
      "could not broadcast input array from shape (72,) into shape (512,)\n",
      "Some exception occured\n",
      "could not broadcast input array from shape (72,) into shape (512,)\n",
      "Some exception occured\n",
      "could not broadcast input array from shape (72,) into shape (512,)\n",
      "Some exception occured\n",
      "could not broadcast input array from shape (182,) into shape (512,)\n",
      "Some exception occured\n",
      "could not broadcast input array from shape (72,) into shape (512,)\n",
      "Some exception occured\n",
      "could not broadcast input array from shape (292,) into shape (512,)\n",
      "Some exception occured\n",
      "could not broadcast input array from shape (402,) into shape (512,)\n",
      "Some exception occured\n",
      "could not broadcast input array from shape (438,) into shape (512,)\n",
      "Some exception occured\n",
      "could not broadcast input array from shape (73,) into shape (512,)\n",
      "Some exception occured\n",
      "could not broadcast input array from shape (72,) into shape (512,)\n",
      "Some exception occured\n",
      "could not broadcast input array from shape (183,) into shape (512,)\n",
      "Some exception occured\n",
      "could not broadcast input array from shape (293,) into shape (512,)\n",
      "Some exception occured\n",
      "could not broadcast input array from shape (292,) into shape (512,)\n",
      "Some exception occured\n",
      "could not broadcast input array from shape (72,) into shape (512,)\n",
      "Some exception occured\n"
     ]
    },
    {
     "name": "stderr",
     "output_type": "stream",
     "text": [
      "\r",
      "970it [00:07, 163.91it/s]"
     ]
    },
    {
     "name": "stdout",
     "output_type": "stream",
     "text": [
      "could not broadcast input array from shape (403,) into shape (512,)\n",
      "Some exception occured\n",
      "could not broadcast input array from shape (72,) into shape (512,)\n",
      "Some exception occured\n",
      "could not broadcast input array from shape (182,) into shape (512,)\n",
      "Some exception occured\n",
      "could not broadcast input array from shape (72,) into shape (512,)\n",
      "Some exception occured\n",
      "could not broadcast input array from shape (72,) into shape (512,)\n",
      "Some exception occured\n",
      "could not broadcast input array from shape (183,) into shape (512,)\n",
      "Some exception occured\n",
      "could not broadcast input array from shape (72,) into shape (512,)\n",
      "Some exception occured\n",
      "could not broadcast input array from shape (72,) into shape (512,)\n",
      "Some exception occured\n",
      "could not broadcast input array from shape (72,) into shape (512,)\n",
      "Some exception occured\n",
      "could not broadcast input array from shape (72,) into shape (512,)\n",
      "Some exception occured\n",
      "could not broadcast input array from shape (73,) into shape (512,)\n",
      "Some exception occured\n",
      "could not broadcast input array from shape (73,) into shape (512,)\n",
      "Some exception occured\n",
      "could not broadcast input array from shape (371,) into shape (512,)\n",
      "Some exception occured\n",
      "could not broadcast input array from shape (182,) into shape (512,)\n",
      "Some exception occured\n",
      "could not broadcast input array from shape (402,) into shape (512,)\n",
      "Some exception occured\n"
     ]
    },
    {
     "name": "stderr",
     "output_type": "stream",
     "text": [
      "1004it [00:07, 153.63it/s]"
     ]
    },
    {
     "name": "stdout",
     "output_type": "stream",
     "text": [
      "could not broadcast input array from shape (72,) into shape (512,)\n",
      "Some exception occured\n",
      "could not broadcast input array from shape (72,) into shape (512,)\n",
      "Some exception occured\n",
      "could not broadcast input array from shape (72,) into shape (512,)\n",
      "Some exception occured\n",
      "could not broadcast input array from shape (72,) into shape (512,)\n",
      "Some exception occured\n",
      "could not broadcast input array from shape (72,) into shape (512,)\n",
      "Some exception occured\n",
      "could not broadcast input array from shape (402,) into shape (512,)\n",
      "Some exception occured\n",
      "could not broadcast input array from shape (71,) into shape (512,)\n",
      "Some exception occured\n",
      "could not broadcast input array from shape (73,) into shape (512,)\n",
      "Some exception occured\n",
      "could not broadcast input array from shape (293,) into shape (512,)\n",
      "Some exception occured\n"
     ]
    },
    {
     "name": "stderr",
     "output_type": "stream",
     "text": [
      "1036it [00:07, 149.96it/s]"
     ]
    },
    {
     "name": "stdout",
     "output_type": "stream",
     "text": [
      "could not broadcast input array from shape (72,) into shape (512,)\n",
      "Some exception occured\n",
      "could not broadcast input array from shape (71,) into shape (512,)\n",
      "Some exception occured\n",
      "could not broadcast input array from shape (72,) into shape (512,)\n",
      "Some exception occured\n",
      "could not broadcast input array from shape (183,) into shape (512,)\n",
      "Some exception occured\n",
      "could not broadcast input array from shape (72,) into shape (512,)\n",
      "Some exception occured\n",
      "could not broadcast input array from shape (72,) into shape (512,)\n",
      "Some exception occured\n",
      "could not broadcast input array from shape (72,) into shape (512,)\n",
      "Some exception occured\n",
      "could not broadcast input array from shape (72,) into shape (512,)\n",
      "Some exception occured\n",
      "could not broadcast input array from shape (487,) into shape (512,)\n",
      "Some exception occured\n",
      "could not broadcast input array from shape (204,) into shape (512,)\n",
      "Some exception occured\n",
      "could not broadcast input array from shape (248,) into shape (512,)\n",
      "Some exception occured\n",
      "could not broadcast input array from shape (72,) into shape (512,)\n",
      "Some exception occured\n",
      "could not broadcast input array from shape (98,) into shape (512,)\n",
      "Some exception occured\n",
      "could not broadcast input array from shape (72,) into shape (512,)\n",
      "Some exception occured\n"
     ]
    },
    {
     "name": "stderr",
     "output_type": "stream",
     "text": [
      "1067it [00:07, 146.11it/s]"
     ]
    },
    {
     "name": "stdout",
     "output_type": "stream",
     "text": [
      "could not broadcast input array from shape (72,) into shape (512,)\n",
      "Some exception occured\n",
      "could not broadcast input array from shape (72,) into shape (512,)\n",
      "Some exception occured\n",
      "could not broadcast input array from shape (72,) into shape (512,)\n",
      "Some exception occured\n",
      "could not broadcast input array from shape (72,) into shape (512,)\n",
      "Some exception occured\n",
      "could not broadcast input array from shape (73,) into shape (512,)\n",
      "Some exception occured\n",
      "could not broadcast input array from shape (447,) into shape (512,)\n",
      "Some exception occured\n",
      "could not broadcast input array from shape (183,) into shape (512,)\n",
      "Some exception occured\n",
      "could not broadcast input array from shape (469,) into shape (512,)\n",
      "Some exception occured\n",
      "could not broadcast input array from shape (230,) into shape (512,)\n",
      "Some exception occured\n",
      "could not broadcast input array from shape (72,) into shape (512,)\n",
      "Some exception occured\n",
      "could not broadcast input array from shape (72,) into shape (512,)\n",
      "Some exception occured\n",
      "could not broadcast input array from shape (72,) into shape (512,)\n",
      "Some exception occured\n",
      "could not broadcast input array from shape (72,) into shape (512,)\n",
      "Some exception occured\n",
      "could not broadcast input array from shape (72,) into shape (512,)\n",
      "Some exception occured\n",
      "could not broadcast input array from shape (72,) into shape (512,)\n",
      "Some exception occured\n"
     ]
    },
    {
     "name": "stderr",
     "output_type": "stream",
     "text": [
      "1110it [00:08, 177.72it/s]"
     ]
    },
    {
     "name": "stdout",
     "output_type": "stream",
     "text": [
      "could not broadcast input array from shape (72,) into shape (512,)\n",
      "Some exception occured\n",
      "could not broadcast input array from shape (73,) into shape (512,)\n",
      "Some exception occured\n",
      "could not broadcast input array from shape (402,) into shape (512,)\n",
      "Some exception occured\n",
      "could not broadcast input array from shape (402,) into shape (512,)\n",
      "Some exception occured\n",
      "could not broadcast input array from shape (130,) into shape (512,)\n",
      "Some exception occured\n",
      "could not broadcast input array from shape (72,) into shape (512,)\n",
      "Some exception occured\n",
      "could not broadcast input array from shape (72,) into shape (512,)\n",
      "Some exception occured\n",
      "could not broadcast input array from shape (72,) into shape (512,)\n",
      "Some exception occured\n",
      "could not broadcast input array from shape (403,) into shape (512,)\n",
      "Some exception occured\n",
      "could not broadcast input array from shape (403,) into shape (512,)\n",
      "Some exception occured\n",
      "could not broadcast input array from shape (71,) into shape (512,)\n",
      "Some exception occured\n",
      "could not broadcast input array from shape (72,) into shape (512,)\n",
      "Some exception occured\n",
      "could not broadcast input array from shape (182,) into shape (512,)\n",
      "Some exception occured\n",
      "could not broadcast input array from shape (72,) into shape (512,)\n",
      "Some exception occured\n",
      "could not broadcast input array from shape (183,) into shape (512,)\n",
      "Some exception occured\n",
      "could not broadcast input array from shape (72,) into shape (512,)\n",
      "Some exception occured\n",
      "could not broadcast input array from shape (72,) into shape (512,)\n",
      "Some exception occured\n",
      "could not broadcast input array from shape (72,) into shape (512,)\n",
      "Some exception occured\n",
      "could not broadcast input array from shape (72,) into shape (512,)\n",
      "Some exception occured\n",
      "could not broadcast input array from shape (403,) into shape (512,)\n",
      "Some exception occured\n",
      "could not broadcast input array from shape (72,) into shape (512,)\n",
      "Some exception occured\n",
      "could not broadcast input array from shape (72,) into shape (512,)\n",
      "Some exception occured\n",
      "could not broadcast input array from shape (72,) into shape (512,)\n",
      "Some exception occured\n",
      "could not broadcast input array from shape (72,) into shape (512,)\n",
      "Some exception occured\n",
      "could not broadcast input array from shape (72,) into shape (512,)\n",
      "Some exception occured\n",
      "could not broadcast input array from shape (72,) into shape (512,)\n",
      "Some exception occured\n",
      "could not broadcast input array from shape (72,) into shape (512,)\n",
      "Some exception occured\n",
      "could not broadcast input array from shape (72,) into shape (512,)\n",
      "Some exception occured\n",
      "could not broadcast input array from shape (72,) into shape (512,)\n",
      "Some exception occured\n"
     ]
    },
    {
     "name": "stderr",
     "output_type": "stream",
     "text": [
      "1145it [00:08, 147.57it/s]"
     ]
    },
    {
     "name": "stdout",
     "output_type": "stream",
     "text": [
      "could not broadcast input array from shape (72,) into shape (512,)\n",
      "Some exception occured\n",
      "could not broadcast input array from shape (72,) into shape (512,)\n",
      "Some exception occured\n",
      "could not broadcast input array from shape (183,) into shape (512,)\n",
      "Some exception occured\n",
      "could not broadcast input array from shape (72,) into shape (512,)\n",
      "Some exception occured\n",
      "could not broadcast input array from shape (72,) into shape (512,)\n",
      "Some exception occured\n",
      "could not broadcast input array from shape (125,) into shape (512,)\n",
      "Some exception occured\n",
      "could not broadcast input array from shape (402,) into shape (512,)\n",
      "Some exception occured\n"
     ]
    },
    {
     "name": "stderr",
     "output_type": "stream",
     "text": [
      "\r",
      "1179it [00:08, 193.65it/s]"
     ]
    },
    {
     "name": "stdout",
     "output_type": "stream",
     "text": [
      "could not broadcast input array from shape (403,) into shape (512,)\n",
      "Some exception occured\n",
      "could not broadcast input array from shape (271,) into shape (512,)\n",
      "Some exception occured\n",
      "could not broadcast input array from shape (72,) into shape (512,)\n",
      "Some exception occured\n",
      "could not broadcast input array from shape (72,) into shape (512,)\n",
      "Some exception occured\n",
      "could not broadcast input array from shape (205,) into shape (512,)\n",
      "Some exception occured\n",
      "could not broadcast input array from shape (310,) into shape (512,)\n",
      "Some exception occured\n",
      "could not broadcast input array from shape (443,) into shape (512,)\n",
      "Some exception occured\n",
      "could not broadcast input array from shape (240,) into shape (512,)\n",
      "Some exception occured\n",
      "could not broadcast input array from shape (72,) into shape (512,)\n",
      "Some exception occured\n",
      "could not broadcast input array from shape (72,) into shape (512,)\n",
      "Some exception occured\n",
      "could not broadcast input array from shape (182,) into shape (512,)\n",
      "Some exception occured\n",
      "could not broadcast input array from shape (72,) into shape (512,)\n",
      "Some exception occured\n",
      "could not broadcast input array from shape (182,) into shape (512,)\n",
      "Some exception occured\n",
      "could not broadcast input array from shape (403,) into shape (512,)\n",
      "Some exception occured\n",
      "could not broadcast input array from shape (72,) into shape (512,)\n",
      "Some exception occured\n",
      "could not broadcast input array from shape (293,) into shape (512,)\n",
      "Some exception occured\n",
      "could not broadcast input array from shape (72,) into shape (512,)\n",
      "Some exception occured\n",
      "could not broadcast input array from shape (279,) into shape (512,)\n",
      "Some exception occured\n",
      "could not broadcast input array from shape (72,) into shape (512,)\n",
      "Some exception occured\n",
      "could not broadcast input array from shape (72,) into shape (512,)\n",
      "Some exception occured\n",
      "could not broadcast input array from shape (178,) into shape (512,)\n",
      "Some exception occured\n",
      "could not broadcast input array from shape (385,) into shape (512,)\n",
      "Some exception occured\n",
      "could not broadcast input array from shape (134,) into shape (512,)\n",
      "Some exception occured\n",
      "could not broadcast input array from shape (72,) into shape (512,)\n",
      "Some exception occured\n"
     ]
    },
    {
     "name": "stderr",
     "output_type": "stream",
     "text": [
      "1218it [00:08, 168.74it/s]"
     ]
    },
    {
     "name": "stdout",
     "output_type": "stream",
     "text": [
      "could not broadcast input array from shape (386,) into shape (512,)\n",
      "Some exception occured\n",
      "could not broadcast input array from shape (183,) into shape (512,)\n",
      "Some exception occured\n",
      "could not broadcast input array from shape (72,) into shape (512,)\n",
      "Some exception occured\n",
      "could not broadcast input array from shape (72,) into shape (512,)\n",
      "Some exception occured\n",
      "could not broadcast input array from shape (72,) into shape (512,)\n",
      "Some exception occured\n",
      "could not broadcast input array from shape (192,) into shape (512,)\n",
      "Some exception occured\n",
      "could not broadcast input array from shape (72,) into shape (512,)\n",
      "Some exception occured\n",
      "could not broadcast input array from shape (164,) into shape (512,)\n",
      "Some exception occured\n",
      "could not broadcast input array from shape (72,) into shape (512,)\n",
      "Some exception occured\n",
      "could not broadcast input array from shape (72,) into shape (512,)\n",
      "Some exception occured\n",
      "could not broadcast input array from shape (72,) into shape (512,)\n",
      "Some exception occured\n",
      "could not broadcast input array from shape (72,) into shape (512,)\n",
      "Some exception occured\n",
      "could not broadcast input array from shape (72,) into shape (512,)\n",
      "Some exception occured\n",
      "could not broadcast input array from shape (72,) into shape (512,)\n",
      "Some exception occured\n",
      "could not broadcast input array from shape (72,) into shape (512,)\n",
      "Some exception occured\n",
      "could not broadcast input array from shape (72,) into shape (512,)\n",
      "Some exception occured\n"
     ]
    },
    {
     "name": "stderr",
     "output_type": "stream",
     "text": [
      "1252it [00:08, 143.75it/s]"
     ]
    },
    {
     "name": "stdout",
     "output_type": "stream",
     "text": [
      "could not broadcast input array from shape (292,) into shape (512,)\n",
      "Some exception occured\n",
      "could not broadcast input array from shape (72,) into shape (512,)\n",
      "Some exception occured\n",
      "could not broadcast input array from shape (292,) into shape (512,)\n",
      "Some exception occured\n",
      "could not broadcast input array from shape (71,) into shape (512,)\n",
      "Some exception occured\n",
      "could not broadcast input array from shape (72,) into shape (512,)\n",
      "Some exception occured\n",
      "could not broadcast input array from shape (402,) into shape (512,)\n",
      "Some exception occured\n",
      "could not broadcast input array from shape (72,) into shape (512,)\n",
      "Some exception occured\n",
      "could not broadcast input array from shape (72,) into shape (512,)\n",
      "Some exception occured\n"
     ]
    },
    {
     "name": "stderr",
     "output_type": "stream",
     "text": [
      "\r",
      "1267it [00:09, 132.68it/s]"
     ]
    },
    {
     "name": "stdout",
     "output_type": "stream",
     "text": [
      "could not broadcast input array from shape (72,) into shape (512,)\n",
      "Some exception occured\n",
      "could not broadcast input array from shape (73,) into shape (512,)\n",
      "Some exception occured\n",
      "could not broadcast input array from shape (72,) into shape (512,)\n",
      "Some exception occured\n",
      "could not broadcast input array from shape (182,) into shape (512,)\n",
      "Some exception occured\n",
      "could not broadcast input array from shape (183,) into shape (512,)\n",
      "Some exception occured\n",
      "could not broadcast input array from shape (182,) into shape (512,)\n",
      "Some exception occured\n",
      "could not broadcast input array from shape (72,) into shape (512,)\n",
      "Some exception occured\n",
      "could not broadcast input array from shape (72,) into shape (512,)\n",
      "Some exception occured\n",
      "could not broadcast input array from shape (72,) into shape (512,)\n",
      "Some exception occured\n",
      "could not broadcast input array from shape (72,) into shape (512,)\n",
      "Some exception occured\n"
     ]
    },
    {
     "name": "stderr",
     "output_type": "stream",
     "text": [
      "1299it [00:09, 139.17it/s]"
     ]
    },
    {
     "name": "stdout",
     "output_type": "stream",
     "text": [
      "could not broadcast input array from shape (429,) into shape (512,)\n",
      "Some exception occured\n",
      "could not broadcast input array from shape (218,) into shape (512,)\n",
      "Some exception occured\n",
      "could not broadcast input array from shape (213,) into shape (512,)\n",
      "Some exception occured\n",
      "could not broadcast input array from shape (72,) into shape (512,)\n",
      "Some exception occured\n",
      "could not broadcast input array from shape (487,) into shape (512,)\n",
      "Some exception occured\n",
      "could not broadcast input array from shape (81,) into shape (512,)\n",
      "Some exception occured\n",
      "could not broadcast input array from shape (402,) into shape (512,)\n",
      "Some exception occured\n",
      "could not broadcast input array from shape (293,) into shape (512,)\n",
      "Some exception occured\n"
     ]
    },
    {
     "name": "stderr",
     "output_type": "stream",
     "text": [
      "1327it [00:09, 121.88it/s]"
     ]
    },
    {
     "name": "stdout",
     "output_type": "stream",
     "text": [
      "could not broadcast input array from shape (292,) into shape (512,)\n",
      "Some exception occured\n",
      "could not broadcast input array from shape (72,) into shape (512,)\n",
      "Some exception occured\n",
      "could not broadcast input array from shape (182,) into shape (512,)\n",
      "Some exception occured\n",
      "could not broadcast input array from shape (72,) into shape (512,)\n",
      "Some exception occured\n",
      "could not broadcast input array from shape (355,) into shape (512,)\n",
      "Some exception occured\n",
      "could not broadcast input array from shape (337,) into shape (512,)\n",
      "Some exception occured\n",
      "could not broadcast input array from shape (72,) into shape (512,)\n",
      "Some exception occured\n"
     ]
    },
    {
     "name": "stderr",
     "output_type": "stream",
     "text": [
      "1355it [00:09, 128.63it/s]"
     ]
    },
    {
     "name": "stdout",
     "output_type": "stream",
     "text": [
      "could not broadcast input array from shape (293,) into shape (512,)\n",
      "Some exception occured\n",
      "could not broadcast input array from shape (72,) into shape (512,)\n",
      "Some exception occured\n",
      "could not broadcast input array from shape (72,) into shape (512,)\n",
      "Some exception occured\n",
      "could not broadcast input array from shape (72,) into shape (512,)\n",
      "Some exception occured\n",
      "could not broadcast input array from shape (182,) into shape (512,)\n",
      "Some exception occured\n",
      "could not broadcast input array from shape (72,) into shape (512,)\n",
      "Some exception occured\n",
      "could not broadcast input array from shape (442,) into shape (512,)\n",
      "Some exception occured\n",
      "could not broadcast input array from shape (469,) into shape (512,)\n",
      "Some exception occured\n",
      "could not broadcast input array from shape (72,) into shape (512,)\n",
      "Some exception occured\n",
      "could not broadcast input array from shape (72,) into shape (512,)\n",
      "Some exception occured\n",
      "could not broadcast input array from shape (72,) into shape (512,)\n",
      "Some exception occured\n",
      "could not broadcast input array from shape (182,) into shape (512,)\n",
      "Some exception occured\n",
      "could not broadcast input array from shape (72,) into shape (512,)\n",
      "Some exception occured\n",
      "could not broadcast input array from shape (235,) into shape (512,)\n",
      "Some exception occured\n",
      "could not broadcast input array from shape (182,) into shape (512,)\n",
      "Some exception occured\n",
      "could not broadcast input array from shape (71,) into shape (512,)\n",
      "Some exception occured\n"
     ]
    },
    {
     "name": "stderr",
     "output_type": "stream",
     "text": [
      "1404it [00:10, 142.71it/s]"
     ]
    },
    {
     "name": "stdout",
     "output_type": "stream",
     "text": [
      "could not broadcast input array from shape (72,) into shape (512,)\n",
      "Some exception occured\n",
      "could not broadcast input array from shape (72,) into shape (512,)\n",
      "Some exception occured\n",
      "could not broadcast input array from shape (72,) into shape (512,)\n",
      "Some exception occured\n",
      "could not broadcast input array from shape (72,) into shape (512,)\n",
      "Some exception occured\n",
      "could not broadcast input array from shape (72,) into shape (512,)\n",
      "Some exception occured\n",
      "could not broadcast input array from shape (182,) into shape (512,)\n",
      "Some exception occured\n",
      "could not broadcast input array from shape (477,) into shape (512,)\n",
      "Some exception occured\n",
      "could not broadcast input array from shape (72,) into shape (512,)\n",
      "Some exception occured\n",
      "could not broadcast input array from shape (72,) into shape (512,)\n",
      "Some exception occured\n",
      "could not broadcast input array from shape (73,) into shape (512,)\n",
      "Some exception occured\n"
     ]
    },
    {
     "name": "stderr",
     "output_type": "stream",
     "text": [
      "1433it [00:10, 137.96it/s]"
     ]
    },
    {
     "name": "stdout",
     "output_type": "stream",
     "text": [
      "could not broadcast input array from shape (403,) into shape (512,)\n",
      "Some exception occured\n",
      "could not broadcast input array from shape (72,) into shape (512,)\n",
      "Some exception occured\n",
      "could not broadcast input array from shape (173,) into shape (512,)\n",
      "Some exception occured\n",
      "could not broadcast input array from shape (72,) into shape (512,)\n",
      "Some exception occured\n",
      "could not broadcast input array from shape (71,) into shape (512,)\n",
      "Some exception occured\n",
      "could not broadcast input array from shape (292,) into shape (512,)\n",
      "Some exception occured\n",
      "could not broadcast input array from shape (508,) into shape (512,)\n",
      "Some exception occured\n",
      "could not broadcast input array from shape (292,) into shape (512,)\n",
      "Some exception occured\n",
      "could not broadcast input array from shape (117,) into shape (512,)\n",
      "Some exception occured\n",
      "could not broadcast input array from shape (389,) into shape (512,)\n",
      "Some exception occured\n"
     ]
    },
    {
     "name": "stderr",
     "output_type": "stream",
     "text": [
      "1460it [00:10, 126.93it/s]"
     ]
    },
    {
     "name": "stdout",
     "output_type": "stream",
     "text": [
      "could not broadcast input array from shape (424,) into shape (512,)\n",
      "Some exception occured\n",
      "could not broadcast input array from shape (152,) into shape (512,)\n",
      "Some exception occured\n",
      "could not broadcast input array from shape (72,) into shape (512,)\n",
      "Some exception occured\n",
      "could not broadcast input array from shape (72,) into shape (512,)\n",
      "Some exception occured\n",
      "could not broadcast input array from shape (333,) into shape (512,)\n",
      "Some exception occured\n",
      "could not broadcast input array from shape (72,) into shape (512,)\n",
      "Some exception occured\n",
      "could not broadcast input array from shape (71,) into shape (512,)\n",
      "Some exception occured\n"
     ]
    },
    {
     "name": "stderr",
     "output_type": "stream",
     "text": [
      "1500it [00:10, 147.66it/s]"
     ]
    },
    {
     "name": "stdout",
     "output_type": "stream",
     "text": [
      "could not broadcast input array from shape (72,) into shape (512,)\n",
      "Some exception occured\n",
      "could not broadcast input array from shape (386,) into shape (512,)\n",
      "Some exception occured\n",
      "could not broadcast input array from shape (71,) into shape (512,)\n",
      "Some exception occured\n",
      "could not broadcast input array from shape (72,) into shape (512,)\n",
      "Some exception occured\n",
      "could not broadcast input array from shape (72,) into shape (512,)\n",
      "Some exception occured\n",
      "could not broadcast input array from shape (71,) into shape (512,)\n",
      "Some exception occured\n",
      "could not broadcast input array from shape (226,) into shape (512,)\n",
      "Some exception occured\n",
      "could not broadcast input array from shape (72,) into shape (512,)\n",
      "Some exception occured\n",
      "could not broadcast input array from shape (293,) into shape (512,)\n",
      "Some exception occured\n",
      "could not broadcast input array from shape (72,) into shape (512,)\n",
      "Some exception occured\n",
      "could not broadcast input array from shape (186,) into shape (512,)\n",
      "Some exception occured\n",
      "could not broadcast input array from shape (292,) into shape (512,)\n",
      "Some exception occured\n",
      "could not broadcast input array from shape (134,) into shape (512,)\n",
      "Some exception occured\n",
      "could not broadcast input array from shape (72,) into shape (512,)\n",
      "Some exception occured\n",
      "could not broadcast input array from shape (72,) into shape (512,)\n",
      "Some exception occured\n",
      "could not broadcast input array from shape (72,) into shape (512,)\n",
      "Some exception occured\n",
      "could not broadcast input array from shape (124,) into shape (512,)\n",
      "Some exception occured\n",
      "could not broadcast input array from shape (226,) into shape (512,)\n",
      "Some exception occured\n",
      "could not broadcast input array from shape (72,) into shape (512,)\n",
      "Some exception occured\n",
      "could not broadcast input array from shape (72,) into shape (512,)\n",
      "Some exception occured\n",
      "could not broadcast input array from shape (71,) into shape (512,)\n",
      "Some exception occured\n"
     ]
    },
    {
     "name": "stderr",
     "output_type": "stream",
     "text": [
      "\r",
      "1516it [00:11, 125.37it/s]"
     ]
    },
    {
     "name": "stdout",
     "output_type": "stream",
     "text": [
      "could not broadcast input array from shape (72,) into shape (512,)\n",
      "Some exception occured\n",
      "could not broadcast input array from shape (72,) into shape (512,)\n",
      "Some exception occured\n",
      "could not broadcast input array from shape (170,) into shape (512,)\n",
      "Some exception occured\n",
      "could not broadcast input array from shape (402,) into shape (512,)\n",
      "Some exception occured\n",
      "could not broadcast input array from shape (182,) into shape (512,)\n",
      "Some exception occured\n",
      "could not broadcast input array from shape (182,) into shape (512,)\n",
      "Some exception occured\n",
      "could not broadcast input array from shape (72,) into shape (512,)\n",
      "Some exception occured\n",
      "could not broadcast input array from shape (72,) into shape (512,)\n",
      "Some exception occured\n"
     ]
    },
    {
     "name": "stderr",
     "output_type": "stream",
     "text": [
      "1546it [00:11, 122.95it/s]"
     ]
    },
    {
     "name": "stdout",
     "output_type": "stream",
     "text": [
      "could not broadcast input array from shape (402,) into shape (512,)\n",
      "Some exception occured\n",
      "could not broadcast input array from shape (218,) into shape (512,)\n",
      "Some exception occured\n",
      "could not broadcast input array from shape (354,) into shape (512,)\n",
      "Some exception occured\n",
      "could not broadcast input array from shape (389,) into shape (512,)\n",
      "Some exception occured\n",
      "could not broadcast input array from shape (72,) into shape (512,)\n",
      "Some exception occured\n",
      "could not broadcast input array from shape (72,) into shape (512,)\n",
      "Some exception occured\n",
      "could not broadcast input array from shape (72,) into shape (512,)\n",
      "Some exception occured\n"
     ]
    },
    {
     "name": "stderr",
     "output_type": "stream",
     "text": [
      "1586it [00:11, 117.94it/s]"
     ]
    },
    {
     "name": "stdout",
     "output_type": "stream",
     "text": [
      "could not broadcast input array from shape (103,) into shape (512,)\n",
      "Some exception occured\n",
      "could not broadcast input array from shape (124,) into shape (512,)\n",
      "Some exception occured\n",
      "could not broadcast input array from shape (183,) into shape (512,)\n",
      "Some exception occured\n",
      "could not broadcast input array from shape (71,) into shape (512,)\n",
      "Some exception occured\n",
      "could not broadcast input array from shape (73,) into shape (512,)\n",
      "Some exception occured\n",
      "could not broadcast input array from shape (72,) into shape (512,)\n",
      "Some exception occured\n",
      "could not broadcast input array from shape (155,) into shape (512,)\n",
      "Some exception occured\n"
     ]
    },
    {
     "name": "stderr",
     "output_type": "stream",
     "text": [
      "1613it [00:11, 118.35it/s]"
     ]
    },
    {
     "name": "stdout",
     "output_type": "stream",
     "text": [
      "could not broadcast input array from shape (121,) into shape (512,)\n",
      "Some exception occured\n",
      "could not broadcast input array from shape (293,) into shape (512,)\n",
      "Some exception occured\n",
      "could not broadcast input array from shape (72,) into shape (512,)\n",
      "Some exception occured\n",
      "could not broadcast input array from shape (293,) into shape (512,)\n",
      "Some exception occured\n",
      "could not broadcast input array from shape (72,) into shape (512,)\n",
      "Some exception occured\n",
      "could not broadcast input array from shape (416,) into shape (512,)\n",
      "Some exception occured\n",
      "could not broadcast input array from shape (292,) into shape (512,)\n",
      "Some exception occured\n",
      "could not broadcast input array from shape (94,) into shape (512,)\n",
      "Some exception occured\n"
     ]
    },
    {
     "name": "stderr",
     "output_type": "stream",
     "text": [
      "1637it [00:12, 117.59it/s]"
     ]
    },
    {
     "name": "stdout",
     "output_type": "stream",
     "text": [
      "could not broadcast input array from shape (72,) into shape (512,)\n",
      "Some exception occured\n",
      "could not broadcast input array from shape (257,) into shape (512,)\n",
      "Some exception occured\n",
      "could not broadcast input array from shape (72,) into shape (512,)\n",
      "Some exception occured\n",
      "could not broadcast input array from shape (429,) into shape (512,)\n",
      "Some exception occured\n",
      "could not broadcast input array from shape (293,) into shape (512,)\n",
      "Some exception occured\n",
      "could not broadcast input array from shape (293,) into shape (512,)\n",
      "Some exception occured\n",
      "could not broadcast input array from shape (81,) into shape (512,)\n",
      "Some exception occured\n",
      "could not broadcast input array from shape (183,) into shape (512,)\n",
      "Some exception occured\n"
     ]
    },
    {
     "name": "stderr",
     "output_type": "stream",
     "text": [
      "1668it [00:12, 132.26it/s]"
     ]
    },
    {
     "name": "stdout",
     "output_type": "stream",
     "text": [
      "could not broadcast input array from shape (253,) into shape (512,)\n",
      "Some exception occured\n",
      "could not broadcast input array from shape (218,) into shape (512,)\n",
      "Some exception occured\n",
      "could not broadcast input array from shape (301,) into shape (512,)\n",
      "Some exception occured\n",
      "could not broadcast input array from shape (424,) into shape (512,)\n",
      "Some exception occured\n",
      "could not broadcast input array from shape (72,) into shape (512,)\n",
      "Some exception occured\n",
      "could not broadcast input array from shape (182,) into shape (512,)\n",
      "Some exception occured\n",
      "could not broadcast input array from shape (72,) into shape (512,)\n",
      "Some exception occured\n",
      "could not broadcast input array from shape (72,) into shape (512,)\n",
      "Some exception occured\n",
      "could not broadcast input array from shape (72,) into shape (512,)\n",
      "Some exception occured\n",
      "could not broadcast input array from shape (402,) into shape (512,)\n",
      "Some exception occured\n",
      "could not broadcast input array from shape (354,) into shape (512,)\n",
      "Some exception occured\n",
      "could not broadcast input array from shape (72,) into shape (512,)\n",
      "Some exception occured\n",
      "could not broadcast input array from shape (72,) into shape (512,)\n",
      "Some exception occured\n",
      "could not broadcast input array from shape (267,) into shape (512,)\n",
      "Some exception occured\n"
     ]
    },
    {
     "name": "stderr",
     "output_type": "stream",
     "text": [
      "1706it [00:12, 162.93it/s]"
     ]
    },
    {
     "name": "stdout",
     "output_type": "stream",
     "text": [
      "could not broadcast input array from shape (292,) into shape (512,)\n",
      "Some exception occured\n",
      "could not broadcast input array from shape (217,) into shape (512,)\n",
      "Some exception occured\n",
      "could not broadcast input array from shape (72,) into shape (512,)\n",
      "Some exception occured\n",
      "could not broadcast input array from shape (72,) into shape (512,)\n",
      "Some exception occured\n",
      "could not broadcast input array from shape (402,) into shape (512,)\n",
      "Some exception occured\n",
      "could not broadcast input array from shape (72,) into shape (512,)\n",
      "Some exception occured\n",
      "could not broadcast input array from shape (182,) into shape (512,)\n",
      "Some exception occured\n",
      "could not broadcast input array from shape (72,) into shape (512,)\n",
      "Some exception occured\n",
      "could not broadcast input array from shape (151,) into shape (512,)\n",
      "Some exception occured\n",
      "could not broadcast input array from shape (72,) into shape (512,)\n",
      "Some exception occured\n",
      "could not broadcast input array from shape (244,) into shape (512,)\n",
      "Some exception occured\n",
      "could not broadcast input array from shape (390,) into shape (512,)\n",
      "Some exception occured\n",
      "could not broadcast input array from shape (218,) into shape (512,)\n",
      "Some exception occured\n",
      "could not broadcast input array from shape (72,) into shape (512,)\n",
      "Some exception occured\n",
      "could not broadcast input array from shape (72,) into shape (512,)\n",
      "Some exception occured\n",
      "could not broadcast input array from shape (182,) into shape (512,)\n",
      "Some exception occured\n",
      "could not broadcast input array from shape (177,) into shape (512,)\n",
      "Some exception occured\n",
      "could not broadcast input array from shape (72,) into shape (512,)\n",
      "Some exception occured\n"
     ]
    },
    {
     "name": "stderr",
     "output_type": "stream",
     "text": [
      "\r",
      "1723it [00:12, 135.42it/s]"
     ]
    },
    {
     "name": "stdout",
     "output_type": "stream",
     "text": [
      "could not broadcast input array from shape (72,) into shape (512,)\n",
      "Some exception occured\n",
      "could not broadcast input array from shape (72,) into shape (512,)\n",
      "Some exception occured\n",
      "could not broadcast input array from shape (72,) into shape (512,)\n",
      "Some exception occured\n",
      "could not broadcast input array from shape (72,) into shape (512,)\n",
      "Some exception occured\n",
      "could not broadcast input array from shape (71,) into shape (512,)\n",
      "Some exception occured\n",
      "could not broadcast input array from shape (73,) into shape (512,)\n",
      "Some exception occured\n",
      "could not broadcast input array from shape (72,) into shape (512,)\n",
      "Some exception occured\n",
      "could not broadcast input array from shape (72,) into shape (512,)\n",
      "Some exception occured\n"
     ]
    },
    {
     "name": "stderr",
     "output_type": "stream",
     "text": [
      "1753it [00:12, 129.50it/s]"
     ]
    },
    {
     "name": "stdout",
     "output_type": "stream",
     "text": [
      "could not broadcast input array from shape (204,) into shape (512,)\n",
      "Some exception occured\n",
      "could not broadcast input array from shape (73,) into shape (512,)\n",
      "Some exception occured\n",
      "could not broadcast input array from shape (226,) into shape (512,)\n",
      "Some exception occured\n",
      "could not broadcast input array from shape (72,) into shape (512,)\n",
      "Some exception occured\n",
      "could not broadcast input array from shape (72,) into shape (512,)\n",
      "Some exception occured\n",
      "could not broadcast input array from shape (72,) into shape (512,)\n",
      "Some exception occured\n",
      "could not broadcast input array from shape (182,) into shape (512,)\n",
      "Some exception occured\n",
      "could not broadcast input array from shape (72,) into shape (512,)\n",
      "Some exception occured\n",
      "could not broadcast input array from shape (72,) into shape (512,)\n",
      "Some exception occured\n",
      "could not broadcast input array from shape (182,) into shape (512,)\n",
      "Some exception occured\n"
     ]
    },
    {
     "name": "stderr",
     "output_type": "stream",
     "text": [
      "1784it [00:13, 136.02it/s]"
     ]
    },
    {
     "name": "stdout",
     "output_type": "stream",
     "text": [
      "could not broadcast input array from shape (72,) into shape (512,)\n",
      "Some exception occured\n",
      "could not broadcast input array from shape (72,) into shape (512,)\n",
      "Some exception occured\n",
      "could not broadcast input array from shape (71,) into shape (512,)\n",
      "Some exception occured\n",
      "could not broadcast input array from shape (72,) into shape (512,)\n",
      "Some exception occured\n",
      "could not broadcast input array from shape (71,) into shape (512,)\n",
      "Some exception occured\n",
      "could not broadcast input array from shape (72,) into shape (512,)\n",
      "Some exception occured\n",
      "could not broadcast input array from shape (72,) into shape (512,)\n",
      "Some exception occured\n",
      "could not broadcast input array from shape (72,) into shape (512,)\n",
      "Some exception occured\n",
      "could not broadcast input array from shape (433,) into shape (512,)\n",
      "Some exception occured\n"
     ]
    },
    {
     "name": "stderr",
     "output_type": "stream",
     "text": [
      "1812it [00:13, 120.98it/s]"
     ]
    },
    {
     "name": "stdout",
     "output_type": "stream",
     "text": [
      "could not broadcast input array from shape (72,) into shape (512,)\n",
      "Some exception occured\n",
      "could not broadcast input array from shape (165,) into shape (512,)\n",
      "Some exception occured\n",
      "could not broadcast input array from shape (130,) into shape (512,)\n",
      "Some exception occured\n",
      "could not broadcast input array from shape (72,) into shape (512,)\n",
      "Some exception occured\n",
      "could not broadcast input array from shape (182,) into shape (512,)\n",
      "Some exception occured\n",
      "could not broadcast input array from shape (292,) into shape (512,)\n",
      "Some exception occured\n"
     ]
    },
    {
     "name": "stderr",
     "output_type": "stream",
     "text": [
      "1819it [00:13, 135.59it/s]\n"
     ]
    },
    {
     "name": "stdout",
     "output_type": "stream",
     "text": [
      "could not broadcast input array from shape (72,) into shape (512,)\n",
      "Some exception occured\n",
      "could not broadcast input array from shape (72,) into shape (512,)\n",
      "Some exception occured\n",
      "could not broadcast input array from shape (72,) into shape (512,)\n",
      "Some exception occured\n"
     ]
    },
    {
     "name": "stderr",
     "output_type": "stream",
     "text": [
      "20it [00:00, 97.29it/s]"
     ]
    },
    {
     "name": "stdout",
     "output_type": "stream",
     "text": [
      "could not broadcast input array from shape (178,) into shape (512,)\n",
      "Some exception occured\n",
      "could not broadcast input array from shape (244,) into shape (512,)\n",
      "Some exception occured\n",
      "could not broadcast input array from shape (380,) into shape (512,)\n",
      "Some exception occured\n",
      "could not broadcast input array from shape (483,) into shape (512,)\n",
      "Some exception occured\n",
      "could not broadcast input array from shape (318,) into shape (512,)\n",
      "Some exception occured\n",
      "could not broadcast input array from shape (178,) into shape (512,)\n",
      "Some exception occured\n"
     ]
    },
    {
     "name": "stderr",
     "output_type": "stream",
     "text": [
      "\r",
      "36it [00:00, 120.77it/s]"
     ]
    },
    {
     "name": "stdout",
     "output_type": "stream",
     "text": [
      "could not broadcast input array from shape (266,) into shape (512,)\n",
      "Some exception occured\n",
      "could not broadcast input array from shape (174,) into shape (512,)\n",
      "Some exception occured\n",
      "could not broadcast input array from shape (108,) into shape (512,)\n",
      "Some exception occured\n",
      "could not broadcast input array from shape (474,) into shape (512,)\n",
      "Some exception occured\n",
      "could not broadcast input array from shape (509,) into shape (512,)\n",
      "Some exception occured\n",
      "could not broadcast input array from shape (161,) into shape (512,)\n",
      "Some exception occured\n",
      "could not broadcast input array from shape (438,) into shape (512,)\n",
      "Some exception occured\n",
      "could not broadcast input array from shape (315,) into shape (512,)\n",
      "Some exception occured\n",
      "could not broadcast input array from shape (310,) into shape (512,)\n",
      "Some exception occured\n"
     ]
    },
    {
     "name": "stderr",
     "output_type": "stream",
     "text": [
      "61it [00:00, 107.44it/s]"
     ]
    },
    {
     "name": "stdout",
     "output_type": "stream",
     "text": [
      "could not broadcast input array from shape (363,) into shape (512,)\n",
      "Some exception occured\n",
      "could not broadcast input array from shape (420,) into shape (512,)\n",
      "Some exception occured\n"
     ]
    },
    {
     "name": "stderr",
     "output_type": "stream",
     "text": [
      "96it [00:00, 99.16it/s] "
     ]
    },
    {
     "name": "stdout",
     "output_type": "stream",
     "text": [
      "could not broadcast input array from shape (274,) into shape (512,)\n",
      "Some exception occured\n",
      "could not broadcast input array from shape (72,) into shape (512,)\n",
      "Some exception occured\n",
      "could not broadcast input array from shape (72,) into shape (512,)\n",
      "Some exception occured\n",
      "could not broadcast input array from shape (72,) into shape (512,)\n",
      "Some exception occured\n",
      "could not broadcast input array from shape (112,) into shape (512,)\n",
      "Some exception occured\n"
     ]
    },
    {
     "name": "stderr",
     "output_type": "stream",
     "text": [
      "123it [00:01, 113.70it/s]"
     ]
    },
    {
     "name": "stdout",
     "output_type": "stream",
     "text": [
      "could not broadcast input array from shape (72,) into shape (512,)\n",
      "Some exception occured\n",
      "could not broadcast input array from shape (72,) into shape (512,)\n",
      "Some exception occured\n",
      "could not broadcast input array from shape (438,) into shape (512,)\n",
      "Some exception occured\n",
      "could not broadcast input array from shape (72,) into shape (512,)\n",
      "Some exception occured\n",
      "could not broadcast input array from shape (209,) into shape (512,)\n",
      "Some exception occured\n",
      "could not broadcast input array from shape (143,) into shape (512,)\n",
      "Some exception occured\n",
      "could not broadcast input array from shape (429,) into shape (512,)\n",
      "Some exception occured\n",
      "could not broadcast input array from shape (72,) into shape (512,)\n",
      "Some exception occured\n",
      "could not broadcast input array from shape (72,) into shape (512,)\n",
      "Some exception occured\n"
     ]
    },
    {
     "name": "stderr",
     "output_type": "stream",
     "text": [
      "\r",
      "135it [00:01, 111.79it/s]"
     ]
    },
    {
     "name": "stdout",
     "output_type": "stream",
     "text": [
      "could not broadcast input array from shape (468,) into shape (512,)\n",
      "Some exception occured\n",
      "could not broadcast input array from shape (72,) into shape (512,)\n",
      "Some exception occured\n",
      "could not broadcast input array from shape (134,) into shape (512,)\n",
      "Some exception occured\n"
     ]
    },
    {
     "name": "stderr",
     "output_type": "stream",
     "text": [
      "158it [00:01, 99.46it/s] "
     ]
    },
    {
     "name": "stdout",
     "output_type": "stream",
     "text": [
      "could not broadcast input array from shape (196,) into shape (512,)\n",
      "Some exception occured\n",
      "could not broadcast input array from shape (72,) into shape (512,)\n",
      "Some exception occured\n"
     ]
    },
    {
     "name": "stderr",
     "output_type": "stream",
     "text": [
      "182it [00:01, 102.66it/s]"
     ]
    },
    {
     "name": "stdout",
     "output_type": "stream",
     "text": [
      "could not broadcast input array from shape (72,) into shape (512,)\n",
      "Some exception occured\n",
      "could not broadcast input array from shape (72,) into shape (512,)\n",
      "Some exception occured\n",
      "could not broadcast input array from shape (72,) into shape (512,)\n",
      "Some exception occured\n",
      "could not broadcast input array from shape (72,) into shape (512,)\n",
      "Some exception occured\n",
      "could not broadcast input array from shape (72,) into shape (512,)\n",
      "Some exception occured\n",
      "could not broadcast input array from shape (72,) into shape (512,)\n",
      "Some exception occured\n",
      "could not broadcast input array from shape (73,) into shape (512,)\n",
      "Some exception occured\n",
      "could not broadcast input array from shape (72,) into shape (512,)\n",
      "Some exception occured\n",
      "could not broadcast input array from shape (72,) into shape (512,)\n",
      "Some exception occured\n"
     ]
    },
    {
     "name": "stderr",
     "output_type": "stream",
     "text": [
      "205it [00:01, 106.12it/s]"
     ]
    },
    {
     "name": "stdout",
     "output_type": "stream",
     "text": [
      "could not broadcast input array from shape (71,) into shape (512,)\n",
      "Some exception occured\n",
      "could not broadcast input array from shape (72,) into shape (512,)\n",
      "Some exception occured\n",
      "could not broadcast input array from shape (243,) into shape (512,)\n",
      "Some exception occured\n",
      "could not broadcast input array from shape (72,) into shape (512,)\n",
      "Some exception occured\n"
     ]
    },
    {
     "name": "stderr",
     "output_type": "stream",
     "text": [
      "229it [00:02, 107.28it/s]"
     ]
    },
    {
     "name": "stdout",
     "output_type": "stream",
     "text": [
      "could not broadcast input array from shape (72,) into shape (512,)\n",
      "Some exception occured\n",
      "could not broadcast input array from shape (73,) into shape (512,)\n",
      "Some exception occured\n",
      "could not broadcast input array from shape (73,) into shape (512,)\n",
      "Some exception occured\n",
      "could not broadcast input array from shape (125,) into shape (512,)\n",
      "Some exception occured\n",
      "could not broadcast input array from shape (434,) into shape (512,)\n",
      "Some exception occured\n",
      "could not broadcast input array from shape (73,) into shape (512,)\n",
      "Some exception occured\n",
      "could not broadcast input array from shape (72,) into shape (512,)\n",
      "Some exception occured\n",
      "could not broadcast input array from shape (195,) into shape (512,)\n",
      "Some exception occured\n",
      "could not broadcast input array from shape (143,) into shape (512,)\n",
      "Some exception occured\n",
      "could not broadcast input array from shape (71,) into shape (512,)\n",
      "Some exception occured\n",
      "could not broadcast input array from shape (72,) into shape (512,)\n",
      "Some exception occured\n",
      "could not broadcast input array from shape (266,) into shape (512,)\n",
      "Some exception occured\n"
     ]
    },
    {
     "name": "stderr",
     "output_type": "stream",
     "text": [
      "256it [00:02, 114.62it/s]"
     ]
    },
    {
     "name": "stdout",
     "output_type": "stream",
     "text": [
      "could not broadcast input array from shape (72,) into shape (512,)\n",
      "Some exception occured\n",
      "could not broadcast input array from shape (341,) into shape (512,)\n",
      "Some exception occured\n",
      "could not broadcast input array from shape (293,) into shape (512,)\n",
      "Some exception occured\n",
      "could not broadcast input array from shape (72,) into shape (512,)\n",
      "Some exception occured\n",
      "could not broadcast input array from shape (72,) into shape (512,)\n",
      "Some exception occured\n",
      "could not broadcast input array from shape (464,) into shape (512,)\n",
      "Some exception occured\n",
      "could not broadcast input array from shape (147,) into shape (512,)\n",
      "Some exception occured\n"
     ]
    },
    {
     "name": "stderr",
     "output_type": "stream",
     "text": [
      "280it [00:02, 114.93it/s]"
     ]
    },
    {
     "name": "stdout",
     "output_type": "stream",
     "text": [
      "could not broadcast input array from shape (72,) into shape (512,)\n",
      "Some exception occured\n",
      "could not broadcast input array from shape (111,) into shape (512,)\n",
      "Some exception occured\n",
      "could not broadcast input array from shape (71,) into shape (512,)\n",
      "Some exception occured\n",
      "could not broadcast input array from shape (72,) into shape (512,)\n",
      "Some exception occured\n",
      "could not broadcast input array from shape (72,) into shape (512,)\n",
      "Some exception occured\n",
      "could not broadcast input array from shape (72,) into shape (512,)\n",
      "Some exception occured\n",
      "could not broadcast input array from shape (262,) into shape (512,)\n",
      "Some exception occured\n",
      "could not broadcast input array from shape (72,) into shape (512,)\n",
      "Some exception occured\n",
      "could not broadcast input array from shape (174,) into shape (512,)\n",
      "Some exception occured\n",
      "could not broadcast input array from shape (491,) into shape (512,)\n",
      "Some exception occured\n",
      "could not broadcast input array from shape (72,) into shape (512,)\n",
      "Some exception occured\n",
      "could not broadcast input array from shape (319,) into shape (512,)\n",
      "Some exception occured\n",
      "could not broadcast input array from shape (244,) into shape (512,)\n",
      "Some exception occured\n",
      "could not broadcast input array from shape (72,) into shape (512,)\n",
      "Some exception occured\n",
      "could not broadcast input array from shape (72,) into shape (512,)\n",
      "Some exception occured\n",
      "could not broadcast input array from shape (72,) into shape (512,)\n",
      "Some exception occured\n",
      "could not broadcast input array from shape (72,) into shape (512,)\n",
      "Some exception occured\n",
      "could not broadcast input array from shape (72,) into shape (512,)\n",
      "Some exception occured\n",
      "could not broadcast input array from shape (72,) into shape (512,)\n",
      "Some exception occured\n",
      "could not broadcast input array from shape (72,) into shape (512,)\n",
      "Some exception occured\n",
      "could not broadcast input array from shape (261,) into shape (512,)\n",
      "Some exception occured\n"
     ]
    },
    {
     "name": "stderr",
     "output_type": "stream",
     "text": [
      "327it [00:02, 169.15it/s]"
     ]
    },
    {
     "name": "stdout",
     "output_type": "stream",
     "text": [
      "could not broadcast input array from shape (71,) into shape (512,)\n",
      "Some exception occured\n",
      "could not broadcast input array from shape (134,) into shape (512,)\n",
      "Some exception occured\n",
      "could not broadcast input array from shape (72,) into shape (512,)\n",
      "Some exception occured\n",
      "could not broadcast input array from shape (253,) into shape (512,)\n",
      "Some exception occured\n",
      "could not broadcast input array from shape (461,) into shape (512,)\n",
      "Some exception occured\n",
      "could not broadcast input array from shape (289,) into shape (512,)\n",
      "Some exception occured\n",
      "could not broadcast input array from shape (433,) into shape (512,)\n",
      "Some exception occured\n",
      "could not broadcast input array from shape (138,) into shape (512,)\n",
      "Some exception occured\n",
      "could not broadcast input array from shape (403,) into shape (512,)\n",
      "Some exception occured\n",
      "could not broadcast input array from shape (86,) into shape (512,)\n",
      "Some exception occured\n",
      "could not broadcast input array from shape (72,) into shape (512,)\n",
      "Some exception occured\n",
      "could not broadcast input array from shape (443,) into shape (512,)\n",
      "Some exception occured\n",
      "could not broadcast input array from shape (72,) into shape (512,)\n",
      "Some exception occured\n",
      "could not broadcast input array from shape (72,) into shape (512,)\n",
      "Some exception occured\n",
      "could not broadcast input array from shape (500,) into shape (512,)\n",
      "Some exception occured\n",
      "could not broadcast input array from shape (257,) into shape (512,)\n",
      "Some exception occured\n",
      "could not broadcast input array from shape (332,) into shape (512,)\n",
      "Some exception occured\n"
     ]
    },
    {
     "name": "stderr",
     "output_type": "stream",
     "text": [
      "360it [00:03, 138.70it/s]"
     ]
    },
    {
     "name": "stdout",
     "output_type": "stream",
     "text": [
      "could not broadcast input array from shape (244,) into shape (512,)\n",
      "Some exception occured\n",
      "could not broadcast input array from shape (76,) into shape (512,)\n",
      "Some exception occured\n",
      "could not broadcast input array from shape (205,) into shape (512,)\n",
      "Some exception occured\n",
      "could not broadcast input array from shape (257,) into shape (512,)\n",
      "Some exception occured\n",
      "could not broadcast input array from shape (138,) into shape (512,)\n",
      "Some exception occured\n",
      "could not broadcast input array from shape (337,) into shape (512,)\n",
      "Some exception occured\n",
      "could not broadcast input array from shape (205,) into shape (512,)\n",
      "Some exception occured\n",
      "could not broadcast input array from shape (332,) into shape (512,)\n",
      "Some exception occured\n"
     ]
    },
    {
     "name": "stderr",
     "output_type": "stream",
     "text": [
      "\r",
      "375it [00:03, 134.45it/s]"
     ]
    },
    {
     "name": "stdout",
     "output_type": "stream",
     "text": [
      "could not broadcast input array from shape (345,) into shape (512,)\n",
      "Some exception occured\n",
      "could not broadcast input array from shape (358,) into shape (512,)\n",
      "Some exception occured\n",
      "could not broadcast input array from shape (381,) into shape (512,)\n",
      "Some exception occured\n",
      "could not broadcast input array from shape (279,) into shape (512,)\n",
      "Some exception occured\n",
      "could not broadcast input array from shape (324,) into shape (512,)\n",
      "Some exception occured\n",
      "could not broadcast input array from shape (81,) into shape (512,)\n",
      "Some exception occured\n",
      "could not broadcast input array from shape (72,) into shape (512,)\n",
      "Some exception occured\n",
      "could not broadcast input array from shape (283,) into shape (512,)\n",
      "Some exception occured\n",
      "could not broadcast input array from shape (72,) into shape (512,)\n",
      "Some exception occured\n",
      "could not broadcast input array from shape (72,) into shape (512,)\n",
      "Some exception occured\n",
      "could not broadcast input array from shape (72,) into shape (512,)\n",
      "Some exception occured\n",
      "could not broadcast input array from shape (71,) into shape (512,)\n",
      "Some exception occured\n",
      "could not broadcast input array from shape (72,) into shape (512,)\n",
      "Some exception occured\n",
      "could not broadcast input array from shape (72,) into shape (512,)\n",
      "Some exception occured\n"
     ]
    },
    {
     "name": "stderr",
     "output_type": "stream",
     "text": [
      "409it [00:03, 146.61it/s]"
     ]
    },
    {
     "name": "stdout",
     "output_type": "stream",
     "text": [
      "could not broadcast input array from shape (72,) into shape (512,)\n",
      "Some exception occured\n",
      "could not broadcast input array from shape (72,) into shape (512,)\n",
      "Some exception occured\n",
      "could not broadcast input array from shape (142,) into shape (512,)\n",
      "Some exception occured\n",
      "could not broadcast input array from shape (72,) into shape (512,)\n",
      "Some exception occured\n",
      "could not broadcast input array from shape (72,) into shape (512,)\n",
      "Some exception occured\n",
      "could not broadcast input array from shape (72,) into shape (512,)\n",
      "Some exception occured\n",
      "could not broadcast input array from shape (380,) into shape (512,)\n",
      "Some exception occured\n",
      "could not broadcast input array from shape (451,) into shape (512,)\n",
      "Some exception occured\n",
      "could not broadcast input array from shape (72,) into shape (512,)\n",
      "Some exception occured\n",
      "could not broadcast input array from shape (72,) into shape (512,)\n",
      "Some exception occured\n",
      "could not broadcast input array from shape (72,) into shape (512,)\n",
      "Some exception occured\n",
      "could not broadcast input array from shape (72,) into shape (512,)\n",
      "Some exception occured\n",
      "could not broadcast input array from shape (72,) into shape (512,)\n",
      "Some exception occured\n"
     ]
    },
    {
     "name": "stderr",
     "output_type": "stream",
     "text": [
      "439it [00:03, 144.21it/s]"
     ]
    },
    {
     "name": "stdout",
     "output_type": "stream",
     "text": [
      "could not broadcast input array from shape (72,) into shape (512,)\n",
      "Some exception occured\n",
      "could not broadcast input array from shape (72,) into shape (512,)\n",
      "Some exception occured\n",
      "could not broadcast input array from shape (72,) into shape (512,)\n",
      "Some exception occured\n",
      "could not broadcast input array from shape (72,) into shape (512,)\n",
      "Some exception occured\n",
      "could not broadcast input array from shape (72,) into shape (512,)\n",
      "Some exception occured\n",
      "could not broadcast input array from shape (72,) into shape (512,)\n",
      "Some exception occured\n",
      "could not broadcast input array from shape (72,) into shape (512,)\n",
      "Some exception occured\n",
      "could not broadcast input array from shape (72,) into shape (512,)\n",
      "Some exception occured\n",
      "could not broadcast input array from shape (72,) into shape (512,)\n",
      "Some exception occured\n",
      "could not broadcast input array from shape (72,) into shape (512,)\n",
      "Some exception occured\n",
      "could not broadcast input array from shape (73,) into shape (512,)\n",
      "Some exception occured\n",
      "could not broadcast input array from shape (72,) into shape (512,)\n",
      "Some exception occured\n",
      "could not broadcast input array from shape (72,) into shape (512,)\n",
      "Some exception occured\n",
      "could not broadcast input array from shape (72,) into shape (512,)\n",
      "Some exception occured\n",
      "could not broadcast input array from shape (72,) into shape (512,)\n",
      "Some exception occured\n",
      "could not broadcast input array from shape (72,) into shape (512,)\n",
      "Some exception occured\n",
      "could not broadcast input array from shape (72,) into shape (512,)\n",
      "Some exception occured\n",
      "could not broadcast input array from shape (72,) into shape (512,)\n",
      "Some exception occured\n"
     ]
    },
    {
     "name": "stderr",
     "output_type": "stream",
     "text": [
      "488it [00:04, 135.86it/s]"
     ]
    },
    {
     "name": "stdout",
     "output_type": "stream",
     "text": [
      "could not broadcast input array from shape (72,) into shape (512,)\n",
      "Some exception occured\n",
      "could not broadcast input array from shape (72,) into shape (512,)\n",
      "Some exception occured\n",
      "could not broadcast input array from shape (72,) into shape (512,)\n",
      "Some exception occured\n",
      "could not broadcast input array from shape (71,) into shape (512,)\n",
      "Some exception occured\n",
      "could not broadcast input array from shape (72,) into shape (512,)\n",
      "Some exception occured\n",
      "could not broadcast input array from shape (72,) into shape (512,)\n",
      "Some exception occured\n",
      "could not broadcast input array from shape (72,) into shape (512,)\n",
      "Some exception occured\n",
      "could not broadcast input array from shape (72,) into shape (512,)\n",
      "Some exception occured\n",
      "could not broadcast input array from shape (72,) into shape (512,)\n",
      "Some exception occured\n",
      "could not broadcast input array from shape (72,) into shape (512,)\n",
      "Some exception occured\n"
     ]
    },
    {
     "name": "stderr",
     "output_type": "stream",
     "text": [
      "\r",
      "510it [00:04, 155.58it/s]"
     ]
    },
    {
     "name": "stdout",
     "output_type": "stream",
     "text": [
      "could not broadcast input array from shape (72,) into shape (512,)\n",
      "Some exception occured\n",
      "could not broadcast input array from shape (72,) into shape (512,)\n",
      "Some exception occured\n",
      "could not broadcast input array from shape (72,) into shape (512,)\n",
      "Some exception occured\n",
      "could not broadcast input array from shape (72,) into shape (512,)\n",
      "Some exception occured\n",
      "could not broadcast input array from shape (72,) into shape (512,)\n",
      "Some exception occured\n",
      "could not broadcast input array from shape (71,) into shape (512,)\n",
      "Some exception occured\n",
      "could not broadcast input array from shape (72,) into shape (512,)\n",
      "Some exception occured\n",
      "could not broadcast input array from shape (71,) into shape (512,)\n",
      "Some exception occured\n",
      "could not broadcast input array from shape (72,) into shape (512,)\n",
      "Some exception occured\n",
      "could not broadcast input array from shape (72,) into shape (512,)\n",
      "Some exception occured\n",
      "could not broadcast input array from shape (72,) into shape (512,)\n",
      "Some exception occured\n",
      "could not broadcast input array from shape (72,) into shape (512,)\n",
      "Some exception occured\n",
      "could not broadcast input array from shape (72,) into shape (512,)\n",
      "Some exception occured\n",
      "could not broadcast input array from shape (71,) into shape (512,)\n",
      "Some exception occured\n",
      "could not broadcast input array from shape (72,) into shape (512,)\n",
      "Some exception occured\n",
      "could not broadcast input array from shape (434,) into shape (512,)\n",
      "Some exception occured\n",
      "could not broadcast input array from shape (72,) into shape (512,)\n",
      "Some exception occured\n",
      "could not broadcast input array from shape (72,) into shape (512,)\n",
      "Some exception occured\n",
      "could not broadcast input array from shape (160,) into shape (512,)\n",
      "Some exception occured\n",
      "could not broadcast input array from shape (72,) into shape (512,)\n",
      "Some exception occured\n",
      "could not broadcast input array from shape (72,) into shape (512,)\n",
      "Some exception occured\n",
      "could not broadcast input array from shape (72,) into shape (512,)\n",
      "Some exception occured\n",
      "could not broadcast input array from shape (252,) into shape (512,)\n",
      "Some exception occured\n"
     ]
    },
    {
     "name": "stderr",
     "output_type": "stream",
     "text": [
      "551it [00:04, 175.38it/s]"
     ]
    },
    {
     "name": "stdout",
     "output_type": "stream",
     "text": [
      "could not broadcast input array from shape (72,) into shape (512,)\n",
      "Some exception occured\n",
      "could not broadcast input array from shape (72,) into shape (512,)\n",
      "Some exception occured\n",
      "could not broadcast input array from shape (72,) into shape (512,)\n",
      "Some exception occured\n",
      "could not broadcast input array from shape (257,) into shape (512,)\n",
      "Some exception occured\n",
      "could not broadcast input array from shape (72,) into shape (512,)\n",
      "Some exception occured\n",
      "could not broadcast input array from shape (72,) into shape (512,)\n",
      "Some exception occured\n",
      "could not broadcast input array from shape (72,) into shape (512,)\n",
      "Some exception occured\n",
      "could not broadcast input array from shape (72,) into shape (512,)\n",
      "Some exception occured\n",
      "could not broadcast input array from shape (72,) into shape (512,)\n",
      "Some exception occured\n",
      "could not broadcast input array from shape (73,) into shape (512,)\n",
      "Some exception occured\n",
      "could not broadcast input array from shape (72,) into shape (512,)\n",
      "Some exception occured\n",
      "could not broadcast input array from shape (71,) into shape (512,)\n",
      "Some exception occured\n",
      "could not broadcast input array from shape (72,) into shape (512,)\n",
      "Some exception occured\n",
      "could not broadcast input array from shape (86,) into shape (512,)\n",
      "Some exception occured\n",
      "could not broadcast input array from shape (274,) into shape (512,)\n",
      "Some exception occured\n",
      "could not broadcast input array from shape (72,) into shape (512,)\n",
      "Some exception occured\n",
      "could not broadcast input array from shape (72,) into shape (512,)\n",
      "Some exception occured\n",
      "could not broadcast input array from shape (72,) into shape (512,)\n",
      "Some exception occured\n",
      "could not broadcast input array from shape (72,) into shape (512,)\n",
      "Some exception occured\n",
      "could not broadcast input array from shape (72,) into shape (512,)\n",
      "Some exception occured\n",
      "could not broadcast input array from shape (72,) into shape (512,)\n",
      "Some exception occured\n",
      "could not broadcast input array from shape (72,) into shape (512,)\n",
      "Some exception occured\n"
     ]
    },
    {
     "name": "stderr",
     "output_type": "stream",
     "text": [
      "596it [00:04, 170.99it/s]"
     ]
    },
    {
     "name": "stdout",
     "output_type": "stream",
     "text": [
      "could not broadcast input array from shape (72,) into shape (512,)\n",
      "Some exception occured\n",
      "could not broadcast input array from shape (72,) into shape (512,)\n",
      "Some exception occured\n",
      "could not broadcast input array from shape (72,) into shape (512,)\n",
      "Some exception occured\n",
      "could not broadcast input array from shape (72,) into shape (512,)\n",
      "Some exception occured\n",
      "could not broadcast input array from shape (72,) into shape (512,)\n",
      "Some exception occured\n",
      "could not broadcast input array from shape (72,) into shape (512,)\n",
      "Some exception occured\n",
      "could not broadcast input array from shape (72,) into shape (512,)\n",
      "Some exception occured\n",
      "could not broadcast input array from shape (72,) into shape (512,)\n",
      "Some exception occured\n",
      "could not broadcast input array from shape (72,) into shape (512,)\n",
      "Some exception occured\n",
      "could not broadcast input array from shape (72,) into shape (512,)\n",
      "Some exception occured\n",
      "could not broadcast input array from shape (72,) into shape (512,)\n",
      "Some exception occured\n",
      "could not broadcast input array from shape (72,) into shape (512,)\n",
      "Some exception occured\n",
      "could not broadcast input array from shape (72,) into shape (512,)\n",
      "Some exception occured\n",
      "could not broadcast input array from shape (72,) into shape (512,)\n",
      "Some exception occured\n",
      "could not broadcast input array from shape (72,) into shape (512,)\n",
      "Some exception occured\n",
      "could not broadcast input array from shape (71,) into shape (512,)\n",
      "Some exception occured\n",
      "could not broadcast input array from shape (72,) into shape (512,)\n",
      "Some exception occured\n",
      "could not broadcast input array from shape (72,) into shape (512,)\n",
      "Some exception occured\n",
      "could not broadcast input array from shape (72,) into shape (512,)\n",
      "Some exception occured\n",
      "could not broadcast input array from shape (71,) into shape (512,)\n",
      "Some exception occured\n",
      "could not broadcast input array from shape (72,) into shape (512,)\n",
      "Some exception occured\n",
      "could not broadcast input array from shape (71,) into shape (512,)\n",
      "Some exception occured\n",
      "could not broadcast input array from shape (72,) into shape (512,)\n",
      "Some exception occured\n",
      "could not broadcast input array from shape (72,) into shape (512,)\n",
      "Some exception occured\n"
     ]
    },
    {
     "name": "stderr",
     "output_type": "stream",
     "text": [
      "632it [00:04, 145.77it/s]"
     ]
    },
    {
     "name": "stdout",
     "output_type": "stream",
     "text": [
      "could not broadcast input array from shape (72,) into shape (512,)\n",
      "Some exception occured\n",
      "could not broadcast input array from shape (72,) into shape (512,)\n",
      "Some exception occured\n",
      "could not broadcast input array from shape (72,) into shape (512,)\n",
      "Some exception occured\n",
      "could not broadcast input array from shape (72,) into shape (512,)\n",
      "Some exception occured\n",
      "could not broadcast input array from shape (72,) into shape (512,)\n",
      "Some exception occured\n",
      "could not broadcast input array from shape (72,) into shape (512,)\n",
      "Some exception occured\n",
      "could not broadcast input array from shape (71,) into shape (512,)\n",
      "Some exception occured\n",
      "could not broadcast input array from shape (72,) into shape (512,)\n",
      "Some exception occured\n"
     ]
    },
    {
     "name": "stderr",
     "output_type": "stream",
     "text": [
      "\r",
      "648it [00:05, 137.04it/s]"
     ]
    },
    {
     "name": "stdout",
     "output_type": "stream",
     "text": [
      "could not broadcast input array from shape (72,) into shape (512,)\n",
      "Some exception occured\n",
      "could not broadcast input array from shape (72,) into shape (512,)\n",
      "Some exception occured\n",
      "could not broadcast input array from shape (72,) into shape (512,)\n",
      "Some exception occured\n",
      "could not broadcast input array from shape (447,) into shape (512,)\n",
      "Some exception occured\n",
      "could not broadcast input array from shape (72,) into shape (512,)\n",
      "Some exception occured\n",
      "could not broadcast input array from shape (72,) into shape (512,)\n",
      "Some exception occured\n",
      "could not broadcast input array from shape (72,) into shape (512,)\n",
      "Some exception occured\n",
      "could not broadcast input array from shape (72,) into shape (512,)\n",
      "Some exception occured\n"
     ]
    },
    {
     "name": "stderr",
     "output_type": "stream",
     "text": [
      "677it [00:05, 132.32it/s]"
     ]
    },
    {
     "name": "stdout",
     "output_type": "stream",
     "text": [
      "could not broadcast input array from shape (72,) into shape (512,)\n",
      "Some exception occured\n",
      "could not broadcast input array from shape (72,) into shape (512,)\n",
      "Some exception occured\n",
      "could not broadcast input array from shape (72,) into shape (512,)\n",
      "Some exception occured\n",
      "could not broadcast input array from shape (72,) into shape (512,)\n",
      "Some exception occured\n",
      "could not broadcast input array from shape (72,) into shape (512,)\n",
      "Some exception occured\n",
      "could not broadcast input array from shape (72,) into shape (512,)\n",
      "Some exception occured\n",
      "could not broadcast input array from shape (72,) into shape (512,)\n",
      "Some exception occured\n",
      "could not broadcast input array from shape (73,) into shape (512,)\n",
      "Some exception occured\n",
      "could not broadcast input array from shape (72,) into shape (512,)\n",
      "Some exception occured\n",
      "could not broadcast input array from shape (72,) into shape (512,)\n",
      "Some exception occured\n",
      "could not broadcast input array from shape (72,) into shape (512,)\n",
      "Some exception occured\n",
      "could not broadcast input array from shape (209,) into shape (512,)\n",
      "Some exception occured\n",
      "could not broadcast input array from shape (72,) into shape (512,)\n",
      "Some exception occured\n",
      "could not broadcast input array from shape (73,) into shape (512,)\n",
      "Some exception occured\n"
     ]
    },
    {
     "name": "stderr",
     "output_type": "stream",
     "text": [
      "707it [00:05, 137.36it/s]"
     ]
    },
    {
     "name": "stdout",
     "output_type": "stream",
     "text": [
      "could not broadcast input array from shape (72,) into shape (512,)\n",
      "Some exception occured\n",
      "could not broadcast input array from shape (72,) into shape (512,)\n",
      "Some exception occured\n",
      "could not broadcast input array from shape (72,) into shape (512,)\n",
      "Some exception occured\n",
      "could not broadcast input array from shape (72,) into shape (512,)\n",
      "Some exception occured\n",
      "could not broadcast input array from shape (72,) into shape (512,)\n",
      "Some exception occured\n",
      "could not broadcast input array from shape (72,) into shape (512,)\n",
      "Some exception occured\n",
      "could not broadcast input array from shape (72,) into shape (512,)\n",
      "Some exception occured\n",
      "could not broadcast input array from shape (72,) into shape (512,)\n",
      "Some exception occured\n",
      "could not broadcast input array from shape (72,) into shape (512,)\n",
      "Some exception occured\n",
      "could not broadcast input array from shape (72,) into shape (512,)\n",
      "Some exception occured\n",
      "could not broadcast input array from shape (72,) into shape (512,)\n",
      "Some exception occured\n",
      "could not broadcast input array from shape (72,) into shape (512,)\n",
      "Some exception occured\n",
      "could not broadcast input array from shape (72,) into shape (512,)\n",
      "Some exception occured\n",
      "could not broadcast input array from shape (72,) into shape (512,)\n",
      "Some exception occured\n",
      "could not broadcast input array from shape (72,) into shape (512,)\n",
      "Some exception occured\n",
      "could not broadcast input array from shape (72,) into shape (512,)\n",
      "Some exception occured\n",
      "could not broadcast input array from shape (72,) into shape (512,)\n",
      "Some exception occured\n",
      "could not broadcast input array from shape (72,) into shape (512,)\n",
      "Some exception occured\n"
     ]
    },
    {
     "name": "stderr",
     "output_type": "stream",
     "text": [
      "747it [00:05, 155.88it/s]"
     ]
    },
    {
     "name": "stdout",
     "output_type": "stream",
     "text": [
      "could not broadcast input array from shape (72,) into shape (512,)\n",
      "Some exception occured\n",
      "could not broadcast input array from shape (72,) into shape (512,)\n",
      "Some exception occured\n",
      "could not broadcast input array from shape (72,) into shape (512,)\n",
      "Some exception occured\n",
      "could not broadcast input array from shape (73,) into shape (512,)\n",
      "Some exception occured\n",
      "could not broadcast input array from shape (72,) into shape (512,)\n",
      "Some exception occured\n",
      "could not broadcast input array from shape (72,) into shape (512,)\n",
      "Some exception occured\n",
      "could not broadcast input array from shape (72,) into shape (512,)\n",
      "Some exception occured\n",
      "could not broadcast input array from shape (71,) into shape (512,)\n",
      "Some exception occured\n",
      "could not broadcast input array from shape (72,) into shape (512,)\n",
      "Some exception occured\n",
      "could not broadcast input array from shape (72,) into shape (512,)\n",
      "Some exception occured\n",
      "could not broadcast input array from shape (72,) into shape (512,)\n",
      "Some exception occured\n",
      "could not broadcast input array from shape (72,) into shape (512,)\n",
      "Some exception occured\n",
      "could not broadcast input array from shape (72,) into shape (512,)\n",
      "Some exception occured\n",
      "could not broadcast input array from shape (72,) into shape (512,)\n",
      "Some exception occured\n",
      "could not broadcast input array from shape (72,) into shape (512,)\n",
      "Some exception occured\n",
      "could not broadcast input array from shape (72,) into shape (512,)\n",
      "Some exception occured\n"
     ]
    },
    {
     "name": "stderr",
     "output_type": "stream",
     "text": [
      "\r",
      "768it [00:05, 168.58it/s]"
     ]
    },
    {
     "name": "stdout",
     "output_type": "stream",
     "text": [
      "could not broadcast input array from shape (72,) into shape (512,)\n",
      "Some exception occured\n",
      "could not broadcast input array from shape (73,) into shape (512,)\n",
      "Some exception occured\n",
      "could not broadcast input array from shape (319,) into shape (512,)\n",
      "Some exception occured\n",
      "could not broadcast input array from shape (72,) into shape (512,)\n",
      "Some exception occured\n",
      "could not broadcast input array from shape (72,) into shape (512,)\n",
      "Some exception occured\n",
      "could not broadcast input array from shape (72,) into shape (512,)\n",
      "Some exception occured\n",
      "could not broadcast input array from shape (72,) into shape (512,)\n",
      "Some exception occured\n",
      "could not broadcast input array from shape (72,) into shape (512,)\n",
      "Some exception occured\n",
      "could not broadcast input array from shape (72,) into shape (512,)\n",
      "Some exception occured\n",
      "could not broadcast input array from shape (73,) into shape (512,)\n",
      "Some exception occured\n",
      "could not broadcast input array from shape (73,) into shape (512,)\n",
      "Some exception occured\n",
      "could not broadcast input array from shape (71,) into shape (512,)\n",
      "Some exception occured\n",
      "could not broadcast input array from shape (72,) into shape (512,)\n",
      "Some exception occured\n",
      "could not broadcast input array from shape (72,) into shape (512,)\n",
      "Some exception occured\n",
      "could not broadcast input array from shape (72,) into shape (512,)\n",
      "Some exception occured\n",
      "could not broadcast input array from shape (72,) into shape (512,)\n",
      "Some exception occured\n",
      "could not broadcast input array from shape (72,) into shape (512,)\n",
      "Some exception occured\n",
      "could not broadcast input array from shape (72,) into shape (512,)\n",
      "Some exception occured\n",
      "could not broadcast input array from shape (72,) into shape (512,)\n",
      "Some exception occured\n"
     ]
    },
    {
     "name": "stderr",
     "output_type": "stream",
     "text": [
      "805it [00:06, 161.21it/s]"
     ]
    },
    {
     "name": "stdout",
     "output_type": "stream",
     "text": [
      "could not broadcast input array from shape (111,) into shape (512,)\n",
      "Some exception occured\n",
      "could not broadcast input array from shape (72,) into shape (512,)\n",
      "Some exception occured\n",
      "could not broadcast input array from shape (72,) into shape (512,)\n",
      "Some exception occured\n",
      "could not broadcast input array from shape (72,) into shape (512,)\n",
      "Some exception occured\n",
      "could not broadcast input array from shape (72,) into shape (512,)\n",
      "Some exception occured\n",
      "could not broadcast input array from shape (72,) into shape (512,)\n",
      "Some exception occured\n",
      "could not broadcast input array from shape (72,) into shape (512,)\n",
      "Some exception occured\n",
      "could not broadcast input array from shape (72,) into shape (512,)\n",
      "Some exception occured\n",
      "could not broadcast input array from shape (72,) into shape (512,)\n",
      "Some exception occured\n",
      "could not broadcast input array from shape (72,) into shape (512,)\n",
      "Some exception occured\n",
      "could not broadcast input array from shape (71,) into shape (512,)\n",
      "Some exception occured\n",
      "could not broadcast input array from shape (72,) into shape (512,)\n",
      "Some exception occured\n",
      "could not broadcast input array from shape (72,) into shape (512,)\n",
      "Some exception occured\n",
      "could not broadcast input array from shape (72,) into shape (512,)\n",
      "Some exception occured\n",
      "could not broadcast input array from shape (72,) into shape (512,)\n",
      "Some exception occured\n",
      "could not broadcast input array from shape (72,) into shape (512,)\n",
      "Some exception occured\n",
      "could not broadcast input array from shape (72,) into shape (512,)\n",
      "Some exception occured\n",
      "could not broadcast input array from shape (72,) into shape (512,)\n",
      "Some exception occured\n",
      "could not broadcast input array from shape (72,) into shape (512,)\n",
      "Some exception occured\n",
      "could not broadcast input array from shape (72,) into shape (512,)\n",
      "Some exception occured\n",
      "could not broadcast input array from shape (72,) into shape (512,)\n",
      "Some exception occured\n",
      "could not broadcast input array from shape (72,) into shape (512,)\n",
      "Some exception occured\n",
      "could not broadcast input array from shape (72,) into shape (512,)\n",
      "Some exception occured\n",
      "could not broadcast input array from shape (72,) into shape (512,)\n",
      "Some exception occured\n",
      "could not broadcast input array from shape (73,) into shape (512,)\n",
      "Some exception occured\n",
      "could not broadcast input array from shape (73,) into shape (512,)\n",
      "Some exception occured\n",
      "could not broadcast input array from shape (72,) into shape (512,)\n",
      "Some exception occured\n"
     ]
    },
    {
     "name": "stderr",
     "output_type": "stream",
     "text": [
      "849it [00:06, 161.53it/s]"
     ]
    },
    {
     "name": "stdout",
     "output_type": "stream",
     "text": [
      "could not broadcast input array from shape (72,) into shape (512,)\n",
      "Some exception occured\n",
      "could not broadcast input array from shape (72,) into shape (512,)\n",
      "Some exception occured\n",
      "could not broadcast input array from shape (72,) into shape (512,)\n",
      "Some exception occured\n",
      "could not broadcast input array from shape (72,) into shape (512,)\n",
      "Some exception occured\n",
      "could not broadcast input array from shape (72,) into shape (512,)\n",
      "Some exception occured\n",
      "could not broadcast input array from shape (72,) into shape (512,)\n",
      "Some exception occured\n",
      "could not broadcast input array from shape (73,) into shape (512,)\n",
      "Some exception occured\n",
      "could not broadcast input array from shape (72,) into shape (512,)\n",
      "Some exception occured\n",
      "could not broadcast input array from shape (72,) into shape (512,)\n",
      "Some exception occured\n",
      "could not broadcast input array from shape (72,) into shape (512,)\n",
      "Some exception occured\n",
      "could not broadcast input array from shape (72,) into shape (512,)\n",
      "Some exception occured\n"
     ]
    },
    {
     "name": "stderr",
     "output_type": "stream",
     "text": [
      "892it [00:06, 181.53it/s]"
     ]
    },
    {
     "name": "stdout",
     "output_type": "stream",
     "text": [
      "could not broadcast input array from shape (71,) into shape (512,)\n",
      "Some exception occured\n",
      "could not broadcast input array from shape (72,) into shape (512,)\n",
      "Some exception occured\n",
      "could not broadcast input array from shape (72,) into shape (512,)\n",
      "Some exception occured\n",
      "could not broadcast input array from shape (72,) into shape (512,)\n",
      "Some exception occured\n",
      "could not broadcast input array from shape (72,) into shape (512,)\n",
      "Some exception occured\n",
      "could not broadcast input array from shape (72,) into shape (512,)\n",
      "Some exception occured\n",
      "could not broadcast input array from shape (72,) into shape (512,)\n",
      "Some exception occured\n",
      "could not broadcast input array from shape (72,) into shape (512,)\n",
      "Some exception occured\n",
      "could not broadcast input array from shape (72,) into shape (512,)\n",
      "Some exception occured\n",
      "could not broadcast input array from shape (71,) into shape (512,)\n",
      "Some exception occured\n",
      "could not broadcast input array from shape (72,) into shape (512,)\n",
      "Some exception occured\n",
      "could not broadcast input array from shape (72,) into shape (512,)\n",
      "Some exception occured\n",
      "could not broadcast input array from shape (72,) into shape (512,)\n",
      "Some exception occured\n",
      "could not broadcast input array from shape (72,) into shape (512,)\n",
      "Some exception occured\n",
      "could not broadcast input array from shape (72,) into shape (512,)\n",
      "Some exception occured\n",
      "could not broadcast input array from shape (72,) into shape (512,)\n",
      "Some exception occured\n",
      "could not broadcast input array from shape (72,) into shape (512,)\n",
      "Some exception occured\n",
      "could not broadcast input array from shape (72,) into shape (512,)\n",
      "Some exception occured\n",
      "could not broadcast input array from shape (72,) into shape (512,)\n",
      "Some exception occured\n",
      "could not broadcast input array from shape (72,) into shape (512,)\n",
      "Some exception occured\n",
      "could not broadcast input array from shape (72,) into shape (512,)\n",
      "Some exception occured\n",
      "could not broadcast input array from shape (72,) into shape (512,)\n",
      "Some exception occured\n",
      "could not broadcast input array from shape (424,) into shape (512,)\n",
      "Some exception occured\n",
      "could not broadcast input array from shape (89,) into shape (512,)\n",
      "Some exception occured\n",
      "could not broadcast input array from shape (160,) into shape (512,)\n",
      "Some exception occured\n"
     ]
    },
    {
     "name": "stderr",
     "output_type": "stream",
     "text": [
      "\r",
      "911it [00:06, 163.95it/s]"
     ]
    },
    {
     "name": "stdout",
     "output_type": "stream",
     "text": [
      "could not broadcast input array from shape (72,) into shape (512,)\n",
      "Some exception occured\n",
      "could not broadcast input array from shape (477,) into shape (512,)\n",
      "Some exception occured\n",
      "could not broadcast input array from shape (283,) into shape (512,)\n",
      "Some exception occured\n",
      "could not broadcast input array from shape (456,) into shape (512,)\n",
      "Some exception occured\n",
      "could not broadcast input array from shape (301,) into shape (512,)\n",
      "Some exception occured\n",
      "could not broadcast input array from shape (358,) into shape (512,)\n",
      "Some exception occured\n",
      "could not broadcast input array from shape (143,) into shape (512,)\n",
      "Some exception occured\n",
      "could not broadcast input array from shape (116,) into shape (512,)\n",
      "Some exception occured\n",
      "could not broadcast input array from shape (72,) into shape (512,)\n",
      "Some exception occured\n",
      "could not broadcast input array from shape (177,) into shape (512,)\n",
      "Some exception occured\n",
      "could not broadcast input array from shape (160,) into shape (512,)\n",
      "Some exception occured\n",
      "could not broadcast input array from shape (72,) into shape (512,)\n",
      "Some exception occured\n",
      "could not broadcast input array from shape (284,) into shape (512,)\n",
      "Some exception occured\n"
     ]
    },
    {
     "name": "stderr",
     "output_type": "stream",
     "text": [
      "945it [00:06, 164.36it/s]"
     ]
    },
    {
     "name": "stdout",
     "output_type": "stream",
     "text": [
      "could not broadcast input array from shape (478,) into shape (512,)\n",
      "Some exception occured\n",
      "could not broadcast input array from shape (509,) into shape (512,)\n",
      "Some exception occured\n",
      "could not broadcast input array from shape (95,) into shape (512,)\n",
      "Some exception occured\n",
      "could not broadcast input array from shape (288,) into shape (512,)\n",
      "Some exception occured\n",
      "could not broadcast input array from shape (310,) into shape (512,)\n",
      "Some exception occured\n",
      "could not broadcast input array from shape (341,) into shape (512,)\n",
      "Some exception occured\n",
      "could not broadcast input array from shape (262,) into shape (512,)\n",
      "Some exception occured\n",
      "could not broadcast input array from shape (151,) into shape (512,)\n",
      "Some exception occured\n",
      "could not broadcast input array from shape (239,) into shape (512,)\n",
      "Some exception occured\n",
      "could not broadcast input array from shape (143,) into shape (512,)\n",
      "Some exception occured\n",
      "could not broadcast input array from shape (456,) into shape (512,)\n",
      "Some exception occured\n",
      "could not broadcast input array from shape (327,) into shape (512,)\n",
      "Some exception occured\n"
     ]
    },
    {
     "name": "stderr",
     "output_type": "stream",
     "text": [
      "978it [00:07, 141.35it/s]"
     ]
    },
    {
     "name": "stdout",
     "output_type": "stream",
     "text": [
      "could not broadcast input array from shape (235,) into shape (512,)\n",
      "Some exception occured\n",
      "could not broadcast input array from shape (258,) into shape (512,)\n",
      "Some exception occured\n",
      "could not broadcast input array from shape (451,) into shape (512,)\n",
      "Some exception occured\n",
      "could not broadcast input array from shape (142,) into shape (512,)\n",
      "Some exception occured\n",
      "could not broadcast input array from shape (460,) into shape (512,)\n",
      "Some exception occured\n",
      "could not broadcast input array from shape (183,) into shape (512,)\n",
      "Some exception occured\n",
      "could not broadcast input array from shape (483,) into shape (512,)\n",
      "Some exception occured\n",
      "could not broadcast input array from shape (72,) into shape (512,)\n",
      "Some exception occured\n"
     ]
    },
    {
     "name": "stderr",
     "output_type": "stream",
     "text": [
      "\r",
      "997it [00:07, 152.02it/s]"
     ]
    },
    {
     "name": "stdout",
     "output_type": "stream",
     "text": [
      "could not broadcast input array from shape (85,) into shape (512,)\n",
      "Some exception occured\n",
      "could not broadcast input array from shape (310,) into shape (512,)\n",
      "Some exception occured\n",
      "could not broadcast input array from shape (239,) into shape (512,)\n",
      "Some exception occured\n",
      "could not broadcast input array from shape (323,) into shape (512,)\n",
      "Some exception occured\n",
      "could not broadcast input array from shape (108,) into shape (512,)\n",
      "Some exception occured\n",
      "could not broadcast input array from shape (217,) into shape (512,)\n",
      "Some exception occured\n",
      "could not broadcast input array from shape (364,) into shape (512,)\n",
      "Some exception occured\n",
      "could not broadcast input array from shape (71,) into shape (512,)\n",
      "Some exception occured\n",
      "could not broadcast input array from shape (72,) into shape (512,)\n",
      "Some exception occured\n",
      "could not broadcast input array from shape (407,) into shape (512,)\n",
      "Some exception occured\n",
      "could not broadcast input array from shape (72,) into shape (512,)\n",
      "Some exception occured\n",
      "could not broadcast input array from shape (509,) into shape (512,)\n",
      "Some exception occured\n",
      "could not broadcast input array from shape (354,) into shape (512,)\n",
      "Some exception occured\n",
      "could not broadcast input array from shape (226,) into shape (512,)\n",
      "Some exception occured\n",
      "could not broadcast input array from shape (292,) into shape (512,)\n",
      "Some exception occured\n"
     ]
    },
    {
     "name": "stderr",
     "output_type": "stream",
     "text": [
      "1029it [00:07, 153.79it/s]"
     ]
    },
    {
     "name": "stdout",
     "output_type": "stream",
     "text": [
      "could not broadcast input array from shape (72,) into shape (512,)\n",
      "Some exception occured\n",
      "could not broadcast input array from shape (487,) into shape (512,)\n",
      "Some exception occured\n",
      "could not broadcast input array from shape (196,) into shape (512,)\n",
      "Some exception occured\n",
      "could not broadcast input array from shape (407,) into shape (512,)\n",
      "Some exception occured\n",
      "could not broadcast input array from shape (283,) into shape (512,)\n",
      "Some exception occured\n",
      "could not broadcast input array from shape (152,) into shape (512,)\n",
      "Some exception occured\n",
      "could not broadcast input array from shape (465,) into shape (512,)\n",
      "Some exception occured\n",
      "could not broadcast input array from shape (337,) into shape (512,)\n",
      "Some exception occured\n",
      "could not broadcast input array from shape (195,) into shape (512,)\n",
      "Some exception occured\n",
      "could not broadcast input array from shape (478,) into shape (512,)\n",
      "Some exception occured\n"
     ]
    },
    {
     "name": "stderr",
     "output_type": "stream",
     "text": [
      "\r",
      "1045it [00:07, 126.92it/s]"
     ]
    },
    {
     "name": "stdout",
     "output_type": "stream",
     "text": [
      "could not broadcast input array from shape (72,) into shape (512,)\n",
      "Some exception occured\n",
      "could not broadcast input array from shape (134,) into shape (512,)\n",
      "Some exception occured\n",
      "could not broadcast input array from shape (311,) into shape (512,)\n",
      "Some exception occured\n"
     ]
    },
    {
     "name": "stderr",
     "output_type": "stream",
     "text": [
      "1082it [00:08, 99.88it/s] "
     ]
    },
    {
     "name": "stdout",
     "output_type": "stream",
     "text": [
      "could not broadcast input array from shape (487,) into shape (512,)\n",
      "Some exception occured\n",
      "could not broadcast input array from shape (200,) into shape (512,)\n",
      "Some exception occured\n",
      "could not broadcast input array from shape (71,) into shape (512,)\n",
      "Some exception occured\n",
      "could not broadcast input array from shape (288,) into shape (512,)\n",
      "Some exception occured\n",
      "could not broadcast input array from shape (169,) into shape (512,)\n",
      "Some exception occured\n",
      "could not broadcast input array from shape (72,) into shape (512,)\n",
      "Some exception occured\n",
      "could not broadcast input array from shape (90,) into shape (512,)\n",
      "Some exception occured\n",
      "could not broadcast input array from shape (72,) into shape (512,)\n",
      "Some exception occured\n",
      "could not broadcast input array from shape (218,) into shape (512,)\n",
      "Some exception occured\n"
     ]
    },
    {
     "name": "stderr",
     "output_type": "stream",
     "text": [
      "1115it [00:08, 126.50it/s]"
     ]
    },
    {
     "name": "stdout",
     "output_type": "stream",
     "text": [
      "could not broadcast input array from shape (72,) into shape (512,)\n",
      "Some exception occured\n",
      "could not broadcast input array from shape (72,) into shape (512,)\n",
      "Some exception occured\n",
      "could not broadcast input array from shape (491,) into shape (512,)\n",
      "Some exception occured\n",
      "could not broadcast input array from shape (155,) into shape (512,)\n",
      "Some exception occured\n",
      "could not broadcast input array from shape (230,) into shape (512,)\n",
      "Some exception occured\n",
      "could not broadcast input array from shape (116,) into shape (512,)\n",
      "Some exception occured\n",
      "could not broadcast input array from shape (213,) into shape (512,)\n",
      "Some exception occured\n",
      "could not broadcast input array from shape (222,) into shape (512,)\n",
      "Some exception occured\n",
      "could not broadcast input array from shape (235,) into shape (512,)\n",
      "Some exception occured\n",
      "could not broadcast input array from shape (72,) into shape (512,)\n",
      "Some exception occured\n",
      "could not broadcast input array from shape (252,) into shape (512,)\n",
      "Some exception occured\n",
      "could not broadcast input array from shape (155,) into shape (512,)\n",
      "Some exception occured\n",
      "could not broadcast input array from shape (134,) into shape (512,)\n",
      "Some exception occured\n",
      "could not broadcast input array from shape (72,) into shape (512,)\n",
      "Some exception occured\n",
      "could not broadcast input array from shape (94,) into shape (512,)\n",
      "Some exception occured\n",
      "could not broadcast input array from shape (231,) into shape (512,)\n",
      "Some exception occured\n"
     ]
    },
    {
     "name": "stderr",
     "output_type": "stream",
     "text": [
      "1143it [00:08, 119.54it/s]"
     ]
    },
    {
     "name": "stdout",
     "output_type": "stream",
     "text": [
      "could not broadcast input array from shape (72,) into shape (512,)\n",
      "Some exception occured\n",
      "could not broadcast input array from shape (390,) into shape (512,)\n",
      "Some exception occured\n",
      "could not broadcast input array from shape (72,) into shape (512,)\n",
      "Some exception occured\n",
      "could not broadcast input array from shape (72,) into shape (512,)\n",
      "Some exception occured\n",
      "could not broadcast input array from shape (257,) into shape (512,)\n",
      "Some exception occured\n",
      "could not broadcast input array from shape (142,) into shape (512,)\n",
      "Some exception occured\n",
      "could not broadcast input array from shape (327,) into shape (512,)\n",
      "Some exception occured\n",
      "could not broadcast input array from shape (99,) into shape (512,)\n",
      "Some exception occured\n",
      "could not broadcast input array from shape (305,) into shape (512,)\n",
      "Some exception occured\n",
      "could not broadcast input array from shape (142,) into shape (512,)\n",
      "Some exception occured\n",
      "could not broadcast input array from shape (213,) into shape (512,)\n",
      "Some exception occured\n",
      "could not broadcast input array from shape (420,) into shape (512,)\n",
      "Some exception occured\n",
      "could not broadcast input array from shape (284,) into shape (512,)\n",
      "Some exception occured\n",
      "could not broadcast input array from shape (429,) into shape (512,)\n",
      "Some exception occured\n"
     ]
    },
    {
     "name": "stderr",
     "output_type": "stream",
     "text": [
      "1200it [00:08, 157.19it/s]"
     ]
    },
    {
     "name": "stdout",
     "output_type": "stream",
     "text": [
      "could not broadcast input array from shape (73,) into shape (512,)\n",
      "Some exception occured\n",
      "could not broadcast input array from shape (112,) into shape (512,)\n",
      "Some exception occured\n",
      "could not broadcast input array from shape (491,) into shape (512,)\n",
      "Some exception occured\n",
      "could not broadcast input array from shape (438,) into shape (512,)\n",
      "Some exception occured\n",
      "could not broadcast input array from shape (425,) into shape (512,)\n",
      "Some exception occured\n",
      "could not broadcast input array from shape (174,) into shape (512,)\n",
      "Some exception occured\n",
      "could not broadcast input array from shape (239,) into shape (512,)\n",
      "Some exception occured\n",
      "could not broadcast input array from shape (120,) into shape (512,)\n",
      "Some exception occured\n",
      "could not broadcast input array from shape (359,) into shape (512,)\n",
      "Some exception occured\n",
      "could not broadcast input array from shape (95,) into shape (512,)\n",
      "Some exception occured\n",
      "could not broadcast input array from shape (222,) into shape (512,)\n",
      "Some exception occured\n",
      "could not broadcast input array from shape (213,) into shape (512,)\n",
      "Some exception occured\n",
      "could not broadcast input array from shape (72,) into shape (512,)\n",
      "Some exception occured\n",
      "could not broadcast input array from shape (72,) into shape (512,)\n",
      "Some exception occured\n",
      "could not broadcast input array from shape (147,) into shape (512,)\n",
      "Some exception occured\n",
      "could not broadcast input array from shape (275,) into shape (512,)\n",
      "Some exception occured\n",
      "could not broadcast input array from shape (205,) into shape (512,)\n",
      "Some exception occured\n",
      "could not broadcast input array from shape (398,) into shape (512,)\n",
      "Some exception occured\n",
      "could not broadcast input array from shape (385,) into shape (512,)\n",
      "Some exception occured\n",
      "could not broadcast input array from shape (72,) into shape (512,)\n",
      "Some exception occured\n"
     ]
    },
    {
     "name": "stderr",
     "output_type": "stream",
     "text": [
      "\r",
      "1218it [00:08, 163.02it/s]"
     ]
    },
    {
     "name": "stdout",
     "output_type": "stream",
     "text": [
      "could not broadcast input array from shape (72,) into shape (512,)\n",
      "Some exception occured\n",
      "could not broadcast input array from shape (72,) into shape (512,)\n",
      "Some exception occured\n",
      "could not broadcast input array from shape (461,) into shape (512,)\n",
      "Some exception occured\n",
      "could not broadcast input array from shape (240,) into shape (512,)\n",
      "Some exception occured\n",
      "could not broadcast input array from shape (130,) into shape (512,)\n",
      "Some exception occured\n",
      "could not broadcast input array from shape (469,) into shape (512,)\n",
      "Some exception occured\n",
      "could not broadcast input array from shape (372,) into shape (512,)\n",
      "Some exception occured\n",
      "could not broadcast input array from shape (72,) into shape (512,)\n",
      "Some exception occured\n",
      "could not broadcast input array from shape (72,) into shape (512,)\n",
      "Some exception occured\n",
      "could not broadcast input array from shape (72,) into shape (512,)\n",
      "Some exception occured\n",
      "could not broadcast input array from shape (73,) into shape (512,)\n",
      "Some exception occured\n",
      "could not broadcast input array from shape (71,) into shape (512,)\n",
      "Some exception occured\n",
      "could not broadcast input array from shape (420,) into shape (512,)\n",
      "Some exception occured\n",
      "could not broadcast input array from shape (72,) into shape (512,)\n",
      "Some exception occured\n"
     ]
    },
    {
     "name": "stderr",
     "output_type": "stream",
     "text": [
      "1251it [00:09, 138.34it/s]"
     ]
    },
    {
     "name": "stdout",
     "output_type": "stream",
     "text": [
      "could not broadcast input array from shape (72,) into shape (512,)\n",
      "Some exception occured\n",
      "could not broadcast input array from shape (257,) into shape (512,)\n",
      "Some exception occured\n",
      "could not broadcast input array from shape (456,) into shape (512,)\n",
      "Some exception occured\n",
      "could not broadcast input array from shape (266,) into shape (512,)\n",
      "Some exception occured\n",
      "could not broadcast input array from shape (486,) into shape (512,)\n",
      "Some exception occured\n",
      "could not broadcast input array from shape (314,) into shape (512,)\n",
      "Some exception occured\n"
     ]
    },
    {
     "name": "stderr",
     "output_type": "stream",
     "text": [
      "1292it [00:09, 161.16it/s]"
     ]
    },
    {
     "name": "stdout",
     "output_type": "stream",
     "text": [
      "could not broadcast input array from shape (416,) into shape (512,)\n",
      "Some exception occured\n",
      "could not broadcast input array from shape (381,) into shape (512,)\n",
      "Some exception occured\n",
      "could not broadcast input array from shape (147,) into shape (512,)\n",
      "Some exception occured\n",
      "could not broadcast input array from shape (367,) into shape (512,)\n",
      "Some exception occured\n",
      "could not broadcast input array from shape (107,) into shape (512,)\n",
      "Some exception occured\n",
      "could not broadcast input array from shape (394,) into shape (512,)\n",
      "Some exception occured\n",
      "could not broadcast input array from shape (165,) into shape (512,)\n",
      "Some exception occured\n",
      "could not broadcast input array from shape (495,) into shape (512,)\n",
      "Some exception occured\n",
      "could not broadcast input array from shape (230,) into shape (512,)\n",
      "Some exception occured\n",
      "could not broadcast input array from shape (72,) into shape (512,)\n",
      "Some exception occured\n",
      "could not broadcast input array from shape (275,) into shape (512,)\n",
      "Some exception occured\n",
      "could not broadcast input array from shape (275,) into shape (512,)\n",
      "Some exception occured\n",
      "could not broadcast input array from shape (213,) into shape (512,)\n",
      "Some exception occured\n",
      "could not broadcast input array from shape (160,) into shape (512,)\n",
      "Some exception occured\n",
      "could not broadcast input array from shape (460,) into shape (512,)\n",
      "Some exception occured\n",
      "could not broadcast input array from shape (116,) into shape (512,)\n",
      "Some exception occured\n",
      "could not broadcast input array from shape (133,) into shape (512,)\n",
      "Some exception occured\n",
      "could not broadcast input array from shape (341,) into shape (512,)\n",
      "Some exception occured\n",
      "could not broadcast input array from shape (195,) into shape (512,)\n",
      "Some exception occured\n",
      "could not broadcast input array from shape (160,) into shape (512,)\n",
      "Some exception occured\n",
      "could not broadcast input array from shape (161,) into shape (512,)\n",
      "Some exception occured\n",
      "could not broadcast input array from shape (358,) into shape (512,)\n",
      "Some exception occured\n"
     ]
    },
    {
     "name": "stderr",
     "output_type": "stream",
     "text": [
      "1325it [00:09, 149.21it/s]"
     ]
    },
    {
     "name": "stdout",
     "output_type": "stream",
     "text": [
      "could not broadcast input array from shape (72,) into shape (512,)\n",
      "Some exception occured\n",
      "could not broadcast input array from shape (72,) into shape (512,)\n",
      "Some exception occured\n",
      "could not broadcast input array from shape (72,) into shape (512,)\n",
      "Some exception occured\n",
      "could not broadcast input array from shape (72,) into shape (512,)\n",
      "Some exception occured\n",
      "could not broadcast input array from shape (72,) into shape (512,)\n",
      "Some exception occured\n",
      "could not broadcast input array from shape (71,) into shape (512,)\n",
      "Some exception occured\n",
      "could not broadcast input array from shape (72,) into shape (512,)\n",
      "Some exception occured\n",
      "could not broadcast input array from shape (72,) into shape (512,)\n",
      "Some exception occured\n",
      "could not broadcast input array from shape (72,) into shape (512,)\n",
      "Some exception occured\n",
      "could not broadcast input array from shape (71,) into shape (512,)\n",
      "Some exception occured\n",
      "could not broadcast input array from shape (72,) into shape (512,)\n",
      "Some exception occured\n"
     ]
    },
    {
     "name": "stderr",
     "output_type": "stream",
     "text": [
      "1356it [00:09, 143.43it/s]"
     ]
    },
    {
     "name": "stdout",
     "output_type": "stream",
     "text": [
      "could not broadcast input array from shape (72,) into shape (512,)\n",
      "Some exception occured\n",
      "could not broadcast input array from shape (72,) into shape (512,)\n",
      "Some exception occured\n",
      "could not broadcast input array from shape (72,) into shape (512,)\n",
      "Some exception occured\n",
      "could not broadcast input array from shape (72,) into shape (512,)\n",
      "Some exception occured\n",
      "could not broadcast input array from shape (72,) into shape (512,)\n",
      "Some exception occured\n",
      "could not broadcast input array from shape (73,) into shape (512,)\n",
      "Some exception occured\n",
      "could not broadcast input array from shape (71,) into shape (512,)\n",
      "Some exception occured\n",
      "could not broadcast input array from shape (72,) into shape (512,)\n",
      "Some exception occured\n",
      "could not broadcast input array from shape (72,) into shape (512,)\n",
      "Some exception occured\n",
      "could not broadcast input array from shape (71,) into shape (512,)\n",
      "Some exception occured\n",
      "could not broadcast input array from shape (72,) into shape (512,)\n",
      "Some exception occured\n",
      "could not broadcast input array from shape (73,) into shape (512,)\n",
      "Some exception occured\n",
      "could not broadcast input array from shape (72,) into shape (512,)\n",
      "Some exception occured\n",
      "could not broadcast input array from shape (177,) into shape (512,)\n",
      "Some exception occured\n",
      "could not broadcast input array from shape (72,) into shape (512,)\n",
      "Some exception occured\n",
      "could not broadcast input array from shape (72,) into shape (512,)\n",
      "Some exception occured\n",
      "could not broadcast input array from shape (72,) into shape (512,)\n",
      "Some exception occured\n",
      "could not broadcast input array from shape (73,) into shape (512,)\n",
      "Some exception occured\n",
      "could not broadcast input array from shape (72,) into shape (512,)\n",
      "Some exception occured\n",
      "could not broadcast input array from shape (72,) into shape (512,)\n",
      "Some exception occured\n",
      "could not broadcast input array from shape (72,) into shape (512,)\n",
      "Some exception occured\n",
      "could not broadcast input array from shape (72,) into shape (512,)\n",
      "Some exception occured\n"
     ]
    },
    {
     "name": "stderr",
     "output_type": "stream",
     "text": [
      "1394it [00:10, 156.38it/s]"
     ]
    },
    {
     "name": "stdout",
     "output_type": "stream",
     "text": [
      "could not broadcast input array from shape (72,) into shape (512,)\n",
      "Some exception occured\n",
      "could not broadcast input array from shape (72,) into shape (512,)\n",
      "Some exception occured\n",
      "could not broadcast input array from shape (72,) into shape (512,)\n",
      "Some exception occured\n",
      "could not broadcast input array from shape (72,) into shape (512,)\n",
      "Some exception occured\n",
      "could not broadcast input array from shape (72,) into shape (512,)\n",
      "Some exception occured\n",
      "could not broadcast input array from shape (72,) into shape (512,)\n",
      "Some exception occured\n",
      "could not broadcast input array from shape (72,) into shape (512,)\n",
      "Some exception occured\n",
      "could not broadcast input array from shape (72,) into shape (512,)\n",
      "Some exception occured\n",
      "could not broadcast input array from shape (72,) into shape (512,)\n",
      "Some exception occured\n",
      "could not broadcast input array from shape (205,) into shape (512,)\n",
      "Some exception occured\n",
      "could not broadcast input array from shape (72,) into shape (512,)\n",
      "Some exception occured\n",
      "could not broadcast input array from shape (72,) into shape (512,)\n",
      "Some exception occured\n",
      "could not broadcast input array from shape (72,) into shape (512,)\n",
      "Some exception occured\n"
     ]
    },
    {
     "name": "stderr",
     "output_type": "stream",
     "text": [
      "1433it [00:10, 167.46it/s]"
     ]
    },
    {
     "name": "stdout",
     "output_type": "stream",
     "text": [
      "could not broadcast input array from shape (72,) into shape (512,)\n",
      "Some exception occured\n",
      "could not broadcast input array from shape (72,) into shape (512,)\n",
      "Some exception occured\n",
      "could not broadcast input array from shape (72,) into shape (512,)\n",
      "Some exception occured\n",
      "could not broadcast input array from shape (72,) into shape (512,)\n",
      "Some exception occured\n",
      "could not broadcast input array from shape (72,) into shape (512,)\n",
      "Some exception occured\n",
      "could not broadcast input array from shape (71,) into shape (512,)\n",
      "Some exception occured\n",
      "could not broadcast input array from shape (73,) into shape (512,)\n",
      "Some exception occured\n",
      "could not broadcast input array from shape (72,) into shape (512,)\n",
      "Some exception occured\n",
      "could not broadcast input array from shape (72,) into shape (512,)\n",
      "Some exception occured\n",
      "could not broadcast input array from shape (73,) into shape (512,)\n",
      "Some exception occured\n",
      "could not broadcast input array from shape (72,) into shape (512,)\n",
      "Some exception occured\n",
      "could not broadcast input array from shape (72,) into shape (512,)\n",
      "Some exception occured\n",
      "could not broadcast input array from shape (72,) into shape (512,)\n",
      "Some exception occured\n",
      "could not broadcast input array from shape (72,) into shape (512,)\n",
      "Some exception occured\n",
      "could not broadcast input array from shape (72,) into shape (512,)\n",
      "Some exception occured\n",
      "could not broadcast input array from shape (72,) into shape (512,)\n",
      "Some exception occured\n",
      "could not broadcast input array from shape (134,) into shape (512,)\n",
      "Some exception occured\n",
      "could not broadcast input array from shape (372,) into shape (512,)\n",
      "Some exception occured\n"
     ]
    },
    {
     "name": "stderr",
     "output_type": "stream",
     "text": [
      "1467it [00:10, 145.73it/s]"
     ]
    },
    {
     "name": "stdout",
     "output_type": "stream",
     "text": [
      "could not broadcast input array from shape (319,) into shape (512,)\n",
      "Some exception occured\n",
      "could not broadcast input array from shape (319,) into shape (512,)\n",
      "Some exception occured\n",
      "could not broadcast input array from shape (160,) into shape (512,)\n",
      "Some exception occured\n",
      "could not broadcast input array from shape (447,) into shape (512,)\n",
      "Some exception occured\n",
      "could not broadcast input array from shape (218,) into shape (512,)\n",
      "Some exception occured\n",
      "could not broadcast input array from shape (372,) into shape (512,)\n",
      "Some exception occured\n",
      "could not broadcast input array from shape (447,) into shape (512,)\n",
      "Some exception occured\n",
      "could not broadcast input array from shape (425,) into shape (512,)\n",
      "Some exception occured\n",
      "could not broadcast input array from shape (240,) into shape (512,)\n",
      "Some exception occured\n"
     ]
    },
    {
     "name": "stderr",
     "output_type": "stream",
     "text": [
      "\r",
      "1483it [00:10, 137.11it/s]"
     ]
    },
    {
     "name": "stdout",
     "output_type": "stream",
     "text": [
      "could not broadcast input array from shape (160,) into shape (512,)\n",
      "Some exception occured\n",
      "could not broadcast input array from shape (218,) into shape (512,)\n",
      "Some exception occured\n"
     ]
    },
    {
     "name": "stderr",
     "output_type": "stream",
     "text": [
      "1523it [00:11, 156.87it/s]"
     ]
    },
    {
     "name": "stdout",
     "output_type": "stream",
     "text": [
      "could not broadcast input array from shape (71,) into shape (512,)\n",
      "Some exception occured\n",
      "could not broadcast input array from shape (72,) into shape (512,)\n",
      "Some exception occured\n",
      "could not broadcast input array from shape (72,) into shape (512,)\n",
      "Some exception occured\n",
      "could not broadcast input array from shape (72,) into shape (512,)\n",
      "Some exception occured\n",
      "could not broadcast input array from shape (72,) into shape (512,)\n",
      "Some exception occured\n",
      "could not broadcast input array from shape (72,) into shape (512,)\n",
      "Some exception occured\n",
      "could not broadcast input array from shape (72,) into shape (512,)\n",
      "Some exception occured\n",
      "could not broadcast input array from shape (72,) into shape (512,)\n",
      "Some exception occured\n",
      "could not broadcast input array from shape (72,) into shape (512,)\n",
      "Some exception occured\n",
      "could not broadcast input array from shape (72,) into shape (512,)\n",
      "Some exception occured\n",
      "could not broadcast input array from shape (72,) into shape (512,)\n",
      "Some exception occured\n",
      "could not broadcast input array from shape (72,) into shape (512,)\n",
      "Some exception occured\n",
      "could not broadcast input array from shape (72,) into shape (512,)\n",
      "Some exception occured\n",
      "could not broadcast input array from shape (72,) into shape (512,)\n",
      "Some exception occured\n",
      "could not broadcast input array from shape (72,) into shape (512,)\n",
      "Some exception occured\n",
      "could not broadcast input array from shape (72,) into shape (512,)\n",
      "Some exception occured\n",
      "could not broadcast input array from shape (72,) into shape (512,)\n",
      "Some exception occured\n",
      "could not broadcast input array from shape (72,) into shape (512,)\n",
      "Some exception occured\n",
      "could not broadcast input array from shape (72,) into shape (512,)\n",
      "Some exception occured\n",
      "could not broadcast input array from shape (72,) into shape (512,)\n",
      "Some exception occured\n",
      "could not broadcast input array from shape (72,) into shape (512,)\n",
      "Some exception occured\n",
      "could not broadcast input array from shape (72,) into shape (512,)\n",
      "Some exception occured\n"
     ]
    },
    {
     "name": "stderr",
     "output_type": "stream",
     "text": [
      "1556it [00:11, 139.83it/s]"
     ]
    },
    {
     "name": "stdout",
     "output_type": "stream",
     "text": [
      "could not broadcast input array from shape (72,) into shape (512,)\n",
      "Some exception occured\n",
      "could not broadcast input array from shape (72,) into shape (512,)\n",
      "Some exception occured\n",
      "could not broadcast input array from shape (72,) into shape (512,)\n",
      "Some exception occured\n",
      "could not broadcast input array from shape (73,) into shape (512,)\n",
      "Some exception occured\n",
      "could not broadcast input array from shape (73,) into shape (512,)\n",
      "Some exception occured\n",
      "could not broadcast input array from shape (72,) into shape (512,)\n",
      "Some exception occured\n",
      "could not broadcast input array from shape (72,) into shape (512,)\n",
      "Some exception occured\n"
     ]
    },
    {
     "name": "stderr",
     "output_type": "stream",
     "text": [
      "\r",
      "1571it [00:11, 136.97it/s]"
     ]
    },
    {
     "name": "stdout",
     "output_type": "stream",
     "text": [
      "could not broadcast input array from shape (72,) into shape (512,)\n",
      "Some exception occured\n",
      "could not broadcast input array from shape (72,) into shape (512,)\n",
      "Some exception occured\n",
      "could not broadcast input array from shape (72,) into shape (512,)\n",
      "Some exception occured\n",
      "could not broadcast input array from shape (71,) into shape (512,)\n",
      "Some exception occured\n",
      "could not broadcast input array from shape (72,) into shape (512,)\n",
      "Some exception occured\n",
      "could not broadcast input array from shape (72,) into shape (512,)\n",
      "Some exception occured\n"
     ]
    },
    {
     "name": "stderr",
     "output_type": "stream",
     "text": [
      "1601it [00:11, 132.88it/s]"
     ]
    },
    {
     "name": "stdout",
     "output_type": "stream",
     "text": [
      "could not broadcast input array from shape (72,) into shape (512,)\n",
      "Some exception occured\n",
      "could not broadcast input array from shape (72,) into shape (512,)\n",
      "Some exception occured\n",
      "could not broadcast input array from shape (72,) into shape (512,)\n",
      "Some exception occured\n",
      "could not broadcast input array from shape (72,) into shape (512,)\n",
      "Some exception occured\n",
      "could not broadcast input array from shape (72,) into shape (512,)\n",
      "Some exception occured\n",
      "could not broadcast input array from shape (72,) into shape (512,)\n",
      "Some exception occured\n",
      "could not broadcast input array from shape (72,) into shape (512,)\n",
      "Some exception occured\n",
      "could not broadcast input array from shape (72,) into shape (512,)\n",
      "Some exception occured\n",
      "could not broadcast input array from shape (72,) into shape (512,)\n",
      "Some exception occured\n",
      "could not broadcast input array from shape (72,) into shape (512,)\n",
      "Some exception occured\n",
      "could not broadcast input array from shape (72,) into shape (512,)\n",
      "Some exception occured\n",
      "could not broadcast input array from shape (72,) into shape (512,)\n",
      "Some exception occured\n",
      "could not broadcast input array from shape (72,) into shape (512,)\n",
      "Some exception occured\n",
      "could not broadcast input array from shape (72,) into shape (512,)\n",
      "Some exception occured\n",
      "could not broadcast input array from shape (72,) into shape (512,)\n",
      "Some exception occured\n"
     ]
    },
    {
     "name": "stderr",
     "output_type": "stream",
     "text": [
      "1638it [00:11, 153.71it/s]"
     ]
    },
    {
     "name": "stdout",
     "output_type": "stream",
     "text": [
      "could not broadcast input array from shape (71,) into shape (512,)\n",
      "Some exception occured\n",
      "could not broadcast input array from shape (73,) into shape (512,)\n",
      "Some exception occured\n",
      "could not broadcast input array from shape (72,) into shape (512,)\n",
      "Some exception occured\n",
      "could not broadcast input array from shape (72,) into shape (512,)\n",
      "Some exception occured\n",
      "could not broadcast input array from shape (72,) into shape (512,)\n",
      "Some exception occured\n",
      "could not broadcast input array from shape (72,) into shape (512,)\n",
      "Some exception occured\n",
      "could not broadcast input array from shape (72,) into shape (512,)\n",
      "Some exception occured\n",
      "could not broadcast input array from shape (72,) into shape (512,)\n",
      "Some exception occured\n",
      "could not broadcast input array from shape (72,) into shape (512,)\n",
      "Some exception occured\n",
      "could not broadcast input array from shape (72,) into shape (512,)\n",
      "Some exception occured\n",
      "could not broadcast input array from shape (72,) into shape (512,)\n",
      "Some exception occured\n",
      "could not broadcast input array from shape (72,) into shape (512,)\n",
      "Some exception occured\n",
      "could not broadcast input array from shape (73,) into shape (512,)\n",
      "Some exception occured\n",
      "could not broadcast input array from shape (71,) into shape (512,)\n",
      "Some exception occured\n",
      "could not broadcast input array from shape (73,) into shape (512,)\n",
      "Some exception occured\n",
      "could not broadcast input array from shape (72,) into shape (512,)\n",
      "Some exception occured\n"
     ]
    },
    {
     "name": "stderr",
     "output_type": "stream",
     "text": [
      "1670it [00:12, 134.37it/s]"
     ]
    },
    {
     "name": "stdout",
     "output_type": "stream",
     "text": [
      "could not broadcast input array from shape (72,) into shape (512,)\n",
      "Some exception occured\n",
      "could not broadcast input array from shape (72,) into shape (512,)\n",
      "Some exception occured\n",
      "could not broadcast input array from shape (72,) into shape (512,)\n",
      "Some exception occured\n",
      "could not broadcast input array from shape (72,) into shape (512,)\n",
      "Some exception occured\n",
      "could not broadcast input array from shape (160,) into shape (512,)\n",
      "Some exception occured\n",
      "could not broadcast input array from shape (217,) into shape (512,)\n",
      "Some exception occured\n",
      "could not broadcast input array from shape (421,) into shape (512,)\n",
      "Some exception occured\n",
      "could not broadcast input array from shape (222,) into shape (512,)\n",
      "Some exception occured\n",
      "could not broadcast input array from shape (222,) into shape (512,)\n",
      "Some exception occured\n",
      "could not broadcast input array from shape (407,) into shape (512,)\n",
      "Some exception occured\n",
      "could not broadcast input array from shape (438,) into shape (512,)\n",
      "Some exception occured\n",
      "could not broadcast input array from shape (152,) into shape (512,)\n",
      "Some exception occured\n",
      "could not broadcast input array from shape (425,) into shape (512,)\n",
      "Some exception occured\n"
     ]
    },
    {
     "name": "stderr",
     "output_type": "stream",
     "text": [
      "\r",
      "1685it [00:12, 129.81it/s]"
     ]
    },
    {
     "name": "stdout",
     "output_type": "stream",
     "text": [
      "could not broadcast input array from shape (200,) into shape (512,)\n",
      "Some exception occured\n",
      "could not broadcast input array from shape (213,) into shape (512,)\n",
      "Some exception occured\n",
      "could not broadcast input array from shape (217,) into shape (512,)\n",
      "Some exception occured\n",
      "could not broadcast input array from shape (442,) into shape (512,)\n",
      "Some exception occured\n",
      "could not broadcast input array from shape (446,) into shape (512,)\n",
      "Some exception occured\n",
      "could not broadcast input array from shape (407,) into shape (512,)\n",
      "Some exception occured\n",
      "could not broadcast input array from shape (372,) into shape (512,)\n",
      "Some exception occured\n",
      "could not broadcast input array from shape (174,) into shape (512,)\n",
      "Some exception occured\n",
      "could not broadcast input array from shape (222,) into shape (512,)\n",
      "Some exception occured\n",
      "could not broadcast input array from shape (165,) into shape (512,)\n",
      "Some exception occured\n",
      "could not broadcast input array from shape (407,) into shape (512,)\n",
      "Some exception occured\n",
      "could not broadcast input array from shape (178,) into shape (512,)\n",
      "Some exception occured\n"
     ]
    },
    {
     "name": "stderr",
     "output_type": "stream",
     "text": [
      "1714it [00:12, 107.44it/s]"
     ]
    },
    {
     "name": "stdout",
     "output_type": "stream",
     "text": [
      "could not broadcast input array from shape (429,) into shape (512,)\n",
      "Some exception occured\n",
      "could not broadcast input array from shape (447,) into shape (512,)\n",
      "Some exception occured\n",
      "could not broadcast input array from shape (434,) into shape (512,)\n",
      "Some exception occured\n",
      "could not broadcast input array from shape (191,) into shape (512,)\n",
      "Some exception occured\n",
      "could not broadcast input array from shape (411,) into shape (512,)\n",
      "Some exception occured\n",
      "could not broadcast input array from shape (213,) into shape (512,)\n",
      "Some exception occured\n",
      "could not broadcast input array from shape (205,) into shape (512,)\n",
      "Some exception occured\n",
      "could not broadcast input array from shape (204,) into shape (512,)\n",
      "Some exception occured\n",
      "could not broadcast input array from shape (420,) into shape (512,)\n",
      "Some exception occured\n",
      "could not broadcast input array from shape (460,) into shape (512,)\n",
      "Some exception occured\n"
     ]
    },
    {
     "name": "stderr",
     "output_type": "stream",
     "text": [
      "1747it [00:12, 127.15it/s]"
     ]
    },
    {
     "name": "stdout",
     "output_type": "stream",
     "text": [
      "could not broadcast input array from shape (77,) into shape (512,)\n",
      "Some exception occured\n",
      "could not broadcast input array from shape (292,) into shape (512,)\n",
      "Some exception occured\n",
      "could not broadcast input array from shape (186,) into shape (512,)\n",
      "Some exception occured\n",
      "could not broadcast input array from shape (491,) into shape (512,)\n",
      "Some exception occured\n",
      "could not broadcast input array from shape (332,) into shape (512,)\n",
      "Some exception occured\n",
      "could not broadcast input array from shape (319,) into shape (512,)\n",
      "Some exception occured\n",
      "could not broadcast input array from shape (266,) into shape (512,)\n",
      "Some exception occured\n",
      "could not broadcast input array from shape (231,) into shape (512,)\n",
      "Some exception occured\n",
      "could not broadcast input array from shape (222,) into shape (512,)\n",
      "Some exception occured\n",
      "could not broadcast input array from shape (451,) into shape (512,)\n",
      "Some exception occured\n",
      "could not broadcast input array from shape (416,) into shape (512,)\n",
      "Some exception occured\n",
      "could not broadcast input array from shape (152,) into shape (512,)\n",
      "Some exception occured\n",
      "could not broadcast input array from shape (456,) into shape (512,)\n",
      "Some exception occured\n",
      "could not broadcast input array from shape (196,) into shape (512,)\n",
      "Some exception occured\n",
      "could not broadcast input array from shape (191,) into shape (512,)\n",
      "Some exception occured\n",
      "could not broadcast input array from shape (324,) into shape (512,)\n",
      "Some exception occured\n",
      "could not broadcast input array from shape (270,) into shape (512,)\n",
      "Some exception occured\n",
      "could not broadcast input array from shape (271,) into shape (512,)\n",
      "Some exception occured\n",
      "could not broadcast input array from shape (275,) into shape (512,)\n",
      "Some exception occured\n"
     ]
    },
    {
     "name": "stderr",
     "output_type": "stream",
     "text": [
      "1774it [00:13, 116.97it/s]"
     ]
    },
    {
     "name": "stdout",
     "output_type": "stream",
     "text": [
      "could not broadcast input array from shape (447,) into shape (512,)\n",
      "Some exception occured\n",
      "could not broadcast input array from shape (482,) into shape (512,)\n",
      "Some exception occured\n",
      "could not broadcast input array from shape (324,) into shape (512,)\n",
      "Some exception occured\n",
      "could not broadcast input array from shape (90,) into shape (512,)\n",
      "Some exception occured\n",
      "could not broadcast input array from shape (438,) into shape (512,)\n",
      "Some exception occured\n",
      "could not broadcast input array from shape (508,) into shape (512,)\n",
      "Some exception occured\n",
      "could not broadcast input array from shape (509,) into shape (512,)\n",
      "Some exception occured\n"
     ]
    },
    {
     "name": "stderr",
     "output_type": "stream",
     "text": [
      "\r",
      "1787it [00:13, 117.10it/s]"
     ]
    },
    {
     "name": "stdout",
     "output_type": "stream",
     "text": [
      "could not broadcast input array from shape (94,) into shape (512,)\n",
      "Some exception occured\n",
      "could not broadcast input array from shape (103,) into shape (512,)\n",
      "Some exception occured\n",
      "could not broadcast input array from shape (72,) into shape (512,)\n",
      "Some exception occured\n",
      "could not broadcast input array from shape (200,) into shape (512,)\n",
      "Some exception occured\n",
      "could not broadcast input array from shape (125,) into shape (512,)\n",
      "Some exception occured\n"
     ]
    },
    {
     "name": "stderr",
     "output_type": "stream",
     "text": [
      "1811it [00:13, 135.40it/s]"
     ]
    },
    {
     "name": "stdout",
     "output_type": "stream",
     "text": [
      "could not broadcast input array from shape (279,) into shape (512,)\n",
      "Some exception occured\n",
      "could not broadcast input array from shape (187,) into shape (512,)\n",
      "Some exception occured\n",
      "could not broadcast input array from shape (399,) into shape (512,)\n",
      "Some exception occured\n",
      "could not broadcast input array from shape (182,) into shape (512,)\n",
      "Some exception occured\n",
      "could not broadcast input array from shape (284,) into shape (512,)\n",
      "Some exception occured\n",
      "could not broadcast input array from shape (482,) into shape (512,)\n",
      "Some exception occured\n",
      "could not broadcast input array from shape (85,) into shape (512,)\n",
      "Some exception occured\n",
      "could not broadcast input array from shape (280,) into shape (512,)\n",
      "Some exception occured\n",
      "could not broadcast input array from shape (302,) into shape (512,)\n",
      "Some exception occured\n",
      "could not broadcast input array from shape (495,) into shape (512,)\n",
      "Some exception occured\n",
      "could not broadcast input array from shape (416,) into shape (512,)\n",
      "Some exception occured\n"
     ]
    },
    {
     "name": "stderr",
     "output_type": "stream",
     "text": [
      "\n",
      "21it [00:00, 96.43it/s]"
     ]
    },
    {
     "name": "stdout",
     "output_type": "stream",
     "text": [
      "could not broadcast input array from shape (292,) into shape (512,)\n",
      "Some exception occured\n",
      "could not broadcast input array from shape (72,) into shape (512,)\n",
      "Some exception occured\n",
      "could not broadcast input array from shape (402,) into shape (512,)\n",
      "Some exception occured\n",
      "could not broadcast input array from shape (252,) into shape (512,)\n",
      "Some exception occured\n",
      "could not broadcast input array from shape (183,) into shape (512,)\n",
      "Some exception occured\n",
      "could not broadcast input array from shape (183,) into shape (512,)\n",
      "Some exception occured\n",
      "could not broadcast input array from shape (363,) into shape (512,)\n",
      "Some exception occured\n",
      "could not broadcast input array from shape (403,) into shape (512,)\n",
      "Some exception occured\n",
      "could not broadcast input array from shape (292,) into shape (512,)\n",
      "Some exception occured\n"
     ]
    },
    {
     "name": "stderr",
     "output_type": "stream",
     "text": [
      "42it [00:00, 93.62it/s]"
     ]
    },
    {
     "name": "stdout",
     "output_type": "stream",
     "text": [
      "could not broadcast input array from shape (293,) into shape (512,)\n",
      "Some exception occured\n",
      "could not broadcast input array from shape (71,) into shape (512,)\n",
      "Some exception occured\n",
      "could not broadcast input array from shape (72,) into shape (512,)\n",
      "Some exception occured\n",
      "could not broadcast input array from shape (182,) into shape (512,)\n",
      "Some exception occured\n",
      "could not broadcast input array from shape (403,) into shape (512,)\n",
      "Some exception occured\n",
      "could not broadcast input array from shape (292,) into shape (512,)\n",
      "Some exception occured\n",
      "could not broadcast input array from shape (72,) into shape (512,)\n",
      "Some exception occured\n",
      "could not broadcast input array from shape (72,) into shape (512,)\n",
      "Some exception occured\n",
      "could not broadcast input array from shape (292,) into shape (512,)\n",
      "Some exception occured\n",
      "could not broadcast input array from shape (293,) into shape (512,)\n",
      "Some exception occured\n"
     ]
    },
    {
     "name": "stderr",
     "output_type": "stream",
     "text": [
      "61it [00:00, 86.46it/s]"
     ]
    },
    {
     "name": "stdout",
     "output_type": "stream",
     "text": [
      "could not broadcast input array from shape (403,) into shape (512,)\n",
      "Some exception occured\n",
      "could not broadcast input array from shape (403,) into shape (512,)\n",
      "Some exception occured\n",
      "could not broadcast input array from shape (72,) into shape (512,)\n",
      "Some exception occured\n",
      "could not broadcast input array from shape (293,) into shape (512,)\n",
      "Some exception occured\n",
      "could not broadcast input array from shape (72,) into shape (512,)\n",
      "Some exception occured\n",
      "could not broadcast input array from shape (73,) into shape (512,)\n",
      "Some exception occured\n",
      "could not broadcast input array from shape (293,) into shape (512,)\n",
      "Some exception occured\n",
      "could not broadcast input array from shape (403,) into shape (512,)\n",
      "Some exception occured\n",
      "could not broadcast input array from shape (403,) into shape (512,)\n",
      "Some exception occured\n",
      "could not broadcast input array from shape (430,) into shape (512,)\n",
      "Some exception occured\n",
      "could not broadcast input array from shape (72,) into shape (512,)\n",
      "Some exception occured\n"
     ]
    },
    {
     "name": "stderr",
     "output_type": "stream",
     "text": [
      "98it [00:00, 131.85it/s]"
     ]
    },
    {
     "name": "stdout",
     "output_type": "stream",
     "text": [
      "could not broadcast input array from shape (402,) into shape (512,)\n",
      "Some exception occured\n",
      "could not broadcast input array from shape (403,) into shape (512,)\n",
      "Some exception occured\n",
      "could not broadcast input array from shape (183,) into shape (512,)\n",
      "Some exception occured\n",
      "could not broadcast input array from shape (182,) into shape (512,)\n",
      "Some exception occured\n",
      "could not broadcast input array from shape (293,) into shape (512,)\n",
      "Some exception occured\n",
      "could not broadcast input array from shape (293,) into shape (512,)\n",
      "Some exception occured\n",
      "could not broadcast input array from shape (292,) into shape (512,)\n",
      "Some exception occured\n",
      "could not broadcast input array from shape (402,) into shape (512,)\n",
      "Some exception occured\n",
      "could not broadcast input array from shape (293,) into shape (512,)\n",
      "Some exception occured\n",
      "could not broadcast input array from shape (402,) into shape (512,)\n",
      "Some exception occured\n",
      "could not broadcast input array from shape (293,) into shape (512,)\n",
      "Some exception occured\n",
      "could not broadcast input array from shape (72,) into shape (512,)\n",
      "Some exception occured\n",
      "could not broadcast input array from shape (72,) into shape (512,)\n",
      "Some exception occured\n",
      "could not broadcast input array from shape (94,) into shape (512,)\n",
      "Some exception occured\n"
     ]
    },
    {
     "name": "stderr",
     "output_type": "stream",
     "text": [
      "125it [00:01, 124.88it/s]"
     ]
    },
    {
     "name": "stdout",
     "output_type": "stream",
     "text": [
      "could not broadcast input array from shape (89,) into shape (512,)\n",
      "Some exception occured\n",
      "could not broadcast input array from shape (403,) into shape (512,)\n",
      "Some exception occured\n",
      "could not broadcast input array from shape (363,) into shape (512,)\n",
      "Some exception occured\n",
      "could not broadcast input array from shape (363,) into shape (512,)\n",
      "Some exception occured\n",
      "could not broadcast input array from shape (218,) into shape (512,)\n",
      "Some exception occured\n",
      "could not broadcast input array from shape (72,) into shape (512,)\n",
      "Some exception occured\n"
     ]
    },
    {
     "name": "stderr",
     "output_type": "stream",
     "text": [
      "\r",
      "145it [00:01, 142.21it/s]"
     ]
    },
    {
     "name": "stdout",
     "output_type": "stream",
     "text": [
      "could not broadcast input array from shape (182,) into shape (512,)\n",
      "Some exception occured\n",
      "could not broadcast input array from shape (403,) into shape (512,)\n",
      "Some exception occured\n",
      "could not broadcast input array from shape (275,) into shape (512,)\n",
      "Some exception occured\n",
      "could not broadcast input array from shape (292,) into shape (512,)\n",
      "Some exception occured\n",
      "could not broadcast input array from shape (72,) into shape (512,)\n",
      "Some exception occured\n",
      "could not broadcast input array from shape (363,) into shape (512,)\n",
      "Some exception occured\n",
      "could not broadcast input array from shape (292,) into shape (512,)\n",
      "Some exception occured\n",
      "could not broadcast input array from shape (107,) into shape (512,)\n",
      "Some exception occured\n",
      "could not broadcast input array from shape (200,) into shape (512,)\n",
      "Some exception occured\n",
      "could not broadcast input array from shape (183,) into shape (512,)\n",
      "Some exception occured\n",
      "could not broadcast input array from shape (271,) into shape (512,)\n",
      "Some exception occured\n"
     ]
    },
    {
     "name": "stderr",
     "output_type": "stream",
     "text": [
      "177it [00:01, 139.84it/s]"
     ]
    },
    {
     "name": "stdout",
     "output_type": "stream",
     "text": [
      "could not broadcast input array from shape (164,) into shape (512,)\n",
      "Some exception occured\n",
      "could not broadcast input array from shape (244,) into shape (512,)\n",
      "Some exception occured\n",
      "could not broadcast input array from shape (429,) into shape (512,)\n",
      "Some exception occured\n",
      "could not broadcast input array from shape (315,) into shape (512,)\n",
      "Some exception occured\n",
      "could not broadcast input array from shape (438,) into shape (512,)\n",
      "Some exception occured\n",
      "could not broadcast input array from shape (478,) into shape (512,)\n",
      "Some exception occured\n",
      "could not broadcast input array from shape (72,) into shape (512,)\n",
      "Some exception occured\n",
      "could not broadcast input array from shape (182,) into shape (512,)\n",
      "Some exception occured\n",
      "could not broadcast input array from shape (244,) into shape (512,)\n",
      "Some exception occured\n",
      "could not broadcast input array from shape (72,) into shape (512,)\n",
      "Some exception occured\n",
      "could not broadcast input array from shape (367,) into shape (512,)\n",
      "Some exception occured\n",
      "could not broadcast input array from shape (442,) into shape (512,)\n",
      "Some exception occured\n",
      "could not broadcast input array from shape (394,) into shape (512,)\n",
      "Some exception occured\n",
      "could not broadcast input array from shape (94,) into shape (512,)\n",
      "Some exception occured\n",
      "could not broadcast input array from shape (447,) into shape (512,)\n",
      "Some exception occured\n",
      "could not broadcast input array from shape (270,) into shape (512,)\n",
      "Some exception occured\n",
      "could not broadcast input array from shape (155,) into shape (512,)\n",
      "Some exception occured\n",
      "could not broadcast input array from shape (372,) into shape (512,)\n",
      "Some exception occured\n"
     ]
    },
    {
     "name": "stderr",
     "output_type": "stream",
     "text": [
      "207it [00:01, 122.85it/s]"
     ]
    },
    {
     "name": "stdout",
     "output_type": "stream",
     "text": [
      "could not broadcast input array from shape (407,) into shape (512,)\n",
      "Some exception occured\n",
      "could not broadcast input array from shape (112,) into shape (512,)\n",
      "Some exception occured\n",
      "could not broadcast input array from shape (495,) into shape (512,)\n",
      "Some exception occured\n"
     ]
    },
    {
     "name": "stderr",
     "output_type": "stream",
     "text": [
      "\r",
      "220it [00:01, 106.14it/s]"
     ]
    },
    {
     "name": "stdout",
     "output_type": "stream",
     "text": [
      "could not broadcast input array from shape (85,) into shape (512,)\n",
      "Some exception occured\n"
     ]
    },
    {
     "name": "stderr",
     "output_type": "stream",
     "text": [
      "243it [00:02, 93.62it/s] "
     ]
    },
    {
     "name": "stdout",
     "output_type": "stream",
     "text": [
      "could not broadcast input array from shape (341,) into shape (512,)\n",
      "Some exception occured\n",
      "could not broadcast input array from shape (327,) into shape (512,)\n",
      "Some exception occured\n",
      "could not broadcast input array from shape (77,) into shape (512,)\n",
      "Some exception occured\n"
     ]
    },
    {
     "name": "stderr",
     "output_type": "stream",
     "text": [
      "\r",
      "253it [00:02, 90.91it/s]"
     ]
    },
    {
     "name": "stdout",
     "output_type": "stream",
     "text": [
      "could not broadcast input array from shape (429,) into shape (512,)\n",
      "Some exception occured\n",
      "could not broadcast input array from shape (464,) into shape (512,)\n",
      "Some exception occured\n",
      "could not broadcast input array from shape (130,) into shape (512,)\n",
      "Some exception occured\n",
      "could not broadcast input array from shape (416,) into shape (512,)\n",
      "Some exception occured\n"
     ]
    },
    {
     "name": "stderr",
     "output_type": "stream",
     "text": [
      "277it [00:02, 98.30it/s]"
     ]
    },
    {
     "name": "stdout",
     "output_type": "stream",
     "text": [
      "could not broadcast input array from shape (473,) into shape (512,)\n",
      "Some exception occured\n",
      "could not broadcast input array from shape (236,) into shape (512,)\n",
      "Some exception occured\n",
      "could not broadcast input array from shape (482,) into shape (512,)\n",
      "Some exception occured\n",
      "could not broadcast input array from shape (333,) into shape (512,)\n",
      "Some exception occured\n",
      "could not broadcast input array from shape (407,) into shape (512,)\n",
      "Some exception occured\n",
      "could not broadcast input array from shape (208,) into shape (512,)\n",
      "Some exception occured\n",
      "could not broadcast input array from shape (129,) into shape (512,)\n",
      "Some exception occured\n",
      "could not broadcast input array from shape (447,) into shape (512,)\n",
      "Some exception occured\n",
      "could not broadcast input array from shape (283,) into shape (512,)\n",
      "Some exception occured\n",
      "could not broadcast input array from shape (217,) into shape (512,)\n",
      "Some exception occured\n",
      "could not broadcast input array from shape (495,) into shape (512,)\n",
      "Some exception occured\n"
     ]
    },
    {
     "name": "stderr",
     "output_type": "stream",
     "text": [
      "304it [00:02, 110.25it/s]"
     ]
    },
    {
     "name": "stdout",
     "output_type": "stream",
     "text": [
      "could not broadcast input array from shape (336,) into shape (512,)\n",
      "Some exception occured\n",
      "could not broadcast input array from shape (416,) into shape (512,)\n",
      "Some exception occured\n",
      "could not broadcast input array from shape (195,) into shape (512,)\n",
      "Some exception occured\n",
      "could not broadcast input array from shape (240,) into shape (512,)\n",
      "Some exception occured\n",
      "could not broadcast input array from shape (403,) into shape (512,)\n",
      "Some exception occured\n",
      "could not broadcast input array from shape (182,) into shape (512,)\n",
      "Some exception occured\n",
      "could not broadcast input array from shape (235,) into shape (512,)\n",
      "Some exception occured\n",
      "could not broadcast input array from shape (196,) into shape (512,)\n",
      "Some exception occured\n",
      "could not broadcast input array from shape (402,) into shape (512,)\n",
      "Some exception occured\n",
      "could not broadcast input array from shape (504,) into shape (512,)\n",
      "Some exception occured\n",
      "could not broadcast input array from shape (187,) into shape (512,)\n",
      "Some exception occured\n"
     ]
    },
    {
     "name": "stderr",
     "output_type": "stream",
     "text": [
      "343it [00:02, 150.02it/s]"
     ]
    },
    {
     "name": "stdout",
     "output_type": "stream",
     "text": [
      "could not broadcast input array from shape (133,) into shape (512,)\n",
      "Some exception occured\n",
      "could not broadcast input array from shape (103,) into shape (512,)\n",
      "Some exception occured\n",
      "could not broadcast input array from shape (367,) into shape (512,)\n",
      "Some exception occured\n",
      "could not broadcast input array from shape (107,) into shape (512,)\n",
      "Some exception occured\n",
      "could not broadcast input array from shape (358,) into shape (512,)\n",
      "Some exception occured\n",
      "could not broadcast input array from shape (504,) into shape (512,)\n",
      "Some exception occured\n",
      "could not broadcast input array from shape (328,) into shape (512,)\n",
      "Some exception occured\n",
      "could not broadcast input array from shape (447,) into shape (512,)\n",
      "Some exception occured\n",
      "could not broadcast input array from shape (394,) into shape (512,)\n",
      "Some exception occured\n",
      "could not broadcast input array from shape (112,) into shape (512,)\n",
      "Some exception occured\n",
      "could not broadcast input array from shape (253,) into shape (512,)\n",
      "Some exception occured\n",
      "could not broadcast input array from shape (152,) into shape (512,)\n",
      "Some exception occured\n",
      "could not broadcast input array from shape (191,) into shape (512,)\n",
      "Some exception occured\n",
      "could not broadcast input array from shape (486,) into shape (512,)\n",
      "Some exception occured\n",
      "could not broadcast input array from shape (244,) into shape (512,)\n",
      "Some exception occured\n",
      "could not broadcast input array from shape (279,) into shape (512,)\n",
      "Some exception occured\n",
      "could not broadcast input array from shape (284,) into shape (512,)\n",
      "Some exception occured\n",
      "could not broadcast input array from shape (103,) into shape (512,)\n",
      "Some exception occured\n",
      "could not broadcast input array from shape (297,) into shape (512,)\n",
      "Some exception occured\n",
      "could not broadcast input array from shape (134,) into shape (512,)\n",
      "Some exception occured\n",
      "could not broadcast input array from shape (213,) into shape (512,)\n",
      "Some exception occured\n",
      "could not broadcast input array from shape (280,) into shape (512,)\n",
      "Some exception occured\n",
      "could not broadcast input array from shape (341,) into shape (512,)\n",
      "Some exception occured\n",
      "could not broadcast input array from shape (204,) into shape (512,)\n",
      "Some exception occured\n",
      "could not broadcast input array from shape (103,) into shape (512,)\n",
      "Some exception occured\n",
      "could not broadcast input array from shape (377,) into shape (512,)\n",
      "Some exception occured\n",
      "could not broadcast input array from shape (473,) into shape (512,)\n",
      "Some exception occured\n",
      "could not broadcast input array from shape (72,) into shape (512,)\n",
      "Some exception occured\n",
      "could not broadcast input array from shape (72,) into shape (512,)\n",
      "Some exception occured\n",
      "could not broadcast input array from shape (72,) into shape (512,)\n",
      "Some exception occured\n"
     ]
    },
    {
     "name": "stderr",
     "output_type": "stream",
     "text": [
      "381it [00:03, 166.82it/s]"
     ]
    },
    {
     "name": "stdout",
     "output_type": "stream",
     "text": [
      "could not broadcast input array from shape (72,) into shape (512,)\n",
      "Some exception occured\n",
      "could not broadcast input array from shape (292,) into shape (512,)\n",
      "Some exception occured\n",
      "could not broadcast input array from shape (72,) into shape (512,)\n",
      "Some exception occured\n",
      "could not broadcast input array from shape (72,) into shape (512,)\n",
      "Some exception occured\n",
      "could not broadcast input array from shape (72,) into shape (512,)\n",
      "Some exception occured\n",
      "could not broadcast input array from shape (72,) into shape (512,)\n",
      "Some exception occured\n",
      "could not broadcast input array from shape (72,) into shape (512,)\n",
      "Some exception occured\n",
      "could not broadcast input array from shape (72,) into shape (512,)\n",
      "Some exception occured\n",
      "could not broadcast input array from shape (72,) into shape (512,)\n",
      "Some exception occured\n",
      "could not broadcast input array from shape (72,) into shape (512,)\n",
      "Some exception occured\n",
      "could not broadcast input array from shape (474,) into shape (512,)\n",
      "Some exception occured\n",
      "could not broadcast input array from shape (292,) into shape (512,)\n",
      "Some exception occured\n",
      "could not broadcast input array from shape (72,) into shape (512,)\n",
      "Some exception occured\n"
     ]
    },
    {
     "name": "stderr",
     "output_type": "stream",
     "text": [
      "414it [00:03, 149.61it/s]"
     ]
    },
    {
     "name": "stdout",
     "output_type": "stream",
     "text": [
      "could not broadcast input array from shape (72,) into shape (512,)\n",
      "Some exception occured\n",
      "could not broadcast input array from shape (262,) into shape (512,)\n",
      "Some exception occured\n",
      "could not broadcast input array from shape (72,) into shape (512,)\n",
      "Some exception occured\n",
      "could not broadcast input array from shape (72,) into shape (512,)\n",
      "Some exception occured\n",
      "could not broadcast input array from shape (293,) into shape (512,)\n",
      "Some exception occured\n",
      "could not broadcast input array from shape (72,) into shape (512,)\n",
      "Some exception occured\n",
      "could not broadcast input array from shape (292,) into shape (512,)\n",
      "Some exception occured\n",
      "could not broadcast input array from shape (182,) into shape (512,)\n",
      "Some exception occured\n",
      "could not broadcast input array from shape (72,) into shape (512,)\n",
      "Some exception occured\n",
      "could not broadcast input array from shape (358,) into shape (512,)\n",
      "Some exception occured\n",
      "could not broadcast input array from shape (425,) into shape (512,)\n",
      "Some exception occured\n",
      "could not broadcast input array from shape (112,) into shape (512,)\n",
      "Some exception occured\n",
      "could not broadcast input array from shape (98,) into shape (512,)\n",
      "Some exception occured\n"
     ]
    },
    {
     "name": "stderr",
     "output_type": "stream",
     "text": [
      "\r",
      "430it [00:03, 134.31it/s]"
     ]
    },
    {
     "name": "stdout",
     "output_type": "stream",
     "text": [
      "could not broadcast input array from shape (319,) into shape (512,)\n",
      "Some exception occured\n",
      "could not broadcast input array from shape (244,) into shape (512,)\n",
      "Some exception occured\n",
      "could not broadcast input array from shape (261,) into shape (512,)\n",
      "Some exception occured\n",
      "could not broadcast input array from shape (147,) into shape (512,)\n",
      "Some exception occured\n"
     ]
    },
    {
     "name": "stderr",
     "output_type": "stream",
     "text": [
      "\r",
      "444it [00:03, 112.15it/s]"
     ]
    },
    {
     "name": "stdout",
     "output_type": "stream",
     "text": [
      "could not broadcast input array from shape (103,) into shape (512,)\n",
      "Some exception occured\n",
      "could not broadcast input array from shape (474,) into shape (512,)\n",
      "Some exception occured\n",
      "could not broadcast input array from shape (288,) into shape (512,)\n",
      "Some exception occured\n"
     ]
    },
    {
     "name": "stderr",
     "output_type": "stream",
     "text": [
      "469it [00:04, 94.73it/s] "
     ]
    },
    {
     "name": "stdout",
     "output_type": "stream",
     "text": [
      "could not broadcast input array from shape (310,) into shape (512,)\n",
      "Some exception occured\n",
      "could not broadcast input array from shape (403,) into shape (512,)\n",
      "Some exception occured\n",
      "could not broadcast input array from shape (169,) into shape (512,)\n",
      "Some exception occured\n",
      "could not broadcast input array from shape (496,) into shape (512,)\n",
      "Some exception occured\n",
      "could not broadcast input array from shape (81,) into shape (512,)\n",
      "Some exception occured\n"
     ]
    },
    {
     "name": "stderr",
     "output_type": "stream",
     "text": [
      "489it [00:04, 84.42it/s]"
     ]
    },
    {
     "name": "stdout",
     "output_type": "stream",
     "text": [
      "could not broadcast input array from shape (217,) into shape (512,)\n",
      "Some exception occured\n",
      "could not broadcast input array from shape (218,) into shape (512,)\n",
      "Some exception occured\n",
      "could not broadcast input array from shape (359,) into shape (512,)\n",
      "Some exception occured\n"
     ]
    },
    {
     "name": "stderr",
     "output_type": "stream",
     "text": [
      "507it [00:04, 80.75it/s]"
     ]
    },
    {
     "name": "stdout",
     "output_type": "stream",
     "text": [
      "could not broadcast input array from shape (332,) into shape (512,)\n",
      "Some exception occured\n",
      "could not broadcast input array from shape (240,) into shape (512,)\n",
      "Some exception occured\n"
     ]
    },
    {
     "name": "stderr",
     "output_type": "stream",
     "text": [
      "526it [00:04, 81.08it/s]"
     ]
    },
    {
     "name": "stdout",
     "output_type": "stream",
     "text": [
      "could not broadcast input array from shape (174,) into shape (512,)\n",
      "Some exception occured\n",
      "could not broadcast input array from shape (324,) into shape (512,)\n",
      "Some exception occured\n",
      "could not broadcast input array from shape (231,) into shape (512,)\n",
      "Some exception occured\n",
      "could not broadcast input array from shape (187,) into shape (512,)\n",
      "Some exception occured\n",
      "could not broadcast input array from shape (381,) into shape (512,)\n",
      "Some exception occured\n"
     ]
    },
    {
     "name": "stderr",
     "output_type": "stream",
     "text": [
      "\r",
      "535it [00:04, 82.37it/s]"
     ]
    },
    {
     "name": "stdout",
     "output_type": "stream",
     "text": [
      "could not broadcast input array from shape (121,) into shape (512,)\n",
      "Some exception occured\n",
      "could not broadcast input array from shape (72,) into shape (512,)\n",
      "Some exception occured\n",
      "could not broadcast input array from shape (72,) into shape (512,)\n",
      "Some exception occured\n",
      "could not broadcast input array from shape (73,) into shape (512,)\n",
      "Some exception occured\n",
      "could not broadcast input array from shape (72,) into shape (512,)\n",
      "Some exception occured\n",
      "could not broadcast input array from shape (86,) into shape (512,)\n",
      "Some exception occured\n",
      "could not broadcast input array from shape (314,) into shape (512,)\n",
      "Some exception occured\n",
      "could not broadcast input array from shape (372,) into shape (512,)\n",
      "Some exception occured\n",
      "could not broadcast input array from shape (204,) into shape (512,)\n",
      "Some exception occured\n",
      "could not broadcast input array from shape (491,) into shape (512,)\n",
      "Some exception occured\n",
      "could not broadcast input array from shape (81,) into shape (512,)\n",
      "Some exception occured\n",
      "could not broadcast input array from shape (72,) into shape (512,)\n",
      "Some exception occured\n",
      "could not broadcast input array from shape (293,) into shape (512,)\n",
      "Some exception occured\n",
      "could not broadcast input array from shape (72,) into shape (512,)\n",
      "Some exception occured\n",
      "could not broadcast input array from shape (72,) into shape (512,)\n",
      "Some exception occured\n",
      "could not broadcast input array from shape (72,) into shape (512,)\n",
      "Some exception occured\n"
     ]
    },
    {
     "name": "stderr",
     "output_type": "stream",
     "text": [
      "567it [00:05, 114.12it/s]"
     ]
    },
    {
     "name": "stdout",
     "output_type": "stream",
     "text": [
      "could not broadcast input array from shape (72,) into shape (512,)\n",
      "Some exception occured\n",
      "could not broadcast input array from shape (182,) into shape (512,)\n",
      "Some exception occured\n",
      "could not broadcast input array from shape (72,) into shape (512,)\n",
      "Some exception occured\n",
      "could not broadcast input array from shape (72,) into shape (512,)\n",
      "Some exception occured\n",
      "could not broadcast input array from shape (73,) into shape (512,)\n",
      "Some exception occured\n",
      "could not broadcast input array from shape (103,) into shape (512,)\n",
      "Some exception occured\n",
      "could not broadcast input array from shape (394,) into shape (512,)\n",
      "Some exception occured\n",
      "could not broadcast input array from shape (363,) into shape (512,)\n",
      "Some exception occured\n",
      "could not broadcast input array from shape (191,) into shape (512,)\n",
      "Some exception occured\n",
      "could not broadcast input array from shape (182,) into shape (512,)\n",
      "Some exception occured\n"
     ]
    },
    {
     "name": "stderr",
     "output_type": "stream",
     "text": [
      "591it [00:05, 101.51it/s]"
     ]
    },
    {
     "name": "stdout",
     "output_type": "stream",
     "text": [
      "could not broadcast input array from shape (72,) into shape (512,)\n",
      "Some exception occured\n",
      "could not broadcast input array from shape (292,) into shape (512,)\n",
      "Some exception occured\n",
      "could not broadcast input array from shape (204,) into shape (512,)\n",
      "Some exception occured\n",
      "could not broadcast input array from shape (429,) into shape (512,)\n",
      "Some exception occured\n",
      "could not broadcast input array from shape (469,) into shape (512,)\n",
      "Some exception occured\n"
     ]
    },
    {
     "name": "stderr",
     "output_type": "stream",
     "text": [
      "612it [00:05, 90.82it/s] "
     ]
    },
    {
     "name": "stdout",
     "output_type": "stream",
     "text": [
      "could not broadcast input array from shape (311,) into shape (512,)\n",
      "Some exception occured\n",
      "could not broadcast input array from shape (460,) into shape (512,)\n",
      "Some exception occured\n",
      "could not broadcast input array from shape (253,) into shape (512,)\n",
      "Some exception occured\n",
      "could not broadcast input array from shape (292,) into shape (512,)\n",
      "Some exception occured\n",
      "could not broadcast input array from shape (314,) into shape (512,)\n",
      "Some exception occured\n",
      "could not broadcast input array from shape (72,) into shape (512,)\n",
      "Some exception occured\n",
      "could not broadcast input array from shape (214,) into shape (512,)\n",
      "Some exception occured\n",
      "could not broadcast input array from shape (293,) into shape (512,)\n",
      "Some exception occured\n",
      "could not broadcast input array from shape (235,) into shape (512,)\n",
      "Some exception occured\n",
      "could not broadcast input array from shape (72,) into shape (512,)\n",
      "Some exception occured\n",
      "could not broadcast input array from shape (138,) into shape (512,)\n",
      "Some exception occured\n"
     ]
    },
    {
     "name": "stderr",
     "output_type": "stream",
     "text": [
      "635it [00:05, 85.85it/s]"
     ]
    },
    {
     "name": "stdout",
     "output_type": "stream",
     "text": [
      "could not broadcast input array from shape (94,) into shape (512,)\n",
      "Some exception occured\n"
     ]
    },
    {
     "name": "stderr",
     "output_type": "stream",
     "text": [
      "669it [00:06, 116.80it/s]"
     ]
    },
    {
     "name": "stdout",
     "output_type": "stream",
     "text": [
      "could not broadcast input array from shape (433,) into shape (512,)\n",
      "Some exception occured\n",
      "could not broadcast input array from shape (85,) into shape (512,)\n",
      "Some exception occured\n",
      "could not broadcast input array from shape (77,) into shape (512,)\n",
      "Some exception occured\n",
      "could not broadcast input array from shape (350,) into shape (512,)\n",
      "Some exception occured\n",
      "could not broadcast input array from shape (111,) into shape (512,)\n",
      "Some exception occured\n",
      "could not broadcast input array from shape (186,) into shape (512,)\n",
      "Some exception occured\n",
      "could not broadcast input array from shape (266,) into shape (512,)\n",
      "Some exception occured\n",
      "could not broadcast input array from shape (328,) into shape (512,)\n",
      "Some exception occured\n",
      "could not broadcast input array from shape (72,) into shape (512,)\n",
      "Some exception occured\n",
      "could not broadcast input array from shape (381,) into shape (512,)\n",
      "Some exception occured\n",
      "could not broadcast input array from shape (213,) into shape (512,)\n",
      "Some exception occured\n",
      "could not broadcast input array from shape (200,) into shape (512,)\n",
      "Some exception occured\n",
      "could not broadcast input array from shape (133,) into shape (512,)\n",
      "Some exception occured\n",
      "could not broadcast input array from shape (380,) into shape (512,)\n",
      "Some exception occured\n",
      "could not broadcast input array from shape (456,) into shape (512,)\n",
      "Some exception occured\n",
      "could not broadcast input array from shape (301,) into shape (512,)\n",
      "Some exception occured\n",
      "could not broadcast input array from shape (293,) into shape (512,)\n",
      "Some exception occured\n",
      "could not broadcast input array from shape (358,) into shape (512,)\n",
      "Some exception occured\n"
     ]
    },
    {
     "name": "stderr",
     "output_type": "stream",
     "text": [
      "708it [00:06, 110.73it/s]"
     ]
    },
    {
     "name": "stdout",
     "output_type": "stream",
     "text": [
      "could not broadcast input array from shape (239,) into shape (512,)\n",
      "Some exception occured\n",
      "could not broadcast input array from shape (147,) into shape (512,)\n",
      "Some exception occured\n",
      "could not broadcast input array from shape (249,) into shape (512,)\n",
      "Some exception occured\n",
      "could not broadcast input array from shape (182,) into shape (512,)\n",
      "Some exception occured\n",
      "could not broadcast input array from shape (336,) into shape (512,)\n",
      "Some exception occured\n",
      "could not broadcast input array from shape (182,) into shape (512,)\n",
      "Some exception occured\n",
      "could not broadcast input array from shape (390,) into shape (512,)\n",
      "Some exception occured\n",
      "could not broadcast input array from shape (416,) into shape (512,)\n",
      "Some exception occured\n",
      "could not broadcast input array from shape (402,) into shape (512,)\n",
      "Some exception occured\n"
     ]
    },
    {
     "name": "stderr",
     "output_type": "stream",
     "text": [
      "\r",
      "720it [00:06, 112.65it/s]"
     ]
    },
    {
     "name": "stdout",
     "output_type": "stream",
     "text": [
      "could not broadcast input array from shape (293,) into shape (512,)\n",
      "Some exception occured\n",
      "could not broadcast input array from shape (350,) into shape (512,)\n",
      "Some exception occured\n",
      "could not broadcast input array from shape (244,) into shape (512,)\n",
      "Some exception occured\n",
      "could not broadcast input array from shape (283,) into shape (512,)\n",
      "Some exception occured\n"
     ]
    },
    {
     "name": "stderr",
     "output_type": "stream",
     "text": [
      "746it [00:06, 109.42it/s]"
     ]
    },
    {
     "name": "stdout",
     "output_type": "stream",
     "text": [
      "could not broadcast input array from shape (385,) into shape (512,)\n",
      "Some exception occured\n",
      "could not broadcast input array from shape (292,) into shape (512,)\n",
      "Some exception occured\n",
      "could not broadcast input array from shape (288,) into shape (512,)\n",
      "Some exception occured\n",
      "could not broadcast input array from shape (164,) into shape (512,)\n",
      "Some exception occured\n",
      "could not broadcast input array from shape (500,) into shape (512,)\n",
      "Some exception occured\n",
      "could not broadcast input array from shape (504,) into shape (512,)\n",
      "Some exception occured\n",
      "could not broadcast input array from shape (460,) into shape (512,)\n",
      "Some exception occured\n",
      "could not broadcast input array from shape (310,) into shape (512,)\n",
      "Some exception occured\n",
      "could not broadcast input array from shape (253,) into shape (512,)\n",
      "Some exception occured\n"
     ]
    },
    {
     "name": "stderr",
     "output_type": "stream",
     "text": [
      "768it [00:07, 84.80it/s] "
     ]
    },
    {
     "name": "stdout",
     "output_type": "stream",
     "text": [
      "could not broadcast input array from shape (200,) into shape (512,)\n",
      "Some exception occured\n",
      "could not broadcast input array from shape (350,) into shape (512,)\n",
      "Some exception occured\n",
      "could not broadcast input array from shape (253,) into shape (512,)\n",
      "Some exception occured\n"
     ]
    },
    {
     "name": "stderr",
     "output_type": "stream",
     "text": [
      "786it [00:07, 79.10it/s]"
     ]
    },
    {
     "name": "stdout",
     "output_type": "stream",
     "text": [
      "could not broadcast input array from shape (416,) into shape (512,)\n",
      "Some exception occured\n",
      "could not broadcast input array from shape (266,) into shape (512,)\n",
      "Some exception occured\n",
      "could not broadcast input array from shape (200,) into shape (512,)\n",
      "Some exception occured\n",
      "could not broadcast input array from shape (112,) into shape (512,)\n",
      "Some exception occured\n"
     ]
    },
    {
     "name": "stderr",
     "output_type": "stream",
     "text": [
      "805it [00:07, 84.80it/s]"
     ]
    },
    {
     "name": "stdout",
     "output_type": "stream",
     "text": [
      "could not broadcast input array from shape (390,) into shape (512,)\n",
      "Some exception occured\n",
      "could not broadcast input array from shape (248,) into shape (512,)\n",
      "Some exception occured\n",
      "could not broadcast input array from shape (500,) into shape (512,)\n",
      "Some exception occured\n",
      "could not broadcast input array from shape (302,) into shape (512,)\n",
      "Some exception occured\n",
      "could not broadcast input array from shape (297,) into shape (512,)\n",
      "Some exception occured\n"
     ]
    },
    {
     "name": "stderr",
     "output_type": "stream",
     "text": [
      "832it [00:07, 103.36it/s]"
     ]
    },
    {
     "name": "stdout",
     "output_type": "stream",
     "text": [
      "could not broadcast input array from shape (301,) into shape (512,)\n",
      "Some exception occured\n",
      "could not broadcast input array from shape (72,) into shape (512,)\n",
      "Some exception occured\n",
      "could not broadcast input array from shape (142,) into shape (512,)\n",
      "Some exception occured\n",
      "could not broadcast input array from shape (403,) into shape (512,)\n",
      "Some exception occured\n",
      "could not broadcast input array from shape (72,) into shape (512,)\n",
      "Some exception occured\n",
      "could not broadcast input array from shape (72,) into shape (512,)\n",
      "Some exception occured\n",
      "could not broadcast input array from shape (73,) into shape (512,)\n",
      "Some exception occured\n",
      "could not broadcast input array from shape (403,) into shape (512,)\n",
      "Some exception occured\n",
      "could not broadcast input array from shape (72,) into shape (512,)\n",
      "Some exception occured\n",
      "could not broadcast input array from shape (293,) into shape (512,)\n",
      "Some exception occured\n"
     ]
    },
    {
     "name": "stderr",
     "output_type": "stream",
     "text": [
      "\r",
      "848it [00:07, 115.87it/s]"
     ]
    },
    {
     "name": "stdout",
     "output_type": "stream",
     "text": [
      "could not broadcast input array from shape (183,) into shape (512,)\n",
      "Some exception occured\n",
      "could not broadcast input array from shape (71,) into shape (512,)\n",
      "Some exception occured\n",
      "could not broadcast input array from shape (182,) into shape (512,)\n",
      "Some exception occured\n",
      "could not broadcast input array from shape (403,) into shape (512,)\n",
      "Some exception occured\n",
      "could not broadcast input array from shape (403,) into shape (512,)\n",
      "Some exception occured\n",
      "could not broadcast input array from shape (182,) into shape (512,)\n",
      "Some exception occured\n",
      "could not broadcast input array from shape (72,) into shape (512,)\n",
      "Some exception occured\n",
      "could not broadcast input array from shape (402,) into shape (512,)\n",
      "Some exception occured\n",
      "could not broadcast input array from shape (72,) into shape (512,)\n",
      "Some exception occured\n",
      "could not broadcast input array from shape (72,) into shape (512,)\n",
      "Some exception occured\n"
     ]
    },
    {
     "name": "stderr",
     "output_type": "stream",
     "text": [
      "871it [00:08, 101.01it/s]"
     ]
    },
    {
     "name": "stdout",
     "output_type": "stream",
     "text": [
      "could not broadcast input array from shape (72,) into shape (512,)\n",
      "Some exception occured\n",
      "could not broadcast input array from shape (72,) into shape (512,)\n",
      "Some exception occured\n",
      "could not broadcast input array from shape (72,) into shape (512,)\n",
      "Some exception occured\n",
      "could not broadcast input array from shape (72,) into shape (512,)\n",
      "Some exception occured\n",
      "could not broadcast input array from shape (125,) into shape (512,)\n",
      "Some exception occured\n",
      "could not broadcast input array from shape (292,) into shape (512,)\n",
      "Some exception occured\n",
      "could not broadcast input array from shape (403,) into shape (512,)\n",
      "Some exception occured\n",
      "could not broadcast input array from shape (182,) into shape (512,)\n",
      "Some exception occured\n"
     ]
    },
    {
     "name": "stderr",
     "output_type": "stream",
     "text": [
      "896it [00:08, 100.77it/s]"
     ]
    },
    {
     "name": "stdout",
     "output_type": "stream",
     "text": [
      "could not broadcast input array from shape (72,) into shape (512,)\n",
      "Some exception occured\n",
      "could not broadcast input array from shape (183,) into shape (512,)\n",
      "Some exception occured\n",
      "could not broadcast input array from shape (72,) into shape (512,)\n",
      "Some exception occured\n",
      "could not broadcast input array from shape (72,) into shape (512,)\n",
      "Some exception occured\n",
      "could not broadcast input array from shape (402,) into shape (512,)\n",
      "Some exception occured\n",
      "could not broadcast input array from shape (182,) into shape (512,)\n",
      "Some exception occured\n",
      "could not broadcast input array from shape (139,) into shape (512,)\n",
      "Some exception occured\n",
      "could not broadcast input array from shape (402,) into shape (512,)\n",
      "Some exception occured\n",
      "could not broadcast input array from shape (402,) into shape (512,)\n",
      "Some exception occured\n",
      "could not broadcast input array from shape (183,) into shape (512,)\n",
      "Some exception occured\n"
     ]
    },
    {
     "name": "stderr",
     "output_type": "stream",
     "text": [
      "\r",
      "907it [00:08, 98.17it/s] "
     ]
    },
    {
     "name": "stdout",
     "output_type": "stream",
     "text": [
      "could not broadcast input array from shape (72,) into shape (512,)\n",
      "Some exception occured\n",
      "could not broadcast input array from shape (293,) into shape (512,)\n",
      "Some exception occured\n",
      "could not broadcast input array from shape (183,) into shape (512,)\n",
      "Some exception occured\n",
      "could not broadcast input array from shape (72,) into shape (512,)\n",
      "Some exception occured\n",
      "could not broadcast input array from shape (350,) into shape (512,)\n",
      "Some exception occured\n"
     ]
    },
    {
     "name": "stderr",
     "output_type": "stream",
     "text": [
      "932it [00:08, 96.54it/s]"
     ]
    },
    {
     "name": "stdout",
     "output_type": "stream",
     "text": [
      "could not broadcast input array from shape (293,) into shape (512,)\n",
      "Some exception occured\n",
      "could not broadcast input array from shape (72,) into shape (512,)\n",
      "Some exception occured\n",
      "could not broadcast input array from shape (182,) into shape (512,)\n",
      "Some exception occured\n",
      "could not broadcast input array from shape (72,) into shape (512,)\n",
      "Some exception occured\n",
      "could not broadcast input array from shape (72,) into shape (512,)\n",
      "Some exception occured\n",
      "could not broadcast input array from shape (183,) into shape (512,)\n",
      "Some exception occured\n",
      "could not broadcast input array from shape (182,) into shape (512,)\n",
      "Some exception occured\n",
      "could not broadcast input array from shape (72,) into shape (512,)\n",
      "Some exception occured\n",
      "could not broadcast input array from shape (293,) into shape (512,)\n",
      "Some exception occured\n",
      "could not broadcast input array from shape (73,) into shape (512,)\n",
      "Some exception occured\n",
      "could not broadcast input array from shape (72,) into shape (512,)\n",
      "Some exception occured\n",
      "could not broadcast input array from shape (72,) into shape (512,)\n",
      "Some exception occured\n"
     ]
    },
    {
     "name": "stderr",
     "output_type": "stream",
     "text": [
      "953it [00:09, 97.38it/s]"
     ]
    },
    {
     "name": "stdout",
     "output_type": "stream",
     "text": [
      "could not broadcast input array from shape (183,) into shape (512,)\n",
      "Some exception occured\n",
      "could not broadcast input array from shape (402,) into shape (512,)\n",
      "Some exception occured\n",
      "could not broadcast input array from shape (182,) into shape (512,)\n",
      "Some exception occured\n",
      "could not broadcast input array from shape (403,) into shape (512,)\n",
      "Some exception occured\n",
      "could not broadcast input array from shape (293,) into shape (512,)\n",
      "Some exception occured\n",
      "could not broadcast input array from shape (72,) into shape (512,)\n",
      "Some exception occured\n",
      "could not broadcast input array from shape (183,) into shape (512,)\n",
      "Some exception occured\n",
      "could not broadcast input array from shape (376,) into shape (512,)\n",
      "Some exception occured\n"
     ]
    },
    {
     "name": "stderr",
     "output_type": "stream",
     "text": [
      "973it [00:09, 91.63it/s]"
     ]
    },
    {
     "name": "stdout",
     "output_type": "stream",
     "text": [
      "could not broadcast input array from shape (367,) into shape (512,)\n",
      "Some exception occured\n",
      "could not broadcast input array from shape (367,) into shape (512,)\n",
      "Some exception occured\n",
      "could not broadcast input array from shape (438,) into shape (512,)\n",
      "Some exception occured\n",
      "could not broadcast input array from shape (231,) into shape (512,)\n",
      "Some exception occured\n",
      "could not broadcast input array from shape (293,) into shape (512,)\n",
      "Some exception occured\n",
      "could not broadcast input array from shape (473,) into shape (512,)\n",
      "Some exception occured\n",
      "could not broadcast input array from shape (81,) into shape (512,)\n",
      "Some exception occured\n"
     ]
    },
    {
     "name": "stderr",
     "output_type": "stream",
     "text": [
      "997it [00:09, 102.68it/s]"
     ]
    },
    {
     "name": "stdout",
     "output_type": "stream",
     "text": [
      "could not broadcast input array from shape (183,) into shape (512,)\n",
      "Some exception occured\n",
      "could not broadcast input array from shape (143,) into shape (512,)\n",
      "Some exception occured\n",
      "could not broadcast input array from shape (182,) into shape (512,)\n",
      "Some exception occured\n",
      "could not broadcast input array from shape (230,) into shape (512,)\n",
      "Some exception occured\n",
      "could not broadcast input array from shape (183,) into shape (512,)\n",
      "Some exception occured\n",
      "could not broadcast input array from shape (196,) into shape (512,)\n",
      "Some exception occured\n",
      "could not broadcast input array from shape (177,) into shape (512,)\n",
      "Some exception occured\n",
      "could not broadcast input array from shape (508,) into shape (512,)\n",
      "Some exception occured\n",
      "could not broadcast input array from shape (292,) into shape (512,)\n",
      "Some exception occured\n",
      "could not broadcast input array from shape (169,) into shape (512,)\n",
      "Some exception occured\n",
      "could not broadcast input array from shape (389,) into shape (512,)\n",
      "Some exception occured\n"
     ]
    },
    {
     "name": "stderr",
     "output_type": "stream",
     "text": [
      "1033it [00:09, 136.46it/s]"
     ]
    },
    {
     "name": "stdout",
     "output_type": "stream",
     "text": [
      "could not broadcast input array from shape (213,) into shape (512,)\n",
      "Some exception occured\n",
      "could not broadcast input array from shape (319,) into shape (512,)\n",
      "Some exception occured\n",
      "could not broadcast input array from shape (429,) into shape (512,)\n",
      "Some exception occured\n",
      "could not broadcast input array from shape (350,) into shape (512,)\n",
      "Some exception occured\n",
      "could not broadcast input array from shape (103,) into shape (512,)\n",
      "Some exception occured\n",
      "could not broadcast input array from shape (430,) into shape (512,)\n",
      "Some exception occured\n",
      "could not broadcast input array from shape (367,) into shape (512,)\n",
      "Some exception occured\n",
      "could not broadcast input array from shape (421,) into shape (512,)\n",
      "Some exception occured\n",
      "could not broadcast input array from shape (358,) into shape (512,)\n",
      "Some exception occured\n",
      "could not broadcast input array from shape (398,) into shape (512,)\n",
      "Some exception occured\n",
      "could not broadcast input array from shape (465,) into shape (512,)\n",
      "Some exception occured\n",
      "could not broadcast input array from shape (328,) into shape (512,)\n",
      "Some exception occured\n",
      "could not broadcast input array from shape (319,) into shape (512,)\n",
      "Some exception occured\n"
     ]
    },
    {
     "name": "stderr",
     "output_type": "stream",
     "text": [
      "1060it [00:10, 114.16it/s]"
     ]
    },
    {
     "name": "stdout",
     "output_type": "stream",
     "text": [
      "could not broadcast input array from shape (116,) into shape (512,)\n",
      "Some exception occured\n",
      "could not broadcast input array from shape (337,) into shape (512,)\n",
      "Some exception occured\n",
      "could not broadcast input array from shape (473,) into shape (512,)\n",
      "Some exception occured\n",
      "could not broadcast input array from shape (486,) into shape (512,)\n",
      "Some exception occured\n",
      "could not broadcast input array from shape (240,) into shape (512,)\n",
      "Some exception occured\n",
      "could not broadcast input array from shape (434,) into shape (512,)\n",
      "Some exception occured\n",
      "could not broadcast input array from shape (310,) into shape (512,)\n",
      "Some exception occured\n"
     ]
    },
    {
     "name": "stderr",
     "output_type": "stream",
     "text": [
      "1084it [00:10, 104.75it/s]"
     ]
    },
    {
     "name": "stdout",
     "output_type": "stream",
     "text": [
      "could not broadcast input array from shape (389,) into shape (512,)\n",
      "Some exception occured\n",
      "could not broadcast input array from shape (275,) into shape (512,)\n",
      "Some exception occured\n",
      "could not broadcast input array from shape (306,) into shape (512,)\n",
      "Some exception occured\n",
      "could not broadcast input array from shape (381,) into shape (512,)\n",
      "Some exception occured\n",
      "could not broadcast input array from shape (297,) into shape (512,)\n",
      "Some exception occured\n"
     ]
    },
    {
     "name": "stderr",
     "output_type": "stream",
     "text": [
      "1109it [00:10, 108.28it/s]"
     ]
    },
    {
     "name": "stdout",
     "output_type": "stream",
     "text": [
      "could not broadcast input array from shape (433,) into shape (512,)\n",
      "Some exception occured\n",
      "could not broadcast input array from shape (438,) into shape (512,)\n",
      "Some exception occured\n",
      "could not broadcast input array from shape (390,) into shape (512,)\n",
      "Some exception occured\n",
      "could not broadcast input array from shape (324,) into shape (512,)\n",
      "Some exception occured\n",
      "could not broadcast input array from shape (381,) into shape (512,)\n",
      "Some exception occured\n",
      "could not broadcast input array from shape (226,) into shape (512,)\n",
      "Some exception occured\n",
      "could not broadcast input array from shape (491,) into shape (512,)\n",
      "Some exception occured\n"
     ]
    },
    {
     "name": "stderr",
     "output_type": "stream",
     "text": [
      "1131it [00:10, 95.56it/s] "
     ]
    },
    {
     "name": "stdout",
     "output_type": "stream",
     "text": [
      "could not broadcast input array from shape (473,) into shape (512,)\n",
      "Some exception occured\n",
      "could not broadcast input array from shape (425,) into shape (512,)\n",
      "Some exception occured\n",
      "could not broadcast input array from shape (98,) into shape (512,)\n",
      "Some exception occured\n",
      "could not broadcast input array from shape (85,) into shape (512,)\n",
      "Some exception occured\n",
      "could not broadcast input array from shape (183,) into shape (512,)\n",
      "Some exception occured\n",
      "could not broadcast input array from shape (249,) into shape (512,)\n",
      "Some exception occured\n",
      "could not broadcast input array from shape (376,) into shape (512,)\n",
      "Some exception occured\n",
      "could not broadcast input array from shape (416,) into shape (512,)\n",
      "Some exception occured\n"
     ]
    },
    {
     "name": "stderr",
     "output_type": "stream",
     "text": [
      "\r",
      "1141it [00:10, 82.38it/s]"
     ]
    },
    {
     "name": "stdout",
     "output_type": "stream",
     "text": [
      "could not broadcast input array from shape (90,) into shape (512,)\n",
      "Some exception occured\n",
      "could not broadcast input array from shape (182,) into shape (512,)\n",
      "Some exception occured\n",
      "could not broadcast input array from shape (315,) into shape (512,)\n",
      "Some exception occured\n",
      "could not broadcast input array from shape (257,) into shape (512,)\n",
      "Some exception occured\n"
     ]
    },
    {
     "name": "stderr",
     "output_type": "stream",
     "text": [
      "1161it [00:11, 81.29it/s]"
     ]
    },
    {
     "name": "stdout",
     "output_type": "stream",
     "text": [
      "could not broadcast input array from shape (72,) into shape (512,)\n",
      "Some exception occured\n",
      "could not broadcast input array from shape (249,) into shape (512,)\n",
      "Some exception occured\n",
      "could not broadcast input array from shape (164,) into shape (512,)\n",
      "Some exception occured\n"
     ]
    },
    {
     "name": "stderr",
     "output_type": "stream",
     "text": [
      "1179it [00:11, 80.39it/s]"
     ]
    },
    {
     "name": "stdout",
     "output_type": "stream",
     "text": [
      "could not broadcast input array from shape (438,) into shape (512,)\n",
      "Some exception occured\n",
      "could not broadcast input array from shape (72,) into shape (512,)\n",
      "Some exception occured\n",
      "could not broadcast input array from shape (72,) into shape (512,)\n",
      "Some exception occured\n",
      "could not broadcast input array from shape (72,) into shape (512,)\n",
      "Some exception occured\n",
      "could not broadcast input array from shape (72,) into shape (512,)\n",
      "Some exception occured\n",
      "could not broadcast input array from shape (72,) into shape (512,)\n",
      "Some exception occured\n"
     ]
    },
    {
     "name": "stderr",
     "output_type": "stream",
     "text": [
      "1199it [00:11, 84.28it/s]"
     ]
    },
    {
     "name": "stdout",
     "output_type": "stream",
     "text": [
      "could not broadcast input array from shape (72,) into shape (512,)\n",
      "Some exception occured\n",
      "could not broadcast input array from shape (72,) into shape (512,)\n",
      "Some exception occured\n",
      "could not broadcast input array from shape (72,) into shape (512,)\n",
      "Some exception occured\n",
      "could not broadcast input array from shape (72,) into shape (512,)\n",
      "Some exception occured\n",
      "could not broadcast input array from shape (72,) into shape (512,)\n",
      "Some exception occured\n",
      "could not broadcast input array from shape (72,) into shape (512,)\n",
      "Some exception occured\n",
      "could not broadcast input array from shape (72,) into shape (512,)\n",
      "Some exception occured\n"
     ]
    },
    {
     "name": "stderr",
     "output_type": "stream",
     "text": [
      "1217it [00:11, 78.14it/s]"
     ]
    },
    {
     "name": "stdout",
     "output_type": "stream",
     "text": [
      "could not broadcast input array from shape (72,) into shape (512,)\n",
      "Some exception occured\n",
      "could not broadcast input array from shape (71,) into shape (512,)\n",
      "Some exception occured\n",
      "could not broadcast input array from shape (72,) into shape (512,)\n",
      "Some exception occured\n",
      "could not broadcast input array from shape (72,) into shape (512,)\n",
      "Some exception occured\n",
      "could not broadcast input array from shape (72,) into shape (512,)\n",
      "Some exception occured\n",
      "could not broadcast input array from shape (72,) into shape (512,)\n",
      "Some exception occured\n"
     ]
    },
    {
     "name": "stderr",
     "output_type": "stream",
     "text": [
      "1237it [00:12, 85.00it/s]"
     ]
    },
    {
     "name": "stdout",
     "output_type": "stream",
     "text": [
      "could not broadcast input array from shape (72,) into shape (512,)\n",
      "Some exception occured\n",
      "'dis'\n",
      "Some exception occured\n",
      "could not broadcast input array from shape (72,) into shape (512,)\n",
      "Some exception occured\n",
      "could not broadcast input array from shape (72,) into shape (512,)\n",
      "Some exception occured\n",
      "could not broadcast input array from shape (72,) into shape (512,)\n",
      "Some exception occured\n",
      "could not broadcast input array from shape (72,) into shape (512,)\n",
      "Some exception occured\n",
      "could not broadcast input array from shape (72,) into shape (512,)\n",
      "Some exception occured\n",
      "could not broadcast input array from shape (402,) into shape (512,)\n",
      "Some exception occured\n",
      "could not broadcast input array from shape (72,) into shape (512,)\n",
      "Some exception occured\n"
     ]
    },
    {
     "name": "stderr",
     "output_type": "stream",
     "text": [
      "\r",
      "1249it [00:12, 91.67it/s]"
     ]
    },
    {
     "name": "stdout",
     "output_type": "stream",
     "text": [
      "could not broadcast input array from shape (72,) into shape (512,)\n",
      "Some exception occured\n",
      "could not broadcast input array from shape (72,) into shape (512,)\n",
      "Some exception occured\n",
      "could not broadcast input array from shape (73,) into shape (512,)\n",
      "Some exception occured\n",
      "could not broadcast input array from shape (72,) into shape (512,)\n",
      "Some exception occured\n",
      "could not broadcast input array from shape (73,) into shape (512,)\n",
      "Some exception occured\n",
      "could not broadcast input array from shape (72,) into shape (512,)\n",
      "Some exception occured\n"
     ]
    },
    {
     "name": "stderr",
     "output_type": "stream",
     "text": [
      "1272it [00:12, 99.29it/s]"
     ]
    },
    {
     "name": "stdout",
     "output_type": "stream",
     "text": [
      "could not broadcast input array from shape (72,) into shape (512,)\n",
      "Some exception occured\n",
      "could not broadcast input array from shape (72,) into shape (512,)\n",
      "Some exception occured\n",
      "could not broadcast input array from shape (72,) into shape (512,)\n",
      "Some exception occured\n",
      "could not broadcast input array from shape (402,) into shape (512,)\n",
      "Some exception occured\n",
      "could not broadcast input array from shape (72,) into shape (512,)\n",
      "Some exception occured\n",
      "could not broadcast input array from shape (72,) into shape (512,)\n",
      "Some exception occured\n",
      "could not broadcast input array from shape (71,) into shape (512,)\n",
      "Some exception occured\n",
      "could not broadcast input array from shape (292,) into shape (512,)\n",
      "Some exception occured\n",
      "could not broadcast input array from shape (72,) into shape (512,)\n",
      "Some exception occured\n",
      "could not broadcast input array from shape (72,) into shape (512,)\n",
      "Some exception occured\n",
      "could not broadcast input array from shape (73,) into shape (512,)\n",
      "Some exception occured\n",
      "could not broadcast input array from shape (72,) into shape (512,)\n",
      "Some exception occured\n",
      "could not broadcast input array from shape (102,) into shape (512,)\n",
      "Some exception occured\n"
     ]
    },
    {
     "name": "stderr",
     "output_type": "stream",
     "text": [
      "1298it [00:12, 95.97it/s] "
     ]
    },
    {
     "name": "stdout",
     "output_type": "stream",
     "text": [
      "could not broadcast input array from shape (72,) into shape (512,)\n",
      "Some exception occured\n",
      "could not broadcast input array from shape (72,) into shape (512,)\n",
      "Some exception occured\n",
      "could not broadcast input array from shape (71,) into shape (512,)\n",
      "Some exception occured\n",
      "could not broadcast input array from shape (182,) into shape (512,)\n",
      "Some exception occured\n",
      "could not broadcast input array from shape (72,) into shape (512,)\n",
      "Some exception occured\n",
      "could not broadcast input array from shape (182,) into shape (512,)\n",
      "Some exception occured\n",
      "could not broadcast input array from shape (72,) into shape (512,)\n",
      "Some exception occured\n",
      "could not broadcast input array from shape (72,) into shape (512,)\n",
      "Some exception occured\n",
      "could not broadcast input array from shape (72,) into shape (512,)\n",
      "Some exception occured\n"
     ]
    },
    {
     "name": "stderr",
     "output_type": "stream",
     "text": [
      "\r",
      "1320it [00:12, 126.60it/s]"
     ]
    },
    {
     "name": "stdout",
     "output_type": "stream",
     "text": [
      "could not broadcast input array from shape (183,) into shape (512,)\n",
      "Some exception occured\n",
      "could not broadcast input array from shape (73,) into shape (512,)\n",
      "Some exception occured\n",
      "could not broadcast input array from shape (72,) into shape (512,)\n",
      "Some exception occured\n",
      "could not broadcast input array from shape (72,) into shape (512,)\n",
      "Some exception occured\n",
      "could not broadcast input array from shape (222,) into shape (512,)\n",
      "Some exception occured\n",
      "could not broadcast input array from shape (72,) into shape (512,)\n",
      "Some exception occured\n",
      "could not broadcast input array from shape (72,) into shape (512,)\n",
      "Some exception occured\n",
      "could not broadcast input array from shape (72,) into shape (512,)\n",
      "Some exception occured\n",
      "could not broadcast input array from shape (73,) into shape (512,)\n",
      "Some exception occured\n",
      "could not broadcast input array from shape (292,) into shape (512,)\n",
      "Some exception occured\n",
      "could not broadcast input array from shape (183,) into shape (512,)\n",
      "Some exception occured\n",
      "could not broadcast input array from shape (72,) into shape (512,)\n",
      "Some exception occured\n",
      "could not broadcast input array from shape (72,) into shape (512,)\n",
      "Some exception occured\n"
     ]
    },
    {
     "name": "stderr",
     "output_type": "stream",
     "text": [
      "1349it [00:13, 117.60it/s]"
     ]
    },
    {
     "name": "stdout",
     "output_type": "stream",
     "text": [
      "could not broadcast input array from shape (72,) into shape (512,)\n",
      "Some exception occured\n",
      "could not broadcast input array from shape (72,) into shape (512,)\n",
      "Some exception occured\n",
      "could not broadcast input array from shape (72,) into shape (512,)\n",
      "Some exception occured\n",
      "could not broadcast input array from shape (72,) into shape (512,)\n",
      "Some exception occured\n",
      "could not broadcast input array from shape (72,) into shape (512,)\n",
      "Some exception occured\n",
      "could not broadcast input array from shape (72,) into shape (512,)\n",
      "Some exception occured\n",
      "could not broadcast input array from shape (72,) into shape (512,)\n",
      "Some exception occured\n",
      "could not broadcast input array from shape (72,) into shape (512,)\n",
      "Some exception occured\n",
      "could not broadcast input array from shape (72,) into shape (512,)\n",
      "Some exception occured\n",
      "could not broadcast input array from shape (72,) into shape (512,)\n",
      "Some exception occured\n",
      "could not broadcast input array from shape (72,) into shape (512,)\n",
      "Some exception occured\n",
      "could not broadcast input array from shape (72,) into shape (512,)\n",
      "Some exception occured\n"
     ]
    },
    {
     "name": "stderr",
     "output_type": "stream",
     "text": [
      "1374it [00:13, 105.78it/s]"
     ]
    },
    {
     "name": "stdout",
     "output_type": "stream",
     "text": [
      "could not broadcast input array from shape (292,) into shape (512,)\n",
      "Some exception occured\n",
      "could not broadcast input array from shape (72,) into shape (512,)\n",
      "Some exception occured\n",
      "could not broadcast input array from shape (72,) into shape (512,)\n",
      "Some exception occured\n",
      "could not broadcast input array from shape (71,) into shape (512,)\n",
      "Some exception occured\n",
      "could not broadcast input array from shape (72,) into shape (512,)\n",
      "Some exception occured\n",
      "could not broadcast input array from shape (253,) into shape (512,)\n",
      "Some exception occured\n"
     ]
    },
    {
     "name": "stderr",
     "output_type": "stream",
     "text": [
      "1397it [00:13, 105.60it/s]"
     ]
    },
    {
     "name": "stdout",
     "output_type": "stream",
     "text": [
      "could not broadcast input array from shape (147,) into shape (512,)\n",
      "Some exception occured\n",
      "could not broadcast input array from shape (147,) into shape (512,)\n",
      "Some exception occured\n",
      "could not broadcast input array from shape (165,) into shape (512,)\n",
      "Some exception occured\n",
      "could not broadcast input array from shape (336,) into shape (512,)\n",
      "Some exception occured\n",
      "could not broadcast input array from shape (336,) into shape (512,)\n",
      "Some exception occured\n",
      "could not broadcast input array from shape (72,) into shape (512,)\n",
      "Some exception occured\n",
      "could not broadcast input array from shape (474,) into shape (512,)\n",
      "Some exception occured\n",
      "could not broadcast input array from shape (81,) into shape (512,)\n",
      "Some exception occured\n"
     ]
    },
    {
     "name": "stderr",
     "output_type": "stream",
     "text": [
      "\r",
      "1408it [00:13, 98.26it/s] "
     ]
    },
    {
     "name": "stdout",
     "output_type": "stream",
     "text": [
      "could not broadcast input array from shape (151,) into shape (512,)\n",
      "Some exception occured\n"
     ]
    },
    {
     "name": "stderr",
     "output_type": "stream",
     "text": [
      "1447it [00:14, 111.73it/s]"
     ]
    },
    {
     "name": "stdout",
     "output_type": "stream",
     "text": [
      "could not broadcast input array from shape (500,) into shape (512,)\n",
      "Some exception occured\n",
      "could not broadcast input array from shape (147,) into shape (512,)\n",
      "Some exception occured\n",
      "could not broadcast input array from shape (120,) into shape (512,)\n",
      "Some exception occured\n",
      "could not broadcast input array from shape (469,) into shape (512,)\n",
      "Some exception occured\n",
      "could not broadcast input array from shape (72,) into shape (512,)\n",
      "Some exception occured\n",
      "could not broadcast input array from shape (72,) into shape (512,)\n",
      "Some exception occured\n",
      "could not broadcast input array from shape (72,) into shape (512,)\n",
      "Some exception occured\n",
      "could not broadcast input array from shape (72,) into shape (512,)\n",
      "Some exception occured\n",
      "could not broadcast input array from shape (72,) into shape (512,)\n",
      "Some exception occured\n",
      "could not broadcast input array from shape (72,) into shape (512,)\n",
      "Some exception occured\n",
      "could not broadcast input array from shape (292,) into shape (512,)\n",
      "Some exception occured\n",
      "could not broadcast input array from shape (72,) into shape (512,)\n",
      "Some exception occured\n",
      "could not broadcast input array from shape (72,) into shape (512,)\n",
      "Some exception occured\n",
      "could not broadcast input array from shape (72,) into shape (512,)\n",
      "Some exception occured\n"
     ]
    },
    {
     "name": "stderr",
     "output_type": "stream",
     "text": [
      "\r",
      "1466it [00:14, 130.80it/s]"
     ]
    },
    {
     "name": "stdout",
     "output_type": "stream",
     "text": [
      "could not broadcast input array from shape (72,) into shape (512,)\n",
      "Some exception occured\n",
      "could not broadcast input array from shape (71,) into shape (512,)\n",
      "Some exception occured\n",
      "could not broadcast input array from shape (72,) into shape (512,)\n",
      "Some exception occured\n",
      "could not broadcast input array from shape (252,) into shape (512,)\n",
      "Some exception occured\n",
      "could not broadcast input array from shape (72,) into shape (512,)\n",
      "Some exception occured\n",
      "could not broadcast input array from shape (72,) into shape (512,)\n",
      "Some exception occured\n",
      "could not broadcast input array from shape (72,) into shape (512,)\n",
      "Some exception occured\n",
      "could not broadcast input array from shape (403,) into shape (512,)\n",
      "Some exception occured\n",
      "could not broadcast input array from shape (292,) into shape (512,)\n",
      "Some exception occured\n",
      "could not broadcast input array from shape (72,) into shape (512,)\n",
      "Some exception occured\n",
      "could not broadcast input array from shape (72,) into shape (512,)\n",
      "Some exception occured\n",
      "could not broadcast input array from shape (73,) into shape (512,)\n",
      "Some exception occured\n",
      "could not broadcast input array from shape (72,) into shape (512,)\n",
      "Some exception occured\n",
      "could not broadcast input array from shape (72,) into shape (512,)\n",
      "Some exception occured\n",
      "could not broadcast input array from shape (73,) into shape (512,)\n",
      "Some exception occured\n"
     ]
    },
    {
     "name": "stderr",
     "output_type": "stream",
     "text": [
      "1494it [00:14, 104.20it/s]"
     ]
    },
    {
     "name": "stdout",
     "output_type": "stream",
     "text": [
      "could not broadcast input array from shape (72,) into shape (512,)\n",
      "Some exception occured\n",
      "could not broadcast input array from shape (249,) into shape (512,)\n",
      "Some exception occured\n",
      "could not broadcast input array from shape (310,) into shape (512,)\n",
      "Some exception occured\n"
     ]
    },
    {
     "name": "stderr",
     "output_type": "stream",
     "text": [
      "\r",
      "1506it [00:14, 107.50it/s]"
     ]
    },
    {
     "name": "stdout",
     "output_type": "stream",
     "text": [
      "could not broadcast input array from shape (72,) into shape (512,)\n",
      "Some exception occured\n",
      "could not broadcast input array from shape (332,) into shape (512,)\n",
      "Some exception occured\n",
      "could not broadcast input array from shape (209,) into shape (512,)\n",
      "Some exception occured\n",
      "could not broadcast input array from shape (402,) into shape (512,)\n",
      "Some exception occured\n",
      "could not broadcast input array from shape (487,) into shape (512,)\n",
      "Some exception occured\n"
     ]
    },
    {
     "name": "stderr",
     "output_type": "stream",
     "text": [
      "1542it [00:14, 105.95it/s]"
     ]
    },
    {
     "name": "stdout",
     "output_type": "stream",
     "text": [
      "could not broadcast input array from shape (85,) into shape (512,)\n",
      "Some exception occured\n",
      "could not broadcast input array from shape (151,) into shape (512,)\n",
      "Some exception occured\n",
      "could not broadcast input array from shape (99,) into shape (512,)\n",
      "Some exception occured\n",
      "could not broadcast input array from shape (222,) into shape (512,)\n",
      "Some exception occured\n",
      "could not broadcast input array from shape (473,) into shape (512,)\n",
      "Some exception occured\n"
     ]
    },
    {
     "name": "stderr",
     "output_type": "stream",
     "text": [
      "\r",
      "1553it [00:14, 101.97it/s]"
     ]
    },
    {
     "name": "stdout",
     "output_type": "stream",
     "text": [
      "could not broadcast input array from shape (160,) into shape (512,)\n",
      "Some exception occured\n",
      "could not broadcast input array from shape (72,) into shape (512,)\n",
      "Some exception occured\n",
      "could not broadcast input array from shape (72,) into shape (512,)\n",
      "Some exception occured\n"
     ]
    },
    {
     "name": "stderr",
     "output_type": "stream",
     "text": [
      "1577it [00:15, 97.85it/s] "
     ]
    },
    {
     "name": "stdout",
     "output_type": "stream",
     "text": [
      "could not broadcast input array from shape (72,) into shape (512,)\n",
      "Some exception occured\n",
      "could not broadcast input array from shape (72,) into shape (512,)\n",
      "Some exception occured\n",
      "could not broadcast input array from shape (292,) into shape (512,)\n",
      "Some exception occured\n",
      "could not broadcast input array from shape (72,) into shape (512,)\n",
      "Some exception occured\n",
      "could not broadcast input array from shape (292,) into shape (512,)\n",
      "Some exception occured\n",
      "could not broadcast input array from shape (72,) into shape (512,)\n",
      "Some exception occured\n",
      "could not broadcast input array from shape (72,) into shape (512,)\n",
      "Some exception occured\n",
      "could not broadcast input array from shape (72,) into shape (512,)\n",
      "Some exception occured\n"
     ]
    },
    {
     "name": "stderr",
     "output_type": "stream",
     "text": [
      "1601it [00:15, 102.88it/s]"
     ]
    },
    {
     "name": "stdout",
     "output_type": "stream",
     "text": [
      "could not broadcast input array from shape (71,) into shape (512,)\n",
      "Some exception occured\n",
      "could not broadcast input array from shape (72,) into shape (512,)\n",
      "Some exception occured\n",
      "could not broadcast input array from shape (72,) into shape (512,)\n",
      "Some exception occured\n",
      "could not broadcast input array from shape (284,) into shape (512,)\n",
      "Some exception occured\n",
      "could not broadcast input array from shape (165,) into shape (512,)\n",
      "Some exception occured\n",
      "could not broadcast input array from shape (80,) into shape (512,)\n",
      "Some exception occured\n",
      "could not broadcast input array from shape (455,) into shape (512,)\n",
      "Some exception occured\n",
      "could not broadcast input array from shape (138,) into shape (512,)\n",
      "Some exception occured\n",
      "could not broadcast input array from shape (473,) into shape (512,)\n",
      "Some exception occured\n",
      "could not broadcast input array from shape (421,) into shape (512,)\n",
      "Some exception occured\n",
      "could not broadcast input array from shape (85,) into shape (512,)\n",
      "Some exception occured\n",
      "could not broadcast input array from shape (332,) into shape (512,)\n",
      "Some exception occured\n",
      "could not broadcast input array from shape (266,) into shape (512,)\n",
      "Some exception occured\n",
      "could not broadcast input array from shape (429,) into shape (512,)\n",
      "Some exception occured\n"
     ]
    },
    {
     "name": "stderr",
     "output_type": "stream",
     "text": [
      "1631it [00:15, 114.91it/s]"
     ]
    },
    {
     "name": "stdout",
     "output_type": "stream",
     "text": [
      "could not broadcast input array from shape (266,) into shape (512,)\n",
      "Some exception occured\n",
      "could not broadcast input array from shape (293,) into shape (512,)\n",
      "Some exception occured\n",
      "could not broadcast input array from shape (134,) into shape (512,)\n",
      "Some exception occured\n",
      "could not broadcast input array from shape (460,) into shape (512,)\n",
      "Some exception occured\n",
      "could not broadcast input array from shape (86,) into shape (512,)\n",
      "Some exception occured\n"
     ]
    },
    {
     "name": "stderr",
     "output_type": "stream",
     "text": [
      "1654it [00:15, 101.76it/s]"
     ]
    },
    {
     "name": "stdout",
     "output_type": "stream",
     "text": [
      "could not broadcast input array from shape (257,) into shape (512,)\n",
      "Some exception occured\n",
      "could not broadcast input array from shape (99,) into shape (512,)\n",
      "Some exception occured\n",
      "could not broadcast input array from shape (147,) into shape (512,)\n",
      "Some exception occured\n",
      "could not broadcast input array from shape (469,) into shape (512,)\n",
      "Some exception occured\n",
      "could not broadcast input array from shape (469,) into shape (512,)\n",
      "Some exception occured\n"
     ]
    },
    {
     "name": "stderr",
     "output_type": "stream",
     "text": [
      "1676it [00:16, 98.09it/s] "
     ]
    },
    {
     "name": "stdout",
     "output_type": "stream",
     "text": [
      "could not broadcast input array from shape (297,) into shape (512,)\n",
      "Some exception occured\n",
      "could not broadcast input array from shape (403,) into shape (512,)\n",
      "Some exception occured\n",
      "could not broadcast input array from shape (226,) into shape (512,)\n",
      "Some exception occured\n",
      "could not broadcast input array from shape (469,) into shape (512,)\n",
      "Some exception occured\n",
      "could not broadcast input array from shape (297,) into shape (512,)\n",
      "Some exception occured\n",
      "could not broadcast input array from shape (191,) into shape (512,)\n",
      "Some exception occured\n"
     ]
    },
    {
     "name": "stderr",
     "output_type": "stream",
     "text": [
      "1696it [00:16, 87.48it/s]"
     ]
    },
    {
     "name": "stdout",
     "output_type": "stream",
     "text": [
      "could not broadcast input array from shape (262,) into shape (512,)\n",
      "Some exception occured\n",
      "could not broadcast input array from shape (270,) into shape (512,)\n",
      "Some exception occured\n",
      "could not broadcast input array from shape (147,) into shape (512,)\n",
      "Some exception occured\n",
      "could not broadcast input array from shape (293,) into shape (512,)\n",
      "Some exception occured\n"
     ]
    },
    {
     "name": "stderr",
     "output_type": "stream",
     "text": [
      "1717it [00:16, 93.36it/s]"
     ]
    },
    {
     "name": "stdout",
     "output_type": "stream",
     "text": [
      "could not broadcast input array from shape (381,) into shape (512,)\n",
      "Some exception occured\n",
      "could not broadcast input array from shape (451,) into shape (512,)\n",
      "Some exception occured\n",
      "could not broadcast input array from shape (112,) into shape (512,)\n",
      "Some exception occured\n",
      "could not broadcast input array from shape (195,) into shape (512,)\n",
      "Some exception occured\n",
      "could not broadcast input array from shape (333,) into shape (512,)\n",
      "Some exception occured\n",
      "could not broadcast input array from shape (372,) into shape (512,)\n",
      "Some exception occured\n",
      "could not broadcast input array from shape (354,) into shape (512,)\n",
      "Some exception occured\n",
      "could not broadcast input array from shape (213,) into shape (512,)\n",
      "Some exception occured\n"
     ]
    },
    {
     "name": "stderr",
     "output_type": "stream",
     "text": [
      "1737it [00:16, 88.43it/s]"
     ]
    },
    {
     "name": "stdout",
     "output_type": "stream",
     "text": [
      "could not broadcast input array from shape (90,) into shape (512,)\n",
      "Some exception occured\n",
      "could not broadcast input array from shape (333,) into shape (512,)\n",
      "Some exception occured\n",
      "could not broadcast input array from shape (350,) into shape (512,)\n",
      "Some exception occured\n",
      "could not broadcast input array from shape (90,) into shape (512,)\n",
      "Some exception occured\n",
      "could not broadcast input array from shape (461,) into shape (512,)\n",
      "Some exception occured\n",
      "could not broadcast input array from shape (464,) into shape (512,)\n",
      "Some exception occured\n",
      "could not broadcast input array from shape (227,) into shape (512,)\n",
      "Some exception occured\n"
     ]
    },
    {
     "name": "stderr",
     "output_type": "stream",
     "text": [
      "1760it [00:17, 97.32it/s]"
     ]
    },
    {
     "name": "stdout",
     "output_type": "stream",
     "text": [
      "could not broadcast input array from shape (310,) into shape (512,)\n",
      "Some exception occured\n",
      "could not broadcast input array from shape (213,) into shape (512,)\n",
      "Some exception occured\n",
      "could not broadcast input array from shape (337,) into shape (512,)\n",
      "Some exception occured\n",
      "could not broadcast input array from shape (107,) into shape (512,)\n",
      "Some exception occured\n",
      "could not broadcast input array from shape (187,) into shape (512,)\n",
      "Some exception occured\n",
      "could not broadcast input array from shape (147,) into shape (512,)\n",
      "Some exception occured\n",
      "could not broadcast input array from shape (262,) into shape (512,)\n",
      "Some exception occured\n",
      "could not broadcast input array from shape (500,) into shape (512,)\n",
      "Some exception occured\n",
      "could not broadcast input array from shape (425,) into shape (512,)\n",
      "Some exception occured\n",
      "could not broadcast input array from shape (182,) into shape (512,)\n",
      "Some exception occured\n",
      "could not broadcast input array from shape (460,) into shape (512,)\n",
      "Some exception occured\n"
     ]
    },
    {
     "name": "stderr",
     "output_type": "stream",
     "text": [
      "1793it [00:17, 92.53it/s] "
     ]
    },
    {
     "name": "stdout",
     "output_type": "stream",
     "text": [
      "could not broadcast input array from shape (103,) into shape (512,)\n",
      "Some exception occured\n",
      "could not broadcast input array from shape (394,) into shape (512,)\n",
      "Some exception occured\n",
      "could not broadcast input array from shape (429,) into shape (512,)\n",
      "Some exception occured\n",
      "could not broadcast input array from shape (337,) into shape (512,)\n",
      "Some exception occured\n",
      "could not broadcast input array from shape (94,) into shape (512,)\n",
      "Some exception occured\n",
      "could not broadcast input array from shape (420,) into shape (512,)\n",
      "Some exception occured\n"
     ]
    },
    {
     "name": "stderr",
     "output_type": "stream",
     "text": [
      "1821it [00:17, 99.15it/s]"
     ]
    },
    {
     "name": "stdout",
     "output_type": "stream",
     "text": [
      "could not broadcast input array from shape (129,) into shape (512,)\n",
      "Some exception occured\n",
      "could not broadcast input array from shape (204,) into shape (512,)\n",
      "Some exception occured\n",
      "could not broadcast input array from shape (289,) into shape (512,)\n",
      "Some exception occured\n",
      "could not broadcast input array from shape (460,) into shape (512,)\n",
      "Some exception occured\n",
      "could not broadcast input array from shape (164,) into shape (512,)\n",
      "Some exception occured\n",
      "could not broadcast input array from shape (293,) into shape (512,)\n",
      "Some exception occured\n",
      "could not broadcast input array from shape (204,) into shape (512,)\n",
      "Some exception occured\n",
      "could not broadcast input array from shape (178,) into shape (512,)\n",
      "Some exception occured\n",
      "could not broadcast input array from shape (319,) into shape (512,)\n",
      "Some exception occured\n",
      "could not broadcast input array from shape (244,) into shape (512,)\n",
      "Some exception occured\n",
      "could not broadcast input array from shape (292,) into shape (512,)\n",
      "Some exception occured\n",
      "could not broadcast input array from shape (403,) into shape (512,)\n",
      "Some exception occured\n",
      "could not broadcast input array from shape (327,) into shape (512,)\n",
      "Some exception occured\n",
      "could not broadcast input array from shape (328,) into shape (512,)\n",
      "Some exception occured\n",
      "could not broadcast input array from shape (499,) into shape (512,)\n",
      "Some exception occured\n",
      "could not broadcast input array from shape (94,) into shape (512,)\n",
      "Some exception occured\n",
      "could not broadcast input array from shape (505,) into shape (512,)\n",
      "Some exception occured\n",
      "could not broadcast input array from shape (160,) into shape (512,)\n",
      "Some exception occured\n",
      "could not broadcast input array from shape (164,) into shape (512,)\n",
      "Some exception occured\n"
     ]
    },
    {
     "name": "stderr",
     "output_type": "stream",
     "text": [
      "1856it [00:18, 97.90it/s] "
     ]
    },
    {
     "name": "stdout",
     "output_type": "stream",
     "text": [
      "could not broadcast input array from shape (495,) into shape (512,)\n",
      "Some exception occured\n",
      "could not broadcast input array from shape (142,) into shape (512,)\n",
      "Some exception occured\n",
      "could not broadcast input array from shape (491,) into shape (512,)\n",
      "Some exception occured\n",
      "could not broadcast input array from shape (103,) into shape (512,)\n",
      "Some exception occured\n",
      "could not broadcast input array from shape (182,) into shape (512,)\n",
      "Some exception occured\n",
      "could not broadcast input array from shape (116,) into shape (512,)\n",
      "Some exception occured\n"
     ]
    },
    {
     "name": "stderr",
     "output_type": "stream",
     "text": [
      "\r",
      "1867it [00:18, 99.57it/s]"
     ]
    },
    {
     "name": "stdout",
     "output_type": "stream",
     "text": [
      "could not broadcast input array from shape (504,) into shape (512,)\n",
      "Some exception occured\n",
      "could not broadcast input array from shape (187,) into shape (512,)\n",
      "Some exception occured\n",
      "could not broadcast input array from shape (226,) into shape (512,)\n",
      "Some exception occured\n"
     ]
    },
    {
     "name": "stderr",
     "output_type": "stream",
     "text": [
      "1891it [00:18, 105.77it/s]"
     ]
    },
    {
     "name": "stdout",
     "output_type": "stream",
     "text": [
      "could not broadcast input array from shape (336,) into shape (512,)\n",
      "Some exception occured\n",
      "could not broadcast input array from shape (434,) into shape (512,)\n",
      "Some exception occured\n",
      "could not broadcast input array from shape (116,) into shape (512,)\n",
      "Some exception occured\n",
      "could not broadcast input array from shape (478,) into shape (512,)\n",
      "Some exception occured\n",
      "could not broadcast input array from shape (403,) into shape (512,)\n",
      "Some exception occured\n",
      "could not broadcast input array from shape (447,) into shape (512,)\n",
      "Some exception occured\n",
      "could not broadcast input array from shape (116,) into shape (512,)\n",
      "Some exception occured\n"
     ]
    },
    {
     "name": "stderr",
     "output_type": "stream",
     "text": [
      "1913it [00:18, 102.53it/s]"
     ]
    },
    {
     "name": "stdout",
     "output_type": "stream",
     "text": [
      "could not broadcast input array from shape (209,) into shape (512,)\n",
      "Some exception occured\n",
      "could not broadcast input array from shape (182,) into shape (512,)\n",
      "Some exception occured\n",
      "could not broadcast input array from shape (328,) into shape (512,)\n",
      "Some exception occured\n",
      "could not broadcast input array from shape (407,) into shape (512,)\n",
      "Some exception occured\n",
      "could not broadcast input array from shape (257,) into shape (512,)\n",
      "Some exception occured\n",
      "could not broadcast input array from shape (434,) into shape (512,)\n",
      "Some exception occured\n"
     ]
    },
    {
     "name": "stderr",
     "output_type": "stream",
     "text": [
      "1937it [00:18, 92.92it/s] "
     ]
    },
    {
     "name": "stdout",
     "output_type": "stream",
     "text": [
      "could not broadcast input array from shape (117,) into shape (512,)\n",
      "Some exception occured\n",
      "could not broadcast input array from shape (116,) into shape (512,)\n",
      "Some exception occured\n",
      "could not broadcast input array from shape (191,) into shape (512,)\n",
      "Some exception occured\n",
      "could not broadcast input array from shape (381,) into shape (512,)\n",
      "Some exception occured\n",
      "could not broadcast input array from shape (182,) into shape (512,)\n",
      "Some exception occured\n",
      "could not broadcast input array from shape (509,) into shape (512,)\n",
      "Some exception occured\n",
      "could not broadcast input array from shape (478,) into shape (512,)\n",
      "Some exception occured\n"
     ]
    },
    {
     "name": "stderr",
     "output_type": "stream",
     "text": [
      "1959it [00:19, 95.11it/s]"
     ]
    },
    {
     "name": "stdout",
     "output_type": "stream",
     "text": [
      "could not broadcast input array from shape (183,) into shape (512,)\n",
      "Some exception occured\n",
      "could not broadcast input array from shape (385,) into shape (512,)\n",
      "Some exception occured\n",
      "could not broadcast input array from shape (112,) into shape (512,)\n",
      "Some exception occured\n",
      "could not broadcast input array from shape (235,) into shape (512,)\n",
      "Some exception occured\n",
      "could not broadcast input array from shape (292,) into shape (512,)\n",
      "Some exception occured\n",
      "could not broadcast input array from shape (90,) into shape (512,)\n",
      "Some exception occured\n",
      "could not broadcast input array from shape (186,) into shape (512,)\n",
      "Some exception occured\n"
     ]
    },
    {
     "name": "stderr",
     "output_type": "stream",
     "text": [
      "1999it [00:19, 116.52it/s]"
     ]
    },
    {
     "name": "stdout",
     "output_type": "stream",
     "text": [
      "could not broadcast input array from shape (239,) into shape (512,)\n",
      "Some exception occured\n",
      "could not broadcast input array from shape (292,) into shape (512,)\n",
      "Some exception occured\n",
      "could not broadcast input array from shape (403,) into shape (512,)\n",
      "Some exception occured\n",
      "could not broadcast input array from shape (72,) into shape (512,)\n",
      "Some exception occured\n",
      "could not broadcast input array from shape (72,) into shape (512,)\n",
      "Some exception occured\n",
      "could not broadcast input array from shape (402,) into shape (512,)\n",
      "Some exception occured\n",
      "could not broadcast input array from shape (72,) into shape (512,)\n",
      "Some exception occured\n",
      "could not broadcast input array from shape (72,) into shape (512,)\n",
      "Some exception occured\n",
      "could not broadcast input array from shape (402,) into shape (512,)\n",
      "Some exception occured\n",
      "could not broadcast input array from shape (72,) into shape (512,)\n",
      "Some exception occured\n",
      "could not broadcast input array from shape (402,) into shape (512,)\n",
      "Some exception occured\n"
     ]
    },
    {
     "name": "stderr",
     "output_type": "stream",
     "text": [
      "\r",
      "2011it [00:19, 113.15it/s]"
     ]
    },
    {
     "name": "stdout",
     "output_type": "stream",
     "text": [
      "could not broadcast input array from shape (292,) into shape (512,)\n",
      "Some exception occured\n",
      "could not broadcast input array from shape (120,) into shape (512,)\n",
      "Some exception occured\n",
      "could not broadcast input array from shape (72,) into shape (512,)\n",
      "Some exception occured\n",
      "could not broadcast input array from shape (182,) into shape (512,)\n",
      "Some exception occured\n",
      "could not broadcast input array from shape (182,) into shape (512,)\n",
      "Some exception occured\n",
      "could not broadcast input array from shape (73,) into shape (512,)\n",
      "Some exception occured\n",
      "could not broadcast input array from shape (72,) into shape (512,)\n",
      "Some exception occured\n",
      "could not broadcast input array from shape (402,) into shape (512,)\n",
      "Some exception occured\n"
     ]
    },
    {
     "name": "stderr",
     "output_type": "stream",
     "text": [
      "2047it [00:20, 101.53it/s]"
     ]
    },
    {
     "name": "stdout",
     "output_type": "stream",
     "text": [
      "could not broadcast input array from shape (72,) into shape (512,)\n",
      "Some exception occured\n",
      "could not broadcast input array from shape (72,) into shape (512,)\n",
      "Some exception occured\n",
      "could not broadcast input array from shape (72,) into shape (512,)\n",
      "Some exception occured\n",
      "could not broadcast input array from shape (72,) into shape (512,)\n",
      "Some exception occured\n",
      "could not broadcast input array from shape (403,) into shape (512,)\n",
      "Some exception occured\n",
      "could not broadcast input array from shape (72,) into shape (512,)\n",
      "Some exception occured\n",
      "could not broadcast input array from shape (72,) into shape (512,)\n",
      "Some exception occured\n",
      "could not broadcast input array from shape (72,) into shape (512,)\n",
      "Some exception occured\n",
      "could not broadcast input array from shape (262,) into shape (512,)\n",
      "Some exception occured\n",
      "could not broadcast input array from shape (274,) into shape (512,)\n",
      "Some exception occured\n"
     ]
    },
    {
     "name": "stderr",
     "output_type": "stream",
     "text": [
      "2079it [00:20, 126.81it/s]"
     ]
    },
    {
     "name": "stdout",
     "output_type": "stream",
     "text": [
      "could not broadcast input array from shape (95,) into shape (512,)\n",
      "Some exception occured\n",
      "could not broadcast input array from shape (138,) into shape (512,)\n",
      "Some exception occured\n",
      "could not broadcast input array from shape (499,) into shape (512,)\n",
      "Some exception occured\n",
      "could not broadcast input array from shape (474,) into shape (512,)\n",
      "Some exception occured\n",
      "could not broadcast input array from shape (253,) into shape (512,)\n",
      "Some exception occured\n",
      "could not broadcast input array from shape (416,) into shape (512,)\n",
      "Some exception occured\n",
      "could not broadcast input array from shape (81,) into shape (512,)\n",
      "Some exception occured\n",
      "could not broadcast input array from shape (345,) into shape (512,)\n",
      "Some exception occured\n",
      "could not broadcast input array from shape (486,) into shape (512,)\n",
      "Some exception occured\n",
      "could not broadcast input array from shape (218,) into shape (512,)\n",
      "Some exception occured\n",
      "could not broadcast input array from shape (183,) into shape (512,)\n",
      "Some exception occured\n",
      "could not broadcast input array from shape (195,) into shape (512,)\n",
      "Some exception occured\n",
      "could not broadcast input array from shape (147,) into shape (512,)\n",
      "Some exception occured\n",
      "could not broadcast input array from shape (403,) into shape (512,)\n",
      "Some exception occured\n"
     ]
    },
    {
     "name": "stderr",
     "output_type": "stream",
     "text": [
      "2106it [00:20, 113.79it/s]"
     ]
    },
    {
     "name": "stdout",
     "output_type": "stream",
     "text": [
      "could not broadcast input array from shape (288,) into shape (512,)\n",
      "Some exception occured\n",
      "could not broadcast input array from shape (248,) into shape (512,)\n",
      "Some exception occured\n",
      "could not broadcast input array from shape (270,) into shape (512,)\n",
      "Some exception occured\n",
      "could not broadcast input array from shape (367,) into shape (512,)\n",
      "Some exception occured\n",
      "could not broadcast input array from shape (142,) into shape (512,)\n",
      "Some exception occured\n",
      "could not broadcast input array from shape (372,) into shape (512,)\n",
      "Some exception occured\n",
      "could not broadcast input array from shape (389,) into shape (512,)\n",
      "Some exception occured\n",
      "could not broadcast input array from shape (183,) into shape (512,)\n",
      "Some exception occured\n",
      "could not broadcast input array from shape (460,) into shape (512,)\n",
      "Some exception occured\n",
      "could not broadcast input array from shape (425,) into shape (512,)\n",
      "Some exception occured\n",
      "could not broadcast input array from shape (359,) into shape (512,)\n",
      "Some exception occured\n",
      "could not broadcast input array from shape (209,) into shape (512,)\n",
      "Some exception occured\n"
     ]
    },
    {
     "name": "stderr",
     "output_type": "stream",
     "text": [
      "2136it [00:20, 102.47it/s]"
     ]
    },
    {
     "name": "stdout",
     "output_type": "stream",
     "text": [
      "could not broadcast input array from shape (402,) into shape (512,)\n",
      "Some exception occured\n",
      "could not broadcast input array from shape (324,) into shape (512,)\n",
      "Some exception occured\n",
      "could not broadcast input array from shape (143,) into shape (512,)\n",
      "Some exception occured\n",
      "could not broadcast input array from shape (218,) into shape (512,)\n",
      "Some exception occured\n",
      "could not broadcast input array from shape (349,) into shape (512,)\n",
      "Some exception occured\n",
      "could not broadcast input array from shape (239,) into shape (512,)\n",
      "Some exception occured\n"
     ]
    },
    {
     "name": "stderr",
     "output_type": "stream",
     "text": [
      "\n",
      "15it [00:00, 70.72it/s]"
     ]
    },
    {
     "name": "stdout",
     "output_type": "stream",
     "text": [
      "could not broadcast input array from shape (72,) into shape (512,)\n",
      "Some exception occured\n",
      "could not broadcast input array from shape (72,) into shape (512,)\n",
      "Some exception occured\n",
      "could not broadcast input array from shape (72,) into shape (512,)\n",
      "Some exception occured\n"
     ]
    },
    {
     "name": "stderr",
     "output_type": "stream",
     "text": [
      "38it [00:00, 93.94it/s]"
     ]
    },
    {
     "name": "stdout",
     "output_type": "stream",
     "text": [
      "could not broadcast input array from shape (72,) into shape (512,)\n",
      "Some exception occured\n",
      "could not broadcast input array from shape (73,) into shape (512,)\n",
      "Some exception occured\n",
      "could not broadcast input array from shape (72,) into shape (512,)\n",
      "Some exception occured\n",
      "could not broadcast input array from shape (72,) into shape (512,)\n",
      "Some exception occured\n",
      "could not broadcast input array from shape (72,) into shape (512,)\n",
      "Some exception occured\n",
      "could not broadcast input array from shape (72,) into shape (512,)\n",
      "Some exception occured\n",
      "could not broadcast input array from shape (72,) into shape (512,)\n",
      "Some exception occured\n",
      "could not broadcast input array from shape (72,) into shape (512,)\n",
      "Some exception occured\n",
      "could not broadcast input array from shape (72,) into shape (512,)\n",
      "Some exception occured\n",
      "could not broadcast input array from shape (72,) into shape (512,)\n",
      "Some exception occured\n",
      "could not broadcast input array from shape (72,) into shape (512,)\n",
      "Some exception occured\n"
     ]
    },
    {
     "name": "stderr",
     "output_type": "stream",
     "text": [
      "57it [00:00, 87.84it/s]"
     ]
    },
    {
     "name": "stdout",
     "output_type": "stream",
     "text": [
      "could not broadcast input array from shape (72,) into shape (512,)\n",
      "Some exception occured\n",
      "could not broadcast input array from shape (72,) into shape (512,)\n",
      "Some exception occured\n",
      "could not broadcast input array from shape (72,) into shape (512,)\n",
      "Some exception occured\n",
      "could not broadcast input array from shape (72,) into shape (512,)\n",
      "Some exception occured\n",
      "could not broadcast input array from shape (72,) into shape (512,)\n",
      "Some exception occured\n"
     ]
    },
    {
     "name": "stderr",
     "output_type": "stream",
     "text": [
      "85it [00:00, 111.34it/s]"
     ]
    },
    {
     "name": "stdout",
     "output_type": "stream",
     "text": [
      "could not broadcast input array from shape (72,) into shape (512,)\n",
      "Some exception occured\n",
      "could not broadcast input array from shape (72,) into shape (512,)\n",
      "Some exception occured\n",
      "could not broadcast input array from shape (72,) into shape (512,)\n",
      "Some exception occured\n",
      "could not broadcast input array from shape (72,) into shape (512,)\n",
      "Some exception occured\n",
      "could not broadcast input array from shape (204,) into shape (512,)\n",
      "Some exception occured\n",
      "could not broadcast input array from shape (72,) into shape (512,)\n",
      "Some exception occured\n",
      "could not broadcast input array from shape (226,) into shape (512,)\n",
      "Some exception occured\n",
      "could not broadcast input array from shape (73,) into shape (512,)\n",
      "Some exception occured\n",
      "could not broadcast input array from shape (72,) into shape (512,)\n",
      "Some exception occured\n"
     ]
    },
    {
     "name": "stderr",
     "output_type": "stream",
     "text": [
      "112it [00:01, 114.03it/s]"
     ]
    },
    {
     "name": "stdout",
     "output_type": "stream",
     "text": [
      "could not broadcast input array from shape (72,) into shape (512,)\n",
      "Some exception occured\n",
      "could not broadcast input array from shape (192,) into shape (512,)\n",
      "Some exception occured\n",
      "could not broadcast input array from shape (72,) into shape (512,)\n",
      "Some exception occured\n",
      "could not broadcast input array from shape (208,) into shape (512,)\n",
      "Some exception occured\n",
      "could not broadcast input array from shape (204,) into shape (512,)\n",
      "Some exception occured\n",
      "could not broadcast input array from shape (72,) into shape (512,)\n",
      "Some exception occured\n",
      "could not broadcast input array from shape (72,) into shape (512,)\n",
      "Some exception occured\n",
      "could not broadcast input array from shape (380,) into shape (512,)\n",
      "Some exception occured\n",
      "could not broadcast input array from shape (72,) into shape (512,)\n",
      "Some exception occured\n",
      "could not broadcast input array from shape (72,) into shape (512,)\n",
      "Some exception occured\n"
     ]
    },
    {
     "name": "stderr",
     "output_type": "stream",
     "text": [
      "151it [00:01, 149.38it/s]"
     ]
    },
    {
     "name": "stdout",
     "output_type": "stream",
     "text": [
      "could not broadcast input array from shape (72,) into shape (512,)\n",
      "Some exception occured\n",
      "could not broadcast input array from shape (72,) into shape (512,)\n",
      "Some exception occured\n",
      "could not broadcast input array from shape (72,) into shape (512,)\n",
      "Some exception occured\n",
      "could not broadcast input array from shape (72,) into shape (512,)\n",
      "Some exception occured\n",
      "could not broadcast input array from shape (72,) into shape (512,)\n",
      "Some exception occured\n",
      "could not broadcast input array from shape (72,) into shape (512,)\n",
      "Some exception occured\n",
      "could not broadcast input array from shape (72,) into shape (512,)\n",
      "Some exception occured\n",
      "could not broadcast input array from shape (72,) into shape (512,)\n",
      "Some exception occured\n",
      "could not broadcast input array from shape (72,) into shape (512,)\n",
      "Some exception occured\n",
      "could not broadcast input array from shape (72,) into shape (512,)\n",
      "Some exception occured\n",
      "could not broadcast input array from shape (72,) into shape (512,)\n",
      "Some exception occured\n",
      "could not broadcast input array from shape (72,) into shape (512,)\n",
      "Some exception occured\n",
      "could not broadcast input array from shape (71,) into shape (512,)\n",
      "Some exception occured\n",
      "could not broadcast input array from shape (72,) into shape (512,)\n",
      "Some exception occured\n",
      "could not broadcast input array from shape (72,) into shape (512,)\n",
      "Some exception occured\n",
      "could not broadcast input array from shape (72,) into shape (512,)\n",
      "Some exception occured\n",
      "could not broadcast input array from shape (72,) into shape (512,)\n",
      "Some exception occured\n",
      "could not broadcast input array from shape (72,) into shape (512,)\n",
      "Some exception occured\n",
      "could not broadcast input array from shape (72,) into shape (512,)\n",
      "Some exception occured\n",
      "could not broadcast input array from shape (72,) into shape (512,)\n",
      "Some exception occured\n",
      "could not broadcast input array from shape (72,) into shape (512,)\n",
      "Some exception occured\n",
      "could not broadcast input array from shape (72,) into shape (512,)\n",
      "Some exception occured\n"
     ]
    },
    {
     "name": "stderr",
     "output_type": "stream",
     "text": [
      "188it [00:01, 161.62it/s]"
     ]
    },
    {
     "name": "stdout",
     "output_type": "stream",
     "text": [
      "could not broadcast input array from shape (72,) into shape (512,)\n",
      "Some exception occured\n",
      "could not broadcast input array from shape (72,) into shape (512,)\n",
      "Some exception occured\n",
      "could not broadcast input array from shape (72,) into shape (512,)\n",
      "Some exception occured\n",
      "could not broadcast input array from shape (72,) into shape (512,)\n",
      "Some exception occured\n",
      "could not broadcast input array from shape (72,) into shape (512,)\n",
      "Some exception occured\n",
      "could not broadcast input array from shape (73,) into shape (512,)\n",
      "Some exception occured\n",
      "could not broadcast input array from shape (72,) into shape (512,)\n",
      "Some exception occured\n",
      "could not broadcast input array from shape (72,) into shape (512,)\n",
      "Some exception occured\n",
      "could not broadcast input array from shape (73,) into shape (512,)\n",
      "Some exception occured\n",
      "could not broadcast input array from shape (72,) into shape (512,)\n",
      "Some exception occured\n",
      "could not broadcast input array from shape (72,) into shape (512,)\n",
      "Some exception occured\n",
      "could not broadcast input array from shape (72,) into shape (512,)\n",
      "Some exception occured\n",
      "could not broadcast input array from shape (72,) into shape (512,)\n",
      "Some exception occured\n",
      "could not broadcast input array from shape (72,) into shape (512,)\n",
      "Some exception occured\n",
      "could not broadcast input array from shape (72,) into shape (512,)\n",
      "Some exception occured\n",
      "could not broadcast input array from shape (72,) into shape (512,)\n",
      "Some exception occured\n",
      "could not broadcast input array from shape (72,) into shape (512,)\n",
      "Some exception occured\n",
      "could not broadcast input array from shape (72,) into shape (512,)\n",
      "Some exception occured\n",
      "could not broadcast input array from shape (71,) into shape (512,)\n",
      "Some exception occured\n",
      "could not broadcast input array from shape (72,) into shape (512,)\n",
      "Some exception occured\n",
      "could not broadcast input array from shape (72,) into shape (512,)\n",
      "Some exception occured\n",
      "could not broadcast input array from shape (73,) into shape (512,)\n",
      "Some exception occured\n"
     ]
    },
    {
     "name": "stderr",
     "output_type": "stream",
     "text": [
      "\r",
      "205it [00:01, 121.82it/s]"
     ]
    },
    {
     "name": "stdout",
     "output_type": "stream",
     "text": [
      "could not broadcast input array from shape (151,) into shape (512,)\n",
      "Some exception occured\n",
      "could not broadcast input array from shape (77,) into shape (512,)\n",
      "Some exception occured\n",
      "could not broadcast input array from shape (72,) into shape (512,)\n",
      "Some exception occured\n",
      "could not broadcast input array from shape (73,) into shape (512,)\n",
      "Some exception occured\n",
      "could not broadcast input array from shape (72,) into shape (512,)\n",
      "Some exception occured\n",
      "could not broadcast input array from shape (274,) into shape (512,)\n",
      "Some exception occured\n"
     ]
    },
    {
     "name": "stderr",
     "output_type": "stream",
     "text": [
      "231it [00:02, 99.26it/s] "
     ]
    },
    {
     "name": "stdout",
     "output_type": "stream",
     "text": [
      "could not broadcast input array from shape (72,) into shape (512,)\n",
      "Some exception occured\n",
      "could not broadcast input array from shape (72,) into shape (512,)\n",
      "Some exception occured\n",
      "could not broadcast input array from shape (72,) into shape (512,)\n",
      "Some exception occured\n",
      "could not broadcast input array from shape (72,) into shape (512,)\n",
      "Some exception occured\n"
     ]
    },
    {
     "name": "stderr",
     "output_type": "stream",
     "text": [
      "252it [00:02, 85.58it/s]"
     ]
    },
    {
     "name": "stdout",
     "output_type": "stream",
     "text": [
      "could not broadcast input array from shape (72,) into shape (512,)\n",
      "Some exception occured\n",
      "could not broadcast input array from shape (72,) into shape (512,)\n",
      "Some exception occured\n",
      "could not broadcast input array from shape (72,) into shape (512,)\n",
      "Some exception occured\n",
      "could not broadcast input array from shape (72,) into shape (512,)\n",
      "Some exception occured\n",
      "could not broadcast input array from shape (72,) into shape (512,)\n",
      "Some exception occured\n",
      "could not broadcast input array from shape (72,) into shape (512,)\n",
      "Some exception occured\n",
      "could not broadcast input array from shape (72,) into shape (512,)\n",
      "Some exception occured\n"
     ]
    },
    {
     "name": "stderr",
     "output_type": "stream",
     "text": [
      "\r",
      "262it [00:02, 81.90it/s]"
     ]
    },
    {
     "name": "stdout",
     "output_type": "stream",
     "text": [
      "could not broadcast input array from shape (73,) into shape (512,)\n",
      "Some exception occured\n",
      "could not broadcast input array from shape (72,) into shape (512,)\n",
      "Some exception occured\n"
     ]
    },
    {
     "name": "stderr",
     "output_type": "stream",
     "text": [
      "281it [00:02, 87.03it/s]"
     ]
    },
    {
     "name": "stdout",
     "output_type": "stream",
     "text": [
      "could not broadcast input array from shape (72,) into shape (512,)\n",
      "Some exception occured\n",
      "could not broadcast input array from shape (72,) into shape (512,)\n",
      "Some exception occured\n",
      "could not broadcast input array from shape (72,) into shape (512,)\n",
      "Some exception occured\n",
      "could not broadcast input array from shape (72,) into shape (512,)\n",
      "Some exception occured\n",
      "could not broadcast input array from shape (72,) into shape (512,)\n",
      "Some exception occured\n",
      "could not broadcast input array from shape (230,) into shape (512,)\n",
      "Some exception occured\n",
      "could not broadcast input array from shape (72,) into shape (512,)\n",
      "Some exception occured\n",
      "could not broadcast input array from shape (72,) into shape (512,)\n",
      "Some exception occured\n"
     ]
    },
    {
     "name": "stderr",
     "output_type": "stream",
     "text": [
      "301it [00:02, 86.03it/s]"
     ]
    },
    {
     "name": "stdout",
     "output_type": "stream",
     "text": [
      "could not broadcast input array from shape (71,) into shape (512,)\n",
      "Some exception occured\n",
      "could not broadcast input array from shape (72,) into shape (512,)\n",
      "Some exception occured\n",
      "could not broadcast input array from shape (72,) into shape (512,)\n",
      "Some exception occured\n",
      "could not broadcast input array from shape (121,) into shape (512,)\n",
      "Some exception occured\n",
      "could not broadcast input array from shape (72,) into shape (512,)\n",
      "Some exception occured\n",
      "could not broadcast input array from shape (72,) into shape (512,)\n",
      "Some exception occured\n",
      "could not broadcast input array from shape (72,) into shape (512,)\n",
      "Some exception occured\n"
     ]
    },
    {
     "name": "stderr",
     "output_type": "stream",
     "text": [
      "334it [00:03, 95.51it/s]"
     ]
    },
    {
     "name": "stdout",
     "output_type": "stream",
     "text": [
      "could not broadcast input array from shape (72,) into shape (512,)\n",
      "Some exception occured\n",
      "could not broadcast input array from shape (72,) into shape (512,)\n",
      "Some exception occured\n",
      "could not broadcast input array from shape (71,) into shape (512,)\n",
      "Some exception occured\n",
      "could not broadcast input array from shape (72,) into shape (512,)\n",
      "Some exception occured\n",
      "could not broadcast input array from shape (289,) into shape (512,)\n",
      "Some exception occured\n",
      "could not broadcast input array from shape (72,) into shape (512,)\n",
      "Some exception occured\n",
      "could not broadcast input array from shape (72,) into shape (512,)\n",
      "Some exception occured\n",
      "could not broadcast input array from shape (85,) into shape (512,)\n",
      "Some exception occured\n",
      "could not broadcast input array from shape (72,) into shape (512,)\n",
      "Some exception occured\n",
      "could not broadcast input array from shape (72,) into shape (512,)\n",
      "Some exception occured\n"
     ]
    },
    {
     "name": "stderr",
     "output_type": "stream",
     "text": [
      "360it [00:03, 102.68it/s]"
     ]
    },
    {
     "name": "stdout",
     "output_type": "stream",
     "text": [
      "could not broadcast input array from shape (71,) into shape (512,)\n",
      "Some exception occured\n",
      "could not broadcast input array from shape (72,) into shape (512,)\n",
      "Some exception occured\n",
      "could not broadcast input array from shape (72,) into shape (512,)\n",
      "Some exception occured\n",
      "could not broadcast input array from shape (72,) into shape (512,)\n",
      "Some exception occured\n",
      "could not broadcast input array from shape (72,) into shape (512,)\n",
      "Some exception occured\n",
      "could not broadcast input array from shape (72,) into shape (512,)\n",
      "Some exception occured\n",
      "could not broadcast input array from shape (72,) into shape (512,)\n",
      "Some exception occured\n",
      "could not broadcast input array from shape (72,) into shape (512,)\n",
      "Some exception occured\n",
      "could not broadcast input array from shape (165,) into shape (512,)\n",
      "Some exception occured\n",
      "could not broadcast input array from shape (72,) into shape (512,)\n",
      "Some exception occured\n",
      "could not broadcast input array from shape (460,) into shape (512,)\n",
      "Some exception occured\n",
      "could not broadcast input array from shape (71,) into shape (512,)\n",
      "Some exception occured\n",
      "could not broadcast input array from shape (72,) into shape (512,)\n",
      "Some exception occured\n",
      "could not broadcast input array from shape (72,) into shape (512,)\n",
      "Some exception occured\n",
      "could not broadcast input array from shape (72,) into shape (512,)\n",
      "Some exception occured\n"
     ]
    },
    {
     "name": "stderr",
     "output_type": "stream",
     "text": [
      "395it [00:03, 132.79it/s]"
     ]
    },
    {
     "name": "stdout",
     "output_type": "stream",
     "text": [
      "could not broadcast input array from shape (72,) into shape (512,)\n",
      "Some exception occured\n",
      "could not broadcast input array from shape (71,) into shape (512,)\n",
      "Some exception occured\n",
      "could not broadcast input array from shape (72,) into shape (512,)\n",
      "Some exception occured\n",
      "could not broadcast input array from shape (72,) into shape (512,)\n",
      "Some exception occured\n",
      "could not broadcast input array from shape (72,) into shape (512,)\n",
      "Some exception occured\n",
      "could not broadcast input array from shape (72,) into shape (512,)\n",
      "Some exception occured\n",
      "could not broadcast input array from shape (72,) into shape (512,)\n",
      "Some exception occured\n",
      "could not broadcast input array from shape (71,) into shape (512,)\n",
      "Some exception occured\n",
      "could not broadcast input array from shape (72,) into shape (512,)\n",
      "Some exception occured\n",
      "could not broadcast input array from shape (72,) into shape (512,)\n",
      "Some exception occured\n",
      "could not broadcast input array from shape (72,) into shape (512,)\n",
      "Some exception occured\n",
      "could not broadcast input array from shape (72,) into shape (512,)\n",
      "Some exception occured\n",
      "could not broadcast input array from shape (72,) into shape (512,)\n",
      "Some exception occured\n",
      "could not broadcast input array from shape (73,) into shape (512,)\n",
      "Some exception occured\n",
      "could not broadcast input array from shape (72,) into shape (512,)\n",
      "Some exception occured\n",
      "could not broadcast input array from shape (72,) into shape (512,)\n",
      "Some exception occured\n",
      "could not broadcast input array from shape (72,) into shape (512,)\n",
      "Some exception occured\n",
      "could not broadcast input array from shape (72,) into shape (512,)\n",
      "Some exception occured\n",
      "could not broadcast input array from shape (72,) into shape (512,)\n",
      "Some exception occured\n",
      "could not broadcast input array from shape (72,) into shape (512,)\n",
      "Some exception occured\n",
      "could not broadcast input array from shape (72,) into shape (512,)\n",
      "Some exception occured\n"
     ]
    },
    {
     "name": "stderr",
     "output_type": "stream",
     "text": [
      "\r",
      "412it [00:03, 136.79it/s]"
     ]
    },
    {
     "name": "stdout",
     "output_type": "stream",
     "text": [
      "could not broadcast input array from shape (72,) into shape (512,)\n",
      "Some exception occured\n",
      "could not broadcast input array from shape (72,) into shape (512,)\n",
      "Some exception occured\n",
      "could not broadcast input array from shape (72,) into shape (512,)\n",
      "Some exception occured\n",
      "could not broadcast input array from shape (72,) into shape (512,)\n",
      "Some exception occured\n",
      "could not broadcast input array from shape (72,) into shape (512,)\n",
      "Some exception occured\n",
      "could not broadcast input array from shape (72,) into shape (512,)\n",
      "Some exception occured\n",
      "could not broadcast input array from shape (72,) into shape (512,)\n",
      "Some exception occured\n",
      "could not broadcast input array from shape (72,) into shape (512,)\n",
      "Some exception occured\n",
      "could not broadcast input array from shape (72,) into shape (512,)\n",
      "Some exception occured\n",
      "could not broadcast input array from shape (72,) into shape (512,)\n",
      "Some exception occured\n",
      "could not broadcast input array from shape (187,) into shape (512,)\n",
      "Some exception occured\n",
      "could not broadcast input array from shape (72,) into shape (512,)\n",
      "Some exception occured\n",
      "could not broadcast input array from shape (72,) into shape (512,)\n",
      "Some exception occured\n",
      "could not broadcast input array from shape (72,) into shape (512,)\n",
      "Some exception occured\n",
      "could not broadcast input array from shape (72,) into shape (512,)\n",
      "Some exception occured\n"
     ]
    },
    {
     "name": "stderr",
     "output_type": "stream",
     "text": [
      "439it [00:04, 116.10it/s]"
     ]
    },
    {
     "name": "stdout",
     "output_type": "stream",
     "text": [
      "could not broadcast input array from shape (72,) into shape (512,)\n",
      "Some exception occured\n",
      "could not broadcast input array from shape (72,) into shape (512,)\n",
      "Some exception occured\n",
      "could not broadcast input array from shape (72,) into shape (512,)\n",
      "Some exception occured\n",
      "could not broadcast input array from shape (72,) into shape (512,)\n",
      "Some exception occured\n",
      "could not broadcast input array from shape (72,) into shape (512,)\n",
      "Some exception occured\n",
      "could not broadcast input array from shape (71,) into shape (512,)\n",
      "Some exception occured\n",
      "could not broadcast input array from shape (72,) into shape (512,)\n",
      "Some exception occured\n",
      "could not broadcast input array from shape (71,) into shape (512,)\n",
      "Some exception occured\n",
      "could not broadcast input array from shape (73,) into shape (512,)\n",
      "Some exception occured\n",
      "could not broadcast input array from shape (72,) into shape (512,)\n",
      "Some exception occured\n",
      "could not broadcast input array from shape (72,) into shape (512,)\n",
      "Some exception occured\n",
      "could not broadcast input array from shape (72,) into shape (512,)\n",
      "Some exception occured\n",
      "could not broadcast input array from shape (72,) into shape (512,)\n",
      "Some exception occured\n",
      "could not broadcast input array from shape (72,) into shape (512,)\n",
      "Some exception occured\n",
      "could not broadcast input array from shape (72,) into shape (512,)\n",
      "Some exception occured\n"
     ]
    },
    {
     "name": "stderr",
     "output_type": "stream",
     "text": [
      "\r",
      "460it [00:04, 135.77it/s]"
     ]
    },
    {
     "name": "stdout",
     "output_type": "stream",
     "text": [
      "could not broadcast input array from shape (72,) into shape (512,)\n",
      "Some exception occured\n",
      "could not broadcast input array from shape (72,) into shape (512,)\n",
      "Some exception occured\n",
      "could not broadcast input array from shape (72,) into shape (512,)\n",
      "Some exception occured\n",
      "could not broadcast input array from shape (72,) into shape (512,)\n",
      "Some exception occured\n",
      "could not broadcast input array from shape (456,) into shape (512,)\n",
      "Some exception occured\n",
      "could not broadcast input array from shape (72,) into shape (512,)\n",
      "Some exception occured\n",
      "could not broadcast input array from shape (72,) into shape (512,)\n",
      "Some exception occured\n",
      "could not broadcast input array from shape (72,) into shape (512,)\n",
      "Some exception occured\n",
      "could not broadcast input array from shape (72,) into shape (512,)\n",
      "Some exception occured\n",
      "could not broadcast input array from shape (372,) into shape (512,)\n",
      "Some exception occured\n",
      "could not broadcast input array from shape (72,) into shape (512,)\n",
      "Some exception occured\n",
      "could not broadcast input array from shape (72,) into shape (512,)\n",
      "Some exception occured\n"
     ]
    },
    {
     "name": "stderr",
     "output_type": "stream",
     "text": [
      "488it [00:04, 117.46it/s]"
     ]
    },
    {
     "name": "stdout",
     "output_type": "stream",
     "text": [
      "could not broadcast input array from shape (71,) into shape (512,)\n",
      "Some exception occured\n",
      "could not broadcast input array from shape (72,) into shape (512,)\n",
      "Some exception occured\n",
      "could not broadcast input array from shape (72,) into shape (512,)\n",
      "Some exception occured\n",
      "could not broadcast input array from shape (72,) into shape (512,)\n",
      "Some exception occured\n",
      "could not broadcast input array from shape (72,) into shape (512,)\n",
      "Some exception occured\n",
      "could not broadcast input array from shape (482,) into shape (512,)\n",
      "Some exception occured\n",
      "could not broadcast input array from shape (72,) into shape (512,)\n",
      "Some exception occured\n",
      "could not broadcast input array from shape (72,) into shape (512,)\n",
      "Some exception occured\n",
      "could not broadcast input array from shape (72,) into shape (512,)\n",
      "Some exception occured\n",
      "could not broadcast input array from shape (72,) into shape (512,)\n",
      "Some exception occured\n"
     ]
    },
    {
     "name": "stderr",
     "output_type": "stream",
     "text": [
      "\r",
      "506it [00:04, 132.80it/s]"
     ]
    },
    {
     "name": "stdout",
     "output_type": "stream",
     "text": [
      "could not broadcast input array from shape (72,) into shape (512,)\n",
      "Some exception occured\n",
      "could not broadcast input array from shape (72,) into shape (512,)\n",
      "Some exception occured\n",
      "could not broadcast input array from shape (72,) into shape (512,)\n",
      "Some exception occured\n",
      "could not broadcast input array from shape (72,) into shape (512,)\n",
      "Some exception occured\n",
      "could not broadcast input array from shape (73,) into shape (512,)\n",
      "Some exception occured\n",
      "could not broadcast input array from shape (72,) into shape (512,)\n",
      "Some exception occured\n",
      "could not broadcast input array from shape (73,) into shape (512,)\n",
      "Some exception occured\n",
      "could not broadcast input array from shape (355,) into shape (512,)\n",
      "Some exception occured\n",
      "could not broadcast input array from shape (72,) into shape (512,)\n",
      "Some exception occured\n",
      "could not broadcast input array from shape (72,) into shape (512,)\n",
      "Some exception occured\n",
      "could not broadcast input array from shape (72,) into shape (512,)\n",
      "Some exception occured\n",
      "could not broadcast input array from shape (72,) into shape (512,)\n",
      "Some exception occured\n",
      "could not broadcast input array from shape (72,) into shape (512,)\n",
      "Some exception occured\n",
      "could not broadcast input array from shape (424,) into shape (512,)\n",
      "Some exception occured\n",
      "could not broadcast input array from shape (72,) into shape (512,)\n",
      "Some exception occured\n",
      "could not broadcast input array from shape (72,) into shape (512,)\n",
      "Some exception occured\n",
      "could not broadcast input array from shape (71,) into shape (512,)\n",
      "Some exception occured\n"
     ]
    },
    {
     "name": "stderr",
     "output_type": "stream",
     "text": [
      "548it [00:05, 122.49it/s]"
     ]
    },
    {
     "name": "stdout",
     "output_type": "stream",
     "text": [
      "could not broadcast input array from shape (72,) into shape (512,)\n",
      "Some exception occured\n",
      "could not broadcast input array from shape (248,) into shape (512,)\n",
      "Some exception occured\n",
      "could not broadcast input array from shape (187,) into shape (512,)\n",
      "Some exception occured\n",
      "could not broadcast input array from shape (72,) into shape (512,)\n",
      "Some exception occured\n",
      "could not broadcast input array from shape (72,) into shape (512,)\n",
      "Some exception occured\n",
      "could not broadcast input array from shape (72,) into shape (512,)\n",
      "Some exception occured\n",
      "could not broadcast input array from shape (72,) into shape (512,)\n",
      "Some exception occured\n",
      "could not broadcast input array from shape (156,) into shape (512,)\n",
      "Some exception occured\n",
      "could not broadcast input array from shape (386,) into shape (512,)\n",
      "Some exception occured\n"
     ]
    },
    {
     "name": "stderr",
     "output_type": "stream",
     "text": [
      "573it [00:05, 97.38it/s] "
     ]
    },
    {
     "name": "stdout",
     "output_type": "stream",
     "text": [
      "could not broadcast input array from shape (72,) into shape (512,)\n",
      "Some exception occured\n",
      "could not broadcast input array from shape (433,) into shape (512,)\n",
      "Some exception occured\n",
      "could not broadcast input array from shape (429,) into shape (512,)\n",
      "Some exception occured\n",
      "could not broadcast input array from shape (72,) into shape (512,)\n",
      "Some exception occured\n",
      "could not broadcast input array from shape (72,) into shape (512,)\n",
      "Some exception occured\n",
      "could not broadcast input array from shape (72,) into shape (512,)\n",
      "Some exception occured\n",
      "could not broadcast input array from shape (72,) into shape (512,)\n",
      "Some exception occured\n",
      "could not broadcast input array from shape (72,) into shape (512,)\n",
      "Some exception occured\n",
      "could not broadcast input array from shape (509,) into shape (512,)\n",
      "Some exception occured\n"
     ]
    },
    {
     "name": "stderr",
     "output_type": "stream",
     "text": [
      "\r",
      "590it [00:05, 110.21it/s]"
     ]
    },
    {
     "name": "stdout",
     "output_type": "stream",
     "text": [
      "could not broadcast input array from shape (226,) into shape (512,)\n",
      "Some exception occured\n",
      "could not broadcast input array from shape (240,) into shape (512,)\n",
      "Some exception occured\n",
      "could not broadcast input array from shape (72,) into shape (512,)\n",
      "Some exception occured\n",
      "could not broadcast input array from shape (72,) into shape (512,)\n",
      "Some exception occured\n",
      "could not broadcast input array from shape (72,) into shape (512,)\n",
      "Some exception occured\n",
      "could not broadcast input array from shape (412,) into shape (512,)\n",
      "Some exception occured\n",
      "could not broadcast input array from shape (103,) into shape (512,)\n",
      "Some exception occured\n",
      "could not broadcast input array from shape (116,) into shape (512,)\n",
      "Some exception occured\n"
     ]
    },
    {
     "name": "stderr",
     "output_type": "stream",
     "text": [
      "613it [00:05, 92.92it/s] "
     ]
    },
    {
     "name": "stdout",
     "output_type": "stream",
     "text": [
      "could not broadcast input array from shape (72,) into shape (512,)\n",
      "Some exception occured\n",
      "could not broadcast input array from shape (328,) into shape (512,)\n",
      "Some exception occured\n",
      "could not broadcast input array from shape (108,) into shape (512,)\n",
      "Some exception occured\n",
      "could not broadcast input array from shape (468,) into shape (512,)\n",
      "Some exception occured\n",
      "could not broadcast input array from shape (72,) into shape (512,)\n",
      "Some exception occured\n",
      "could not broadcast input array from shape (385,) into shape (512,)\n",
      "Some exception occured\n"
     ]
    },
    {
     "name": "stderr",
     "output_type": "stream",
     "text": [
      "636it [00:05, 99.20it/s]"
     ]
    },
    {
     "name": "stdout",
     "output_type": "stream",
     "text": [
      "could not broadcast input array from shape (72,) into shape (512,)\n",
      "Some exception occured\n",
      "could not broadcast input array from shape (72,) into shape (512,)\n",
      "Some exception occured\n",
      "could not broadcast input array from shape (72,) into shape (512,)\n",
      "Some exception occured\n",
      "could not broadcast input array from shape (508,) into shape (512,)\n",
      "Some exception occured\n",
      "could not broadcast input array from shape (72,) into shape (512,)\n",
      "Some exception occured\n",
      "could not broadcast input array from shape (504,) into shape (512,)\n",
      "Some exception occured\n",
      "could not broadcast input array from shape (213,) into shape (512,)\n",
      "Some exception occured\n",
      "could not broadcast input array from shape (204,) into shape (512,)\n",
      "Some exception occured\n",
      "could not broadcast input array from shape (199,) into shape (512,)\n",
      "Some exception occured\n",
      "could not broadcast input array from shape (72,) into shape (512,)\n",
      "Some exception occured\n"
     ]
    },
    {
     "name": "stderr",
     "output_type": "stream",
     "text": [
      "662it [00:06, 109.78it/s]"
     ]
    },
    {
     "name": "stdout",
     "output_type": "stream",
     "text": [
      "could not broadcast input array from shape (72,) into shape (512,)\n",
      "Some exception occured\n",
      "could not broadcast input array from shape (102,) into shape (512,)\n",
      "Some exception occured\n",
      "could not broadcast input array from shape (72,) into shape (512,)\n",
      "Some exception occured\n",
      "could not broadcast input array from shape (402,) into shape (512,)\n",
      "Some exception occured\n",
      "could not broadcast input array from shape (138,) into shape (512,)\n",
      "Some exception occured\n"
     ]
    },
    {
     "name": "stderr",
     "output_type": "stream",
     "text": [
      "695it [00:06, 87.69it/s] "
     ]
    },
    {
     "name": "stdout",
     "output_type": "stream",
     "text": [
      "could not broadcast input array from shape (72,) into shape (512,)\n",
      "Some exception occured\n",
      "could not broadcast input array from shape (72,) into shape (512,)\n",
      "Some exception occured\n",
      "could not broadcast input array from shape (94,) into shape (512,)\n",
      "Some exception occured\n",
      "could not broadcast input array from shape (72,) into shape (512,)\n",
      "Some exception occured\n",
      "could not broadcast input array from shape (72,) into shape (512,)\n",
      "Some exception occured\n",
      "could not broadcast input array from shape (72,) into shape (512,)\n",
      "Some exception occured\n",
      "could not broadcast input array from shape (72,) into shape (512,)\n",
      "Some exception occured\n",
      "could not broadcast input array from shape (72,) into shape (512,)\n",
      "Some exception occured\n",
      "could not broadcast input array from shape (420,) into shape (512,)\n",
      "Some exception occured\n",
      "could not broadcast input array from shape (72,) into shape (512,)\n",
      "Some exception occured\n",
      "could not broadcast input array from shape (283,) into shape (512,)\n",
      "Some exception occured\n",
      "could not broadcast input array from shape (72,) into shape (512,)\n",
      "Some exception occured\n",
      "could not broadcast input array from shape (71,) into shape (512,)\n",
      "Some exception occured\n"
     ]
    },
    {
     "name": "stderr",
     "output_type": "stream",
     "text": [
      "\r",
      "706it [00:06, 91.03it/s]"
     ]
    },
    {
     "name": "stdout",
     "output_type": "stream",
     "text": [
      "could not broadcast input array from shape (72,) into shape (512,)\n",
      "Some exception occured\n"
     ]
    },
    {
     "name": "stderr",
     "output_type": "stream",
     "text": [
      "725it [00:06, 80.58it/s]"
     ]
    },
    {
     "name": "stdout",
     "output_type": "stream",
     "text": [
      "could not broadcast input array from shape (505,) into shape (512,)\n",
      "Some exception occured\n",
      "could not broadcast input array from shape (72,) into shape (512,)\n",
      "Some exception occured\n",
      "could not broadcast input array from shape (345,) into shape (512,)\n",
      "Some exception occured\n",
      "could not broadcast input array from shape (403,) into shape (512,)\n",
      "Some exception occured\n",
      "could not broadcast input array from shape (173,) into shape (512,)\n",
      "Some exception occured\n",
      "could not broadcast input array from shape (183,) into shape (512,)\n",
      "Some exception occured\n",
      "could not broadcast input array from shape (71,) into shape (512,)\n",
      "Some exception occured\n",
      "could not broadcast input array from shape (170,) into shape (512,)\n",
      "Some exception occured\n",
      "could not broadcast input array from shape (72,) into shape (512,)\n",
      "Some exception occured\n",
      "could not broadcast input array from shape (72,) into shape (512,)\n",
      "Some exception occured\n",
      "could not broadcast input array from shape (72,) into shape (512,)\n",
      "Some exception occured\n",
      "could not broadcast input array from shape (72,) into shape (512,)\n",
      "Some exception occured\n",
      "could not broadcast input array from shape (296,) into shape (512,)\n",
      "Some exception occured\n"
     ]
    },
    {
     "name": "stderr",
     "output_type": "stream",
     "text": [
      "756it [00:07, 90.19it/s] "
     ]
    },
    {
     "name": "stdout",
     "output_type": "stream",
     "text": [
      "could not broadcast input array from shape (72,) into shape (512,)\n",
      "Some exception occured\n",
      "could not broadcast input array from shape (72,) into shape (512,)\n",
      "Some exception occured\n",
      "could not broadcast input array from shape (72,) into shape (512,)\n",
      "Some exception occured\n",
      "could not broadcast input array from shape (125,) into shape (512,)\n",
      "Some exception occured\n"
     ]
    },
    {
     "name": "stderr",
     "output_type": "stream",
     "text": [
      "775it [00:07, 78.06it/s]"
     ]
    },
    {
     "name": "stdout",
     "output_type": "stream",
     "text": [
      "could not broadcast input array from shape (72,) into shape (512,)\n",
      "Some exception occured\n"
     ]
    },
    {
     "name": "stderr",
     "output_type": "stream",
     "text": [
      "805it [00:07, 110.54it/s]"
     ]
    },
    {
     "name": "stdout",
     "output_type": "stream",
     "text": [
      "could not broadcast input array from shape (446,) into shape (512,)\n",
      "Some exception occured\n",
      "could not broadcast input array from shape (72,) into shape (512,)\n",
      "Some exception occured\n",
      "could not broadcast input array from shape (336,) into shape (512,)\n",
      "Some exception occured\n",
      "could not broadcast input array from shape (248,) into shape (512,)\n",
      "Some exception occured\n",
      "could not broadcast input array from shape (72,) into shape (512,)\n",
      "Some exception occured\n",
      "could not broadcast input array from shape (72,) into shape (512,)\n",
      "Some exception occured\n",
      "could not broadcast input array from shape (164,) into shape (512,)\n",
      "Some exception occured\n",
      "could not broadcast input array from shape (191,) into shape (512,)\n",
      "Some exception occured\n",
      "could not broadcast input array from shape (72,) into shape (512,)\n",
      "Some exception occured\n",
      "could not broadcast input array from shape (407,) into shape (512,)\n",
      "Some exception occured\n",
      "could not broadcast input array from shape (72,) into shape (512,)\n",
      "Some exception occured\n",
      "could not broadcast input array from shape (72,) into shape (512,)\n",
      "Some exception occured\n",
      "could not broadcast input array from shape (72,) into shape (512,)\n",
      "Some exception occured\n",
      "could not broadcast input array from shape (71,) into shape (512,)\n",
      "Some exception occured\n",
      "could not broadcast input array from shape (482,) into shape (512,)\n",
      "Some exception occured\n",
      "could not broadcast input array from shape (129,) into shape (512,)\n",
      "Some exception occured\n",
      "could not broadcast input array from shape (72,) into shape (512,)\n",
      "Some exception occured\n",
      "could not broadcast input array from shape (72,) into shape (512,)\n",
      "Some exception occured\n",
      "could not broadcast input array from shape (72,) into shape (512,)\n",
      "Some exception occured\n",
      "could not broadcast input array from shape (72,) into shape (512,)\n",
      "Some exception occured\n",
      "could not broadcast input array from shape (72,) into shape (512,)\n",
      "Some exception occured\n"
     ]
    },
    {
     "name": "stderr",
     "output_type": "stream",
     "text": [
      "828it [00:08, 97.79it/s] "
     ]
    },
    {
     "name": "stdout",
     "output_type": "stream",
     "text": [
      "could not broadcast input array from shape (434,) into shape (512,)\n",
      "Some exception occured\n",
      "could not broadcast input array from shape (72,) into shape (512,)\n",
      "Some exception occured\n",
      "could not broadcast input array from shape (72,) into shape (512,)\n",
      "Some exception occured\n",
      "could not broadcast input array from shape (275,) into shape (512,)\n",
      "Some exception occured\n",
      "could not broadcast input array from shape (72,) into shape (512,)\n",
      "Some exception occured\n"
     ]
    },
    {
     "name": "stderr",
     "output_type": "stream",
     "text": [
      "\r",
      "839it [00:08, 92.75it/s]"
     ]
    },
    {
     "name": "stdout",
     "output_type": "stream",
     "text": [
      "could not broadcast input array from shape (72,) into shape (512,)\n",
      "Some exception occured\n",
      "could not broadcast input array from shape (72,) into shape (512,)\n",
      "Some exception occured\n",
      "could not broadcast input array from shape (72,) into shape (512,)\n",
      "Some exception occured\n"
     ]
    },
    {
     "name": "stderr",
     "output_type": "stream",
     "text": [
      "\r",
      "851it [00:08, 97.91it/s]"
     ]
    },
    {
     "name": "stdout",
     "output_type": "stream",
     "text": [
      "could not broadcast input array from shape (72,) into shape (512,)\n",
      "Some exception occured\n",
      "could not broadcast input array from shape (72,) into shape (512,)\n",
      "Some exception occured\n",
      "could not broadcast input array from shape (72,) into shape (512,)\n",
      "Some exception occured\n",
      "could not broadcast input array from shape (72,) into shape (512,)\n",
      "Some exception occured\n"
     ]
    },
    {
     "name": "stderr",
     "output_type": "stream",
     "text": [
      "871it [00:08, 73.11it/s]"
     ]
    },
    {
     "name": "stdout",
     "output_type": "stream",
     "text": [
      "could not broadcast input array from shape (112,) into shape (512,)\n",
      "Some exception occured\n",
      "could not broadcast input array from shape (72,) into shape (512,)\n",
      "Some exception occured\n",
      "could not broadcast input array from shape (504,) into shape (512,)\n",
      "Some exception occured\n"
     ]
    },
    {
     "name": "stderr",
     "output_type": "stream",
     "text": [
      "\r",
      "883it [00:08, 80.41it/s]"
     ]
    },
    {
     "name": "stdout",
     "output_type": "stream",
     "text": [
      "could not broadcast input array from shape (72,) into shape (512,)\n",
      "Some exception occured\n",
      "could not broadcast input array from shape (72,) into shape (512,)\n",
      "Some exception occured\n",
      "could not broadcast input array from shape (72,) into shape (512,)\n",
      "Some exception occured\n",
      "could not broadcast input array from shape (72,) into shape (512,)\n",
      "Some exception occured\n",
      "could not broadcast input array from shape (72,) into shape (512,)\n",
      "Some exception occured\n",
      "could not broadcast input array from shape (72,) into shape (512,)\n",
      "Some exception occured\n",
      "could not broadcast input array from shape (235,) into shape (512,)\n",
      "Some exception occured\n"
     ]
    },
    {
     "name": "stderr",
     "output_type": "stream",
     "text": [
      "914it [00:09, 85.47it/s]"
     ]
    },
    {
     "name": "stdout",
     "output_type": "stream",
     "text": [
      "could not broadcast input array from shape (464,) into shape (512,)\n",
      "Some exception occured\n",
      "could not broadcast input array from shape (72,) into shape (512,)\n",
      "Some exception occured\n",
      "could not broadcast input array from shape (72,) into shape (512,)\n",
      "Some exception occured\n",
      "could not broadcast input array from shape (72,) into shape (512,)\n",
      "Some exception occured\n",
      "could not broadcast input array from shape (72,) into shape (512,)\n",
      "Some exception occured\n",
      "could not broadcast input array from shape (76,) into shape (512,)\n",
      "Some exception occured\n",
      "could not broadcast input array from shape (72,) into shape (512,)\n",
      "Some exception occured\n",
      "could not broadcast input array from shape (377,) into shape (512,)\n",
      "Some exception occured\n",
      "could not broadcast input array from shape (372,) into shape (512,)\n",
      "Some exception occured\n",
      "could not broadcast input array from shape (355,) into shape (512,)\n",
      "Some exception occured\n",
      "could not broadcast input array from shape (72,) into shape (512,)\n",
      "Some exception occured\n",
      "could not broadcast input array from shape (496,) into shape (512,)\n",
      "Some exception occured\n"
     ]
    },
    {
     "name": "stderr",
     "output_type": "stream",
     "text": [
      "940it [00:09, 99.15it/s]"
     ]
    },
    {
     "name": "stdout",
     "output_type": "stream",
     "text": [
      "could not broadcast input array from shape (72,) into shape (512,)\n",
      "Some exception occured\n",
      "could not broadcast input array from shape (499,) into shape (512,)\n",
      "Some exception occured\n",
      "could not broadcast input array from shape (72,) into shape (512,)\n",
      "Some exception occured\n",
      "could not broadcast input array from shape (72,) into shape (512,)\n",
      "Some exception occured\n",
      "could not broadcast input array from shape (72,) into shape (512,)\n",
      "Some exception occured\n",
      "could not broadcast input array from shape (72,) into shape (512,)\n",
      "Some exception occured\n",
      "could not broadcast input array from shape (72,) into shape (512,)\n",
      "Some exception occured\n",
      "could not broadcast input array from shape (72,) into shape (512,)\n",
      "Some exception occured\n",
      "could not broadcast input array from shape (72,) into shape (512,)\n",
      "Some exception occured\n",
      "could not broadcast input array from shape (72,) into shape (512,)\n",
      "Some exception occured\n",
      "could not broadcast input array from shape (72,) into shape (512,)\n",
      "Some exception occured\n"
     ]
    },
    {
     "name": "stderr",
     "output_type": "stream",
     "text": [
      "963it [00:09, 102.48it/s]"
     ]
    },
    {
     "name": "stdout",
     "output_type": "stream",
     "text": [
      "could not broadcast input array from shape (72,) into shape (512,)\n",
      "Some exception occured\n",
      "could not broadcast input array from shape (500,) into shape (512,)\n",
      "Some exception occured\n",
      "could not broadcast input array from shape (72,) into shape (512,)\n",
      "Some exception occured\n",
      "could not broadcast input array from shape (72,) into shape (512,)\n",
      "Some exception occured\n",
      "could not broadcast input array from shape (301,) into shape (512,)\n",
      "Some exception occured\n",
      "could not broadcast input array from shape (72,) into shape (512,)\n",
      "Some exception occured\n",
      "could not broadcast input array from shape (271,) into shape (512,)\n",
      "Some exception occured\n",
      "could not broadcast input array from shape (72,) into shape (512,)\n",
      "Some exception occured\n",
      "could not broadcast input array from shape (71,) into shape (512,)\n",
      "Some exception occured\n",
      "could not broadcast input array from shape (72,) into shape (512,)\n",
      "Some exception occured\n",
      "could not broadcast input array from shape (72,) into shape (512,)\n",
      "Some exception occured\n",
      "could not broadcast input array from shape (72,) into shape (512,)\n",
      "Some exception occured\n",
      "could not broadcast input array from shape (72,) into shape (512,)\n",
      "Some exception occured\n",
      "could not broadcast input array from shape (328,) into shape (512,)\n",
      "Some exception occured\n",
      "could not broadcast input array from shape (72,) into shape (512,)\n",
      "Some exception occured\n"
     ]
    },
    {
     "name": "stderr",
     "output_type": "stream",
     "text": [
      "988it [00:09, 109.14it/s]"
     ]
    },
    {
     "name": "stdout",
     "output_type": "stream",
     "text": [
      "could not broadcast input array from shape (72,) into shape (512,)\n",
      "Some exception occured\n",
      "could not broadcast input array from shape (72,) into shape (512,)\n",
      "Some exception occured\n",
      "could not broadcast input array from shape (499,) into shape (512,)\n",
      "Some exception occured\n",
      "could not broadcast input array from shape (72,) into shape (512,)\n",
      "Some exception occured\n",
      "could not broadcast input array from shape (72,) into shape (512,)\n",
      "Some exception occured\n",
      "could not broadcast input array from shape (289,) into shape (512,)\n",
      "Some exception occured\n",
      "could not broadcast input array from shape (72,) into shape (512,)\n",
      "Some exception occured\n",
      "could not broadcast input array from shape (72,) into shape (512,)\n",
      "Some exception occured\n",
      "could not broadcast input array from shape (72,) into shape (512,)\n",
      "Some exception occured\n",
      "could not broadcast input array from shape (72,) into shape (512,)\n",
      "Some exception occured\n",
      "could not broadcast input array from shape (72,) into shape (512,)\n",
      "Some exception occured\n"
     ]
    },
    {
     "name": "stderr",
     "output_type": "stream",
     "text": [
      "\r",
      "1000it [00:09, 95.37it/s]"
     ]
    },
    {
     "name": "stdout",
     "output_type": "stream",
     "text": [
      "could not broadcast input array from shape (72,) into shape (512,)\n",
      "Some exception occured\n",
      "could not broadcast input array from shape (288,) into shape (512,)\n",
      "Some exception occured\n",
      "could not broadcast input array from shape (143,) into shape (512,)\n",
      "Some exception occured\n"
     ]
    },
    {
     "name": "stderr",
     "output_type": "stream",
     "text": [
      "1020it [00:10, 88.06it/s]"
     ]
    },
    {
     "name": "stdout",
     "output_type": "stream",
     "text": [
      "could not broadcast input array from shape (73,) into shape (512,)\n",
      "Some exception occured\n",
      "could not broadcast input array from shape (72,) into shape (512,)\n",
      "Some exception occured\n",
      "could not broadcast input array from shape (72,) into shape (512,)\n",
      "Some exception occured\n",
      "could not broadcast input array from shape (72,) into shape (512,)\n",
      "Some exception occured\n",
      "could not broadcast input array from shape (72,) into shape (512,)\n",
      "Some exception occured\n",
      "could not broadcast input array from shape (72,) into shape (512,)\n",
      "Some exception occured\n",
      "could not broadcast input array from shape (72,) into shape (512,)\n",
      "Some exception occured\n",
      "could not broadcast input array from shape (73,) into shape (512,)\n",
      "Some exception occured\n"
     ]
    },
    {
     "name": "stderr",
     "output_type": "stream",
     "text": [
      "1041it [00:10, 84.00it/s]"
     ]
    },
    {
     "name": "stdout",
     "output_type": "stream",
     "text": [
      "could not broadcast input array from shape (129,) into shape (512,)\n",
      "Some exception occured\n",
      "could not broadcast input array from shape (98,) into shape (512,)\n",
      "Some exception occured\n",
      "could not broadcast input array from shape (73,) into shape (512,)\n",
      "Some exception occured\n",
      "could not broadcast input array from shape (72,) into shape (512,)\n",
      "Some exception occured\n",
      "could not broadcast input array from shape (72,) into shape (512,)\n",
      "Some exception occured\n",
      "could not broadcast input array from shape (72,) into shape (512,)\n",
      "Some exception occured\n",
      "could not broadcast input array from shape (72,) into shape (512,)\n",
      "Some exception occured\n",
      "could not broadcast input array from shape (72,) into shape (512,)\n",
      "Some exception occured\n",
      "could not broadcast input array from shape (72,) into shape (512,)\n",
      "Some exception occured\n",
      "could not broadcast input array from shape (451,) into shape (512,)\n",
      "Some exception occured\n"
     ]
    },
    {
     "name": "stderr",
     "output_type": "stream",
     "text": [
      "\r",
      "1050it [00:10, 82.67it/s]"
     ]
    },
    {
     "name": "stdout",
     "output_type": "stream",
     "text": [
      "could not broadcast input array from shape (72,) into shape (512,)\n",
      "Some exception occured\n",
      "could not broadcast input array from shape (72,) into shape (512,)\n",
      "Some exception occured\n",
      "could not broadcast input array from shape (72,) into shape (512,)\n",
      "Some exception occured\n",
      "could not broadcast input array from shape (72,) into shape (512,)\n",
      "Some exception occured\n",
      "could not broadcast input array from shape (505,) into shape (512,)\n",
      "Some exception occured\n",
      "could not broadcast input array from shape (72,) into shape (512,)\n",
      "Some exception occured\n",
      "could not broadcast input array from shape (120,) into shape (512,)\n",
      "Some exception occured\n"
     ]
    },
    {
     "name": "stderr",
     "output_type": "stream",
     "text": [
      "1091it [00:10, 112.24it/s]"
     ]
    },
    {
     "name": "stdout",
     "output_type": "stream",
     "text": [
      "could not broadcast input array from shape (72,) into shape (512,)\n",
      "Some exception occured\n",
      "could not broadcast input array from shape (71,) into shape (512,)\n",
      "Some exception occured\n",
      "could not broadcast input array from shape (72,) into shape (512,)\n",
      "Some exception occured\n",
      "could not broadcast input array from shape (72,) into shape (512,)\n",
      "Some exception occured\n",
      "could not broadcast input array from shape (72,) into shape (512,)\n",
      "Some exception occured\n",
      "could not broadcast input array from shape (72,) into shape (512,)\n",
      "Some exception occured\n",
      "could not broadcast input array from shape (72,) into shape (512,)\n",
      "Some exception occured\n",
      "could not broadcast input array from shape (336,) into shape (512,)\n",
      "Some exception occured\n",
      "could not broadcast input array from shape (73,) into shape (512,)\n",
      "Some exception occured\n",
      "could not broadcast input array from shape (72,) into shape (512,)\n",
      "Some exception occured\n",
      "could not broadcast input array from shape (72,) into shape (512,)\n",
      "Some exception occured\n",
      "could not broadcast input array from shape (72,) into shape (512,)\n",
      "Some exception occured\n",
      "could not broadcast input array from shape (72,) into shape (512,)\n",
      "Some exception occured\n",
      "could not broadcast input array from shape (72,) into shape (512,)\n",
      "Some exception occured\n",
      "could not broadcast input array from shape (73,) into shape (512,)\n",
      "Some exception occured\n"
     ]
    },
    {
     "name": "stderr",
     "output_type": "stream",
     "text": [
      "\r",
      "1109it [00:11, 126.56it/s]"
     ]
    },
    {
     "name": "stdout",
     "output_type": "stream",
     "text": [
      "could not broadcast input array from shape (72,) into shape (512,)\n",
      "Some exception occured\n",
      "could not broadcast input array from shape (72,) into shape (512,)\n",
      "Some exception occured\n",
      "could not broadcast input array from shape (72,) into shape (512,)\n",
      "Some exception occured\n",
      "could not broadcast input array from shape (72,) into shape (512,)\n",
      "Some exception occured\n",
      "could not broadcast input array from shape (72,) into shape (512,)\n",
      "Some exception occured\n",
      "could not broadcast input array from shape (72,) into shape (512,)\n",
      "Some exception occured\n",
      "could not broadcast input array from shape (429,) into shape (512,)\n",
      "Some exception occured\n",
      "could not broadcast input array from shape (72,) into shape (512,)\n",
      "Some exception occured\n",
      "could not broadcast input array from shape (72,) into shape (512,)\n",
      "Some exception occured\n",
      "could not broadcast input array from shape (72,) into shape (512,)\n",
      "Some exception occured\n",
      "could not broadcast input array from shape (72,) into shape (512,)\n",
      "Some exception occured\n",
      "could not broadcast input array from shape (72,) into shape (512,)\n",
      "Some exception occured\n",
      "could not broadcast input array from shape (72,) into shape (512,)\n",
      "Some exception occured\n",
      "could not broadcast input array from shape (72,) into shape (512,)\n",
      "Some exception occured\n",
      "could not broadcast input array from shape (72,) into shape (512,)\n",
      "Some exception occured\n"
     ]
    },
    {
     "name": "stderr",
     "output_type": "stream",
     "text": [
      "1135it [00:11, 112.00it/s]"
     ]
    },
    {
     "name": "stdout",
     "output_type": "stream",
     "text": [
      "could not broadcast input array from shape (71,) into shape (512,)\n",
      "Some exception occured\n",
      "could not broadcast input array from shape (72,) into shape (512,)\n",
      "Some exception occured\n",
      "could not broadcast input array from shape (72,) into shape (512,)\n",
      "Some exception occured\n",
      "could not broadcast input array from shape (72,) into shape (512,)\n",
      "Some exception occured\n",
      "could not broadcast input array from shape (72,) into shape (512,)\n",
      "Some exception occured\n",
      "could not broadcast input array from shape (72,) into shape (512,)\n",
      "Some exception occured\n",
      "could not broadcast input array from shape (72,) into shape (512,)\n",
      "Some exception occured\n"
     ]
    },
    {
     "name": "stderr",
     "output_type": "stream",
     "text": [
      "1158it [00:11, 92.49it/s] "
     ]
    },
    {
     "name": "stdout",
     "output_type": "stream",
     "text": [
      "could not broadcast input array from shape (364,) into shape (512,)\n",
      "Some exception occured\n",
      "could not broadcast input array from shape (72,) into shape (512,)\n",
      "Some exception occured\n",
      "could not broadcast input array from shape (72,) into shape (512,)\n",
      "Some exception occured\n",
      "could not broadcast input array from shape (72,) into shape (512,)\n",
      "Some exception occured\n",
      "could not broadcast input array from shape (394,) into shape (512,)\n",
      "Some exception occured\n",
      "could not broadcast input array from shape (72,) into shape (512,)\n",
      "Some exception occured\n"
     ]
    },
    {
     "name": "stderr",
     "output_type": "stream",
     "text": [
      "1189it [00:11, 88.33it/s]"
     ]
    },
    {
     "name": "stdout",
     "output_type": "stream",
     "text": [
      "could not broadcast input array from shape (327,) into shape (512,)\n",
      "Some exception occured\n",
      "could not broadcast input array from shape (71,) into shape (512,)\n",
      "Some exception occured\n",
      "could not broadcast input array from shape (73,) into shape (512,)\n",
      "Some exception occured\n",
      "could not broadcast input array from shape (416,) into shape (512,)\n",
      "Some exception occured\n"
     ]
    },
    {
     "name": "stderr",
     "output_type": "stream",
     "text": [
      "1220it [00:12, 84.90it/s]"
     ]
    },
    {
     "name": "stdout",
     "output_type": "stream",
     "text": [
      "could not broadcast input array from shape (248,) into shape (512,)\n",
      "Some exception occured\n",
      "could not broadcast input array from shape (72,) into shape (512,)\n",
      "Some exception occured\n",
      "could not broadcast input array from shape (72,) into shape (512,)\n",
      "Some exception occured\n",
      "could not broadcast input array from shape (72,) into shape (512,)\n",
      "Some exception occured\n",
      "could not broadcast input array from shape (72,) into shape (512,)\n",
      "Some exception occured\n",
      "could not broadcast input array from shape (72,) into shape (512,)\n",
      "Some exception occured\n",
      "could not broadcast input array from shape (72,) into shape (512,)\n",
      "Some exception occured\n",
      "could not broadcast input array from shape (280,) into shape (512,)\n",
      "Some exception occured\n"
     ]
    },
    {
     "name": "stderr",
     "output_type": "stream",
     "text": [
      "1246it [00:12, 100.45it/s]"
     ]
    },
    {
     "name": "stdout",
     "output_type": "stream",
     "text": [
      "could not broadcast input array from shape (90,) into shape (512,)\n",
      "Some exception occured\n",
      "could not broadcast input array from shape (72,) into shape (512,)\n",
      "Some exception occured\n",
      "could not broadcast input array from shape (72,) into shape (512,)\n",
      "Some exception occured\n",
      "could not broadcast input array from shape (72,) into shape (512,)\n",
      "Some exception occured\n",
      "could not broadcast input array from shape (72,) into shape (512,)\n",
      "Some exception occured\n",
      "could not broadcast input array from shape (72,) into shape (512,)\n",
      "Some exception occured\n"
     ]
    },
    {
     "name": "stderr",
     "output_type": "stream",
     "text": [
      "1267it [00:12, 79.72it/s] "
     ]
    },
    {
     "name": "stdout",
     "output_type": "stream",
     "text": [
      "could not broadcast input array from shape (72,) into shape (512,)\n",
      "Some exception occured\n",
      "could not broadcast input array from shape (73,) into shape (512,)\n",
      "Some exception occured\n",
      "could not broadcast input array from shape (72,) into shape (512,)\n",
      "Some exception occured\n"
     ]
    },
    {
     "name": "stderr",
     "output_type": "stream",
     "text": [
      "1293it [00:13, 77.12it/s]"
     ]
    },
    {
     "name": "stdout",
     "output_type": "stream",
     "text": [
      "could not broadcast input array from shape (72,) into shape (512,)\n",
      "Some exception occured\n",
      "could not broadcast input array from shape (72,) into shape (512,)\n",
      "Some exception occured\n",
      "could not broadcast input array from shape (72,) into shape (512,)\n",
      "Some exception occured\n",
      "could not broadcast input array from shape (72,) into shape (512,)\n",
      "Some exception occured\n",
      "could not broadcast input array from shape (72,) into shape (512,)\n",
      "Some exception occured\n",
      "could not broadcast input array from shape (72,) into shape (512,)\n",
      "Some exception occured\n",
      "could not broadcast input array from shape (76,) into shape (512,)\n",
      "Some exception occured\n"
     ]
    },
    {
     "name": "stderr",
     "output_type": "stream",
     "text": [
      "\r",
      "1302it [00:13, 74.72it/s]"
     ]
    },
    {
     "name": "stdout",
     "output_type": "stream",
     "text": [
      "could not broadcast input array from shape (328,) into shape (512,)\n",
      "Some exception occured\n",
      "could not broadcast input array from shape (72,) into shape (512,)\n",
      "Some exception occured\n",
      "could not broadcast input array from shape (72,) into shape (512,)\n",
      "Some exception occured\n"
     ]
    },
    {
     "name": "stderr",
     "output_type": "stream",
     "text": [
      "1319it [00:13, 71.84it/s]"
     ]
    },
    {
     "name": "stdout",
     "output_type": "stream",
     "text": [
      "could not broadcast input array from shape (72,) into shape (512,)\n",
      "Some exception occured\n",
      "could not broadcast input array from shape (72,) into shape (512,)\n",
      "Some exception occured\n",
      "could not broadcast input array from shape (72,) into shape (512,)\n",
      "Some exception occured\n",
      "could not broadcast input array from shape (72,) into shape (512,)\n",
      "Some exception occured\n",
      "could not broadcast input array from shape (72,) into shape (512,)\n",
      "Some exception occured\n",
      "could not broadcast input array from shape (72,) into shape (512,)\n",
      "Some exception occured\n",
      "could not broadcast input array from shape (72,) into shape (512,)\n",
      "Some exception occured\n",
      "could not broadcast input array from shape (71,) into shape (512,)\n",
      "Some exception occured\n",
      "could not broadcast input array from shape (363,) into shape (512,)\n",
      "Some exception occured\n",
      "could not broadcast input array from shape (72,) into shape (512,)\n",
      "Some exception occured\n"
     ]
    },
    {
     "name": "stderr",
     "output_type": "stream",
     "text": [
      "1345it [00:13, 97.50it/s]"
     ]
    },
    {
     "name": "stdout",
     "output_type": "stream",
     "text": [
      "could not broadcast input array from shape (72,) into shape (512,)\n",
      "Some exception occured\n",
      "could not broadcast input array from shape (464,) into shape (512,)\n",
      "Some exception occured\n",
      "could not broadcast input array from shape (72,) into shape (512,)\n",
      "Some exception occured\n",
      "could not broadcast input array from shape (72,) into shape (512,)\n",
      "Some exception occured\n",
      "could not broadcast input array from shape (72,) into shape (512,)\n",
      "Some exception occured\n",
      "could not broadcast input array from shape (72,) into shape (512,)\n",
      "Some exception occured\n",
      "could not broadcast input array from shape (72,) into shape (512,)\n",
      "Some exception occured\n",
      "could not broadcast input array from shape (72,) into shape (512,)\n",
      "Some exception occured\n"
     ]
    },
    {
     "name": "stderr",
     "output_type": "stream",
     "text": [
      "1368it [00:14, 101.23it/s]"
     ]
    },
    {
     "name": "stdout",
     "output_type": "stream",
     "text": [
      "could not broadcast input array from shape (305,) into shape (512,)\n",
      "Some exception occured\n",
      "could not broadcast input array from shape (71,) into shape (512,)\n",
      "Some exception occured\n",
      "could not broadcast input array from shape (72,) into shape (512,)\n",
      "Some exception occured\n",
      "could not broadcast input array from shape (72,) into shape (512,)\n",
      "Some exception occured\n",
      "could not broadcast input array from shape (72,) into shape (512,)\n",
      "Some exception occured\n",
      "could not broadcast input array from shape (73,) into shape (512,)\n",
      "Some exception occured\n",
      "could not broadcast input array from shape (73,) into shape (512,)\n",
      "Some exception occured\n"
     ]
    },
    {
     "name": "stderr",
     "output_type": "stream",
     "text": [
      "1391it [00:14, 94.07it/s] "
     ]
    },
    {
     "name": "stdout",
     "output_type": "stream",
     "text": [
      "could not broadcast input array from shape (487,) into shape (512,)\n",
      "Some exception occured\n"
     ]
    },
    {
     "name": "stderr",
     "output_type": "stream",
     "text": [
      "1410it [00:14, 80.47it/s]"
     ]
    },
    {
     "name": "stdout",
     "output_type": "stream",
     "text": [
      "could not broadcast input array from shape (72,) into shape (512,)\n",
      "Some exception occured\n",
      "could not broadcast input array from shape (72,) into shape (512,)\n",
      "Some exception occured\n",
      "could not broadcast input array from shape (72,) into shape (512,)\n",
      "Some exception occured\n"
     ]
    },
    {
     "name": "stderr",
     "output_type": "stream",
     "text": [
      "1439it [00:14, 83.16it/s]"
     ]
    },
    {
     "name": "stdout",
     "output_type": "stream",
     "text": [
      "could not broadcast input array from shape (72,) into shape (512,)\n",
      "Some exception occured\n",
      "could not broadcast input array from shape (274,) into shape (512,)\n",
      "Some exception occured\n",
      "could not broadcast input array from shape (186,) into shape (512,)\n",
      "Some exception occured\n",
      "could not broadcast input array from shape (355,) into shape (512,)\n",
      "Some exception occured\n",
      "could not broadcast input array from shape (72,) into shape (512,)\n",
      "Some exception occured\n",
      "could not broadcast input array from shape (73,) into shape (512,)\n",
      "Some exception occured\n"
     ]
    },
    {
     "name": "stderr",
     "output_type": "stream",
     "text": [
      "1468it [00:15, 110.24it/s]"
     ]
    },
    {
     "name": "stdout",
     "output_type": "stream",
     "text": [
      "could not broadcast input array from shape (72,) into shape (512,)\n",
      "Some exception occured\n",
      "could not broadcast input array from shape (72,) into shape (512,)\n",
      "Some exception occured\n",
      "could not broadcast input array from shape (72,) into shape (512,)\n",
      "Some exception occured\n",
      "could not broadcast input array from shape (72,) into shape (512,)\n",
      "Some exception occured\n",
      "could not broadcast input array from shape (72,) into shape (512,)\n",
      "Some exception occured\n",
      "could not broadcast input array from shape (72,) into shape (512,)\n",
      "Some exception occured\n",
      "could not broadcast input array from shape (72,) into shape (512,)\n",
      "Some exception occured\n",
      "could not broadcast input array from shape (72,) into shape (512,)\n",
      "Some exception occured\n",
      "could not broadcast input array from shape (72,) into shape (512,)\n",
      "Some exception occured\n",
      "could not broadcast input array from shape (72,) into shape (512,)\n",
      "Some exception occured\n",
      "could not broadcast input array from shape (279,) into shape (512,)\n",
      "Some exception occured\n",
      "could not broadcast input array from shape (72,) into shape (512,)\n",
      "Some exception occured\n",
      "could not broadcast input array from shape (72,) into shape (512,)\n",
      "Some exception occured\n",
      "could not broadcast input array from shape (72,) into shape (512,)\n",
      "Some exception occured\n",
      "could not broadcast input array from shape (72,) into shape (512,)\n",
      "Some exception occured\n",
      "could not broadcast input array from shape (72,) into shape (512,)\n",
      "Some exception occured\n",
      "could not broadcast input array from shape (72,) into shape (512,)\n",
      "Some exception occured\n"
     ]
    },
    {
     "name": "stderr",
     "output_type": "stream",
     "text": [
      "1497it [00:15, 123.52it/s]"
     ]
    },
    {
     "name": "stdout",
     "output_type": "stream",
     "text": [
      "could not broadcast input array from shape (72,) into shape (512,)\n",
      "Some exception occured\n",
      "could not broadcast input array from shape (72,) into shape (512,)\n",
      "Some exception occured\n",
      "could not broadcast input array from shape (72,) into shape (512,)\n",
      "Some exception occured\n",
      "could not broadcast input array from shape (72,) into shape (512,)\n",
      "Some exception occured\n",
      "could not broadcast input array from shape (72,) into shape (512,)\n",
      "Some exception occured\n",
      "could not broadcast input array from shape (72,) into shape (512,)\n",
      "Some exception occured\n",
      "could not broadcast input array from shape (73,) into shape (512,)\n",
      "Some exception occured\n",
      "could not broadcast input array from shape (508,) into shape (512,)\n",
      "Some exception occured\n",
      "could not broadcast input array from shape (72,) into shape (512,)\n",
      "Some exception occured\n",
      "could not broadcast input array from shape (72,) into shape (512,)\n",
      "Some exception occured\n",
      "could not broadcast input array from shape (72,) into shape (512,)\n",
      "Some exception occured\n"
     ]
    },
    {
     "name": "stderr",
     "output_type": "stream",
     "text": [
      "1522it [00:15, 114.50it/s]"
     ]
    },
    {
     "name": "stdout",
     "output_type": "stream",
     "text": [
      "could not broadcast input array from shape (72,) into shape (512,)\n",
      "Some exception occured\n",
      "could not broadcast input array from shape (72,) into shape (512,)\n",
      "Some exception occured\n",
      "could not broadcast input array from shape (72,) into shape (512,)\n",
      "Some exception occured\n",
      "could not broadcast input array from shape (72,) into shape (512,)\n",
      "Some exception occured\n",
      "could not broadcast input array from shape (72,) into shape (512,)\n",
      "Some exception occured\n"
     ]
    },
    {
     "name": "stderr",
     "output_type": "stream",
     "text": [
      "1546it [00:15, 110.38it/s]"
     ]
    },
    {
     "name": "stdout",
     "output_type": "stream",
     "text": [
      "could not broadcast input array from shape (72,) into shape (512,)\n",
      "Some exception occured\n",
      "could not broadcast input array from shape (72,) into shape (512,)\n",
      "Some exception occured\n",
      "could not broadcast input array from shape (72,) into shape (512,)\n",
      "Some exception occured\n",
      "could not broadcast input array from shape (195,) into shape (512,)\n",
      "Some exception occured\n",
      "could not broadcast input array from shape (72,) into shape (512,)\n",
      "Some exception occured\n",
      "could not broadcast input array from shape (72,) into shape (512,)\n",
      "Some exception occured\n",
      "could not broadcast input array from shape (73,) into shape (512,)\n",
      "Some exception occured\n"
     ]
    },
    {
     "name": "stderr",
     "output_type": "stream",
     "text": [
      "1575it [00:16, 122.10it/s]"
     ]
    },
    {
     "name": "stdout",
     "output_type": "stream",
     "text": [
      "could not broadcast input array from shape (72,) into shape (512,)\n",
      "Some exception occured\n",
      "could not broadcast input array from shape (72,) into shape (512,)\n",
      "Some exception occured\n",
      "could not broadcast input array from shape (72,) into shape (512,)\n",
      "Some exception occured\n",
      "could not broadcast input array from shape (72,) into shape (512,)\n",
      "Some exception occured\n",
      "could not broadcast input array from shape (72,) into shape (512,)\n",
      "Some exception occured\n",
      "could not broadcast input array from shape (72,) into shape (512,)\n",
      "Some exception occured\n",
      "could not broadcast input array from shape (487,) into shape (512,)\n",
      "Some exception occured\n",
      "could not broadcast input array from shape (393,) into shape (512,)\n",
      "Some exception occured\n",
      "could not broadcast input array from shape (72,) into shape (512,)\n",
      "Some exception occured\n",
      "could not broadcast input array from shape (72,) into shape (512,)\n",
      "Some exception occured\n",
      "could not broadcast input array from shape (72,) into shape (512,)\n",
      "Some exception occured\n"
     ]
    },
    {
     "name": "stderr",
     "output_type": "stream",
     "text": [
      "1602it [00:16, 122.40it/s]"
     ]
    },
    {
     "name": "stdout",
     "output_type": "stream",
     "text": [
      "could not broadcast input array from shape (72,) into shape (512,)\n",
      "Some exception occured\n",
      "could not broadcast input array from shape (72,) into shape (512,)\n",
      "Some exception occured\n",
      "could not broadcast input array from shape (72,) into shape (512,)\n",
      "Some exception occured\n",
      "could not broadcast input array from shape (72,) into shape (512,)\n",
      "Some exception occured\n",
      "could not broadcast input array from shape (72,) into shape (512,)\n",
      "Some exception occured\n",
      "could not broadcast input array from shape (477,) into shape (512,)\n",
      "Some exception occured\n",
      "could not broadcast input array from shape (394,) into shape (512,)\n",
      "Some exception occured\n",
      "could not broadcast input array from shape (165,) into shape (512,)\n",
      "Some exception occured\n"
     ]
    },
    {
     "name": "stderr",
     "output_type": "stream",
     "text": [
      "\r",
      "1615it [00:16, 114.39it/s]"
     ]
    },
    {
     "name": "stdout",
     "output_type": "stream",
     "text": [
      "could not broadcast input array from shape (72,) into shape (512,)\n",
      "Some exception occured\n",
      "could not broadcast input array from shape (72,) into shape (512,)\n",
      "Some exception occured\n",
      "could not broadcast input array from shape (72,) into shape (512,)\n",
      "Some exception occured\n",
      "could not broadcast input array from shape (72,) into shape (512,)\n",
      "Some exception occured\n",
      "could not broadcast input array from shape (208,) into shape (512,)\n",
      "Some exception occured\n",
      "could not broadcast input array from shape (72,) into shape (512,)\n",
      "Some exception occured\n",
      "could not broadcast input array from shape (116,) into shape (512,)\n",
      "Some exception occured\n",
      "could not broadcast input array from shape (164,) into shape (512,)\n",
      "Some exception occured\n"
     ]
    },
    {
     "name": "stderr",
     "output_type": "stream",
     "text": [
      "1643it [00:16, 114.30it/s]"
     ]
    },
    {
     "name": "stdout",
     "output_type": "stream",
     "text": [
      "could not broadcast input array from shape (424,) into shape (512,)\n",
      "Some exception occured\n",
      "could not broadcast input array from shape (72,) into shape (512,)\n",
      "Some exception occured\n",
      "could not broadcast input array from shape (72,) into shape (512,)\n",
      "Some exception occured\n",
      "could not broadcast input array from shape (72,) into shape (512,)\n",
      "Some exception occured\n",
      "could not broadcast input array from shape (142,) into shape (512,)\n",
      "Some exception occured\n",
      "could not broadcast input array from shape (72,) into shape (512,)\n",
      "Some exception occured\n",
      "could not broadcast input array from shape (468,) into shape (512,)\n",
      "Some exception occured\n",
      "could not broadcast input array from shape (72,) into shape (512,)\n",
      "Some exception occured\n",
      "could not broadcast input array from shape (72,) into shape (512,)\n",
      "Some exception occured\n",
      "could not broadcast input array from shape (72,) into shape (512,)\n",
      "Some exception occured\n",
      "could not broadcast input array from shape (350,) into shape (512,)\n",
      "Some exception occured\n",
      "could not broadcast input array from shape (72,) into shape (512,)\n",
      "Some exception occured\n",
      "could not broadcast input array from shape (301,) into shape (512,)\n",
      "Some exception occured\n",
      "could not broadcast input array from shape (407,) into shape (512,)\n",
      "Some exception occured"
     ]
    },
    {
     "name": "stderr",
     "output_type": "stream",
     "text": [
      "\r",
      "1655it [00:16, 111.23it/s]"
     ]
    },
    {
     "name": "stdout",
     "output_type": "stream",
     "text": [
      "\n",
      "could not broadcast input array from shape (455,) into shape (512,)\n",
      "Some exception occured\n",
      "could not broadcast input array from shape (72,) into shape (512,)\n",
      "Some exception occured\n",
      "could not broadcast input array from shape (72,) into shape (512,)\n",
      "Some exception occured\n",
      "could not broadcast input array from shape (72,) into shape (512,)\n",
      "Some exception occured\n",
      "could not broadcast input array from shape (72,) into shape (512,)\n",
      "Some exception occured\n",
      "could not broadcast input array from shape (72,) into shape (512,)\n",
      "Some exception occured\n",
      "could not broadcast input array from shape (72,) into shape (512,)\n",
      "Some exception occured\n",
      "could not broadcast input array from shape (442,) into shape (512,)\n",
      "Some exception occured\n",
      "could not broadcast input array from shape (377,) into shape (512,)\n",
      "Some exception occured\n",
      "could not broadcast input array from shape (72,) into shape (512,)\n",
      "Some exception occured\n",
      "could not broadcast input array from shape (72,) into shape (512,)\n",
      "Some exception occured\n",
      "could not broadcast input array from shape (72,) into shape (512,)\n",
      "Some exception occured\n",
      "could not broadcast input array from shape (72,) into shape (512,)\n",
      "Some exception occured\n"
     ]
    },
    {
     "name": "stderr",
     "output_type": "stream",
     "text": [
      "1698it [00:17, 104.07it/s]"
     ]
    },
    {
     "name": "stdout",
     "output_type": "stream",
     "text": [
      "could not broadcast input array from shape (71,) into shape (512,)\n",
      "Some exception occured\n",
      "could not broadcast input array from shape (508,) into shape (512,)\n",
      "Some exception occured\n",
      "could not broadcast input array from shape (332,) into shape (512,)\n",
      "Some exception occured\n",
      "could not broadcast input array from shape (72,) into shape (512,)\n",
      "Some exception occured\n",
      "could not broadcast input array from shape (71,) into shape (512,)\n",
      "Some exception occured\n",
      "could not broadcast input array from shape (433,) into shape (512,)\n",
      "Some exception occured\n",
      "could not broadcast input array from shape (368,) into shape (512,)\n",
      "Some exception occured\n"
     ]
    },
    {
     "name": "stderr",
     "output_type": "stream",
     "text": [
      "1731it [00:17, 126.92it/s]"
     ]
    },
    {
     "name": "stdout",
     "output_type": "stream",
     "text": [
      "could not broadcast input array from shape (72,) into shape (512,)\n",
      "Some exception occured\n",
      "could not broadcast input array from shape (72,) into shape (512,)\n",
      "Some exception occured\n",
      "could not broadcast input array from shape (71,) into shape (512,)\n",
      "Some exception occured\n",
      "could not broadcast input array from shape (368,) into shape (512,)\n",
      "Some exception occured\n",
      "could not broadcast input array from shape (451,) into shape (512,)\n",
      "Some exception occured\n",
      "could not broadcast input array from shape (72,) into shape (512,)\n",
      "Some exception occured\n",
      "could not broadcast input array from shape (244,) into shape (512,)\n",
      "Some exception occured\n",
      "could not broadcast input array from shape (72,) into shape (512,)\n",
      "Some exception occured\n",
      "could not broadcast input array from shape (160,) into shape (512,)\n",
      "Some exception occured\n",
      "could not broadcast input array from shape (72,) into shape (512,)\n",
      "Some exception occured\n",
      "could not broadcast input array from shape (72,) into shape (512,)\n",
      "Some exception occured\n",
      "could not broadcast input array from shape (72,) into shape (512,)\n",
      "Some exception occured\n",
      "could not broadcast input array from shape (73,) into shape (512,)\n",
      "Some exception occured\n",
      "could not broadcast input array from shape (72,) into shape (512,)\n",
      "Some exception occured\n",
      "could not broadcast input array from shape (72,) into shape (512,)\n",
      "Some exception occured\n",
      "could not broadcast input array from shape (72,) into shape (512,)\n",
      "Some exception occured\n",
      "could not broadcast input array from shape (72,) into shape (512,)\n",
      "Some exception occured\n",
      "could not broadcast input array from shape (72,) into shape (512,)\n",
      "Some exception occured\n"
     ]
    },
    {
     "name": "stderr",
     "output_type": "stream",
     "text": [
      "1759it [00:17, 129.90it/s]"
     ]
    },
    {
     "name": "stdout",
     "output_type": "stream",
     "text": [
      "could not broadcast input array from shape (390,) into shape (512,)\n",
      "Some exception occured\n",
      "could not broadcast input array from shape (72,) into shape (512,)\n",
      "Some exception occured\n",
      "could not broadcast input array from shape (72,) into shape (512,)\n",
      "Some exception occured\n",
      "could not broadcast input array from shape (72,) into shape (512,)\n",
      "Some exception occured\n",
      "could not broadcast input array from shape (192,) into shape (512,)\n",
      "Some exception occured\n",
      "could not broadcast input array from shape (328,) into shape (512,)\n",
      "Some exception occured\n",
      "could not broadcast input array from shape (336,) into shape (512,)\n",
      "Some exception occured\n",
      "could not broadcast input array from shape (403,) into shape (512,)\n",
      "Some exception occured\n",
      "could not broadcast input array from shape (72,) into shape (512,)\n",
      "Some exception occured\n",
      "could not broadcast input array from shape (80,) into shape (512,)\n",
      "Some exception occured\n",
      "could not broadcast input array from shape (72,) into shape (512,)\n",
      "Some exception occured\n",
      "could not broadcast input array from shape (72,) into shape (512,)\n",
      "Some exception occured\n",
      "could not broadcast input array from shape (72,) into shape (512,)\n",
      "Some exception occured\n",
      "could not broadcast input array from shape (72,) into shape (512,)\n",
      "Some exception occured\n"
     ]
    },
    {
     "name": "stderr",
     "output_type": "stream",
     "text": [
      "1786it [00:17, 111.66it/s]"
     ]
    },
    {
     "name": "stdout",
     "output_type": "stream",
     "text": [
      "could not broadcast input array from shape (72,) into shape (512,)\n",
      "Some exception occured\n",
      "could not broadcast input array from shape (72,) into shape (512,)\n",
      "Some exception occured\n",
      "could not broadcast input array from shape (72,) into shape (512,)\n",
      "Some exception occured\n",
      "could not broadcast input array from shape (73,) into shape (512,)\n",
      "Some exception occured\n",
      "could not broadcast input array from shape (72,) into shape (512,)\n",
      "Some exception occured\n",
      "could not broadcast input array from shape (332,) into shape (512,)\n",
      "Some exception occured\n",
      "could not broadcast input array from shape (71,) into shape (512,)\n",
      "Some exception occured\n"
     ]
    },
    {
     "name": "stderr",
     "output_type": "stream",
     "text": [
      "1821it [00:18, 133.79it/s]"
     ]
    },
    {
     "name": "stdout",
     "output_type": "stream",
     "text": [
      "could not broadcast input array from shape (72,) into shape (512,)\n",
      "Some exception occured\n",
      "could not broadcast input array from shape (72,) into shape (512,)\n",
      "Some exception occured\n",
      "could not broadcast input array from shape (72,) into shape (512,)\n",
      "Some exception occured\n",
      "could not broadcast input array from shape (72,) into shape (512,)\n",
      "Some exception occured\n",
      "could not broadcast input array from shape (72,) into shape (512,)\n",
      "Some exception occured\n",
      "could not broadcast input array from shape (72,) into shape (512,)\n",
      "Some exception occured\n",
      "could not broadcast input array from shape (164,) into shape (512,)\n",
      "Some exception occured\n",
      "could not broadcast input array from shape (72,) into shape (512,)\n",
      "Some exception occured\n",
      "could not broadcast input array from shape (173,) into shape (512,)\n",
      "Some exception occured\n",
      "could not broadcast input array from shape (455,) into shape (512,)\n",
      "Some exception occured\n",
      "could not broadcast input array from shape (499,) into shape (512,)\n",
      "Some exception occured\n",
      "could not broadcast input array from shape (443,) into shape (512,)\n",
      "Some exception occured\n",
      "could not broadcast input array from shape (72,) into shape (512,)\n",
      "Some exception occured\n",
      "could not broadcast input array from shape (367,) into shape (512,)\n",
      "Some exception occured\n",
      "could not broadcast input array from shape (433,) into shape (512,)\n",
      "Some exception occured\n",
      "could not broadcast input array from shape (72,) into shape (512,)\n",
      "Some exception occured\n",
      "could not broadcast input array from shape (76,) into shape (512,)\n",
      "Some exception occured\n",
      "could not broadcast input array from shape (72,) into shape (512,)\n",
      "Some exception occured\n",
      "could not broadcast input array from shape (72,) into shape (512,)\n",
      "Some exception occured\n",
      "could not broadcast input array from shape (289,) into shape (512,)\n",
      "Some exception occured\n",
      "could not broadcast input array from shape (424,) into shape (512,)\n",
      "Some exception occured\n"
     ]
    },
    {
     "name": "stderr",
     "output_type": "stream",
     "text": [
      "\r",
      "1835it [00:18, 102.98it/s]"
     ]
    },
    {
     "name": "stdout",
     "output_type": "stream",
     "text": [
      "could not broadcast input array from shape (72,) into shape (512,)\n",
      "Some exception occured\n",
      "could not broadcast input array from shape (72,) into shape (512,)\n",
      "Some exception occured\n",
      "could not broadcast input array from shape (72,) into shape (512,)\n",
      "Some exception occured\n",
      "could not broadcast input array from shape (430,) into shape (512,)\n",
      "Some exception occured\n",
      "could not broadcast input array from shape (385,) into shape (512,)\n",
      "Some exception occured\n"
     ]
    },
    {
     "name": "stderr",
     "output_type": "stream",
     "text": [
      "1858it [00:18, 79.56it/s] "
     ]
    },
    {
     "name": "stdout",
     "output_type": "stream",
     "text": [
      "could not broadcast input array from shape (491,) into shape (512,)\n",
      "Some exception occured\n",
      "could not broadcast input array from shape (72,) into shape (512,)\n",
      "Some exception occured\n",
      "could not broadcast input array from shape (72,) into shape (512,)\n",
      "Some exception occured\n"
     ]
    },
    {
     "name": "stderr",
     "output_type": "stream",
     "text": [
      "\r",
      "1867it [00:18, 75.71it/s]"
     ]
    },
    {
     "name": "stdout",
     "output_type": "stream",
     "text": [
      "could not broadcast input array from shape (72,) into shape (512,)\n",
      "Some exception occured\n",
      "could not broadcast input array from shape (72,) into shape (512,)\n",
      "Some exception occured\n",
      "could not broadcast input array from shape (72,) into shape (512,)\n",
      "Some exception occured\n",
      "could not broadcast input array from shape (72,) into shape (512,)\n",
      "Some exception occured\n",
      "could not broadcast input array from shape (314,) into shape (512,)\n",
      "Some exception occured\n",
      "could not broadcast input array from shape (429,) into shape (512,)\n",
      "Some exception occured\n",
      "could not broadcast input array from shape (72,) into shape (512,)\n",
      "Some exception occured\n",
      "could not broadcast input array from shape (301,) into shape (512,)\n",
      "Some exception occured\n",
      "could not broadcast input array from shape (72,) into shape (512,)\n",
      "Some exception occured\n"
     ]
    },
    {
     "name": "stderr",
     "output_type": "stream",
     "text": [
      "1901it [00:19, 94.65it/s]"
     ]
    },
    {
     "name": "stdout",
     "output_type": "stream",
     "text": [
      "could not broadcast input array from shape (221,) into shape (512,)\n",
      "Some exception occured\n",
      "could not broadcast input array from shape (310,) into shape (512,)\n",
      "Some exception occured\n",
      "could not broadcast input array from shape (368,) into shape (512,)\n",
      "Some exception occured\n",
      "could not broadcast input array from shape (72,) into shape (512,)\n",
      "Some exception occured\n",
      "could not broadcast input array from shape (72,) into shape (512,)\n",
      "Some exception occured\n",
      "could not broadcast input array from shape (72,) into shape (512,)\n",
      "Some exception occured\n",
      "could not broadcast input array from shape (71,) into shape (512,)\n",
      "Some exception occured\n",
      "could not broadcast input array from shape (196,) into shape (512,)\n",
      "Some exception occured\n",
      "could not broadcast input array from shape (72,) into shape (512,)\n",
      "Some exception occured\n",
      "could not broadcast input array from shape (72,) into shape (512,)\n",
      "Some exception occured\n",
      "could not broadcast input array from shape (72,) into shape (512,)\n",
      "Some exception occured\n"
     ]
    },
    {
     "name": "stderr",
     "output_type": "stream",
     "text": [
      "1934it [00:19, 127.55it/s]"
     ]
    },
    {
     "name": "stdout",
     "output_type": "stream",
     "text": [
      "could not broadcast input array from shape (451,) into shape (512,)\n",
      "Some exception occured\n",
      "could not broadcast input array from shape (381,) into shape (512,)\n",
      "Some exception occured\n",
      "could not broadcast input array from shape (72,) into shape (512,)\n",
      "Some exception occured\n",
      "could not broadcast input array from shape (72,) into shape (512,)\n",
      "Some exception occured\n",
      "could not broadcast input array from shape (72,) into shape (512,)\n",
      "Some exception occured\n",
      "could not broadcast input array from shape (72,) into shape (512,)\n",
      "Some exception occured\n",
      "could not broadcast input array from shape (72,) into shape (512,)\n",
      "Some exception occured\n",
      "could not broadcast input array from shape (72,) into shape (512,)\n",
      "Some exception occured\n",
      "could not broadcast input array from shape (72,) into shape (512,)\n",
      "Some exception occured\n",
      "could not broadcast input array from shape (72,) into shape (512,)\n",
      "Some exception occured\n",
      "could not broadcast input array from shape (478,) into shape (512,)\n",
      "Some exception occured\n",
      "could not broadcast input array from shape (377,) into shape (512,)\n",
      "Some exception occured\n",
      "could not broadcast input array from shape (72,) into shape (512,)\n",
      "Some exception occured\n",
      "could not broadcast input array from shape (72,) into shape (512,)\n",
      "Some exception occured\n",
      "could not broadcast input array from shape (72,) into shape (512,)\n",
      "Some exception occured\n",
      "could not broadcast input array from shape (72,) into shape (512,)\n",
      "Some exception occured\n",
      "could not broadcast input array from shape (72,) into shape (512,)\n",
      "Some exception occured\n",
      "could not broadcast input array from shape (72,) into shape (512,)\n",
      "Some exception occured\n",
      "could not broadcast input array from shape (72,) into shape (512,)\n",
      "Some exception occured\n",
      "could not broadcast input array from shape (72,) into shape (512,)\n",
      "Some exception occured\n",
      "could not broadcast input array from shape (72,) into shape (512,)\n",
      "Some exception occured\n"
     ]
    },
    {
     "name": "stderr",
     "output_type": "stream",
     "text": [
      "1968it [00:19, 145.29it/s]"
     ]
    },
    {
     "name": "stdout",
     "output_type": "stream",
     "text": [
      "could not broadcast input array from shape (72,) into shape (512,)\n",
      "Some exception occured\n",
      "could not broadcast input array from shape (72,) into shape (512,)\n",
      "Some exception occured\n",
      "could not broadcast input array from shape (72,) into shape (512,)\n",
      "Some exception occured\n",
      "could not broadcast input array from shape (72,) into shape (512,)\n",
      "Some exception occured\n",
      "could not broadcast input array from shape (452,) into shape (512,)\n",
      "Some exception occured\n",
      "could not broadcast input array from shape (73,) into shape (512,)\n",
      "Some exception occured\n",
      "could not broadcast input array from shape (72,) into shape (512,)\n",
      "Some exception occured\n",
      "could not broadcast input array from shape (72,) into shape (512,)\n",
      "Some exception occured\n",
      "could not broadcast input array from shape (341,) into shape (512,)\n",
      "Some exception occured\n",
      "could not broadcast input array from shape (72,) into shape (512,)\n",
      "Some exception occured\n",
      "could not broadcast input array from shape (72,) into shape (512,)\n",
      "Some exception occured\n",
      "could not broadcast input array from shape (72,) into shape (512,)\n",
      "Some exception occured\n",
      "could not broadcast input array from shape (72,) into shape (512,)\n",
      "Some exception occured\n",
      "could not broadcast input array from shape (72,) into shape (512,)\n",
      "Some exception occured\n",
      "could not broadcast input array from shape (72,) into shape (512,)\n",
      "Some exception occured\n",
      "could not broadcast input array from shape (72,) into shape (512,)\n",
      "Some exception occured\n"
     ]
    },
    {
     "name": "stderr",
     "output_type": "stream",
     "text": [
      "2000it [00:19, 138.83it/s]"
     ]
    },
    {
     "name": "stdout",
     "output_type": "stream",
     "text": [
      "could not broadcast input array from shape (208,) into shape (512,)\n",
      "Some exception occured\n",
      "could not broadcast input array from shape (72,) into shape (512,)\n",
      "Some exception occured\n",
      "could not broadcast input array from shape (72,) into shape (512,)\n",
      "Some exception occured\n",
      "could not broadcast input array from shape (72,) into shape (512,)\n",
      "Some exception occured\n",
      "could not broadcast input array from shape (394,) into shape (512,)\n",
      "Some exception occured\n",
      "could not broadcast input array from shape (72,) into shape (512,)\n",
      "Some exception occured\n",
      "could not broadcast input array from shape (72,) into shape (512,)\n",
      "Some exception occured\n",
      "could not broadcast input array from shape (377,) into shape (512,)\n",
      "Some exception occured\n",
      "could not broadcast input array from shape (72,) into shape (512,)\n",
      "Some exception occured\n",
      "could not broadcast input array from shape (72,) into shape (512,)\n",
      "Some exception occured\n",
      "could not broadcast input array from shape (72,) into shape (512,)\n",
      "Some exception occured\n"
     ]
    },
    {
     "name": "stderr",
     "output_type": "stream",
     "text": [
      "\r",
      "2015it [00:19, 115.68it/s]"
     ]
    },
    {
     "name": "stdout",
     "output_type": "stream",
     "text": [
      "could not broadcast input array from shape (72,) into shape (512,)\n",
      "Some exception occured\n",
      "could not broadcast input array from shape (235,) into shape (512,)\n",
      "Some exception occured\n",
      "could not broadcast input array from shape (72,) into shape (512,)\n",
      "Some exception occured\n",
      "could not broadcast input array from shape (177,) into shape (512,)\n",
      "Some exception occured\n",
      "could not broadcast input array from shape (72,) into shape (512,)\n",
      "Some exception occured\n",
      "could not broadcast input array from shape (460,) into shape (512,)\n",
      "Some exception occured\n",
      "could not broadcast input array from shape (72,) into shape (512,)\n",
      "Some exception occured\n",
      "could not broadcast input array from shape (71,) into shape (512,)\n",
      "Some exception occured\n",
      "could not broadcast input array from shape (363,) into shape (512,)\n",
      "Some exception occured\n",
      "could not broadcast input array from shape (72,) into shape (512,)\n",
      "Some exception occured\n",
      "could not broadcast input array from shape (71,) into shape (512,)\n",
      "Some exception occured\n",
      "could not broadcast input array from shape (468,) into shape (512,)\n",
      "Some exception occured\n"
     ]
    },
    {
     "name": "stderr",
     "output_type": "stream",
     "text": [
      "\r",
      "2033it [00:20, 130.88it/s]"
     ]
    },
    {
     "name": "stdout",
     "output_type": "stream",
     "text": [
      "could not broadcast input array from shape (72,) into shape (512,)\n",
      "Some exception occured\n",
      "could not broadcast input array from shape (72,) into shape (512,)\n",
      "Some exception occured\n",
      "could not broadcast input array from shape (72,) into shape (512,)\n",
      "Some exception occured\n",
      "could not broadcast input array from shape (138,) into shape (512,)\n",
      "Some exception occured\n",
      "could not broadcast input array from shape (72,) into shape (512,)\n",
      "Some exception occured\n",
      "could not broadcast input array from shape (345,) into shape (512,)\n",
      "Some exception occured\n",
      "could not broadcast input array from shape (358,) into shape (512,)\n",
      "Some exception occured\n",
      "could not broadcast input array from shape (71,) into shape (512,)\n",
      "Some exception occured\n",
      "could not broadcast input array from shape (72,) into shape (512,)\n",
      "Some exception occured\n",
      "could not broadcast input array from shape (72,) into shape (512,)\n",
      "Some exception occured\n"
     ]
    },
    {
     "name": "stderr",
     "output_type": "stream",
     "text": [
      "2065it [00:20, 133.48it/s]"
     ]
    },
    {
     "name": "stdout",
     "output_type": "stream",
     "text": [
      "could not broadcast input array from shape (72,) into shape (512,)\n",
      "Some exception occured\n",
      "could not broadcast input array from shape (283,) into shape (512,)\n",
      "Some exception occured\n",
      "could not broadcast input array from shape (72,) into shape (512,)\n",
      "Some exception occured\n",
      "could not broadcast input array from shape (72,) into shape (512,)\n",
      "Some exception occured\n",
      "could not broadcast input array from shape (72,) into shape (512,)\n",
      "Some exception occured\n",
      "could not broadcast input array from shape (296,) into shape (512,)\n",
      "Some exception occured\n",
      "could not broadcast input array from shape (72,) into shape (512,)\n",
      "Some exception occured\n",
      "could not broadcast input array from shape (81,) into shape (512,)\n",
      "Some exception occured\n",
      "could not broadcast input array from shape (72,) into shape (512,)\n",
      "Some exception occured\n",
      "could not broadcast input array from shape (173,) into shape (512,)\n",
      "Some exception occured\n",
      "could not broadcast input array from shape (257,) into shape (512,)\n",
      "Some exception occured\n",
      "could not broadcast input array from shape (403,) into shape (512,)\n",
      "Some exception occured\n",
      "could not broadcast input array from shape (165,) into shape (512,)\n",
      "Some exception occured\n",
      "could not broadcast input array from shape (72,) into shape (512,)\n",
      "Some exception occured\n",
      "could not broadcast input array from shape (311,) into shape (512,)\n",
      "Some exception occured\n",
      "could not broadcast input array from shape (72,) into shape (512,)\n",
      "Some exception occured\n",
      "could not broadcast input array from shape (72,) into shape (512,)\n",
      "Some exception occured\n",
      "could not broadcast input array from shape (72,) into shape (512,)\n",
      "Some exception occured\n",
      "could not broadcast input array from shape (103,) into shape (512,)\n",
      "Some exception occured\n",
      "could not broadcast input array from shape (73,) into shape (512,)\n",
      "Some exception occured\n",
      "could not broadcast input array from shape (72,) into shape (512,)\n",
      "Some exception occured\n"
     ]
    },
    {
     "name": "stderr",
     "output_type": "stream",
     "text": [
      "2103it [00:20, 102.11it/s]\n"
     ]
    },
    {
     "name": "stdout",
     "output_type": "stream",
     "text": [
      "could not broadcast input array from shape (72,) into shape (512,)\n",
      "Some exception occured\n",
      "could not broadcast input array from shape (72,) into shape (512,)\n",
      "Some exception occured\n",
      "could not broadcast input array from shape (174,) into shape (512,)\n",
      "Some exception occured\n",
      "could not broadcast input array from shape (439,) into shape (512,)\n",
      "Some exception occured\n",
      "could not broadcast input array from shape (72,) into shape (512,)\n",
      "Some exception occured\n",
      "could not broadcast input array from shape (72,) into shape (512,)\n",
      "Some exception occured\n",
      "could not broadcast input array from shape (244,) into shape (512,)\n",
      "Some exception occured\n",
      "could not broadcast input array from shape (72,) into shape (512,)\n",
      "Some exception occured\n",
      "could not broadcast input array from shape (72,) into shape (512,)\n",
      "Some exception occured\n",
      "could not broadcast input array from shape (72,) into shape (512,)\n",
      "Some exception occured\n",
      "could not broadcast input array from shape (73,) into shape (512,)\n",
      "Some exception occured\n",
      "could not broadcast input array from shape (72,) into shape (512,)\n",
      "Some exception occured\n",
      "could not broadcast input array from shape (72,) into shape (512,)\n",
      "Some exception occured\n"
     ]
    },
    {
     "name": "stderr",
     "output_type": "stream",
     "text": [
      "9it [00:00, 85.94it/s]"
     ]
    },
    {
     "name": "stdout",
     "output_type": "stream",
     "text": [
      "could not broadcast input array from shape (372,) into shape (512,)\n",
      "Some exception occured\n",
      "could not broadcast input array from shape (73,) into shape (512,)\n",
      "Some exception occured\n",
      "could not broadcast input array from shape (72,) into shape (512,)\n",
      "Some exception occured\n",
      "could not broadcast input array from shape (72,) into shape (512,)\n",
      "Some exception occured\n",
      "could not broadcast input array from shape (72,) into shape (512,)\n",
      "Some exception occured\n",
      "could not broadcast input array from shape (72,) into shape (512,)\n",
      "Some exception occured\n",
      "could not broadcast input array from shape (73,) into shape (512,)\n",
      "Some exception occured\n"
     ]
    },
    {
     "name": "stderr",
     "output_type": "stream",
     "text": [
      "30it [00:00, 96.53it/s]"
     ]
    },
    {
     "name": "stdout",
     "output_type": "stream",
     "text": [
      "could not broadcast input array from shape (72,) into shape (512,)\n",
      "Some exception occured\n",
      "could not broadcast input array from shape (72,) into shape (512,)\n",
      "Some exception occured\n",
      "could not broadcast input array from shape (332,) into shape (512,)\n",
      "Some exception occured\n",
      "could not broadcast input array from shape (72,) into shape (512,)\n",
      "Some exception occured\n",
      "could not broadcast input array from shape (72,) into shape (512,)\n",
      "Some exception occured\n"
     ]
    },
    {
     "name": "stderr",
     "output_type": "stream",
     "text": [
      "50it [00:00, 93.55it/s]"
     ]
    },
    {
     "name": "stdout",
     "output_type": "stream",
     "text": [
      "could not broadcast input array from shape (73,) into shape (512,)\n",
      "Some exception occured\n",
      "could not broadcast input array from shape (72,) into shape (512,)\n",
      "Some exception occured\n",
      "could not broadcast input array from shape (72,) into shape (512,)\n",
      "Some exception occured\n",
      "could not broadcast input array from shape (94,) into shape (512,)\n",
      "Some exception occured\n",
      "could not broadcast input array from shape (72,) into shape (512,)\n",
      "Some exception occured\n",
      "could not broadcast input array from shape (133,) into shape (512,)\n",
      "Some exception occured\n",
      "could not broadcast input array from shape (72,) into shape (512,)\n",
      "Some exception occured\n",
      "could not broadcast input array from shape (72,) into shape (512,)\n",
      "Some exception occured\n"
     ]
    },
    {
     "name": "stderr",
     "output_type": "stream",
     "text": [
      "69it [00:00, 76.22it/s]"
     ]
    },
    {
     "name": "stdout",
     "output_type": "stream",
     "text": [
      "could not broadcast input array from shape (72,) into shape (512,)\n",
      "Some exception occured\n",
      "could not broadcast input array from shape (72,) into shape (512,)\n",
      "Some exception occured\n"
     ]
    },
    {
     "name": "stderr",
     "output_type": "stream",
     "text": [
      "97it [00:01, 107.79it/s]"
     ]
    },
    {
     "name": "stdout",
     "output_type": "stream",
     "text": [
      "could not broadcast input array from shape (72,) into shape (512,)\n",
      "Some exception occured\n",
      "could not broadcast input array from shape (72,) into shape (512,)\n",
      "Some exception occured\n",
      "could not broadcast input array from shape (72,) into shape (512,)\n",
      "Some exception occured\n",
      "could not broadcast input array from shape (72,) into shape (512,)\n",
      "Some exception occured\n",
      "could not broadcast input array from shape (71,) into shape (512,)\n",
      "Some exception occured\n",
      "could not broadcast input array from shape (434,) into shape (512,)\n",
      "Some exception occured\n",
      "could not broadcast input array from shape (72,) into shape (512,)\n",
      "Some exception occured\n",
      "could not broadcast input array from shape (72,) into shape (512,)\n",
      "Some exception occured\n",
      "could not broadcast input array from shape (72,) into shape (512,)\n",
      "Some exception occured\n",
      "could not broadcast input array from shape (72,) into shape (512,)\n",
      "Some exception occured\n",
      "could not broadcast input array from shape (72,) into shape (512,)\n",
      "Some exception occured\n",
      "could not broadcast input array from shape (72,) into shape (512,)\n",
      "Some exception occured\n",
      "could not broadcast input array from shape (73,) into shape (512,)\n",
      "Some exception occured\n",
      "could not broadcast input array from shape (72,) into shape (512,)\n",
      "Some exception occured\n"
     ]
    },
    {
     "name": "stderr",
     "output_type": "stream",
     "text": [
      "120it [00:01, 101.03it/s]"
     ]
    },
    {
     "name": "stdout",
     "output_type": "stream",
     "text": [
      "could not broadcast input array from shape (72,) into shape (512,)\n",
      "Some exception occured\n",
      "could not broadcast input array from shape (72,) into shape (512,)\n",
      "Some exception occured\n",
      "could not broadcast input array from shape (111,) into shape (512,)\n",
      "Some exception occured\n",
      "could not broadcast input array from shape (72,) into shape (512,)\n",
      "Some exception occured\n",
      "could not broadcast input array from shape (72,) into shape (512,)\n",
      "Some exception occured\n",
      "could not broadcast input array from shape (72,) into shape (512,)\n",
      "Some exception occured\n",
      "could not broadcast input array from shape (376,) into shape (512,)\n",
      "Some exception occured\n"
     ]
    },
    {
     "name": "stderr",
     "output_type": "stream",
     "text": [
      "152it [00:01, 124.37it/s]"
     ]
    },
    {
     "name": "stdout",
     "output_type": "stream",
     "text": [
      "could not broadcast input array from shape (429,) into shape (512,)\n",
      "Some exception occured\n",
      "could not broadcast input array from shape (72,) into shape (512,)\n",
      "Some exception occured\n",
      "could not broadcast input array from shape (73,) into shape (512,)\n",
      "Some exception occured\n",
      "could not broadcast input array from shape (455,) into shape (512,)\n",
      "Some exception occured\n",
      "could not broadcast input array from shape (72,) into shape (512,)\n",
      "Some exception occured\n",
      "could not broadcast input array from shape (72,) into shape (512,)\n",
      "Some exception occured\n",
      "could not broadcast input array from shape (72,) into shape (512,)\n",
      "Some exception occured\n",
      "could not broadcast input array from shape (72,) into shape (512,)\n",
      "Some exception occured\n",
      "could not broadcast input array from shape (72,) into shape (512,)\n",
      "Some exception occured\n",
      "could not broadcast input array from shape (72,) into shape (512,)\n",
      "Some exception occured\n",
      "could not broadcast input array from shape (72,) into shape (512,)\n",
      "Some exception occured\n",
      "could not broadcast input array from shape (72,) into shape (512,)\n",
      "Some exception occured\n",
      "could not broadcast input array from shape (72,) into shape (512,)\n",
      "Some exception occured\n",
      "could not broadcast input array from shape (72,) into shape (512,)\n",
      "Some exception occured\n",
      "could not broadcast input array from shape (72,) into shape (512,)\n",
      "Some exception occured\n",
      "could not broadcast input array from shape (72,) into shape (512,)\n",
      "Some exception occured\n",
      "could not broadcast input array from shape (72,) into shape (512,)\n",
      "Some exception occured\n",
      "could not broadcast input array from shape (72,) into shape (512,)\n",
      "Some exception occured\n",
      "could not broadcast input array from shape (72,) into shape (512,)\n",
      "Some exception occured\n",
      "could not broadcast input array from shape (72,) into shape (512,)\n",
      "Some exception occured\n",
      "could not broadcast input array from shape (72,) into shape (512,)\n",
      "Some exception occured\n"
     ]
    },
    {
     "name": "stderr",
     "output_type": "stream",
     "text": [
      "202it [00:01, 178.55it/s]"
     ]
    },
    {
     "name": "stdout",
     "output_type": "stream",
     "text": [
      "could not broadcast input array from shape (72,) into shape (512,)\n",
      "Some exception occured\n",
      "could not broadcast input array from shape (72,) into shape (512,)\n",
      "Some exception occured\n",
      "could not broadcast input array from shape (72,) into shape (512,)\n",
      "Some exception occured\n",
      "could not broadcast input array from shape (72,) into shape (512,)\n",
      "Some exception occured\n",
      "could not broadcast input array from shape (72,) into shape (512,)\n",
      "Some exception occured\n",
      "could not broadcast input array from shape (72,) into shape (512,)\n",
      "Some exception occured\n",
      "could not broadcast input array from shape (73,) into shape (512,)\n",
      "Some exception occured\n",
      "could not broadcast input array from shape (71,) into shape (512,)\n",
      "Some exception occured\n",
      "could not broadcast input array from shape (72,) into shape (512,)\n",
      "Some exception occured\n",
      "could not broadcast input array from shape (72,) into shape (512,)\n",
      "Some exception occured\n",
      "could not broadcast input array from shape (72,) into shape (512,)\n",
      "Some exception occured\n",
      "could not broadcast input array from shape (72,) into shape (512,)\n",
      "Some exception occured\n",
      "could not broadcast input array from shape (72,) into shape (512,)\n",
      "Some exception occured\n",
      "could not broadcast input array from shape (72,) into shape (512,)\n",
      "Some exception occured\n",
      "could not broadcast input array from shape (72,) into shape (512,)\n",
      "Some exception occured\n",
      "could not broadcast input array from shape (72,) into shape (512,)\n",
      "Some exception occured\n",
      "could not broadcast input array from shape (495,) into shape (512,)\n",
      "Some exception occured\n",
      "could not broadcast input array from shape (72,) into shape (512,)\n",
      "Some exception occured\n",
      "could not broadcast input array from shape (72,) into shape (512,)\n",
      "Some exception occured\n",
      "could not broadcast input array from shape (72,) into shape (512,)\n",
      "Some exception occured\n",
      "could not broadcast input array from shape (72,) into shape (512,)\n",
      "Some exception occured\n",
      "could not broadcast input array from shape (289,) into shape (512,)\n",
      "Some exception occured\n",
      "could not broadcast input array from shape (72,) into shape (512,)\n",
      "Some exception occured\n",
      "could not broadcast input array from shape (72,) into shape (512,)\n",
      "Some exception occured\n",
      "could not broadcast input array from shape (71,) into shape (512,)\n",
      "Some exception occured\n",
      "could not broadcast input array from shape (72,) into shape (512,)\n",
      "Some exception occured\n",
      "could not broadcast input array from shape (72,) into shape (512,)\n",
      "Some exception occured\n",
      "could not broadcast input array from shape (72,) into shape (512,)\n",
      "Some exception occured\n",
      "could not broadcast input array from shape (72,) into shape (512,)\n",
      "Some exception occured\n",
      "could not broadcast input array from shape (72,) into shape (512,)\n",
      "Some exception occured\n",
      "could not broadcast input array from shape (72,) into shape (512,)\n",
      "Some exception occured\n",
      "could not broadcast input array from shape (72,) into shape (512,)\n",
      "Some exception occured\n",
      "could not broadcast input array from shape (72,) into shape (512,)\n",
      "Some exception occured\n"
     ]
    },
    {
     "name": "stderr",
     "output_type": "stream",
     "text": [
      "\r",
      "221it [00:01, 168.92it/s]"
     ]
    },
    {
     "name": "stdout",
     "output_type": "stream",
     "text": [
      "could not broadcast input array from shape (72,) into shape (512,)\n",
      "Some exception occured\n",
      "could not broadcast input array from shape (73,) into shape (512,)\n",
      "Some exception occured\n",
      "could not broadcast input array from shape (72,) into shape (512,)\n",
      "Some exception occured\n",
      "could not broadcast input array from shape (72,) into shape (512,)\n",
      "Some exception occured\n",
      "could not broadcast input array from shape (72,) into shape (512,)\n",
      "Some exception occured\n",
      "could not broadcast input array from shape (72,) into shape (512,)\n",
      "Some exception occured\n",
      "could not broadcast input array from shape (72,) into shape (512,)\n",
      "Some exception occured\n",
      "could not broadcast input array from shape (72,) into shape (512,)\n",
      "Some exception occured\n",
      "could not broadcast input array from shape (71,) into shape (512,)\n",
      "Some exception occured\n",
      "could not broadcast input array from shape (72,) into shape (512,)\n",
      "Some exception occured\n",
      "could not broadcast input array from shape (73,) into shape (512,)\n",
      "Some exception occured\n",
      "could not broadcast input array from shape (72,) into shape (512,)\n",
      "Some exception occured\n",
      "could not broadcast input array from shape (72,) into shape (512,)\n",
      "Some exception occured\n",
      "could not broadcast input array from shape (72,) into shape (512,)\n",
      "Some exception occured\n",
      "could not broadcast input array from shape (72,) into shape (512,)\n",
      "Some exception occured\n",
      "could not broadcast input array from shape (72,) into shape (512,)\n",
      "Some exception occured\n"
     ]
    },
    {
     "name": "stderr",
     "output_type": "stream",
     "text": [
      "262it [00:02, 177.87it/s]"
     ]
    },
    {
     "name": "stdout",
     "output_type": "stream",
     "text": [
      "could not broadcast input array from shape (72,) into shape (512,)\n",
      "Some exception occured\n",
      "could not broadcast input array from shape (72,) into shape (512,)\n",
      "Some exception occured\n",
      "could not broadcast input array from shape (72,) into shape (512,)\n",
      "Some exception occured\n",
      "could not broadcast input array from shape (72,) into shape (512,)\n",
      "Some exception occured\n",
      "could not broadcast input array from shape (72,) into shape (512,)\n",
      "Some exception occured\n",
      "could not broadcast input array from shape (72,) into shape (512,)\n",
      "Some exception occured\n",
      "could not broadcast input array from shape (72,) into shape (512,)\n",
      "Some exception occured\n",
      "could not broadcast input array from shape (72,) into shape (512,)\n",
      "Some exception occured\n",
      "could not broadcast input array from shape (289,) into shape (512,)\n",
      "Some exception occured\n",
      "could not broadcast input array from shape (72,) into shape (512,)\n",
      "Some exception occured\n",
      "could not broadcast input array from shape (72,) into shape (512,)\n",
      "Some exception occured\n",
      "could not broadcast input array from shape (72,) into shape (512,)\n",
      "Some exception occured\n",
      "could not broadcast input array from shape (72,) into shape (512,)\n",
      "Some exception occured\n",
      "could not broadcast input array from shape (72,) into shape (512,)\n",
      "Some exception occured\n",
      "could not broadcast input array from shape (72,) into shape (512,)\n",
      "Some exception occured\n",
      "could not broadcast input array from shape (72,) into shape (512,)\n",
      "Some exception occured\n",
      "could not broadcast input array from shape (72,) into shape (512,)\n",
      "Some exception occured\n",
      "could not broadcast input array from shape (72,) into shape (512,)\n",
      "Some exception occured\n",
      "could not broadcast input array from shape (71,) into shape (512,)\n",
      "Some exception occured\n",
      "could not broadcast input array from shape (72,) into shape (512,)\n",
      "Some exception occured\n"
     ]
    },
    {
     "name": "stderr",
     "output_type": "stream",
     "text": [
      "\r",
      "281it [00:02, 144.37it/s]"
     ]
    },
    {
     "name": "stdout",
     "output_type": "stream",
     "text": [
      "could not broadcast input array from shape (72,) into shape (512,)\n",
      "Some exception occured\n",
      "could not broadcast input array from shape (72,) into shape (512,)\n",
      "Some exception occured\n",
      "could not broadcast input array from shape (72,) into shape (512,)\n",
      "Some exception occured\n",
      "could not broadcast input array from shape (72,) into shape (512,)\n",
      "Some exception occured\n",
      "could not broadcast input array from shape (72,) into shape (512,)\n",
      "Some exception occured\n",
      "could not broadcast input array from shape (72,) into shape (512,)\n",
      "Some exception occured\n",
      "could not broadcast input array from shape (72,) into shape (512,)\n",
      "Some exception occured\n",
      "could not broadcast input array from shape (73,) into shape (512,)\n",
      "Some exception occured\n",
      "could not broadcast input array from shape (72,) into shape (512,)\n",
      "Some exception occured\n",
      "could not broadcast input array from shape (73,) into shape (512,)\n",
      "Some exception occured\n",
      "could not broadcast input array from shape (72,) into shape (512,)\n",
      "Some exception occured\n",
      "could not broadcast input array from shape (72,) into shape (512,)\n",
      "Some exception occured\n",
      "could not broadcast input array from shape (72,) into shape (512,)\n",
      "Some exception occured\n"
     ]
    },
    {
     "name": "stderr",
     "output_type": "stream",
     "text": [
      "316it [00:02, 151.76it/s]"
     ]
    },
    {
     "name": "stdout",
     "output_type": "stream",
     "text": [
      "could not broadcast input array from shape (72,) into shape (512,)\n",
      "Some exception occured\n",
      "could not broadcast input array from shape (73,) into shape (512,)\n",
      "Some exception occured\n",
      "could not broadcast input array from shape (72,) into shape (512,)\n",
      "Some exception occured\n",
      "could not broadcast input array from shape (72,) into shape (512,)\n",
      "Some exception occured\n",
      "could not broadcast input array from shape (72,) into shape (512,)\n",
      "Some exception occured\n",
      "could not broadcast input array from shape (72,) into shape (512,)\n",
      "Some exception occured\n",
      "could not broadcast input array from shape (72,) into shape (512,)\n",
      "Some exception occured\n",
      "could not broadcast input array from shape (72,) into shape (512,)\n",
      "Some exception occured\n",
      "could not broadcast input array from shape (72,) into shape (512,)\n",
      "Some exception occured\n",
      "could not broadcast input array from shape (72,) into shape (512,)\n",
      "Some exception occured\n"
     ]
    },
    {
     "name": "stderr",
     "output_type": "stream",
     "text": [
      "346it [00:02, 121.28it/s]"
     ]
    },
    {
     "name": "stdout",
     "output_type": "stream",
     "text": [
      "could not broadcast input array from shape (72,) into shape (512,)\n",
      "Some exception occured\n",
      "could not broadcast input array from shape (73,) into shape (512,)\n",
      "Some exception occured\n",
      "could not broadcast input array from shape (71,) into shape (512,)\n",
      "Some exception occured\n",
      "could not broadcast input array from shape (71,) into shape (512,)\n",
      "Some exception occured\n",
      "could not broadcast input array from shape (72,) into shape (512,)\n",
      "Some exception occured\n",
      "could not broadcast input array from shape (73,) into shape (512,)\n",
      "Some exception occured\n",
      "could not broadcast input array from shape (72,) into shape (512,)\n",
      "Some exception occured\n"
     ]
    },
    {
     "name": "stderr",
     "output_type": "stream",
     "text": [
      "372it [00:03, 113.77it/s]"
     ]
    },
    {
     "name": "stdout",
     "output_type": "stream",
     "text": [
      "could not broadcast input array from shape (504,) into shape (512,)\n",
      "Some exception occured\n",
      "could not broadcast input array from shape (72,) into shape (512,)\n",
      "Some exception occured\n",
      "could not broadcast input array from shape (72,) into shape (512,)\n",
      "Some exception occured\n",
      "could not broadcast input array from shape (200,) into shape (512,)\n",
      "Some exception occured\n",
      "could not broadcast input array from shape (72,) into shape (512,)\n",
      "Some exception occured\n",
      "could not broadcast input array from shape (72,) into shape (512,)\n",
      "Some exception occured\n",
      "could not broadcast input array from shape (473,) into shape (512,)\n",
      "Some exception occured\n"
     ]
    },
    {
     "name": "stderr",
     "output_type": "stream",
     "text": [
      "396it [00:03, 114.64it/s]"
     ]
    },
    {
     "name": "stdout",
     "output_type": "stream",
     "text": [
      "could not broadcast input array from shape (72,) into shape (512,)\n",
      "Some exception occured\n",
      "could not broadcast input array from shape (72,) into shape (512,)\n",
      "Some exception occured\n",
      "could not broadcast input array from shape (465,) into shape (512,)\n",
      "Some exception occured\n",
      "could not broadcast input array from shape (72,) into shape (512,)\n",
      "Some exception occured\n",
      "could not broadcast input array from shape (72,) into shape (512,)\n",
      "Some exception occured\n",
      "could not broadcast input array from shape (425,) into shape (512,)\n",
      "Some exception occured\n",
      "could not broadcast input array from shape (376,) into shape (512,)\n",
      "Some exception occured\n",
      "could not broadcast input array from shape (72,) into shape (512,)\n",
      "Some exception occured\n",
      "could not broadcast input array from shape (72,) into shape (512,)\n",
      "Some exception occured\n",
      "could not broadcast input array from shape (72,) into shape (512,)\n",
      "Some exception occured\n",
      "could not broadcast input array from shape (72,) into shape (512,)\n",
      "Some exception occured\n"
     ]
    },
    {
     "name": "stderr",
     "output_type": "stream",
     "text": [
      "422it [00:03, 117.13it/s]"
     ]
    },
    {
     "name": "stdout",
     "output_type": "stream",
     "text": [
      "could not broadcast input array from shape (73,) into shape (512,)\n",
      "Some exception occured\n",
      "could not broadcast input array from shape (72,) into shape (512,)\n",
      "Some exception occured\n",
      "could not broadcast input array from shape (72,) into shape (512,)\n",
      "Some exception occured\n",
      "could not broadcast input array from shape (72,) into shape (512,)\n",
      "Some exception occured\n",
      "could not broadcast input array from shape (407,) into shape (512,)\n",
      "Some exception occured\n",
      "could not broadcast input array from shape (72,) into shape (512,)\n",
      "Some exception occured\n",
      "could not broadcast input array from shape (72,) into shape (512,)\n",
      "Some exception occured\n",
      "could not broadcast input array from shape (376,) into shape (512,)\n",
      "Some exception occured\n",
      "could not broadcast input array from shape (72,) into shape (512,)\n",
      "Some exception occured\n"
     ]
    },
    {
     "name": "stderr",
     "output_type": "stream",
     "text": [
      "448it [00:03, 118.09it/s]"
     ]
    },
    {
     "name": "stdout",
     "output_type": "stream",
     "text": [
      "could not broadcast input array from shape (72,) into shape (512,)\n",
      "Some exception occured\n",
      "could not broadcast input array from shape (72,) into shape (512,)\n",
      "Some exception occured\n",
      "could not broadcast input array from shape (72,) into shape (512,)\n",
      "Some exception occured\n",
      "could not broadcast input array from shape (133,) into shape (512,)\n",
      "Some exception occured\n",
      "could not broadcast input array from shape (354,) into shape (512,)\n",
      "Some exception occured\n",
      "could not broadcast input array from shape (72,) into shape (512,)\n",
      "Some exception occured\n",
      "could not broadcast input array from shape (72,) into shape (512,)\n",
      "Some exception occured\n",
      "could not broadcast input array from shape (72,) into shape (512,)\n",
      "Some exception occured\n",
      "could not broadcast input array from shape (72,) into shape (512,)\n",
      "Some exception occured\n",
      "could not broadcast input array from shape (72,) into shape (512,)\n",
      "Some exception occured\n",
      "could not broadcast input array from shape (73,) into shape (512,)\n",
      "Some exception occured\n"
     ]
    },
    {
     "name": "stderr",
     "output_type": "stream",
     "text": [
      "476it [00:03, 120.04it/s]"
     ]
    },
    {
     "name": "stdout",
     "output_type": "stream",
     "text": [
      "could not broadcast input array from shape (72,) into shape (512,)\n",
      "Some exception occured\n",
      "could not broadcast input array from shape (72,) into shape (512,)\n",
      "Some exception occured\n",
      "could not broadcast input array from shape (72,) into shape (512,)\n",
      "Some exception occured\n",
      "could not broadcast input array from shape (72,) into shape (512,)\n",
      "Some exception occured\n",
      "could not broadcast input array from shape (72,) into shape (512,)\n",
      "Some exception occured\n",
      "could not broadcast input array from shape (73,) into shape (512,)\n",
      "Some exception occured\n",
      "could not broadcast input array from shape (72,) into shape (512,)\n",
      "Some exception occured\n",
      "could not broadcast input array from shape (72,) into shape (512,)\n",
      "Some exception occured\n",
      "could not broadcast input array from shape (72,) into shape (512,)\n",
      "Some exception occured\n",
      "could not broadcast input array from shape (72,) into shape (512,)\n",
      "Some exception occured\n",
      "could not broadcast input array from shape (407,) into shape (512,)\n",
      "Some exception occured\n",
      "could not broadcast input array from shape (72,) into shape (512,)\n",
      "Some exception occured\n"
     ]
    },
    {
     "name": "stderr",
     "output_type": "stream",
     "text": [
      "516it [00:04, 155.91it/s]"
     ]
    },
    {
     "name": "stdout",
     "output_type": "stream",
     "text": [
      "could not broadcast input array from shape (72,) into shape (512,)\n",
      "Some exception occured\n",
      "could not broadcast input array from shape (72,) into shape (512,)\n",
      "Some exception occured\n",
      "could not broadcast input array from shape (73,) into shape (512,)\n",
      "Some exception occured\n",
      "could not broadcast input array from shape (72,) into shape (512,)\n",
      "Some exception occured\n",
      "could not broadcast input array from shape (72,) into shape (512,)\n",
      "Some exception occured\n",
      "could not broadcast input array from shape (72,) into shape (512,)\n",
      "Some exception occured\n",
      "could not broadcast input array from shape (411,) into shape (512,)\n",
      "Some exception occured\n",
      "could not broadcast input array from shape (72,) into shape (512,)\n",
      "Some exception occured\n",
      "could not broadcast input array from shape (72,) into shape (512,)\n",
      "Some exception occured\n",
      "could not broadcast input array from shape (327,) into shape (512,)\n",
      "Some exception occured\n",
      "could not broadcast input array from shape (71,) into shape (512,)\n",
      "Some exception occured\n",
      "could not broadcast input array from shape (73,) into shape (512,)\n",
      "Some exception occured\n",
      "could not broadcast input array from shape (72,) into shape (512,)\n",
      "Some exception occured\n",
      "could not broadcast input array from shape (72,) into shape (512,)\n",
      "Some exception occured\n",
      "could not broadcast input array from shape (258,) into shape (512,)\n",
      "Some exception occured\n",
      "could not broadcast input array from shape (73,) into shape (512,)\n",
      "Some exception occured\n",
      "could not broadcast input array from shape (72,) into shape (512,)\n",
      "Some exception occured\n",
      "could not broadcast input array from shape (72,) into shape (512,)\n",
      "Some exception occured\n",
      "could not broadcast input array from shape (72,) into shape (512,)\n",
      "Some exception occured\n",
      "could not broadcast input array from shape (72,) into shape (512,)\n",
      "Some exception occured\n",
      "could not broadcast input array from shape (72,) into shape (512,)\n",
      "Some exception occured\n",
      "could not broadcast input array from shape (72,) into shape (512,)\n",
      "Some exception occured\n",
      "could not broadcast input array from shape (72,) into shape (512,)\n",
      "Some exception occured\n"
     ]
    },
    {
     "name": "stderr",
     "output_type": "stream",
     "text": [
      "559it [00:04, 180.78it/s]"
     ]
    },
    {
     "name": "stdout",
     "output_type": "stream",
     "text": [
      "could not broadcast input array from shape (72,) into shape (512,)\n",
      "Some exception occured\n",
      "could not broadcast input array from shape (72,) into shape (512,)\n",
      "Some exception occured\n",
      "could not broadcast input array from shape (72,) into shape (512,)\n",
      "Some exception occured\n",
      "could not broadcast input array from shape (72,) into shape (512,)\n",
      "Some exception occured\n",
      "could not broadcast input array from shape (71,) into shape (512,)\n",
      "Some exception occured\n",
      "could not broadcast input array from shape (72,) into shape (512,)\n",
      "Some exception occured\n",
      "could not broadcast input array from shape (72,) into shape (512,)\n",
      "Some exception occured\n",
      "could not broadcast input array from shape (72,) into shape (512,)\n",
      "Some exception occured\n",
      "could not broadcast input array from shape (72,) into shape (512,)\n",
      "Some exception occured\n",
      "could not broadcast input array from shape (72,) into shape (512,)\n",
      "Some exception occured\n",
      "could not broadcast input array from shape (72,) into shape (512,)\n",
      "Some exception occured\n",
      "could not broadcast input array from shape (72,) into shape (512,)\n",
      "Some exception occured\n",
      "could not broadcast input array from shape (72,) into shape (512,)\n",
      "Some exception occured\n",
      "could not broadcast input array from shape (72,) into shape (512,)\n",
      "Some exception occured\n",
      "could not broadcast input array from shape (72,) into shape (512,)\n",
      "Some exception occured\n",
      "could not broadcast input array from shape (72,) into shape (512,)\n",
      "Some exception occured\n",
      "could not broadcast input array from shape (72,) into shape (512,)\n",
      "Some exception occured\n",
      "could not broadcast input array from shape (72,) into shape (512,)\n",
      "Some exception occured\n",
      "could not broadcast input array from shape (72,) into shape (512,)\n",
      "Some exception occured\n",
      "could not broadcast input array from shape (71,) into shape (512,)\n",
      "Some exception occured\n",
      "could not broadcast input array from shape (72,) into shape (512,)\n",
      "Some exception occured\n",
      "could not broadcast input array from shape (305,) into shape (512,)\n",
      "Some exception occured\n",
      "could not broadcast input array from shape (72,) into shape (512,)\n",
      "Some exception occured\n",
      "could not broadcast input array from shape (72,) into shape (512,)\n",
      "Some exception occured\n",
      "could not broadcast input array from shape (72,) into shape (512,)\n",
      "Some exception occured\n",
      "could not broadcast input array from shape (240,) into shape (512,)\n",
      "Some exception occured\n",
      "could not broadcast input array from shape (72,) into shape (512,)\n",
      "Some exception occured\n",
      "could not broadcast input array from shape (72,) into shape (512,)\n",
      "Some exception occured\n",
      "could not broadcast input array from shape (451,) into shape (512,)\n",
      "Some exception occured\n",
      "could not broadcast input array from shape (77,) into shape (512,)\n",
      "Some exception occured\n",
      "could not broadcast input array from shape (72,) into shape (512,)\n",
      "Some exception occured\n"
     ]
    },
    {
     "name": "stderr",
     "output_type": "stream",
     "text": [
      "\r",
      "578it [00:04, 127.76it/s]"
     ]
    },
    {
     "name": "stdout",
     "output_type": "stream",
     "text": [
      "could not broadcast input array from shape (72,) into shape (512,)\n",
      "Some exception occured\n",
      "could not broadcast input array from shape (72,) into shape (512,)\n",
      "Some exception occured\n",
      "could not broadcast input array from shape (72,) into shape (512,)\n",
      "Some exception occured\n"
     ]
    },
    {
     "name": "stderr",
     "output_type": "stream",
     "text": [
      "\r",
      "593it [00:04, 124.00it/s]"
     ]
    },
    {
     "name": "stdout",
     "output_type": "stream",
     "text": [
      "could not broadcast input array from shape (72,) into shape (512,)\n",
      "Some exception occured\n",
      "could not broadcast input array from shape (71,) into shape (512,)\n",
      "Some exception occured\n",
      "could not broadcast input array from shape (72,) into shape (512,)\n",
      "Some exception occured\n",
      "could not broadcast input array from shape (364,) into shape (512,)\n",
      "Some exception occured\n",
      "could not broadcast input array from shape (72,) into shape (512,)\n",
      "Some exception occured\n",
      "could not broadcast input array from shape (72,) into shape (512,)\n",
      "Some exception occured\n",
      "could not broadcast input array from shape (72,) into shape (512,)\n",
      "Some exception occured\n",
      "could not broadcast input array from shape (72,) into shape (512,)\n",
      "Some exception occured\n",
      "could not broadcast input array from shape (72,) into shape (512,)\n",
      "Some exception occured\n",
      "could not broadcast input array from shape (72,) into shape (512,)\n",
      "Some exception occured\n",
      "could not broadcast input array from shape (71,) into shape (512,)\n",
      "Some exception occured\n",
      "could not broadcast input array from shape (72,) into shape (512,)\n",
      "Some exception occured\n",
      "could not broadcast input array from shape (72,) into shape (512,)\n",
      "Some exception occured\n"
     ]
    },
    {
     "name": "stderr",
     "output_type": "stream",
     "text": [
      "619it [00:04, 103.71it/s]"
     ]
    },
    {
     "name": "stdout",
     "output_type": "stream",
     "text": [
      "could not broadcast input array from shape (72,) into shape (512,)\n",
      "Some exception occured\n",
      "could not broadcast input array from shape (72,) into shape (512,)\n",
      "Some exception occured\n",
      "could not broadcast input array from shape (72,) into shape (512,)\n",
      "Some exception occured\n",
      "could not broadcast input array from shape (72,) into shape (512,)\n",
      "Some exception occured\n",
      "could not broadcast input array from shape (72,) into shape (512,)\n",
      "Some exception occured\n",
      "could not broadcast input array from shape (72,) into shape (512,)\n",
      "Some exception occured\n",
      "could not broadcast input array from shape (72,) into shape (512,)\n",
      "Some exception occured\n",
      "could not broadcast input array from shape (72,) into shape (512,)\n",
      "Some exception occured\n",
      "could not broadcast input array from shape (72,) into shape (512,)\n",
      "Some exception occured\n"
     ]
    },
    {
     "name": "stderr",
     "output_type": "stream",
     "text": [
      "649it [00:05, 113.43it/s]"
     ]
    },
    {
     "name": "stdout",
     "output_type": "stream",
     "text": [
      "could not broadcast input array from shape (72,) into shape (512,)\n",
      "Some exception occured\n",
      "could not broadcast input array from shape (72,) into shape (512,)\n",
      "Some exception occured\n",
      "could not broadcast input array from shape (72,) into shape (512,)\n",
      "Some exception occured\n",
      "could not broadcast input array from shape (72,) into shape (512,)\n",
      "Some exception occured\n",
      "could not broadcast input array from shape (71,) into shape (512,)\n",
      "Some exception occured\n",
      "could not broadcast input array from shape (71,) into shape (512,)\n",
      "Some exception occured\n",
      "could not broadcast input array from shape (72,) into shape (512,)\n",
      "Some exception occured\n",
      "could not broadcast input array from shape (72,) into shape (512,)\n",
      "Some exception occured\n",
      "could not broadcast input array from shape (73,) into shape (512,)\n",
      "Some exception occured\n",
      "could not broadcast input array from shape (71,) into shape (512,)\n",
      "Some exception occured\n",
      "could not broadcast input array from shape (72,) into shape (512,)\n",
      "Some exception occured\n",
      "could not broadcast input array from shape (72,) into shape (512,)\n",
      "Some exception occured\n",
      "could not broadcast input array from shape (403,) into shape (512,)\n",
      "Some exception occured\n",
      "could not broadcast input array from shape (72,) into shape (512,)\n",
      "Some exception occured\n",
      "could not broadcast input array from shape (72,) into shape (512,)\n",
      "Some exception occured\n",
      "could not broadcast input array from shape (72,) into shape (512,)\n",
      "Some exception occured\n",
      "could not broadcast input array from shape (72,) into shape (512,)\n",
      "Some exception occured\n",
      "could not broadcast input array from shape (72,) into shape (512,)\n",
      "Some exception occured\n",
      "could not broadcast input array from shape (72,) into shape (512,)\n",
      "Some exception occured\n"
     ]
    },
    {
     "name": "stderr",
     "output_type": "stream",
     "text": [
      "\r",
      "666it [00:05, 124.38it/s]"
     ]
    },
    {
     "name": "stdout",
     "output_type": "stream",
     "text": [
      "could not broadcast input array from shape (72,) into shape (512,)\n",
      "Some exception occured\n",
      "could not broadcast input array from shape (72,) into shape (512,)\n",
      "Some exception occured\n",
      "could not broadcast input array from shape (72,) into shape (512,)\n",
      "Some exception occured\n",
      "could not broadcast input array from shape (72,) into shape (512,)\n",
      "Some exception occured\n",
      "could not broadcast input array from shape (71,) into shape (512,)\n",
      "Some exception occured\n",
      "could not broadcast input array from shape (72,) into shape (512,)\n",
      "Some exception occured\n",
      "could not broadcast input array from shape (72,) into shape (512,)\n",
      "Some exception occured\n",
      "could not broadcast input array from shape (72,) into shape (512,)\n",
      "Some exception occured\n"
     ]
    },
    {
     "name": "stderr",
     "output_type": "stream",
     "text": [
      "692it [00:05, 107.46it/s]"
     ]
    },
    {
     "name": "stdout",
     "output_type": "stream",
     "text": [
      "could not broadcast input array from shape (72,) into shape (512,)\n",
      "Some exception occured\n",
      "could not broadcast input array from shape (71,) into shape (512,)\n",
      "Some exception occured\n",
      "could not broadcast input array from shape (72,) into shape (512,)\n",
      "Some exception occured\n",
      "could not broadcast input array from shape (72,) into shape (512,)\n",
      "Some exception occured\n",
      "could not broadcast input array from shape (72,) into shape (512,)\n",
      "Some exception occured\n",
      "could not broadcast input array from shape (72,) into shape (512,)\n",
      "Some exception occured\n",
      "could not broadcast input array from shape (72,) into shape (512,)\n",
      "Some exception occured\n",
      "could not broadcast input array from shape (72,) into shape (512,)\n",
      "Some exception occured\n",
      "could not broadcast input array from shape (328,) into shape (512,)\n",
      "Some exception occured\n",
      "could not broadcast input array from shape (72,) into shape (512,)\n",
      "Some exception occured\n",
      "could not broadcast input array from shape (72,) into shape (512,)\n",
      "Some exception occured\n"
     ]
    },
    {
     "name": "stderr",
     "output_type": "stream",
     "text": [
      "716it [00:05, 110.25it/s]"
     ]
    },
    {
     "name": "stdout",
     "output_type": "stream",
     "text": [
      "could not broadcast input array from shape (72,) into shape (512,)\n",
      "Some exception occured\n",
      "could not broadcast input array from shape (72,) into shape (512,)\n",
      "Some exception occured\n",
      "could not broadcast input array from shape (72,) into shape (512,)\n",
      "Some exception occured\n",
      "could not broadcast input array from shape (72,) into shape (512,)\n",
      "Some exception occured\n",
      "could not broadcast input array from shape (72,) into shape (512,)\n",
      "Some exception occured\n",
      "could not broadcast input array from shape (72,) into shape (512,)\n",
      "Some exception occured\n",
      "could not broadcast input array from shape (72,) into shape (512,)\n",
      "Some exception occured\n",
      "could not broadcast input array from shape (72,) into shape (512,)\n",
      "Some exception occured\n",
      "could not broadcast input array from shape (72,) into shape (512,)\n",
      "Some exception occured\n",
      "could not broadcast input array from shape (72,) into shape (512,)\n",
      "Some exception occured\n"
     ]
    },
    {
     "name": "stderr",
     "output_type": "stream",
     "text": [
      "743it [00:06, 117.66it/s]"
     ]
    },
    {
     "name": "stdout",
     "output_type": "stream",
     "text": [
      "could not broadcast input array from shape (72,) into shape (512,)\n",
      "Some exception occured\n",
      "could not broadcast input array from shape (72,) into shape (512,)\n",
      "Some exception occured\n",
      "could not broadcast input array from shape (72,) into shape (512,)\n",
      "Some exception occured\n",
      "could not broadcast input array from shape (72,) into shape (512,)\n",
      "Some exception occured\n",
      "could not broadcast input array from shape (72,) into shape (512,)\n",
      "Some exception occured\n",
      "could not broadcast input array from shape (72,) into shape (512,)\n",
      "Some exception occured\n",
      "could not broadcast input array from shape (72,) into shape (512,)\n",
      "Some exception occured\n",
      "could not broadcast input array from shape (71,) into shape (512,)\n",
      "Some exception occured\n"
     ]
    },
    {
     "name": "stderr",
     "output_type": "stream",
     "text": [
      "769it [00:06, 109.31it/s]"
     ]
    },
    {
     "name": "stdout",
     "output_type": "stream",
     "text": [
      "could not broadcast input array from shape (72,) into shape (512,)\n",
      "Some exception occured\n",
      "could not broadcast input array from shape (72,) into shape (512,)\n",
      "Some exception occured\n",
      "could not broadcast input array from shape (72,) into shape (512,)\n",
      "Some exception occured\n",
      "could not broadcast input array from shape (72,) into shape (512,)\n",
      "Some exception occured\n",
      "could not broadcast input array from shape (72,) into shape (512,)\n",
      "Some exception occured\n",
      "could not broadcast input array from shape (72,) into shape (512,)\n",
      "Some exception occured\n",
      "could not broadcast input array from shape (72,) into shape (512,)\n",
      "Some exception occured\n",
      "could not broadcast input array from shape (73,) into shape (512,)\n",
      "Some exception occured\n",
      "could not broadcast input array from shape (72,) into shape (512,)\n",
      "Some exception occured\n",
      "could not broadcast input array from shape (72,) into shape (512,)\n",
      "Some exception occured\n",
      "could not broadcast input array from shape (72,) into shape (512,)\n",
      "Some exception occured\n"
     ]
    },
    {
     "name": "stderr",
     "output_type": "stream",
     "text": [
      "\r",
      "781it [00:06, 86.20it/s] "
     ]
    },
    {
     "name": "stdout",
     "output_type": "stream",
     "text": [
      "could not broadcast input array from shape (187,) into shape (512,)\n",
      "Some exception occured\n",
      "could not broadcast input array from shape (364,) into shape (512,)\n",
      "Some exception occured\n",
      "could not broadcast input array from shape (314,) into shape (512,)\n",
      "Some exception occured\n"
     ]
    },
    {
     "name": "stderr",
     "output_type": "stream",
     "text": [
      "\r",
      "791it [00:06, 85.34it/s]"
     ]
    },
    {
     "name": "stdout",
     "output_type": "stream",
     "text": [
      "could not broadcast input array from shape (425,) into shape (512,)\n",
      "Some exception occured\n",
      "could not broadcast input array from shape (350,) into shape (512,)\n",
      "Some exception occured\n",
      "could not broadcast input array from shape (209,) into shape (512,)\n",
      "Some exception occured\n",
      "could not broadcast input array from shape (244,) into shape (512,)\n",
      "Some exception occured\n",
      "could not broadcast input array from shape (182,) into shape (512,)\n",
      "Some exception occured\n",
      "could not broadcast input array from shape (196,) into shape (512,)\n",
      "Some exception occured\n",
      "could not broadcast input array from shape (205,) into shape (512,)\n",
      "Some exception occured\n",
      "could not broadcast input array from shape (412,) into shape (512,)\n",
      "Some exception occured\n",
      "could not broadcast input array from shape (270,) into shape (512,)\n",
      "Some exception occured\n",
      "could not broadcast input array from shape (217,) into shape (512,)\n",
      "Some exception occured\n",
      "could not broadcast input array from shape (173,) into shape (512,)\n",
      "Some exception occured\n",
      "could not broadcast input array from shape (138,) into shape (512,)\n",
      "Some exception occured\n",
      "could not broadcast input array from shape (108,) into shape (512,)\n",
      "Some exception occured\n",
      "could not broadcast input array from shape (469,) into shape (512,)\n",
      "Some exception occured\n"
     ]
    },
    {
     "name": "stderr",
     "output_type": "stream",
     "text": [
      "825it [00:07, 84.06it/s]"
     ]
    },
    {
     "name": "stdout",
     "output_type": "stream",
     "text": [
      "could not broadcast input array from shape (244,) into shape (512,)\n",
      "Some exception occured\n",
      "could not broadcast input array from shape (231,) into shape (512,)\n",
      "Some exception occured\n",
      "could not broadcast input array from shape (240,) into shape (512,)\n",
      "Some exception occured\n",
      "could not broadcast input array from shape (196,) into shape (512,)\n",
      "Some exception occured\n",
      "could not broadcast input array from shape (249,) into shape (512,)\n",
      "Some exception occured\n",
      "could not broadcast input array from shape (226,) into shape (512,)\n",
      "Some exception occured\n",
      "could not broadcast input array from shape (236,) into shape (512,)\n",
      "Some exception occured\n",
      "could not broadcast input array from shape (213,) into shape (512,)\n",
      "Some exception occured\n"
     ]
    },
    {
     "name": "stderr",
     "output_type": "stream",
     "text": [
      "859it [00:07, 90.97it/s]"
     ]
    },
    {
     "name": "stdout",
     "output_type": "stream",
     "text": [
      "could not broadcast input array from shape (173,) into shape (512,)\n",
      "Some exception occured\n",
      "could not broadcast input array from shape (296,) into shape (512,)\n",
      "Some exception occured\n",
      "could not broadcast input array from shape (72,) into shape (512,)\n",
      "Some exception occured\n",
      "could not broadcast input array from shape (72,) into shape (512,)\n",
      "Some exception occured\n",
      "could not broadcast input array from shape (72,) into shape (512,)\n",
      "Some exception occured\n",
      "could not broadcast input array from shape (500,) into shape (512,)\n",
      "Some exception occured\n",
      "could not broadcast input array from shape (72,) into shape (512,)\n",
      "Some exception occured\n",
      "could not broadcast input array from shape (72,) into shape (512,)\n",
      "Some exception occured\n",
      "could not broadcast input array from shape (72,) into shape (512,)\n",
      "Some exception occured\n",
      "could not broadcast input array from shape (195,) into shape (512,)\n",
      "Some exception occured\n",
      "could not broadcast input array from shape (402,) into shape (512,)\n",
      "Some exception occured\n",
      "could not broadcast input array from shape (199,) into shape (512,)\n",
      "Some exception occured\n",
      "could not broadcast input array from shape (169,) into shape (512,)\n",
      "Some exception occured\n",
      "could not broadcast input array from shape (72,) into shape (512,)\n",
      "Some exception occured\n",
      "could not broadcast input array from shape (350,) into shape (512,)\n",
      "Some exception occured\n",
      "could not broadcast input array from shape (464,) into shape (512,)\n",
      "Some exception occured\n"
     ]
    },
    {
     "name": "stderr",
     "output_type": "stream",
     "text": [
      "\r",
      "869it [00:07, 87.44it/s]"
     ]
    },
    {
     "name": "stdout",
     "output_type": "stream",
     "text": [
      "could not broadcast input array from shape (72,) into shape (512,)\n",
      "Some exception occured\n",
      "could not broadcast input array from shape (72,) into shape (512,)\n",
      "Some exception occured\n",
      "could not broadcast input array from shape (333,) into shape (512,)\n",
      "Some exception occured\n",
      "could not broadcast input array from shape (72,) into shape (512,)\n",
      "Some exception occured\n",
      "could not broadcast input array from shape (261,) into shape (512,)\n",
      "Some exception occured\n",
      "could not broadcast input array from shape (72,) into shape (512,)\n",
      "Some exception occured\n",
      "could not broadcast input array from shape (402,) into shape (512,)\n",
      "Some exception occured\n"
     ]
    },
    {
     "name": "stderr",
     "output_type": "stream",
     "text": [
      "888it [00:07, 79.73it/s]"
     ]
    },
    {
     "name": "stdout",
     "output_type": "stream",
     "text": [
      "could not broadcast input array from shape (72,) into shape (512,)\n",
      "Some exception occured\n",
      "could not broadcast input array from shape (72,) into shape (512,)\n",
      "Some exception occured\n",
      "could not broadcast input array from shape (160,) into shape (512,)\n",
      "Some exception occured\n"
     ]
    },
    {
     "name": "stderr",
     "output_type": "stream",
     "text": [
      "\r",
      "897it [00:08, 69.73it/s]"
     ]
    },
    {
     "name": "stdout",
     "output_type": "stream",
     "text": [
      "could not broadcast input array from shape (199,) into shape (512,)\n",
      "Some exception occured\n",
      "could not broadcast input array from shape (222,) into shape (512,)\n",
      "Some exception occured\n"
     ]
    },
    {
     "name": "stderr",
     "output_type": "stream",
     "text": [
      "912it [00:08, 61.20it/s]"
     ]
    },
    {
     "name": "stdout",
     "output_type": "stream",
     "text": [
      "could not broadcast input array from shape (270,) into shape (512,)\n",
      "Some exception occured\n",
      "could not broadcast input array from shape (420,) into shape (512,)\n",
      "Some exception occured\n",
      "could not broadcast input array from shape (116,) into shape (512,)\n",
      "Some exception occured\n",
      "could not broadcast input array from shape (85,) into shape (512,)\n",
      "Some exception occured\n",
      "could not broadcast input array from shape (399,) into shape (512,)\n",
      "Some exception occured\n",
      "could not broadcast input array from shape (72,) into shape (512,)\n",
      "Some exception occured\n",
      "could not broadcast input array from shape (319,) into shape (512,)\n",
      "Some exception occured\n"
     ]
    },
    {
     "name": "stderr",
     "output_type": "stream",
     "text": [
      "929it [00:08, 65.20it/s]"
     ]
    },
    {
     "name": "stdout",
     "output_type": "stream",
     "text": [
      "could not broadcast input array from shape (292,) into shape (512,)\n",
      "Some exception occured\n",
      "could not broadcast input array from shape (174,) into shape (512,)\n",
      "Some exception occured\n",
      "could not broadcast input array from shape (195,) into shape (512,)\n",
      "Some exception occured\n",
      "could not broadcast input array from shape (279,) into shape (512,)\n",
      "Some exception occured\n",
      "could not broadcast input array from shape (465,) into shape (512,)\n",
      "Some exception occured\n",
      "could not broadcast input array from shape (72,) into shape (512,)\n",
      "Some exception occured\n",
      "could not broadcast input array from shape (80,) into shape (512,)\n",
      "Some exception occured\n"
     ]
    },
    {
     "name": "stderr",
     "output_type": "stream",
     "text": [
      "952it [00:08, 86.59it/s]"
     ]
    },
    {
     "name": "stdout",
     "output_type": "stream",
     "text": [
      "could not broadcast input array from shape (156,) into shape (512,)\n",
      "Some exception occured\n",
      "could not broadcast input array from shape (72,) into shape (512,)\n",
      "Some exception occured\n",
      "could not broadcast input array from shape (85,) into shape (512,)\n",
      "Some exception occured\n",
      "could not broadcast input array from shape (169,) into shape (512,)\n",
      "Some exception occured\n",
      "could not broadcast input array from shape (165,) into shape (512,)\n",
      "Some exception occured\n",
      "could not broadcast input array from shape (306,) into shape (512,)\n",
      "Some exception occured\n",
      "could not broadcast input array from shape (389,) into shape (512,)\n",
      "Some exception occured\n",
      "could not broadcast input array from shape (386,) into shape (512,)\n",
      "Some exception occured\n",
      "could not broadcast input array from shape (345,) into shape (512,)\n",
      "Some exception occured\n",
      "could not broadcast input array from shape (72,) into shape (512,)\n",
      "Some exception occured\n"
     ]
    },
    {
     "name": "stderr",
     "output_type": "stream",
     "text": [
      "976it [00:08, 98.90it/s]"
     ]
    },
    {
     "name": "stdout",
     "output_type": "stream",
     "text": [
      "could not broadcast input array from shape (76,) into shape (512,)\n",
      "Some exception occured\n",
      "could not broadcast input array from shape (433,) into shape (512,)\n",
      "Some exception occured\n",
      "could not broadcast input array from shape (72,) into shape (512,)\n",
      "Some exception occured\n",
      "could not broadcast input array from shape (421,) into shape (512,)\n",
      "Some exception occured\n",
      "could not broadcast input array from shape (72,) into shape (512,)\n",
      "Some exception occured\n",
      "could not broadcast input array from shape (71,) into shape (512,)\n",
      "Some exception occured\n",
      "could not broadcast input array from shape (72,) into shape (512,)\n",
      "Some exception occured\n",
      "could not broadcast input array from shape (73,) into shape (512,)\n",
      "Some exception occured\n",
      "could not broadcast input array from shape (72,) into shape (512,)\n",
      "Some exception occured\n",
      "could not broadcast input array from shape (72,) into shape (512,)\n",
      "Some exception occured\n",
      "could not broadcast input array from shape (72,) into shape (512,)\n",
      "Some exception occured\n",
      "could not broadcast input array from shape (71,) into shape (512,)\n",
      "Some exception occured\n",
      "could not broadcast input array from shape (72,) into shape (512,)\n",
      "Some exception occured\n",
      "could not broadcast input array from shape (71,) into shape (512,)\n",
      "Some exception occured\n",
      "could not broadcast input array from shape (72,) into shape (512,)\n",
      "Some exception occured\n"
     ]
    },
    {
     "name": "stderr",
     "output_type": "stream",
     "text": [
      "1009it [00:09, 122.97it/s]"
     ]
    },
    {
     "name": "stdout",
     "output_type": "stream",
     "text": [
      "could not broadcast input array from shape (72,) into shape (512,)\n",
      "Some exception occured\n",
      "could not broadcast input array from shape (72,) into shape (512,)\n",
      "Some exception occured\n",
      "could not broadcast input array from shape (72,) into shape (512,)\n",
      "Some exception occured\n",
      "could not broadcast input array from shape (72,) into shape (512,)\n",
      "Some exception occured\n",
      "could not broadcast input array from shape (72,) into shape (512,)\n",
      "Some exception occured\n",
      "could not broadcast input array from shape (72,) into shape (512,)\n",
      "Some exception occured\n",
      "could not broadcast input array from shape (283,) into shape (512,)\n",
      "Some exception occured\n",
      "could not broadcast input array from shape (72,) into shape (512,)\n",
      "Some exception occured\n",
      "could not broadcast input array from shape (72,) into shape (512,)\n",
      "Some exception occured\n",
      "could not broadcast input array from shape (72,) into shape (512,)\n",
      "Some exception occured\n",
      "could not broadcast input array from shape (72,) into shape (512,)\n",
      "Some exception occured\n",
      "could not broadcast input array from shape (72,) into shape (512,)\n",
      "Some exception occured\n",
      "could not broadcast input array from shape (72,) into shape (512,)\n",
      "Some exception occured\n",
      "could not broadcast input array from shape (72,) into shape (512,)\n",
      "Some exception occured\n"
     ]
    },
    {
     "name": "stderr",
     "output_type": "stream",
     "text": [
      "1036it [00:09, 123.38it/s]"
     ]
    },
    {
     "name": "stdout",
     "output_type": "stream",
     "text": [
      "could not broadcast input array from shape (72,) into shape (512,)\n",
      "Some exception occured\n",
      "could not broadcast input array from shape (72,) into shape (512,)\n",
      "Some exception occured\n",
      "could not broadcast input array from shape (72,) into shape (512,)\n",
      "Some exception occured\n",
      "could not broadcast input array from shape (72,) into shape (512,)\n",
      "Some exception occured\n",
      "could not broadcast input array from shape (72,) into shape (512,)\n",
      "Some exception occured\n",
      "could not broadcast input array from shape (72,) into shape (512,)\n",
      "Some exception occured\n",
      "could not broadcast input array from shape (72,) into shape (512,)\n",
      "Some exception occured\n",
      "could not broadcast input array from shape (72,) into shape (512,)\n",
      "Some exception occured\n",
      "could not broadcast input array from shape (72,) into shape (512,)\n",
      "Some exception occured\n",
      "could not broadcast input array from shape (72,) into shape (512,)\n",
      "Some exception occured\n"
     ]
    },
    {
     "name": "stderr",
     "output_type": "stream",
     "text": [
      "1062it [00:09, 116.80it/s]"
     ]
    },
    {
     "name": "stdout",
     "output_type": "stream",
     "text": [
      "could not broadcast input array from shape (72,) into shape (512,)\n",
      "Some exception occured\n",
      "could not broadcast input array from shape (72,) into shape (512,)\n",
      "Some exception occured\n",
      "could not broadcast input array from shape (72,) into shape (512,)\n",
      "Some exception occured\n",
      "could not broadcast input array from shape (72,) into shape (512,)\n",
      "Some exception occured\n",
      "could not broadcast input array from shape (72,) into shape (512,)\n",
      "Some exception occured\n",
      "could not broadcast input array from shape (72,) into shape (512,)\n",
      "Some exception occured\n",
      "could not broadcast input array from shape (72,) into shape (512,)\n",
      "Some exception occured\n",
      "could not broadcast input array from shape (72,) into shape (512,)\n",
      "Some exception occured\n",
      "could not broadcast input array from shape (72,) into shape (512,)\n",
      "Some exception occured\n",
      "could not broadcast input array from shape (72,) into shape (512,)\n",
      "Some exception occured\n"
     ]
    },
    {
     "name": "stderr",
     "output_type": "stream",
     "text": [
      "1086it [00:09, 98.18it/s] "
     ]
    },
    {
     "name": "stdout",
     "output_type": "stream",
     "text": [
      "could not broadcast input array from shape (72,) into shape (512,)\n",
      "Some exception occured\n",
      "could not broadcast input array from shape (72,) into shape (512,)\n",
      "Some exception occured\n",
      "could not broadcast input array from shape (72,) into shape (512,)\n",
      "Some exception occured\n",
      "could not broadcast input array from shape (72,) into shape (512,)\n",
      "Some exception occured\n",
      "could not broadcast input array from shape (72,) into shape (512,)\n",
      "Some exception occured\n",
      "could not broadcast input array from shape (72,) into shape (512,)\n",
      "Some exception occured\n",
      "could not broadcast input array from shape (72,) into shape (512,)\n",
      "Some exception occured\n"
     ]
    },
    {
     "name": "stderr",
     "output_type": "stream",
     "text": [
      "1115it [00:10, 112.28it/s]"
     ]
    },
    {
     "name": "stdout",
     "output_type": "stream",
     "text": [
      "could not broadcast input array from shape (72,) into shape (512,)\n",
      "Some exception occured\n",
      "could not broadcast input array from shape (71,) into shape (512,)\n",
      "Some exception occured\n",
      "could not broadcast input array from shape (72,) into shape (512,)\n",
      "Some exception occured\n",
      "could not broadcast input array from shape (72,) into shape (512,)\n",
      "Some exception occured\n",
      "could not broadcast input array from shape (72,) into shape (512,)\n",
      "Some exception occured\n",
      "could not broadcast input array from shape (72,) into shape (512,)\n",
      "Some exception occured\n",
      "could not broadcast input array from shape (72,) into shape (512,)\n",
      "Some exception occured\n",
      "could not broadcast input array from shape (72,) into shape (512,)\n",
      "Some exception occured\n",
      "could not broadcast input array from shape (72,) into shape (512,)\n",
      "Some exception occured\n",
      "could not broadcast input array from shape (72,) into shape (512,)\n",
      "Some exception occured\n",
      "could not broadcast input array from shape (72,) into shape (512,)\n",
      "Some exception occured\n",
      "could not broadcast input array from shape (72,) into shape (512,)\n",
      "Some exception occured\n",
      "could not broadcast input array from shape (72,) into shape (512,)\n",
      "Some exception occured\n",
      "could not broadcast input array from shape (72,) into shape (512,)\n",
      "Some exception occured\n",
      "could not broadcast input array from shape (72,) into shape (512,)\n",
      "Some exception occured\n"
     ]
    },
    {
     "name": "stderr",
     "output_type": "stream",
     "text": [
      "\r",
      "1131it [00:10, 120.52it/s]"
     ]
    },
    {
     "name": "stdout",
     "output_type": "stream",
     "text": [
      "could not broadcast input array from shape (72,) into shape (512,)\n",
      "Some exception occured\n",
      "could not broadcast input array from shape (72,) into shape (512,)\n",
      "Some exception occured\n",
      "could not broadcast input array from shape (72,) into shape (512,)\n",
      "Some exception occured\n",
      "could not broadcast input array from shape (72,) into shape (512,)\n",
      "Some exception occured\n",
      "could not broadcast input array from shape (72,) into shape (512,)\n",
      "Some exception occured\n",
      "could not broadcast input array from shape (72,) into shape (512,)\n",
      "Some exception occured\n",
      "could not broadcast input array from shape (72,) into shape (512,)\n",
      "Some exception occured\n",
      "could not broadcast input array from shape (430,) into shape (512,)\n",
      "Some exception occured\n",
      "could not broadcast input array from shape (72,) into shape (512,)\n",
      "Some exception occured\n",
      "could not broadcast input array from shape (72,) into shape (512,)\n",
      "Some exception occured\n",
      "could not broadcast input array from shape (72,) into shape (512,)\n",
      "Some exception occured\n"
     ]
    },
    {
     "name": "stderr",
     "output_type": "stream",
     "text": [
      "\r",
      "1144it [00:10, 101.07it/s]"
     ]
    },
    {
     "name": "stdout",
     "output_type": "stream",
     "text": [
      "could not broadcast input array from shape (72,) into shape (512,)\n",
      "Some exception occured\n",
      "could not broadcast input array from shape (72,) into shape (512,)\n",
      "Some exception occured\n",
      "could not broadcast input array from shape (72,) into shape (512,)\n",
      "Some exception occured\n",
      "could not broadcast input array from shape (72,) into shape (512,)\n",
      "Some exception occured\n",
      "could not broadcast input array from shape (72,) into shape (512,)\n",
      "Some exception occured\n"
     ]
    },
    {
     "name": "stderr",
     "output_type": "stream",
     "text": [
      "1165it [00:10, 81.65it/s] "
     ]
    },
    {
     "name": "stdout",
     "output_type": "stream",
     "text": [
      "could not broadcast input array from shape (72,) into shape (512,)\n",
      "Some exception occured\n",
      "could not broadcast input array from shape (72,) into shape (512,)\n",
      "Some exception occured\n",
      "could not broadcast input array from shape (72,) into shape (512,)\n",
      "Some exception occured\n",
      "could not broadcast input array from shape (71,) into shape (512,)\n",
      "Some exception occured\n",
      "could not broadcast input array from shape (72,) into shape (512,)\n",
      "Some exception occured"
     ]
    },
    {
     "name": "stderr",
     "output_type": "stream",
     "text": [
      "1191it [00:10, 97.51it/s]"
     ]
    },
    {
     "name": "stdout",
     "output_type": "stream",
     "text": [
      "\n",
      "could not broadcast input array from shape (72,) into shape (512,)\n",
      "Some exception occured\n",
      "could not broadcast input array from shape (72,) into shape (512,)\n",
      "Some exception occured\n",
      "could not broadcast input array from shape (364,) into shape (512,)\n",
      "Some exception occured\n",
      "could not broadcast input array from shape (72,) into shape (512,)\n",
      "Some exception occured\n",
      "could not broadcast input array from shape (72,) into shape (512,)\n",
      "Some exception occured\n",
      "could not broadcast input array from shape (72,) into shape (512,)\n",
      "Some exception occured\n",
      "could not broadcast input array from shape (72,) into shape (512,)\n",
      "Some exception occured\n",
      "could not broadcast input array from shape (72,) into shape (512,)\n",
      "Some exception occured\n",
      "could not broadcast input array from shape (72,) into shape (512,)\n",
      "Some exception occured\n",
      "could not broadcast input array from shape (72,) into shape (512,)\n",
      "Some exception occured\n",
      "could not broadcast input array from shape (72,) into shape (512,)\n",
      "Some exception occured\n"
     ]
    },
    {
     "name": "stderr",
     "output_type": "stream",
     "text": [
      "\r",
      "1205it [00:11, 107.18it/s]"
     ]
    },
    {
     "name": "stdout",
     "output_type": "stream",
     "text": [
      "could not broadcast input array from shape (71,) into shape (512,)\n",
      "Some exception occured\n",
      "could not broadcast input array from shape (73,) into shape (512,)\n",
      "Some exception occured\n",
      "could not broadcast input array from shape (72,) into shape (512,)\n",
      "Some exception occured\n",
      "could not broadcast input array from shape (72,) into shape (512,)\n",
      "Some exception occured\n",
      "could not broadcast input array from shape (72,) into shape (512,)\n",
      "Some exception occured\n",
      "could not broadcast input array from shape (72,) into shape (512,)\n",
      "Some exception occured\n",
      "could not broadcast input array from shape (72,) into shape (512,)\n",
      "Some exception occured\n",
      "could not broadcast input array from shape (95,) into shape (512,)\n",
      "Some exception occured\n",
      "could not broadcast input array from shape (72,) into shape (512,)\n",
      "Some exception occured\n",
      "could not broadcast input array from shape (72,) into shape (512,)\n",
      "Some exception occured\n",
      "could not broadcast input array from shape (72,) into shape (512,)\n",
      "Some exception occured\n"
     ]
    },
    {
     "name": "stderr",
     "output_type": "stream",
     "text": [
      "\r",
      "1217it [00:11, 98.50it/s] "
     ]
    },
    {
     "name": "stdout",
     "output_type": "stream",
     "text": [
      "could not broadcast input array from shape (72,) into shape (512,)\n",
      "Some exception occured\n",
      "could not broadcast input array from shape (72,) into shape (512,)\n",
      "Some exception occured\n"
     ]
    },
    {
     "name": "stderr",
     "output_type": "stream",
     "text": [
      "1237it [00:11, 76.01it/s]"
     ]
    },
    {
     "name": "stdout",
     "output_type": "stream",
     "text": [
      "could not broadcast input array from shape (72,) into shape (512,)\n",
      "Some exception occured\n",
      "could not broadcast input array from shape (72,) into shape (512,)\n",
      "Some exception occured\n",
      "could not broadcast input array from shape (72,) into shape (512,)\n",
      "Some exception occured\n",
      "could not broadcast input array from shape (72,) into shape (512,)\n",
      "Some exception occured\n",
      "could not broadcast input array from shape (72,) into shape (512,)\n",
      "Some exception occured\n",
      "could not broadcast input array from shape (72,) into shape (512,)\n",
      "Some exception occured\n",
      "could not broadcast input array from shape (72,) into shape (512,)\n",
      "Some exception occured\n",
      "could not broadcast input array from shape (72,) into shape (512,)\n",
      "Some exception occured\n",
      "could not broadcast input array from shape (72,) into shape (512,)\n",
      "Some exception occured\n",
      "could not broadcast input array from shape (72,) into shape (512,)\n",
      "Some exception occured\n",
      "could not broadcast input array from shape (72,) into shape (512,)\n",
      "Some exception occured\n",
      "could not broadcast input array from shape (72,) into shape (512,)\n",
      "Some exception occured\n"
     ]
    },
    {
     "name": "stderr",
     "output_type": "stream",
     "text": [
      "1271it [00:11, 112.21it/s]"
     ]
    },
    {
     "name": "stdout",
     "output_type": "stream",
     "text": [
      "could not broadcast input array from shape (72,) into shape (512,)\n",
      "Some exception occured\n",
      "could not broadcast input array from shape (72,) into shape (512,)\n",
      "Some exception occured\n",
      "could not broadcast input array from shape (72,) into shape (512,)\n",
      "Some exception occured\n",
      "could not broadcast input array from shape (72,) into shape (512,)\n",
      "Some exception occured\n",
      "could not broadcast input array from shape (71,) into shape (512,)\n",
      "Some exception occured\n",
      "could not broadcast input array from shape (72,) into shape (512,)\n",
      "Some exception occured\n",
      "could not broadcast input array from shape (73,) into shape (512,)\n",
      "Some exception occured\n",
      "could not broadcast input array from shape (72,) into shape (512,)\n",
      "Some exception occured\n",
      "could not broadcast input array from shape (73,) into shape (512,)\n",
      "Some exception occured\n",
      "could not broadcast input array from shape (72,) into shape (512,)\n",
      "Some exception occured\n",
      "could not broadcast input array from shape (72,) into shape (512,)\n",
      "Some exception occured\n",
      "could not broadcast input array from shape (72,) into shape (512,)\n",
      "Some exception occured\n",
      "could not broadcast input array from shape (72,) into shape (512,)\n",
      "Some exception occured\n",
      "could not broadcast input array from shape (72,) into shape (512,)\n",
      "Some exception occured\n",
      "could not broadcast input array from shape (73,) into shape (512,)\n",
      "Some exception occured\n",
      "could not broadcast input array from shape (72,) into shape (512,)\n",
      "Some exception occured\n",
      "could not broadcast input array from shape (72,) into shape (512,)\n",
      "Some exception occured\n"
     ]
    },
    {
     "name": "stderr",
     "output_type": "stream",
     "text": [
      "1294it [00:12, 81.82it/s] "
     ]
    },
    {
     "name": "stdout",
     "output_type": "stream",
     "text": [
      "could not broadcast input array from shape (72,) into shape (512,)\n",
      "Some exception occured\n",
      "could not broadcast input array from shape (72,) into shape (512,)\n",
      "Some exception occured\n",
      "could not broadcast input array from shape (72,) into shape (512,)\n",
      "Some exception occured\n",
      "could not broadcast input array from shape (72,) into shape (512,)\n",
      "Some exception occured\n",
      "could not broadcast input array from shape (72,) into shape (512,)\n",
      "Some exception occured\n",
      "could not broadcast input array from shape (72,) into shape (512,)\n",
      "Some exception occured\n"
     ]
    },
    {
     "name": "stderr",
     "output_type": "stream",
     "text": [
      "1314it [00:12, 75.49it/s]"
     ]
    },
    {
     "name": "stdout",
     "output_type": "stream",
     "text": [
      "could not broadcast input array from shape (72,) into shape (512,)\n",
      "Some exception occured\n",
      "could not broadcast input array from shape (72,) into shape (512,)\n",
      "Some exception occured\n",
      "could not broadcast input array from shape (72,) into shape (512,)\n",
      "Some exception occured\n",
      "could not broadcast input array from shape (72,) into shape (512,)\n",
      "Some exception occured\n",
      "could not broadcast input array from shape (72,) into shape (512,)\n",
      "Some exception occured\n",
      "could not broadcast input array from shape (72,) into shape (512,)\n",
      "Some exception occured\n",
      "could not broadcast input array from shape (72,) into shape (512,)\n",
      "Some exception occured\n",
      "could not broadcast input array from shape (72,) into shape (512,)\n",
      "Some exception occured\n"
     ]
    },
    {
     "name": "stderr",
     "output_type": "stream",
     "text": [
      "\r",
      "1328it [00:12, 86.04it/s]"
     ]
    },
    {
     "name": "stdout",
     "output_type": "stream",
     "text": [
      "could not broadcast input array from shape (72,) into shape (512,)\n",
      "Some exception occured\n",
      "could not broadcast input array from shape (73,) into shape (512,)\n",
      "Some exception occured\n",
      "could not broadcast input array from shape (72,) into shape (512,)\n",
      "Some exception occured\n",
      "could not broadcast input array from shape (72,) into shape (512,)\n",
      "Some exception occured\n",
      "could not broadcast input array from shape (72,) into shape (512,)\n",
      "Some exception occured\n",
      "could not broadcast input array from shape (72,) into shape (512,)\n",
      "Some exception occured\n",
      "could not broadcast input array from shape (72,) into shape (512,)\n",
      "Some exception occured\n",
      "could not broadcast input array from shape (72,) into shape (512,)\n",
      "Some exception occured\n",
      "could not broadcast input array from shape (72,) into shape (512,)\n",
      "Some exception occured\n",
      "could not broadcast input array from shape (72,) into shape (512,)\n",
      "Some exception occured\n",
      "could not broadcast input array from shape (72,) into shape (512,)\n",
      "Some exception occured\n",
      "could not broadcast input array from shape (72,) into shape (512,)\n",
      "Some exception occured\n"
     ]
    },
    {
     "name": "stderr",
     "output_type": "stream",
     "text": [
      "1355it [00:13, 72.08it/s]"
     ]
    },
    {
     "name": "stdout",
     "output_type": "stream",
     "text": [
      "could not broadcast input array from shape (72,) into shape (512,)\n",
      "Some exception occured\n",
      "could not broadcast input array from shape (72,) into shape (512,)\n",
      "Some exception occured\n",
      "could not broadcast input array from shape (72,) into shape (512,)\n",
      "Some exception occured\n",
      "could not broadcast input array from shape (72,) into shape (512,)\n",
      "Some exception occured\n",
      "could not broadcast input array from shape (72,) into shape (512,)\n",
      "Some exception occured\n"
     ]
    },
    {
     "name": "stderr",
     "output_type": "stream",
     "text": [
      "1392it [00:13, 90.59it/s]"
     ]
    },
    {
     "name": "stdout",
     "output_type": "stream",
     "text": [
      "could not broadcast input array from shape (73,) into shape (512,)\n",
      "Some exception occured\n",
      "could not broadcast input array from shape (72,) into shape (512,)\n",
      "Some exception occured\n",
      "could not broadcast input array from shape (72,) into shape (512,)\n",
      "Some exception occured\n",
      "could not broadcast input array from shape (72,) into shape (512,)\n",
      "Some exception occured\n",
      "could not broadcast input array from shape (72,) into shape (512,)\n",
      "Some exception occured\n",
      "could not broadcast input array from shape (72,) into shape (512,)\n",
      "Some exception occured\n",
      "could not broadcast input array from shape (72,) into shape (512,)\n",
      "Some exception occured\n",
      "could not broadcast input array from shape (72,) into shape (512,)\n",
      "Some exception occured\n",
      "could not broadcast input array from shape (72,) into shape (512,)\n",
      "Some exception occured\n",
      "could not broadcast input array from shape (72,) into shape (512,)\n",
      "Some exception occured\n",
      "could not broadcast input array from shape (72,) into shape (512,)\n",
      "Some exception occured\n",
      "could not broadcast input array from shape (72,) into shape (512,)\n",
      "Some exception occured\n",
      "could not broadcast input array from shape (72,) into shape (512,)\n",
      "Some exception occured\n",
      "could not broadcast input array from shape (72,) into shape (512,)\n",
      "Some exception occured\n",
      "could not broadcast input array from shape (72,) into shape (512,)\n",
      "Some exception occured\n",
      "could not broadcast input array from shape (72,) into shape (512,)\n",
      "Some exception occured\n",
      "could not broadcast input array from shape (72,) into shape (512,)\n",
      "Some exception occured\n",
      "could not broadcast input array from shape (72,) into shape (512,)\n",
      "Some exception occured\n",
      "could not broadcast input array from shape (72,) into shape (512,)\n",
      "Some exception occured\n",
      "could not broadcast input array from shape (72,) into shape (512,)\n",
      "Some exception occured\n"
     ]
    },
    {
     "name": "stderr",
     "output_type": "stream",
     "text": [
      "\r",
      "1402it [00:13, 84.38it/s]"
     ]
    },
    {
     "name": "stdout",
     "output_type": "stream",
     "text": [
      "could not broadcast input array from shape (72,) into shape (512,)\n",
      "Some exception occured\n",
      "could not broadcast input array from shape (72,) into shape (512,)\n",
      "Some exception occured\n",
      "could not broadcast input array from shape (72,) into shape (512,)\n",
      "Some exception occured\n",
      "could not broadcast input array from shape (72,) into shape (512,)\n",
      "Some exception occured\n",
      "could not broadcast input array from shape (72,) into shape (512,)\n",
      "Some exception occured\n",
      "could not broadcast input array from shape (72,) into shape (512,)\n",
      "Some exception occured\n"
     ]
    },
    {
     "name": "stderr",
     "output_type": "stream",
     "text": [
      "\r",
      "1412it [00:13, 86.56it/s]"
     ]
    },
    {
     "name": "stdout",
     "output_type": "stream",
     "text": [
      "could not broadcast input array from shape (72,) into shape (512,)\n",
      "Some exception occured\n",
      "could not broadcast input array from shape (71,) into shape (512,)\n",
      "Some exception occured\n",
      "could not broadcast input array from shape (73,) into shape (512,)\n",
      "Some exception occured\n",
      "could not broadcast input array from shape (72,) into shape (512,)\n",
      "Some exception occured\n",
      "could not broadcast input array from shape (72,) into shape (512,)\n",
      "Some exception occured\n"
     ]
    },
    {
     "name": "stderr",
     "output_type": "stream",
     "text": [
      "1436it [00:13, 85.79it/s]"
     ]
    },
    {
     "name": "stdout",
     "output_type": "stream",
     "text": [
      "could not broadcast input array from shape (72,) into shape (512,)\n",
      "Some exception occured\n",
      "could not broadcast input array from shape (72,) into shape (512,)\n",
      "Some exception occured\n",
      "could not broadcast input array from shape (72,) into shape (512,)\n",
      "Some exception occured\n",
      "could not broadcast input array from shape (72,) into shape (512,)\n",
      "Some exception occured\n",
      "could not broadcast input array from shape (72,) into shape (512,)\n",
      "Some exception occured\n",
      "could not broadcast input array from shape (72,) into shape (512,)\n",
      "Some exception occured\n",
      "could not broadcast input array from shape (72,) into shape (512,)\n",
      "Some exception occured\n",
      "could not broadcast input array from shape (72,) into shape (512,)\n",
      "Some exception occured\n",
      "could not broadcast input array from shape (72,) into shape (512,)\n",
      "Some exception occured\n",
      "could not broadcast input array from shape (72,) into shape (512,)\n",
      "Some exception occured\n"
     ]
    },
    {
     "name": "stderr",
     "output_type": "stream",
     "text": [
      "1485it [00:14, 96.46it/s]"
     ]
    },
    {
     "name": "stdout",
     "output_type": "stream",
     "text": [
      "could not broadcast input array from shape (72,) into shape (512,)\n",
      "Some exception occured\n",
      "could not broadcast input array from shape (72,) into shape (512,)\n",
      "Some exception occured\n",
      "could not broadcast input array from shape (72,) into shape (512,)\n",
      "Some exception occured\n",
      "could not broadcast input array from shape (72,) into shape (512,)\n",
      "Some exception occured\n",
      "could not broadcast input array from shape (73,) into shape (512,)\n",
      "Some exception occured\n",
      "could not broadcast input array from shape (72,) into shape (512,)\n",
      "Some exception occured\n",
      "could not broadcast input array from shape (72,) into shape (512,)\n",
      "Some exception occured\n",
      "could not broadcast input array from shape (72,) into shape (512,)\n",
      "Some exception occured\n",
      "could not broadcast input array from shape (73,) into shape (512,)\n",
      "Some exception occured\n",
      "could not broadcast input array from shape (73,) into shape (512,)\n",
      "Some exception occured\n",
      "could not broadcast input array from shape (72,) into shape (512,)\n",
      "Some exception occured\n",
      "could not broadcast input array from shape (72,) into shape (512,)\n",
      "Some exception occured\n",
      "could not broadcast input array from shape (72,) into shape (512,)\n",
      "Some exception occured\n",
      "could not broadcast input array from shape (72,) into shape (512,)\n",
      "Some exception occured\n",
      "could not broadcast input array from shape (72,) into shape (512,)\n",
      "Some exception occured\n",
      "could not broadcast input array from shape (72,) into shape (512,)\n",
      "Some exception occured\n",
      "could not broadcast input array from shape (72,) into shape (512,)\n",
      "Some exception occured\n",
      "could not broadcast input array from shape (72,) into shape (512,)\n",
      "Some exception occured\n",
      "could not broadcast input array from shape (73,) into shape (512,)\n",
      "Some exception occured\n",
      "could not broadcast input array from shape (72,) into shape (512,)\n",
      "Some exception occured\n",
      "could not broadcast input array from shape (72,) into shape (512,)\n",
      "Some exception occured\n",
      "could not broadcast input array from shape (72,) into shape (512,)\n",
      "Some exception occured\n",
      "could not broadcast input array from shape (72,) into shape (512,)\n",
      "Some exception occured\n",
      "could not broadcast input array from shape (72,) into shape (512,)\n",
      "Some exception occured\n"
     ]
    },
    {
     "name": "stderr",
     "output_type": "stream",
     "text": [
      "\r",
      "1505it [00:14, 121.29it/s]"
     ]
    },
    {
     "name": "stdout",
     "output_type": "stream",
     "text": [
      "could not broadcast input array from shape (72,) into shape (512,)\n",
      "Some exception occured\n",
      "could not broadcast input array from shape (72,) into shape (512,)\n",
      "Some exception occured\n",
      "could not broadcast input array from shape (72,) into shape (512,)\n",
      "Some exception occured\n",
      "could not broadcast input array from shape (72,) into shape (512,)\n",
      "Some exception occured\n",
      "could not broadcast input array from shape (72,) into shape (512,)\n",
      "Some exception occured\n",
      "could not broadcast input array from shape (72,) into shape (512,)\n",
      "Some exception occured\n",
      "could not broadcast input array from shape (72,) into shape (512,)\n",
      "Some exception occured\n",
      "could not broadcast input array from shape (72,) into shape (512,)\n",
      "Some exception occured\n",
      "could not broadcast input array from shape (72,) into shape (512,)\n",
      "Some exception occured\n",
      "could not broadcast input array from shape (72,) into shape (512,)\n",
      "Some exception occured\n",
      "could not broadcast input array from shape (73,) into shape (512,)\n",
      "Some exception occured\n",
      "could not broadcast input array from shape (72,) into shape (512,)\n",
      "Some exception occured\n",
      "could not broadcast input array from shape (72,) into shape (512,)\n",
      "Some exception occured\n",
      "could not broadcast input array from shape (72,) into shape (512,)\n",
      "Some exception occured\n",
      "could not broadcast input array from shape (72,) into shape (512,)\n",
      "Some exception occured\n",
      "could not broadcast input array from shape (72,) into shape (512,)\n",
      "Some exception occured\n",
      "could not broadcast input array from shape (289,) into shape (512,)\n",
      "Some exception occured\n",
      "could not broadcast input array from shape (73,) into shape (512,)\n",
      "Some exception occured\n",
      "could not broadcast input array from shape (72,) into shape (512,)\n",
      "Some exception occured\n",
      "could not broadcast input array from shape (72,) into shape (512,)\n",
      "Some exception occured\n",
      "could not broadcast input array from shape (72,) into shape (512,)\n",
      "Some exception occured\n",
      "could not broadcast input array from shape (72,) into shape (512,)\n",
      "Some exception occured\n"
     ]
    },
    {
     "name": "stderr",
     "output_type": "stream",
     "text": [
      "1533it [00:14, 128.16it/s]"
     ]
    },
    {
     "name": "stdout",
     "output_type": "stream",
     "text": [
      "could not broadcast input array from shape (72,) into shape (512,)\n",
      "Some exception occured\n",
      "could not broadcast input array from shape (72,) into shape (512,)\n",
      "Some exception occured\n",
      "could not broadcast input array from shape (71,) into shape (512,)\n",
      "Some exception occured\n",
      "could not broadcast input array from shape (71,) into shape (512,)\n",
      "Some exception occured\n",
      "could not broadcast input array from shape (72,) into shape (512,)\n",
      "Some exception occured\n",
      "could not broadcast input array from shape (72,) into shape (512,)\n",
      "Some exception occured\n",
      "could not broadcast input array from shape (72,) into shape (512,)\n",
      "Some exception occured\n",
      "could not broadcast input array from shape (72,) into shape (512,)\n",
      "Some exception occured\n",
      "could not broadcast input array from shape (72,) into shape (512,)\n",
      "Some exception occured\n",
      "could not broadcast input array from shape (72,) into shape (512,)\n",
      "Some exception occured\n",
      "could not broadcast input array from shape (72,) into shape (512,)\n",
      "Some exception occured\n",
      "could not broadcast input array from shape (73,) into shape (512,)\n",
      "Some exception occured\n",
      "could not broadcast input array from shape (72,) into shape (512,)\n",
      "Some exception occured\n",
      "could not broadcast input array from shape (72,) into shape (512,)\n",
      "Some exception occured\n"
     ]
    },
    {
     "name": "stderr",
     "output_type": "stream",
     "text": [
      "1561it [00:15, 119.82it/s]"
     ]
    },
    {
     "name": "stdout",
     "output_type": "stream",
     "text": [
      "could not broadcast input array from shape (72,) into shape (512,)\n",
      "Some exception occured\n",
      "could not broadcast input array from shape (72,) into shape (512,)\n",
      "Some exception occured\n",
      "could not broadcast input array from shape (72,) into shape (512,)\n",
      "Some exception occured\n",
      "could not broadcast input array from shape (72,) into shape (512,)\n",
      "Some exception occured\n",
      "could not broadcast input array from shape (73,) into shape (512,)\n",
      "Some exception occured\n",
      "could not broadcast input array from shape (72,) into shape (512,)\n",
      "Some exception occured\n",
      "could not broadcast input array from shape (72,) into shape (512,)\n",
      "Some exception occured\n",
      "could not broadcast input array from shape (72,) into shape (512,)\n",
      "Some exception occured\n",
      "could not broadcast input array from shape (72,) into shape (512,)\n",
      "Some exception occured\n",
      "could not broadcast input array from shape (72,) into shape (512,)\n",
      "Some exception occured\n",
      "could not broadcast input array from shape (72,) into shape (512,)\n",
      "Some exception occured\n",
      "could not broadcast input array from shape (72,) into shape (512,)\n",
      "Some exception occured\n"
     ]
    },
    {
     "name": "stderr",
     "output_type": "stream",
     "text": [
      "1592it [00:15, 134.82it/s]"
     ]
    },
    {
     "name": "stdout",
     "output_type": "stream",
     "text": [
      "could not broadcast input array from shape (72,) into shape (512,)\n",
      "Some exception occured\n",
      "could not broadcast input array from shape (72,) into shape (512,)\n",
      "Some exception occured\n",
      "could not broadcast input array from shape (72,) into shape (512,)\n",
      "Some exception occured\n",
      "could not broadcast input array from shape (72,) into shape (512,)\n",
      "Some exception occured\n",
      "could not broadcast input array from shape (72,) into shape (512,)\n",
      "Some exception occured\n",
      "could not broadcast input array from shape (72,) into shape (512,)\n",
      "Some exception occured\n",
      "could not broadcast input array from shape (174,) into shape (512,)\n",
      "Some exception occured\n",
      "could not broadcast input array from shape (72,) into shape (512,)\n",
      "Some exception occured\n",
      "could not broadcast input array from shape (72,) into shape (512,)\n",
      "Some exception occured\n",
      "could not broadcast input array from shape (72,) into shape (512,)\n",
      "Some exception occured\n",
      "could not broadcast input array from shape (72,) into shape (512,)\n",
      "Some exception occured\n",
      "could not broadcast input array from shape (72,) into shape (512,)\n",
      "Some exception occured\n"
     ]
    },
    {
     "name": "stderr",
     "output_type": "stream",
     "text": [
      "\r",
      "1606it [00:15, 124.92it/s]"
     ]
    },
    {
     "name": "stdout",
     "output_type": "stream",
     "text": [
      "could not broadcast input array from shape (72,) into shape (512,)\n",
      "Some exception occured\n",
      "could not broadcast input array from shape (72,) into shape (512,)\n",
      "Some exception occured\n",
      "could not broadcast input array from shape (72,) into shape (512,)\n",
      "Some exception occured\n",
      "could not broadcast input array from shape (72,) into shape (512,)\n",
      "Some exception occured\n",
      "could not broadcast input array from shape (72,) into shape (512,)\n",
      "Some exception occured\n",
      "could not broadcast input array from shape (72,) into shape (512,)\n",
      "Some exception occured\n",
      "could not broadcast input array from shape (72,) into shape (512,)\n",
      "Some exception occured\n"
     ]
    },
    {
     "name": "stderr",
     "output_type": "stream",
     "text": [
      "1631it [00:15, 107.84it/s]"
     ]
    },
    {
     "name": "stdout",
     "output_type": "stream",
     "text": [
      "could not broadcast input array from shape (72,) into shape (512,)\n",
      "Some exception occured\n",
      "could not broadcast input array from shape (71,) into shape (512,)\n",
      "Some exception occured\n",
      "could not broadcast input array from shape (72,) into shape (512,)\n",
      "Some exception occured\n",
      "could not broadcast input array from shape (72,) into shape (512,)\n",
      "Some exception occured\n",
      "could not broadcast input array from shape (72,) into shape (512,)\n",
      "Some exception occured\n",
      "could not broadcast input array from shape (72,) into shape (512,)\n",
      "Some exception occured\n",
      "could not broadcast input array from shape (72,) into shape (512,)\n",
      "Some exception occured\n",
      "could not broadcast input array from shape (72,) into shape (512,)\n",
      "Some exception occured\n",
      "could not broadcast input array from shape (72,) into shape (512,)\n",
      "Some exception occured\n",
      "could not broadcast input array from shape (72,) into shape (512,)\n",
      "Some exception occured\n",
      "could not broadcast input array from shape (72,) into shape (512,)\n",
      "Some exception occured\n",
      "could not broadcast input array from shape (72,) into shape (512,)\n",
      "Some exception occured\n"
     ]
    },
    {
     "name": "stderr",
     "output_type": "stream",
     "text": [
      "1654it [00:15, 97.28it/s] "
     ]
    },
    {
     "name": "stdout",
     "output_type": "stream",
     "text": [
      "could not broadcast input array from shape (72,) into shape (512,)\n",
      "Some exception occured\n",
      "could not broadcast input array from shape (73,) into shape (512,)\n",
      "Some exception occured\n",
      "could not broadcast input array from shape (72,) into shape (512,)\n",
      "Some exception occured\n",
      "could not broadcast input array from shape (72,) into shape (512,)\n",
      "Some exception occured\n",
      "could not broadcast input array from shape (72,) into shape (512,)\n",
      "Some exception occured\n",
      "could not broadcast input array from shape (71,) into shape (512,)\n",
      "Some exception occured\n",
      "could not broadcast input array from shape (72,) into shape (512,)\n",
      "Some exception occured\n",
      "could not broadcast input array from shape (72,) into shape (512,)\n",
      "Some exception occured\n",
      "could not broadcast input array from shape (72,) into shape (512,)\n",
      "Some exception occured\n",
      "could not broadcast input array from shape (72,) into shape (512,)\n",
      "Some exception occured\n",
      "could not broadcast input array from shape (73,) into shape (512,)\n",
      "Some exception occured\n",
      "could not broadcast input array from shape (72,) into shape (512,)\n",
      "Some exception occured\n"
     ]
    },
    {
     "name": "stderr",
     "output_type": "stream",
     "text": [
      "1676it [00:16, 89.24it/s]"
     ]
    },
    {
     "name": "stdout",
     "output_type": "stream",
     "text": [
      "could not broadcast input array from shape (72,) into shape (512,)\n",
      "Some exception occured\n",
      "could not broadcast input array from shape (72,) into shape (512,)\n",
      "Some exception occured\n",
      "could not broadcast input array from shape (73,) into shape (512,)\n",
      "Some exception occured\n",
      "could not broadcast input array from shape (73,) into shape (512,)\n",
      "Some exception occured\n",
      "could not broadcast input array from shape (72,) into shape (512,)\n",
      "Some exception occured\n",
      "could not broadcast input array from shape (71,) into shape (512,)\n",
      "Some exception occured\n",
      "could not broadcast input array from shape (72,) into shape (512,)\n",
      "Some exception occured\n",
      "could not broadcast input array from shape (72,) into shape (512,)\n",
      "Some exception occured\n",
      "could not broadcast input array from shape (72,) into shape (512,)\n",
      "Some exception occured\n"
     ]
    },
    {
     "name": "stderr",
     "output_type": "stream",
     "text": [
      "\r",
      "1686it [00:16, 76.37it/s]"
     ]
    },
    {
     "name": "stdout",
     "output_type": "stream",
     "text": [
      "could not broadcast input array from shape (72,) into shape (512,)\n",
      "Some exception occured\n",
      "could not broadcast input array from shape (71,) into shape (512,)\n",
      "Some exception occured\n",
      "could not broadcast input array from shape (72,) into shape (512,)\n",
      "Some exception occured\n",
      "could not broadcast input array from shape (72,) into shape (512,)\n"
     ]
    },
    {
     "name": "stderr",
     "output_type": "stream",
     "text": [
      "1704it [00:16, 77.51it/s]"
     ]
    },
    {
     "name": "stdout",
     "output_type": "stream",
     "text": [
      "Some exception occured\n",
      "could not broadcast input array from shape (73,) into shape (512,)\n",
      "Some exception occured\n",
      "could not broadcast input array from shape (72,) into shape (512,)\n",
      "Some exception occured\n",
      "could not broadcast input array from shape (72,) into shape (512,)\n",
      "Some exception occured\n",
      "could not broadcast input array from shape (73,) into shape (512,)\n",
      "Some exception occured\n",
      "could not broadcast input array from shape (72,) into shape (512,)\n",
      "Some exception occured\n",
      "could not broadcast input array from shape (72,) into shape (512,)\n",
      "Some exception occured\n",
      "could not broadcast input array from shape (72,) into shape (512,)\n",
      "Some exception occured\n"
     ]
    },
    {
     "name": "stderr",
     "output_type": "stream",
     "text": [
      "1732it [00:16, 104.15it/s]"
     ]
    },
    {
     "name": "stdout",
     "output_type": "stream",
     "text": [
      "could not broadcast input array from shape (72,) into shape (512,)\n",
      "Some exception occured\n",
      "could not broadcast input array from shape (72,) into shape (512,)\n",
      "Some exception occured\n",
      "could not broadcast input array from shape (72,) into shape (512,)\n",
      "Some exception occured\n",
      "could not broadcast input array from shape (72,) into shape (512,)\n",
      "Some exception occured\n",
      "could not broadcast input array from shape (72,) into shape (512,)\n",
      "Some exception occured\n",
      "could not broadcast input array from shape (72,) into shape (512,)\n",
      "Some exception occured\n",
      "could not broadcast input array from shape (72,) into shape (512,)\n",
      "Some exception occured\n",
      "could not broadcast input array from shape (72,) into shape (512,)\n",
      "Some exception occured\n",
      "could not broadcast input array from shape (72,) into shape (512,)\n",
      "Some exception occured\n",
      "could not broadcast input array from shape (71,) into shape (512,)\n",
      "Some exception occured\n",
      "could not broadcast input array from shape (72,) into shape (512,)\n",
      "Some exception occured\n",
      "could not broadcast input array from shape (72,) into shape (512,)\n",
      "Some exception occured\n"
     ]
    },
    {
     "name": "stderr",
     "output_type": "stream",
     "text": [
      "1755it [00:17, 96.55it/s] "
     ]
    },
    {
     "name": "stdout",
     "output_type": "stream",
     "text": [
      "could not broadcast input array from shape (73,) into shape (512,)\n",
      "Some exception occured\n",
      "could not broadcast input array from shape (72,) into shape (512,)\n",
      "Some exception occured\n",
      "could not broadcast input array from shape (71,) into shape (512,)\n",
      "Some exception occured\n",
      "could not broadcast input array from shape (72,) into shape (512,)\n",
      "Some exception occured\n",
      "could not broadcast input array from shape (72,) into shape (512,)\n",
      "Some exception occured\n",
      "could not broadcast input array from shape (72,) into shape (512,)\n",
      "Some exception occured\n",
      "could not broadcast input array from shape (72,) into shape (512,)\n",
      "Some exception occured\n",
      "could not broadcast input array from shape (72,) into shape (512,)\n",
      "Some exception occured\n"
     ]
    },
    {
     "name": "stderr",
     "output_type": "stream",
     "text": [
      "1778it [00:17, 97.33it/s]"
     ]
    },
    {
     "name": "stdout",
     "output_type": "stream",
     "text": [
      "could not broadcast input array from shape (412,) into shape (512,)\n",
      "Some exception occured\n",
      "could not broadcast input array from shape (72,) into shape (512,)\n",
      "Some exception occured\n",
      "could not broadcast input array from shape (71,) into shape (512,)\n",
      "Some exception occured\n",
      "could not broadcast input array from shape (72,) into shape (512,)\n",
      "Some exception occured\n",
      "could not broadcast input array from shape (72,) into shape (512,)\n",
      "Some exception occured\n"
     ]
    },
    {
     "name": "stderr",
     "output_type": "stream",
     "text": [
      "1799it [00:17, 91.37it/s]"
     ]
    },
    {
     "name": "stdout",
     "output_type": "stream",
     "text": [
      "could not broadcast input array from shape (72,) into shape (512,)\n",
      "Some exception occured\n",
      "could not broadcast input array from shape (72,) into shape (512,)\n",
      "Some exception occured\n",
      "could not broadcast input array from shape (72,) into shape (512,)\n",
      "Some exception occured\n",
      "could not broadcast input array from shape (72,) into shape (512,)\n",
      "Some exception occured\n",
      "could not broadcast input array from shape (72,) into shape (512,)\n",
      "Some exception occured\n",
      "could not broadcast input array from shape (72,) into shape (512,)\n",
      "Some exception occured\n",
      "could not broadcast input array from shape (72,) into shape (512,)\n",
      "Some exception occured\n",
      "could not broadcast input array from shape (72,) into shape (512,)\n",
      "Some exception occured\n",
      "could not broadcast input array from shape (72,) into shape (512,)\n",
      "Some exception occured\n",
      "could not broadcast input array from shape (72,) into shape (512,)\n",
      "Some exception occured\n"
     ]
    },
    {
     "name": "stderr",
     "output_type": "stream",
     "text": [
      "1844it [00:17, 124.48it/s]"
     ]
    },
    {
     "name": "stdout",
     "output_type": "stream",
     "text": [
      "could not broadcast input array from shape (72,) into shape (512,)\n",
      "Some exception occured\n",
      "could not broadcast input array from shape (72,) into shape (512,)\n",
      "Some exception occured\n",
      "could not broadcast input array from shape (72,) into shape (512,)\n",
      "Some exception occured\n",
      "could not broadcast input array from shape (72,) into shape (512,)\n",
      "Some exception occured\n",
      "could not broadcast input array from shape (72,) into shape (512,)\n",
      "Some exception occured\n",
      "could not broadcast input array from shape (72,) into shape (512,)\n",
      "Some exception occured\n",
      "could not broadcast input array from shape (72,) into shape (512,)\n",
      "Some exception occured\n",
      "could not broadcast input array from shape (72,) into shape (512,)\n",
      "Some exception occured\n",
      "could not broadcast input array from shape (429,) into shape (512,)\n",
      "Some exception occured\n",
      "could not broadcast input array from shape (72,) into shape (512,)\n",
      "Some exception occured\n",
      "could not broadcast input array from shape (72,) into shape (512,)\n",
      "Some exception occured\n",
      "could not broadcast input array from shape (72,) into shape (512,)\n",
      "Some exception occured\n",
      "could not broadcast input array from shape (72,) into shape (512,)\n",
      "Some exception occured\n",
      "could not broadcast input array from shape (72,) into shape (512,)\n",
      "Some exception occured\n",
      "could not broadcast input array from shape (72,) into shape (512,)\n",
      "Some exception occured\n",
      "could not broadcast input array from shape (72,) into shape (512,)\n",
      "Some exception occured\n",
      "could not broadcast input array from shape (72,) into shape (512,)\n",
      "Some exception occured\n"
     ]
    },
    {
     "name": "stderr",
     "output_type": "stream",
     "text": [
      "\r",
      "1857it [00:18, 122.05it/s]"
     ]
    },
    {
     "name": "stdout",
     "output_type": "stream",
     "text": [
      "could not broadcast input array from shape (72,) into shape (512,)\n",
      "Some exception occured\n",
      "could not broadcast input array from shape (72,) into shape (512,)\n",
      "Some exception occured\n",
      "could not broadcast input array from shape (72,) into shape (512,)\n",
      "Some exception occured\n",
      "could not broadcast input array from shape (72,) into shape (512,)\n",
      "Some exception occured\n",
      "could not broadcast input array from shape (412,) into shape (512,)\n",
      "Some exception occured\n",
      "could not broadcast input array from shape (72,) into shape (512,)\n",
      "Some exception occured\n"
     ]
    },
    {
     "name": "stderr",
     "output_type": "stream",
     "text": [
      "1907it [00:18, 132.24it/s]"
     ]
    },
    {
     "name": "stdout",
     "output_type": "stream",
     "text": [
      "could not broadcast input array from shape (72,) into shape (512,)\n",
      "Some exception occured\n",
      "could not broadcast input array from shape (72,) into shape (512,)\n",
      "Some exception occured\n",
      "could not broadcast input array from shape (72,) into shape (512,)\n",
      "Some exception occured\n",
      "could not broadcast input array from shape (72,) into shape (512,)\n",
      "Some exception occured\n",
      "could not broadcast input array from shape (227,) into shape (512,)\n",
      "Some exception occured\n",
      "could not broadcast input array from shape (72,) into shape (512,)\n",
      "Some exception occured\n",
      "could not broadcast input array from shape (72,) into shape (512,)\n",
      "Some exception occured\n",
      "could not broadcast input array from shape (72,) into shape (512,)\n",
      "Some exception occured\n",
      "could not broadcast input array from shape (72,) into shape (512,)\n",
      "Some exception occured\n",
      "could not broadcast input array from shape (72,) into shape (512,)\n",
      "Some exception occured\n",
      "could not broadcast input array from shape (73,) into shape (512,)\n",
      "Some exception occured\n",
      "could not broadcast input array from shape (72,) into shape (512,)\n",
      "Some exception occured\n",
      "could not broadcast input array from shape (72,) into shape (512,)\n",
      "Some exception occured\n",
      "could not broadcast input array from shape (72,) into shape (512,)\n",
      "Some exception occured\n",
      "could not broadcast input array from shape (73,) into shape (512,)\n",
      "Some exception occured\n",
      "could not broadcast input array from shape (72,) into shape (512,)\n",
      "Some exception occured\n",
      "could not broadcast input array from shape (72,) into shape (512,)\n",
      "Some exception occured\n",
      "could not broadcast input array from shape (72,) into shape (512,)\n",
      "Some exception occured\n",
      "could not broadcast input array from shape (72,) into shape (512,)\n",
      "Some exception occured\n",
      "could not broadcast input array from shape (72,) into shape (512,)\n",
      "Some exception occured\n",
      "could not broadcast input array from shape (72,) into shape (512,)\n",
      "Some exception occured\n",
      "could not broadcast input array from shape (72,) into shape (512,)\n",
      "Some exception occured\n"
     ]
    },
    {
     "name": "stderr",
     "output_type": "stream",
     "text": [
      "\r",
      "1921it [00:18, 131.61it/s]"
     ]
    },
    {
     "name": "stdout",
     "output_type": "stream",
     "text": [
      "could not broadcast input array from shape (72,) into shape (512,)\n",
      "Some exception occured\n",
      "could not broadcast input array from shape (73,) into shape (512,)\n",
      "Some exception occured\n",
      "could not broadcast input array from shape (73,) into shape (512,)\n",
      "Some exception occured\n",
      "could not broadcast input array from shape (72,) into shape (512,)\n",
      "Some exception occured\n",
      "could not broadcast input array from shape (71,) into shape (512,)\n",
      "Some exception occured\n",
      "could not broadcast input array from shape (72,) into shape (512,)\n",
      "Some exception occured\n",
      "could not broadcast input array from shape (72,) into shape (512,)\n",
      "Some exception occured\n",
      "could not broadcast input array from shape (72,) into shape (512,)\n",
      "Some exception occured\n"
     ]
    },
    {
     "name": "stderr",
     "output_type": "stream",
     "text": [
      "1948it [00:18, 115.92it/s]"
     ]
    },
    {
     "name": "stdout",
     "output_type": "stream",
     "text": [
      "could not broadcast input array from shape (72,) into shape (512,)\n",
      "Some exception occured\n",
      "could not broadcast input array from shape (73,) into shape (512,)\n",
      "Some exception occured\n",
      "could not broadcast input array from shape (72,) into shape (512,)\n",
      "Some exception occured\n",
      "could not broadcast input array from shape (72,) into shape (512,)\n",
      "Some exception occured\n",
      "could not broadcast input array from shape (72,) into shape (512,)\n",
      "Some exception occured\n",
      "could not broadcast input array from shape (72,) into shape (512,)\n",
      "Some exception occured\n",
      "could not broadcast input array from shape (72,) into shape (512,)\n",
      "Some exception occured\n",
      "could not broadcast input array from shape (72,) into shape (512,)\n",
      "Some exception occured\n",
      "could not broadcast input array from shape (72,) into shape (512,)\n",
      "Some exception occured\n",
      "could not broadcast input array from shape (72,) into shape (512,)\n",
      "Some exception occured\n",
      "could not broadcast input array from shape (72,) into shape (512,)\n",
      "Some exception occured\n"
     ]
    },
    {
     "name": "stderr",
     "output_type": "stream",
     "text": [
      "1974it [00:19, 121.63it/s]"
     ]
    },
    {
     "name": "stdout",
     "output_type": "stream",
     "text": [
      "could not broadcast input array from shape (73,) into shape (512,)\n",
      "Some exception occured\n",
      "could not broadcast input array from shape (192,) into shape (512,)\n",
      "Some exception occured\n",
      "could not broadcast input array from shape (72,) into shape (512,)\n",
      "Some exception occured\n",
      "could not broadcast input array from shape (72,) into shape (512,)\n",
      "Some exception occured\n",
      "could not broadcast input array from shape (73,) into shape (512,)\n",
      "Some exception occured\n",
      "could not broadcast input array from shape (72,) into shape (512,)\n",
      "Some exception occured\n",
      "could not broadcast input array from shape (72,) into shape (512,)\n",
      "Some exception occured\n",
      "could not broadcast input array from shape (72,) into shape (512,)\n",
      "Some exception occured\n",
      "could not broadcast input array from shape (71,) into shape (512,)\n",
      "Some exception occured\n",
      "could not broadcast input array from shape (72,) into shape (512,)\n",
      "Some exception occured\n",
      "could not broadcast input array from shape (72,) into shape (512,)\n",
      "Some exception occured\n"
     ]
    },
    {
     "name": "stderr",
     "output_type": "stream",
     "text": [
      "2013it [00:19, 123.67it/s]"
     ]
    },
    {
     "name": "stdout",
     "output_type": "stream",
     "text": [
      "could not broadcast input array from shape (72,) into shape (512,)\n",
      "Some exception occured\n",
      "could not broadcast input array from shape (72,) into shape (512,)\n",
      "Some exception occured\n",
      "could not broadcast input array from shape (72,) into shape (512,)\n",
      "Some exception occured\n",
      "could not broadcast input array from shape (72,) into shape (512,)\n",
      "Some exception occured\n",
      "could not broadcast input array from shape (161,) into shape (512,)\n",
      "Some exception occured\n",
      "could not broadcast input array from shape (72,) into shape (512,)\n",
      "Some exception occured\n",
      "could not broadcast input array from shape (72,) into shape (512,)\n",
      "Some exception occured\n",
      "could not broadcast input array from shape (72,) into shape (512,)\n",
      "Some exception occured\n",
      "could not broadcast input array from shape (416,) into shape (512,)\n",
      "Some exception occured\n",
      "could not broadcast input array from shape (72,) into shape (512,)\n",
      "Some exception occured\n"
     ]
    },
    {
     "name": "stderr",
     "output_type": "stream",
     "text": [
      "2048it [00:19, 145.90it/s]"
     ]
    },
    {
     "name": "stdout",
     "output_type": "stream",
     "text": [
      "could not broadcast input array from shape (72,) into shape (512,)\n",
      "Some exception occured\n",
      "could not broadcast input array from shape (72,) into shape (512,)\n",
      "Some exception occured\n",
      "could not broadcast input array from shape (72,) into shape (512,)\n",
      "Some exception occured\n",
      "could not broadcast input array from shape (72,) into shape (512,)\n",
      "Some exception occured\n",
      "could not broadcast input array from shape (72,) into shape (512,)\n",
      "Some exception occured\n",
      "could not broadcast input array from shape (73,) into shape (512,)\n",
      "Some exception occured\n",
      "could not broadcast input array from shape (72,) into shape (512,)\n",
      "Some exception occured\n",
      "could not broadcast input array from shape (72,) into shape (512,)\n",
      "Some exception occured\n",
      "could not broadcast input array from shape (72,) into shape (512,)\n",
      "Some exception occured\n",
      "could not broadcast input array from shape (72,) into shape (512,)\n",
      "Some exception occured\n",
      "could not broadcast input array from shape (72,) into shape (512,)\n",
      "Some exception occured\n",
      "could not broadcast input array from shape (72,) into shape (512,)\n",
      "Some exception occured\n",
      "could not broadcast input array from shape (72,) into shape (512,)\n",
      "Some exception occured\n",
      "could not broadcast input array from shape (73,) into shape (512,)\n",
      "Some exception occured\n",
      "could not broadcast input array from shape (72,) into shape (512,)\n",
      "Some exception occured\n",
      "could not broadcast input array from shape (72,) into shape (512,)\n",
      "Some exception occured\n",
      "could not broadcast input array from shape (72,) into shape (512,)\n",
      "Some exception occured\n",
      "could not broadcast input array from shape (72,) into shape (512,)\n",
      "Some exception occured\n",
      "could not broadcast input array from shape (243,) into shape (512,)\n",
      "Some exception occured\n",
      "could not broadcast input array from shape (306,) into shape (512,)\n",
      "Some exception occured\n",
      "could not broadcast input array from shape (270,) into shape (512,)\n",
      "Some exception occured\n",
      "could not broadcast input array from shape (72,) into shape (512,)\n",
      "Some exception occured\n"
     ]
    },
    {
     "name": "stderr",
     "output_type": "stream",
     "text": [
      "\r",
      "2063it [00:19, 134.71it/s]"
     ]
    },
    {
     "name": "stdout",
     "output_type": "stream",
     "text": [
      "could not broadcast input array from shape (71,) into shape (512,)\n",
      "Some exception occured\n",
      "could not broadcast input array from shape (72,) into shape (512,)\n",
      "Some exception occured\n",
      "could not broadcast input array from shape (72,) into shape (512,)\n",
      "Some exception occured\n",
      "could not broadcast input array from shape (72,) into shape (512,)\n",
      "Some exception occured\n",
      "could not broadcast input array from shape (72,) into shape (512,)\n",
      "Some exception occured\n",
      "could not broadcast input array from shape (72,) into shape (512,)\n",
      "Some exception occured\n",
      "could not broadcast input array from shape (72,) into shape (512,)\n",
      "Some exception occured\n"
     ]
    },
    {
     "name": "stderr",
     "output_type": "stream",
     "text": [
      "2091it [00:19, 126.64it/s]"
     ]
    },
    {
     "name": "stdout",
     "output_type": "stream",
     "text": [
      "could not broadcast input array from shape (72,) into shape (512,)\n",
      "Some exception occured\n",
      "could not broadcast input array from shape (72,) into shape (512,)\n",
      "Some exception occured\n",
      "could not broadcast input array from shape (72,) into shape (512,)\n",
      "Some exception occured\n",
      "could not broadcast input array from shape (72,) into shape (512,)\n",
      "Some exception occured\n",
      "could not broadcast input array from shape (72,) into shape (512,)\n",
      "Some exception occured\n",
      "could not broadcast input array from shape (72,) into shape (512,)\n",
      "Some exception occured\n",
      "could not broadcast input array from shape (72,) into shape (512,)\n",
      "Some exception occured\n",
      "could not broadcast input array from shape (72,) into shape (512,)\n",
      "Some exception occured\n",
      "could not broadcast input array from shape (72,) into shape (512,)\n",
      "Some exception occured\n",
      "could not broadcast input array from shape (71,) into shape (512,)\n",
      "Some exception occured\n",
      "could not broadcast input array from shape (71,) into shape (512,)\n",
      "Some exception occured\n",
      "could not broadcast input array from shape (72,) into shape (512,)\n",
      "Some exception occured\n",
      "could not broadcast input array from shape (72,) into shape (512,)\n",
      "Some exception occured\n",
      "could not broadcast input array from shape (72,) into shape (512,)\n",
      "Some exception occured\n",
      "could not broadcast input array from shape (72,) into shape (512,)\n",
      "Some exception occured\n"
     ]
    },
    {
     "name": "stderr",
     "output_type": "stream",
     "text": [
      "\r",
      "2111it [00:20, 142.78it/s]"
     ]
    },
    {
     "name": "stdout",
     "output_type": "stream",
     "text": [
      "could not broadcast input array from shape (446,) into shape (512,)\n",
      "Some exception occured\n",
      "could not broadcast input array from shape (72,) into shape (512,)\n",
      "Some exception occured\n",
      "could not broadcast input array from shape (72,) into shape (512,)\n",
      "Some exception occured\n",
      "could not broadcast input array from shape (72,) into shape (512,)\n",
      "Some exception occured\n",
      "could not broadcast input array from shape (72,) into shape (512,)\n",
      "Some exception occured\n",
      "could not broadcast input array from shape (72,) into shape (512,)\n",
      "Some exception occured\n",
      "could not broadcast input array from shape (72,) into shape (512,)\n",
      "Some exception occured\n",
      "could not broadcast input array from shape (72,) into shape (512,)\n",
      "Some exception occured\n",
      "could not broadcast input array from shape (72,) into shape (512,)\n",
      "Some exception occured\n"
     ]
    },
    {
     "name": "stderr",
     "output_type": "stream",
     "text": [
      "\r",
      "2126it [00:20, 109.97it/s]"
     ]
    },
    {
     "name": "stdout",
     "output_type": "stream",
     "text": [
      "could not broadcast input array from shape (72,) into shape (512,)\n",
      "Some exception occured\n",
      "could not broadcast input array from shape (72,) into shape (512,)\n",
      "Some exception occured\n",
      "could not broadcast input array from shape (72,) into shape (512,)\n",
      "Some exception occured\n",
      "could not broadcast input array from shape (72,) into shape (512,)\n",
      "Some exception occured\n",
      "could not broadcast input array from shape (72,) into shape (512,)\n",
      "Some exception occured\n",
      "could not broadcast input array from shape (72,) into shape (512,)\n",
      "Some exception occured\n",
      "could not broadcast input array from shape (72,) into shape (512,)\n",
      "Some exception occured\n",
      "could not broadcast input array from shape (72,) into shape (512,)\n",
      "Some exception occured\n",
      "could not broadcast input array from shape (72,) into shape (512,)\n",
      "Some exception occured\n",
      "could not broadcast input array from shape (72,) into shape (512,)\n",
      "Some exception occured\n"
     ]
    },
    {
     "name": "stderr",
     "output_type": "stream",
     "text": [
      "2151it [00:20, 102.99it/s]"
     ]
    },
    {
     "name": "stdout",
     "output_type": "stream",
     "text": [
      "could not broadcast input array from shape (72,) into shape (512,)\n",
      "Some exception occured\n",
      "could not broadcast input array from shape (72,) into shape (512,)\n",
      "Some exception occured\n",
      "could not broadcast input array from shape (72,) into shape (512,)\n",
      "Some exception occured\n",
      "could not broadcast input array from shape (72,) into shape (512,)\n",
      "Some exception occured\n",
      "could not broadcast input array from shape (72,) into shape (512,)\n",
      "Some exception occured\n",
      "could not broadcast input array from shape (73,) into shape (512,)\n",
      "Some exception occured\n",
      "could not broadcast input array from shape (72,) into shape (512,)\n",
      "Some exception occured\n"
     ]
    },
    {
     "name": "stderr",
     "output_type": "stream",
     "text": [
      "2170it [00:20, 105.07it/s]\n"
     ]
    },
    {
     "name": "stdout",
     "output_type": "stream",
     "text": [
      "could not broadcast input array from shape (72,) into shape (512,)\n",
      "Some exception occured\n",
      "could not broadcast input array from shape (72,) into shape (512,)\n",
      "Some exception occured\n",
      "could not broadcast input array from shape (72,) into shape (512,)\n",
      "Some exception occured\n",
      "could not broadcast input array from shape (72,) into shape (512,)\n",
      "Some exception occured\n",
      "could not broadcast input array from shape (72,) into shape (512,)\n",
      "Some exception occured\n",
      "could not broadcast input array from shape (72,) into shape (512,)\n",
      "Some exception occured\n",
      "could not broadcast input array from shape (72,) into shape (512,)\n",
      "Some exception occured\n"
     ]
    }
   ],
   "source": [
    "labels_df = pd.read_csv(labels_path)\n",
    "sr = 44100\n",
    "for sess in (range(1, 6)):\n",
    "        audio_vectors = pickle.load(open('{}{}.pkl'.format(audio_vectors_path, sess), 'rb'))\n",
    "        for index, row in tqdm(labels_df[labels_df['wav_file'].str.contains('Ses0{}'.format(sess))].iterrows()):\n",
    "            try:\n",
    "                wav_file_name = row['wav_file']\n",
    "                label = emotion_dict[row['emotion']]\n",
    "                y = audio_vectors[wav_file_name]\n",
    "\n",
    "                feature_list = [wav_file_name, label]  # wav_file, label\n",
    "#                 sig_mean = np.mean(abs(y))\n",
    "#                 feature_list.append(sig_mean)  # sig_mean\n",
    "#                 feature_list.append(np.std(y))  # sig_std\n",
    "\n",
    "#                 rmse = librosa.feature.rms(y + 0.0001)[0]\n",
    "#                 feature_list.append(np.mean(rmse))  # rmse_mean\n",
    "#                 feature_list.append(np.std(rmse))  # rmse_std\n",
    "\n",
    "#                 silence = 0\n",
    "#                 for e in rmse:\n",
    "#                     if e <= 0.4 * np.mean(rmse):\n",
    "#                         silence += 1\n",
    "#                 silence /= float(len(rmse))\n",
    "#                 feature_list.append(silence)  # silence\n",
    "\n",
    "#                 y_harmonic = librosa.effects.hpss(y)[0]\n",
    "#                 feature_list.append(np.mean(y_harmonic) * 1000)  # harmonic (scaled by 1000)\n",
    "\n",
    "#                 # based on the pitch detection algorithm mentioned here:\n",
    "#                 # http://access.feld.cvut.cz/view.php?cisloclanku=2009060001\n",
    "#                 cl = 0.45 * sig_mean\n",
    "#                 center_clipped = []\n",
    "#                 for s in y:\n",
    "#                     if s >= cl:\n",
    "#                         center_clipped.append(s - cl)\n",
    "#                     elif s <= -cl:\n",
    "#                         center_clipped.append(s + cl)\n",
    "#                     elif np.abs(s) < cl:\n",
    "#                         center_clipped.append(0)\n",
    "#                 auto_corrs = librosa.core.autocorrelate(np.array(center_clipped))\n",
    "#                 feature_list.append(1000 * np.max(auto_corrs)/len(auto_corrs))  # auto_corr_max (scaled by 1000)\n",
    "#                 feature_list.append(np.std(auto_corrs))  # auto_corr_std\n",
    "                \n",
    "#                 # add mel of (3x40x300)\n",
    "                feature_list.append(generate_mels(y, sr))\n",
    "\n",
    "                df_features = df_features.append(pd.DataFrame(feature_list, index=columns).transpose(), ignore_index=True)\n",
    "            except Exception as e: \n",
    "                print(e)\n",
    "                print('Some exception occured')\n",
    "\n",
    "df_features.to_csv('pre-processed/audio_features.csv', index=False)"
   ]
  },
  {
   "cell_type": "code",
   "execution_count": null,
   "id": "33ff85c2",
   "metadata": {},
   "outputs": [],
   "source": [
    "labels_df = pd.read_csv(labels_path)\n",
    "sr = 44100\n",
    "for sess in (range(1, 2)):\n",
    "        audio_vectors = pickle.load(open('{}{}.pkl'.format(audio_vectors_path, sess), 'rb'))\n",
    "        for index, row in tqdm(labels_df[labels_df['wav_file'].str.contains('Ses0{}'.format(sess))].iterrows()):\n",
    "            try:\n",
    "                wav_file_name = row['wav_file']\n",
    "                label = emotion_dict[row['emotion']]\n",
    "                y = audio_vectors[wav_file_name]\n",
    "\n",
    "                feature_list = [wav_file_name, label]  # wav_file, label\n",
    "                sig_mean = np.mean(abs(y))\n",
    "                feature_list.append(sig_mean)  # sig_mean\n",
    "                feature_list.append(np.std(y))  # sig_std\n",
    "\n",
    "                rmse = librosa.feature.rms(y + 0.0001)[0]\n",
    "                feature_list.append(np.mean(rmse))  # rmse_mean\n",
    "                feature_list.append(np.std(rmse))  # rmse_std\n",
    "\n",
    "                silence = 0\n",
    "                for e in rmse:\n",
    "                    if e <= 0.4 * np.mean(rmse):\n",
    "                        silence += 1\n",
    "                silence /= float(len(rmse))\n",
    "                feature_list.append(silence)  # silence\n",
    "\n",
    "                y_harmonic = librosa.effects.hpss(y)[0]\n",
    "                feature_list.append(np.mean(y_harmonic) * 1000)  # harmonic (scaled by 1000)\n",
    "\n",
    "                # based on the pitch detection algorithm mentioned here:\n",
    "                # http://access.feld.cvut.cz/view.php?cisloclanku=2009060001\n",
    "                cl = 0.45 * sig_mean\n",
    "                center_clipped = []\n",
    "                for s in y:\n",
    "                    if s >= cl:\n",
    "                        center_clipped.append(s - cl)\n",
    "                    elif s <= -cl:\n",
    "                        center_clipped.append(s + cl)\n",
    "                    elif np.abs(s) < cl:\n",
    "                        center_clipped.append(0)\n",
    "                auto_corrs = librosa.core.autocorrelate(np.array(center_clipped))\n",
    "                feature_list.append(1000 * np.max(auto_corrs)/len(auto_corrs))  # auto_corr_max (scaled by 1000)\n",
    "                feature_list.append(np.std(auto_corrs))  # auto_corr_std\n",
    "                \n",
    "                # add mel of (3x40x300)\n",
    "                feature_list.append(np.std(generate_mels(y, sr)))\n",
    "\n",
    "                df_features = df_features.append(pd.DataFrame(feature_list, index=columns).transpose(), ignore_index=True)\n",
    "            except Exception as e: \n",
    "                print(e)\n",
    "                print('Some exception occured')\n",
    "\n",
    "df_features.to_csv('pre-processed/audio_features.csv', index=False)"
   ]
  }
 ],
 "metadata": {
  "kernelspec": {
   "display_name": "Python 3",
   "language": "python",
   "name": "python3"
  },
  "language_info": {
   "codemirror_mode": {
    "name": "ipython",
    "version": 3
   },
   "file_extension": ".py",
   "mimetype": "text/x-python",
   "name": "python",
   "nbconvert_exporter": "python",
   "pygments_lexer": "ipython3",
   "version": "3.8.8"
  }
 },
 "nbformat": 4,
 "nbformat_minor": 5
}
